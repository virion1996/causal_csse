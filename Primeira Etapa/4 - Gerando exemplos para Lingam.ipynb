{
 "cells": [
  {
   "cell_type": "code",
   "execution_count": 1,
   "id": "1b731593",
   "metadata": {},
   "outputs": [],
   "source": [
    "#German\n",
    "from sklearn.ensemble import RandomForestClassifier\n",
    "from sklearn.metrics import classification_report\n",
    "from sklearn import metrics\n",
    "from sklearn.model_selection import train_test_split\n",
    "\n",
    "from csse import CSSE\n",
    "from prepare_dataset import *\n",
    "\n",
    "import pickle\n",
    "\n",
    "import numpy as np\n",
    "import pandas as pd\n",
    "import graphviz\n",
    "import lingam\n",
    "from lingam.utils import print_causal_directions, print_dagc, make_dot\n",
    "\n",
    "from tqdm import tqdm\n",
    "import random as rnd\n",
    "\n",
    "from IPython.display import display\n",
    "\n",
    "import warnings\n",
    "\n",
    "warnings.filterwarnings('ignore')"
   ]
  },
  {
   "cell_type": "code",
   "execution_count": 69,
   "id": "b0fa2299",
   "metadata": {},
   "outputs": [
    {
     "data": {
      "text/html": [
       "<div>\n",
       "<style scoped>\n",
       "    .dataframe tbody tr th:only-of-type {\n",
       "        vertical-align: middle;\n",
       "    }\n",
       "\n",
       "    .dataframe tbody tr th {\n",
       "        vertical-align: top;\n",
       "    }\n",
       "\n",
       "    .dataframe thead th {\n",
       "        text-align: right;\n",
       "    }\n",
       "</style>\n",
       "<table border=\"1\" class=\"dataframe\">\n",
       "  <thead>\n",
       "    <tr style=\"text-align: right;\">\n",
       "      <th></th>\n",
       "      <th>Velocidade</th>\n",
       "      <th>Consumo</th>\n",
       "      <th>Tempo</th>\n",
       "      <th>Preço</th>\n",
       "    </tr>\n",
       "  </thead>\n",
       "  <tbody>\n",
       "    <tr>\n",
       "      <th>0</th>\n",
       "      <td>96.063899</td>\n",
       "      <td>206.707401</td>\n",
       "      <td>577.636288</td>\n",
       "      <td>93.582474</td>\n",
       "    </tr>\n",
       "    <tr>\n",
       "      <th>1</th>\n",
       "      <td>62.523236</td>\n",
       "      <td>136.342293</td>\n",
       "      <td>438.278006</td>\n",
       "      <td>77.584445</td>\n",
       "    </tr>\n",
       "    <tr>\n",
       "      <th>2</th>\n",
       "      <td>59.075000</td>\n",
       "      <td>181.589303</td>\n",
       "      <td>537.931415</td>\n",
       "      <td>24.500504</td>\n",
       "    </tr>\n",
       "    <tr>\n",
       "      <th>3</th>\n",
       "      <td>76.742196</td>\n",
       "      <td>196.359912</td>\n",
       "      <td>603.787939</td>\n",
       "      <td>3.264560</td>\n",
       "    </tr>\n",
       "    <tr>\n",
       "      <th>4</th>\n",
       "      <td>12.171328</td>\n",
       "      <td>41.340419</td>\n",
       "      <td>191.185824</td>\n",
       "      <td>79.090273</td>\n",
       "    </tr>\n",
       "  </tbody>\n",
       "</table>\n",
       "</div>"
      ],
      "text/plain": [
       "   Velocidade     Consumo       Tempo      Preço\n",
       "0   96.063899  206.707401  577.636288  93.582474\n",
       "1   62.523236  136.342293  438.278006  77.584445\n",
       "2   59.075000  181.589303  537.931415  24.500504\n",
       "3   76.742196  196.359912  603.787939   3.264560\n",
       "4   12.171328   41.340419  191.185824  79.090273"
      ]
     },
     "execution_count": 69,
     "metadata": {},
     "output_type": "execute_result"
    }
   ],
   "source": [
    "x0 = np.random.uniform(size=1000) * 100\n",
    "x1 = 2*x0 + np.random.uniform(size=1000)  * 100\n",
    "x2 = -1*x0 + 3*x1 + np.random.uniform(size=1000)  * 100\n",
    "x3 = np.random.uniform(size=1000)  * 100\n",
    "X = pd.DataFrame(np.array([x0, x1, x2, x3]).T ,columns=['Velocidade', 'Consumo', 'Tempo', 'Preço'])\n",
    "X.head()"
   ]
  },
  {
   "cell_type": "code",
   "execution_count": 80,
   "id": "5d1ccfae",
   "metadata": {},
   "outputs": [
    {
     "name": "stdout",
     "output_type": "stream",
     "text": [
      "     Velocidade     Consumo       Tempo      Preço\n",
      "0     96.063899  206.707401  577.636288  93.582474\n",
      "1     62.523236  136.342293  438.278006  77.584445\n",
      "2     59.075000  181.589303  537.931415  24.500504\n",
      "3     76.742196  196.359912  603.787939   3.264560\n",
      "4     12.171328   41.340419  191.185824  79.090273\n",
      "..          ...         ...         ...        ...\n",
      "995   96.248453  205.977632  606.740943  70.625762\n",
      "996   54.990561  174.164020  467.965883  56.522952\n",
      "997   51.228794  153.188867  429.793008  63.281857\n",
      "998   89.147712  271.155853  731.055999  94.764981\n",
      "999   16.961596  132.226888  416.611096  62.541654\n",
      "\n",
      "[1000 rows x 4 columns]\n"
     ]
    }
   ],
   "source": [
    "print(X)"
   ]
  },
  {
   "cell_type": "code",
   "execution_count": 70,
   "id": "5bd2c4bc",
   "metadata": {},
   "outputs": [],
   "source": [
    "model_lingam = lingam.DirectLiNGAM()\n",
    "\n",
    "result_lingam_bt = model_lingam.bootstrap(X, n_sampling=100)\n",
    "\n",
    "causal_effects = result_lingam_bt.get_total_causal_effects(min_causal_effect=0.01)\n",
    "\n",
    "df_causal_effects = pd.DataFrame(causal_effects)\n",
    "labels = [f'{i}' for i in X.columns]\n",
    "\n",
    "df_causal_effects['from'] = df_causal_effects['from'].apply(lambda x : labels[x])\n",
    "df_causal_effects['to'] = df_causal_effects['to'].apply(lambda x : labels[x])\n",
    "\n",
    "causal_order = [labels[x] for x in model_lingam.causal_order_]"
   ]
  },
  {
   "cell_type": "code",
   "execution_count": 71,
   "id": "742bb92a",
   "metadata": {},
   "outputs": [
    {
     "data": {
      "text/plain": [
       "['Velocidade', 'Consumo', 'Preço', 'Tempo']"
      ]
     },
     "execution_count": 71,
     "metadata": {},
     "output_type": "execute_result"
    }
   ],
   "source": [
    "causal_order"
   ]
  },
  {
   "cell_type": "code",
   "execution_count": 72,
   "id": "7eed9cda",
   "metadata": {},
   "outputs": [
    {
     "data": {
      "image/svg+xml": [
       "<?xml version=\"1.0\" encoding=\"UTF-8\" standalone=\"no\"?>\n",
       "<!DOCTYPE svg PUBLIC \"-//W3C//DTD SVG 1.1//EN\"\n",
       " \"http://www.w3.org/Graphics/SVG/1.1/DTD/svg11.dtd\">\n",
       "<!-- Generated by graphviz version 2.30.1 (20180828.1746)\n",
       " -->\n",
       "<!-- Title: %3 Pages: 1 -->\n",
       "<svg width=\"176pt\" height=\"220pt\"\n",
       " viewBox=\"0.00 0.00 176.00 220.00\" xmlns=\"http://www.w3.org/2000/svg\" xmlns:xlink=\"http://www.w3.org/1999/xlink\">\n",
       "<g id=\"graph0\" class=\"graph\" transform=\"scale(1 1) rotate(0) translate(4 216)\">\n",
       "<title>%3</title>\n",
       "<polygon fill=\"white\" stroke=\"white\" points=\"-4,5 -4,-216 173,-216 173,5 -4,5\"/>\n",
       "<!-- x0 -->\n",
       "<g id=\"node1\" class=\"node\"><title>x0</title>\n",
       "<ellipse fill=\"none\" stroke=\"black\" cx=\"69\" cy=\"-194\" rx=\"27\" ry=\"18\"/>\n",
       "<text text-anchor=\"middle\" x=\"69\" y=\"-190.3\" font-family=\"Times,serif\" font-size=\"14.00\">x0</text>\n",
       "</g>\n",
       "<!-- x1 -->\n",
       "<g id=\"node2\" class=\"node\"><title>x1</title>\n",
       "<ellipse fill=\"none\" stroke=\"black\" cx=\"27\" cy=\"-106\" rx=\"27\" ry=\"18\"/>\n",
       "<text text-anchor=\"middle\" x=\"27\" y=\"-102.3\" font-family=\"Times,serif\" font-size=\"14.00\">x1</text>\n",
       "</g>\n",
       "<!-- x0&#45;&gt;x1 -->\n",
       "<g id=\"edge1\" class=\"edge\"><title>x0&#45;&gt;x1</title>\n",
       "<path fill=\"none\" stroke=\"black\" d=\"M60.4557,-176.679C57.4244,-170.812 54.0177,-164.13 51,-158 47.0058,-149.886 42.7675,-140.983 38.9819,-132.919\"/>\n",
       "<polygon fill=\"black\" stroke=\"black\" points=\"42.0369,-131.189 34.6358,-123.608 35.6939,-134.15 42.0369,-131.189\"/>\n",
       "<text text-anchor=\"middle\" x=\"63.5\" y=\"-146.3\" font-family=\"Times,serif\" font-size=\"14.00\">2.04</text>\n",
       "</g>\n",
       "<!-- x2 -->\n",
       "<g id=\"node3\" class=\"node\"><title>x2</title>\n",
       "<ellipse fill=\"none\" stroke=\"black\" cx=\"64\" cy=\"-18\" rx=\"27\" ry=\"18\"/>\n",
       "<text text-anchor=\"middle\" x=\"64\" y=\"-14.3\" font-family=\"Times,serif\" font-size=\"14.00\">x2</text>\n",
       "</g>\n",
       "<!-- x0&#45;&gt;x2 -->\n",
       "<g id=\"edge2\" class=\"edge\"><title>x0&#45;&gt;x2</title>\n",
       "<path fill=\"none\" stroke=\"black\" d=\"M73.0982,-176.012C74.2829,-170.322 75.4138,-163.92 76,-158 80.5546,-112.003 83.5989,-99.5933 76,-54 75.5149,-51.0893 74.8175,-48.0962 73.9996,-45.144\"/>\n",
       "<polygon fill=\"black\" stroke=\"black\" points=\"77.2752,-43.8968 70.8881,-35.4437 70.6097,-46.0349 77.2752,-43.8968\"/>\n",
       "<text text-anchor=\"middle\" x=\"94.5\" y=\"-102.3\" font-family=\"Times,serif\" font-size=\"14.00\">&#45;1.01</text>\n",
       "</g>\n",
       "<!-- x1&#45;&gt;x2 -->\n",
       "<g id=\"edge3\" class=\"edge\"><title>x1&#45;&gt;x2</title>\n",
       "<path fill=\"none\" stroke=\"black\" d=\"M34.134,-88.4183C39.4574,-76.0451 46.8307,-58.9069 52.9191,-44.7555\"/>\n",
       "<polygon fill=\"black\" stroke=\"black\" points=\"56.1509,-46.0999 56.8879,-35.5308 49.7207,-43.3334 56.1509,-46.0999\"/>\n",
       "<text text-anchor=\"middle\" x=\"61.5\" y=\"-58.3\" font-family=\"Times,serif\" font-size=\"14.00\">2.97</text>\n",
       "</g>\n",
       "<!-- x3 -->\n",
       "<g id=\"node4\" class=\"node\"><title>x3</title>\n",
       "<ellipse fill=\"none\" stroke=\"black\" cx=\"141\" cy=\"-194\" rx=\"27\" ry=\"18\"/>\n",
       "<text text-anchor=\"middle\" x=\"141\" y=\"-190.3\" font-family=\"Times,serif\" font-size=\"14.00\">x3</text>\n",
       "</g>\n",
       "</g>\n",
       "</svg>\n"
      ],
      "text/plain": [
       "<graphviz.graphs.Digraph at 0x7fa94ef1ece0>"
      ]
     },
     "execution_count": 72,
     "metadata": {},
     "output_type": "execute_result"
    }
   ],
   "source": [
    "make_dot(model_lingam.adjacency_matrix_)\n"
   ]
  },
  {
   "cell_type": "code",
   "execution_count": 73,
   "id": "0c9de4f2",
   "metadata": {},
   "outputs": [
    {
     "data": {
      "text/html": [
       "<div>\n",
       "<style scoped>\n",
       "    .dataframe tbody tr th:only-of-type {\n",
       "        vertical-align: middle;\n",
       "    }\n",
       "\n",
       "    .dataframe tbody tr th {\n",
       "        vertical-align: top;\n",
       "    }\n",
       "\n",
       "    .dataframe thead th {\n",
       "        text-align: right;\n",
       "    }\n",
       "</style>\n",
       "<table border=\"1\" class=\"dataframe\">\n",
       "  <thead>\n",
       "    <tr style=\"text-align: right;\">\n",
       "      <th></th>\n",
       "      <th>from</th>\n",
       "      <th>to</th>\n",
       "      <th>effect</th>\n",
       "      <th>probability</th>\n",
       "    </tr>\n",
       "  </thead>\n",
       "  <tbody>\n",
       "    <tr>\n",
       "      <th>0</th>\n",
       "      <td>Velocidade</td>\n",
       "      <td>Consumo</td>\n",
       "      <td>2.060413</td>\n",
       "      <td>1.00</td>\n",
       "    </tr>\n",
       "    <tr>\n",
       "      <th>1</th>\n",
       "      <td>Velocidade</td>\n",
       "      <td>Tempo</td>\n",
       "      <td>5.136606</td>\n",
       "      <td>1.00</td>\n",
       "    </tr>\n",
       "    <tr>\n",
       "      <th>2</th>\n",
       "      <td>Consumo</td>\n",
       "      <td>Tempo</td>\n",
       "      <td>2.980805</td>\n",
       "      <td>1.00</td>\n",
       "    </tr>\n",
       "    <tr>\n",
       "      <th>3</th>\n",
       "      <td>Preço</td>\n",
       "      <td>Tempo</td>\n",
       "      <td>0.264205</td>\n",
       "      <td>0.07</td>\n",
       "    </tr>\n",
       "    <tr>\n",
       "      <th>4</th>\n",
       "      <td>Preço</td>\n",
       "      <td>Consumo</td>\n",
       "      <td>0.090951</td>\n",
       "      <td>0.06</td>\n",
       "    </tr>\n",
       "    <tr>\n",
       "      <th>5</th>\n",
       "      <td>Velocidade</td>\n",
       "      <td>Preço</td>\n",
       "      <td>-0.101854</td>\n",
       "      <td>0.02</td>\n",
       "    </tr>\n",
       "  </tbody>\n",
       "</table>\n",
       "</div>"
      ],
      "text/plain": [
       "         from       to    effect  probability\n",
       "0  Velocidade  Consumo  2.060413         1.00\n",
       "1  Velocidade    Tempo  5.136606         1.00\n",
       "2     Consumo    Tempo  2.980805         1.00\n",
       "3       Preço    Tempo  0.264205         0.07\n",
       "4       Preço  Consumo  0.090951         0.06\n",
       "5  Velocidade    Preço -0.101854         0.02"
      ]
     },
     "execution_count": 73,
     "metadata": {},
     "output_type": "execute_result"
    }
   ],
   "source": [
    "df_causal_effects"
   ]
  },
  {
   "cell_type": "code",
   "execution_count": null,
   "id": "cf0fbcab",
   "metadata": {},
   "outputs": [],
   "source": []
  },
  {
   "cell_type": "code",
   "execution_count": null,
   "id": "5c7353ea",
   "metadata": {},
   "outputs": [],
   "source": []
  },
  {
   "cell_type": "code",
   "execution_count": null,
   "id": "92e20176",
   "metadata": {},
   "outputs": [],
   "source": []
  },
  {
   "cell_type": "code",
   "execution_count": null,
   "id": "6d8343d2",
   "metadata": {},
   "outputs": [],
   "source": []
  },
  {
   "cell_type": "code",
   "execution_count": 95,
   "id": "90f53000",
   "metadata": {},
   "outputs": [
    {
     "data": {
      "text/plain": [
       "<lingam.direct_lingam.DirectLiNGAM at 0x7fa94eee1cc0>"
      ]
     },
     "execution_count": 95,
     "metadata": {},
     "output_type": "execute_result"
    }
   ],
   "source": [
    "model = lingam.DirectLiNGAM()\n",
    "model.fit(X)"
   ]
  },
  {
   "cell_type": "code",
   "execution_count": 96,
   "id": "c9bf7915",
   "metadata": {},
   "outputs": [
    {
     "data": {
      "text/plain": [
       "[0, 1, 3, 2]"
      ]
     },
     "execution_count": 96,
     "metadata": {},
     "output_type": "execute_result"
    }
   ],
   "source": [
    "model.causal_order_"
   ]
  },
  {
   "cell_type": "code",
   "execution_count": 97,
   "id": "62bccfa9",
   "metadata": {},
   "outputs": [
    {
     "data": {
      "text/plain": [
       "array([[ 0.        ,  0.        ,  0.        ,  0.        ],\n",
       "       [ 2.052239  ,  0.        ,  0.        ,  0.        ],\n",
       "       [-1.00573934,  2.98210627,  0.        ,  0.        ],\n",
       "       [ 0.        ,  0.        ,  0.        ,  0.        ]])"
      ]
     },
     "execution_count": 97,
     "metadata": {},
     "output_type": "execute_result"
    }
   ],
   "source": [
    "model.adjacency_matrix_"
   ]
  },
  {
   "cell_type": "code",
   "execution_count": 98,
   "id": "3dfd2a9b",
   "metadata": {},
   "outputs": [
    {
     "data": {
      "text/html": [
       "<div>\n",
       "<style scoped>\n",
       "    .dataframe tbody tr th:only-of-type {\n",
       "        vertical-align: middle;\n",
       "    }\n",
       "\n",
       "    .dataframe tbody tr th {\n",
       "        vertical-align: top;\n",
       "    }\n",
       "\n",
       "    .dataframe thead th {\n",
       "        text-align: right;\n",
       "    }\n",
       "</style>\n",
       "<table border=\"1\" class=\"dataframe\">\n",
       "  <thead>\n",
       "    <tr style=\"text-align: right;\">\n",
       "      <th></th>\n",
       "      <th>from</th>\n",
       "      <th>to</th>\n",
       "      <th>effect</th>\n",
       "    </tr>\n",
       "  </thead>\n",
       "  <tbody>\n",
       "    <tr>\n",
       "      <th>0</th>\n",
       "      <td>Velocidade</td>\n",
       "      <td>Consumo</td>\n",
       "      <td>2.052239</td>\n",
       "    </tr>\n",
       "    <tr>\n",
       "      <th>1</th>\n",
       "      <td>Velocidade</td>\n",
       "      <td>Tempo</td>\n",
       "      <td>-1.005739</td>\n",
       "    </tr>\n",
       "    <tr>\n",
       "      <th>2</th>\n",
       "      <td>Consumo</td>\n",
       "      <td>Tempo</td>\n",
       "      <td>2.982106</td>\n",
       "    </tr>\n",
       "  </tbody>\n",
       "</table>\n",
       "</div>"
      ],
      "text/plain": [
       "         from       to    effect\n",
       "0  Velocidade  Consumo  2.052239\n",
       "1  Velocidade    Tempo -1.005739\n",
       "2     Consumo    Tempo  2.982106"
      ]
     },
     "execution_count": 98,
     "metadata": {},
     "output_type": "execute_result"
    }
   ],
   "source": [
    "matrix = model.adjacency_matrix_\n",
    "from_list = []\n",
    "to_list = []\n",
    "effect_list = []\n",
    "\n",
    "# Iteração sobre a matriz para extrair os valores e suas posições\n",
    "for i in range(len(matrix)):\n",
    "    for j in range(len(matrix[i])):\n",
    "        if matrix[i][j] != 0:\n",
    "            from_list.append(j)\n",
    "            to_list.append(i)\n",
    "            effect_list.append(matrix[i][j])\n",
    "\n",
    "# Criando o DataFrame\n",
    "df = pd.DataFrame({'from': from_list, 'to': to_list, 'effect': effect_list})\n",
    "labels = [f'{i}' for i in X.columns]\n",
    "df['from'] = df['from'].apply(lambda x : labels[x])\n",
    "df['to'] = df['to'].apply(lambda x : labels[x])\n",
    "df"
   ]
  },
  {
   "cell_type": "code",
   "execution_count": 99,
   "id": "f3f7bbee",
   "metadata": {},
   "outputs": [
    {
     "data": {
      "text/plain": [
       "['Velocidade', 'Consumo', 'Preço', 'Tempo']"
      ]
     },
     "execution_count": 99,
     "metadata": {},
     "output_type": "execute_result"
    }
   ],
   "source": [
    "causal_order"
   ]
  },
  {
   "cell_type": "code",
   "execution_count": 85,
   "id": "efde3773",
   "metadata": {},
   "outputs": [
    {
     "name": "stdout",
     "output_type": "stream",
     "text": [
      "         from       to    effect\n",
      "0  Velocidade  Consumo  2.052239\n",
      "1  Velocidade    Tempo -1.005739\n",
      "2     Consumo    Tempo  2.982106\n"
     ]
    }
   ],
   "source": [
    "print(df)"
   ]
  },
  {
   "cell_type": "code",
   "execution_count": 86,
   "id": "d0defb67",
   "metadata": {},
   "outputs": [
    {
     "data": {
      "image/svg+xml": [
       "<?xml version=\"1.0\" encoding=\"UTF-8\" standalone=\"no\"?>\n",
       "<!DOCTYPE svg PUBLIC \"-//W3C//DTD SVG 1.1//EN\"\n",
       " \"http://www.w3.org/Graphics/SVG/1.1/DTD/svg11.dtd\">\n",
       "<!-- Generated by graphviz version 2.30.1 (20180828.1746)\n",
       " -->\n",
       "<!-- Title: %3 Pages: 1 -->\n",
       "<svg width=\"176pt\" height=\"220pt\"\n",
       " viewBox=\"0.00 0.00 176.00 220.00\" xmlns=\"http://www.w3.org/2000/svg\" xmlns:xlink=\"http://www.w3.org/1999/xlink\">\n",
       "<g id=\"graph0\" class=\"graph\" transform=\"scale(1 1) rotate(0) translate(4 216)\">\n",
       "<title>%3</title>\n",
       "<polygon fill=\"white\" stroke=\"white\" points=\"-4,5 -4,-216 173,-216 173,5 -4,5\"/>\n",
       "<!-- x0 -->\n",
       "<g id=\"node1\" class=\"node\"><title>x0</title>\n",
       "<ellipse fill=\"none\" stroke=\"black\" cx=\"69\" cy=\"-194\" rx=\"27\" ry=\"18\"/>\n",
       "<text text-anchor=\"middle\" x=\"69\" y=\"-190.3\" font-family=\"Times,serif\" font-size=\"14.00\">x0</text>\n",
       "</g>\n",
       "<!-- x1 -->\n",
       "<g id=\"node2\" class=\"node\"><title>x1</title>\n",
       "<ellipse fill=\"none\" stroke=\"black\" cx=\"27\" cy=\"-106\" rx=\"27\" ry=\"18\"/>\n",
       "<text text-anchor=\"middle\" x=\"27\" y=\"-102.3\" font-family=\"Times,serif\" font-size=\"14.00\">x1</text>\n",
       "</g>\n",
       "<!-- x0&#45;&gt;x1 -->\n",
       "<g id=\"edge1\" class=\"edge\"><title>x0&#45;&gt;x1</title>\n",
       "<path fill=\"none\" stroke=\"black\" d=\"M60.4557,-176.679C57.4244,-170.812 54.0177,-164.13 51,-158 47.0058,-149.886 42.7675,-140.983 38.9819,-132.919\"/>\n",
       "<polygon fill=\"black\" stroke=\"black\" points=\"42.0369,-131.189 34.6358,-123.608 35.6939,-134.15 42.0369,-131.189\"/>\n",
       "<text text-anchor=\"middle\" x=\"63.5\" y=\"-146.3\" font-family=\"Times,serif\" font-size=\"14.00\">2.05</text>\n",
       "</g>\n",
       "<!-- x2 -->\n",
       "<g id=\"node3\" class=\"node\"><title>x2</title>\n",
       "<ellipse fill=\"none\" stroke=\"black\" cx=\"64\" cy=\"-18\" rx=\"27\" ry=\"18\"/>\n",
       "<text text-anchor=\"middle\" x=\"64\" y=\"-14.3\" font-family=\"Times,serif\" font-size=\"14.00\">x2</text>\n",
       "</g>\n",
       "<!-- x0&#45;&gt;x2 -->\n",
       "<g id=\"edge2\" class=\"edge\"><title>x0&#45;&gt;x2</title>\n",
       "<path fill=\"none\" stroke=\"black\" d=\"M73.0982,-176.012C74.2829,-170.322 75.4138,-163.92 76,-158 80.5546,-112.003 83.5989,-99.5933 76,-54 75.5149,-51.0893 74.8175,-48.0962 73.9996,-45.144\"/>\n",
       "<polygon fill=\"black\" stroke=\"black\" points=\"77.2752,-43.8968 70.8881,-35.4437 70.6097,-46.0349 77.2752,-43.8968\"/>\n",
       "<text text-anchor=\"middle\" x=\"94.5\" y=\"-102.3\" font-family=\"Times,serif\" font-size=\"14.00\">&#45;1.01</text>\n",
       "</g>\n",
       "<!-- x1&#45;&gt;x2 -->\n",
       "<g id=\"edge3\" class=\"edge\"><title>x1&#45;&gt;x2</title>\n",
       "<path fill=\"none\" stroke=\"black\" d=\"M34.134,-88.4183C39.4574,-76.0451 46.8307,-58.9069 52.9191,-44.7555\"/>\n",
       "<polygon fill=\"black\" stroke=\"black\" points=\"56.1509,-46.0999 56.8879,-35.5308 49.7207,-43.3334 56.1509,-46.0999\"/>\n",
       "<text text-anchor=\"middle\" x=\"61.5\" y=\"-58.3\" font-family=\"Times,serif\" font-size=\"14.00\">2.98</text>\n",
       "</g>\n",
       "<!-- x3 -->\n",
       "<g id=\"node4\" class=\"node\"><title>x3</title>\n",
       "<ellipse fill=\"none\" stroke=\"black\" cx=\"141\" cy=\"-194\" rx=\"27\" ry=\"18\"/>\n",
       "<text text-anchor=\"middle\" x=\"141\" y=\"-190.3\" font-family=\"Times,serif\" font-size=\"14.00\">x3</text>\n",
       "</g>\n",
       "</g>\n",
       "</svg>\n"
      ],
      "text/plain": [
       "<graphviz.graphs.Digraph at 0x7fa94eedf070>"
      ]
     },
     "execution_count": 86,
     "metadata": {},
     "output_type": "execute_result"
    }
   ],
   "source": [
    "make_dot(model.adjacency_matrix_)\n"
   ]
  },
  {
   "cell_type": "code",
   "execution_count": 88,
   "id": "ee81ac2d",
   "metadata": {},
   "outputs": [
    {
     "data": {
      "text/plain": [
       "array([[0.        , 0.74085017, 0.98446081, 0.3819405 ],\n",
       "       [0.74085017, 0.        , 0.41600505, 0.00395773],\n",
       "       [0.98446081, 0.41600505, 0.        , 0.77543897],\n",
       "       [0.3819405 , 0.00395773, 0.77543897, 0.        ]])"
      ]
     },
     "execution_count": 88,
     "metadata": {},
     "output_type": "execute_result"
    }
   ],
   "source": [
    "p_values = model.get_error_independence_p_values(X)\n",
    "p_values"
   ]
  },
  {
   "cell_type": "code",
   "execution_count": 90,
   "id": "3fede010",
   "metadata": {},
   "outputs": [
    {
     "name": "stdout",
     "output_type": "stream",
     "text": [
      "    Valores\n",
      "0  0.740850\n",
      "1  0.984461\n",
      "2  0.381940\n",
      "3  0.416005\n",
      "4  0.003958\n",
      "5  0.775439\n"
     ]
    }
   ],
   "source": [
    "# Criando um DataFrame apenas com os valores da parte superior da diagonal principal\n",
    "valores = []\n",
    "for i in range(len(p_values)):\n",
    "    for j in range(i + 1, len(p_values)):\n",
    "        valores.append(p_values[i, j])\n",
    "\n",
    "df_e = pd.DataFrame(valores, columns=['Valores'])\n",
    "print(df_e)\n"
   ]
  },
  {
   "cell_type": "code",
   "execution_count": 91,
   "id": "90413449",
   "metadata": {},
   "outputs": [
    {
     "data": {
      "text/html": [
       "<div>\n",
       "<style scoped>\n",
       "    .dataframe tbody tr th:only-of-type {\n",
       "        vertical-align: middle;\n",
       "    }\n",
       "\n",
       "    .dataframe tbody tr th {\n",
       "        vertical-align: top;\n",
       "    }\n",
       "\n",
       "    .dataframe thead th {\n",
       "        text-align: right;\n",
       "    }\n",
       "</style>\n",
       "<table border=\"1\" class=\"dataframe\">\n",
       "  <thead>\n",
       "    <tr style=\"text-align: right;\">\n",
       "      <th></th>\n",
       "      <th>from</th>\n",
       "      <th>to</th>\n",
       "      <th>effect</th>\n",
       "    </tr>\n",
       "  </thead>\n",
       "  <tbody>\n",
       "    <tr>\n",
       "      <th>0</th>\n",
       "      <td>Consumo</td>\n",
       "      <td>Velocidade</td>\n",
       "      <td>0.740850</td>\n",
       "    </tr>\n",
       "    <tr>\n",
       "      <th>1</th>\n",
       "      <td>Tempo</td>\n",
       "      <td>Velocidade</td>\n",
       "      <td>0.984461</td>\n",
       "    </tr>\n",
       "    <tr>\n",
       "      <th>2</th>\n",
       "      <td>Preço</td>\n",
       "      <td>Velocidade</td>\n",
       "      <td>0.381940</td>\n",
       "    </tr>\n",
       "    <tr>\n",
       "      <th>3</th>\n",
       "      <td>Tempo</td>\n",
       "      <td>Consumo</td>\n",
       "      <td>0.416005</td>\n",
       "    </tr>\n",
       "    <tr>\n",
       "      <th>4</th>\n",
       "      <td>Preço</td>\n",
       "      <td>Consumo</td>\n",
       "      <td>0.003958</td>\n",
       "    </tr>\n",
       "    <tr>\n",
       "      <th>5</th>\n",
       "      <td>Preço</td>\n",
       "      <td>Tempo</td>\n",
       "      <td>0.775439</td>\n",
       "    </tr>\n",
       "  </tbody>\n",
       "</table>\n",
       "</div>"
      ],
      "text/plain": [
       "      from          to    effect\n",
       "0  Consumo  Velocidade  0.740850\n",
       "1    Tempo  Velocidade  0.984461\n",
       "2    Preço  Velocidade  0.381940\n",
       "3    Tempo     Consumo  0.416005\n",
       "4    Preço     Consumo  0.003958\n",
       "5    Preço       Tempo  0.775439"
      ]
     },
     "execution_count": 91,
     "metadata": {},
     "output_type": "execute_result"
    }
   ],
   "source": [
    "matrix = model.get_error_independence_p_values(X)\n",
    "from_list = []\n",
    "to_list = []\n",
    "effect_list = []\n",
    "\n",
    "# Iteração sobre a matriz para extrair os valores e suas posições\n",
    "for i in range(len(matrix)):\n",
    "    for j in range(i + 1, len(matrix[i])):\n",
    "        if matrix[i][j] != 0:\n",
    "            from_list.append(j)\n",
    "            to_list.append(i)\n",
    "            effect_list.append(matrix[i][j])\n",
    "\n",
    "# Criando o DataFrame\n",
    "df_e = pd.DataFrame({'from': from_list, 'to': to_list, 'effect': effect_list})\n",
    "labels = [f'{i}' for i in X.columns]\n",
    "df_e['from'] = df_e['from'].apply(lambda x : labels[x])\n",
    "df_e['to'] = df_e['to'].apply(lambda x : labels[x])\n",
    "df_e"
   ]
  },
  {
   "cell_type": "code",
   "execution_count": 93,
   "id": "5168851b",
   "metadata": {},
   "outputs": [
    {
     "name": "stdout",
     "output_type": "stream",
     "text": [
      "      from          to    effect\n",
      "0  Consumo  Velocidade  0.740850\n",
      "1    Tempo  Velocidade  0.984461\n",
      "2    Preço  Velocidade  0.381940\n",
      "3    Tempo     Consumo  0.416005\n",
      "4    Preço     Consumo  0.003958\n",
      "5    Preço       Tempo  0.775439\n"
     ]
    }
   ],
   "source": [
    "print(df_e)"
   ]
  },
  {
   "cell_type": "code",
   "execution_count": 92,
   "id": "9c774baf",
   "metadata": {},
   "outputs": [
    {
     "data": {
      "text/plain": [
       "array([[0.        , 0.74085017, 0.98446081, 0.3819405 ],\n",
       "       [0.74085017, 0.        , 0.41600505, 0.00395773],\n",
       "       [0.98446081, 0.41600505, 0.        , 0.77543897],\n",
       "       [0.3819405 , 0.00395773, 0.77543897, 0.        ]])"
      ]
     },
     "execution_count": 92,
     "metadata": {},
     "output_type": "execute_result"
    }
   ],
   "source": [
    "matrix"
   ]
  },
  {
   "cell_type": "code",
   "execution_count": null,
   "id": "3bf90472",
   "metadata": {},
   "outputs": [],
   "source": []
  }
 ],
 "metadata": {
  "kernelspec": {
   "display_name": "conda_python3",
   "language": "python",
   "name": "conda_python3"
  },
  "language_info": {
   "codemirror_mode": {
    "name": "ipython",
    "version": 3
   },
   "file_extension": ".py",
   "mimetype": "text/x-python",
   "name": "python",
   "nbconvert_exporter": "python",
   "pygments_lexer": "ipython3",
   "version": "3.10.13"
  }
 },
 "nbformat": 4,
 "nbformat_minor": 5
}
