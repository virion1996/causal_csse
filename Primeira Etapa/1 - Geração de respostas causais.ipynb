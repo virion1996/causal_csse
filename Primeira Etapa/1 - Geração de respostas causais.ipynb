{
 "cells": [
  {
   "cell_type": "code",
   "execution_count": 1,
   "id": "394850f8",
   "metadata": {},
   "outputs": [
    {
     "name": "stdout",
     "output_type": "stream",
     "text": [
      "Collecting lingam\n",
      "  Downloading lingam-1.8.3-py3-none-any.whl.metadata (8.3 kB)\n",
      "Requirement already satisfied: numpy in /home/ec2-user/anaconda3/envs/python3/lib/python3.10/site-packages (from lingam) (1.22.4)\n",
      "Requirement already satisfied: scipy in /home/ec2-user/anaconda3/envs/python3/lib/python3.10/site-packages (from lingam) (1.12.0)\n",
      "Requirement already satisfied: scikit-learn in /home/ec2-user/anaconda3/envs/python3/lib/python3.10/site-packages (from lingam) (1.4.1.post1)\n",
      "Collecting graphviz (from lingam)\n",
      "  Downloading graphviz-0.20.3-py3-none-any.whl.metadata (12 kB)\n",
      "Requirement already satisfied: statsmodels in /home/ec2-user/anaconda3/envs/python3/lib/python3.10/site-packages (from lingam) (0.14.1)\n",
      "Requirement already satisfied: networkx in /home/ec2-user/anaconda3/envs/python3/lib/python3.10/site-packages (from lingam) (3.2.1)\n",
      "Requirement already satisfied: pandas in /home/ec2-user/anaconda3/envs/python3/lib/python3.10/site-packages (from lingam) (2.2.0)\n",
      "Collecting pygam (from lingam)\n",
      "  Downloading pygam-0.9.1-py3-none-any.whl.metadata (7.1 kB)\n",
      "Requirement already satisfied: matplotlib in /home/ec2-user/anaconda3/envs/python3/lib/python3.10/site-packages (from lingam) (3.8.3)\n",
      "Collecting psy (from lingam)\n",
      "  Downloading psy-0.0.1-py2.py3-none-any.whl.metadata (5.9 kB)\n",
      "Collecting semopy (from lingam)\n",
      "  Downloading semopy-2.3.11.tar.gz (1.6 MB)\n",
      "\u001b[2K     \u001b[90m━━━━━━━━━━━━━━━━━━━━━━━━━━━━━━━━━━━━━━━━\u001b[0m \u001b[32m1.6/1.6 MB\u001b[0m \u001b[31m49.4 MB/s\u001b[0m eta \u001b[36m0:00:00\u001b[0m\n",
      "\u001b[?25h  Preparing metadata (setup.py) ... \u001b[?25ldone\n",
      "\u001b[?25hRequirement already satisfied: contourpy>=1.0.1 in /home/ec2-user/anaconda3/envs/python3/lib/python3.10/site-packages (from matplotlib->lingam) (1.2.0)\n",
      "Requirement already satisfied: cycler>=0.10 in /home/ec2-user/anaconda3/envs/python3/lib/python3.10/site-packages (from matplotlib->lingam) (0.12.1)\n",
      "Requirement already satisfied: fonttools>=4.22.0 in /home/ec2-user/anaconda3/envs/python3/lib/python3.10/site-packages (from matplotlib->lingam) (4.49.0)\n",
      "Requirement already satisfied: kiwisolver>=1.3.1 in /home/ec2-user/anaconda3/envs/python3/lib/python3.10/site-packages (from matplotlib->lingam) (1.4.5)\n",
      "Requirement already satisfied: packaging>=20.0 in /home/ec2-user/anaconda3/envs/python3/lib/python3.10/site-packages (from matplotlib->lingam) (21.3)\n",
      "Requirement already satisfied: pillow>=8 in /home/ec2-user/anaconda3/envs/python3/lib/python3.10/site-packages (from matplotlib->lingam) (10.2.0)\n",
      "Requirement already satisfied: pyparsing>=2.3.1 in /home/ec2-user/anaconda3/envs/python3/lib/python3.10/site-packages (from matplotlib->lingam) (3.1.1)\n",
      "Requirement already satisfied: python-dateutil>=2.7 in /home/ec2-user/anaconda3/envs/python3/lib/python3.10/site-packages (from matplotlib->lingam) (2.8.2)\n",
      "Requirement already satisfied: pytz>=2020.1 in /home/ec2-user/anaconda3/envs/python3/lib/python3.10/site-packages (from pandas->lingam) (2024.1)\n",
      "Requirement already satisfied: tzdata>=2022.7 in /home/ec2-user/anaconda3/envs/python3/lib/python3.10/site-packages (from pandas->lingam) (2024.1)\n",
      "Collecting progressbar2 (from psy->lingam)\n",
      "  Downloading progressbar2-4.4.2-py3-none-any.whl.metadata (17 kB)\n",
      "Collecting numpy (from lingam)\n",
      "  Downloading numpy-1.26.4-cp310-cp310-manylinux_2_17_x86_64.manylinux2014_x86_64.whl.metadata (61 kB)\n",
      "\u001b[2K     \u001b[90m━━━━━━━━━━━━━━━━━━━━━━━━━━━━━━━━━━━━━━━━\u001b[0m \u001b[32m61.0/61.0 kB\u001b[0m \u001b[31m8.4 MB/s\u001b[0m eta \u001b[36m0:00:00\u001b[0m\n",
      "\u001b[?25hCollecting scipy (from lingam)\n",
      "  Downloading scipy-1.11.4-cp310-cp310-manylinux_2_17_x86_64.manylinux2014_x86_64.whl.metadata (60 kB)\n",
      "\u001b[2K     \u001b[90m━━━━━━━━━━━━━━━━━━━━━━━━━━━━━━━━━━━━━━━━\u001b[0m \u001b[32m60.4/60.4 kB\u001b[0m \u001b[31m4.6 MB/s\u001b[0m eta \u001b[36m0:00:00\u001b[0m\n",
      "\u001b[?25hRequirement already satisfied: joblib>=1.2.0 in /home/ec2-user/anaconda3/envs/python3/lib/python3.10/site-packages (from scikit-learn->lingam) (1.3.2)\n",
      "Requirement already satisfied: threadpoolctl>=2.0.0 in /home/ec2-user/anaconda3/envs/python3/lib/python3.10/site-packages (from scikit-learn->lingam) (3.3.0)\n",
      "Requirement already satisfied: sympy in /home/ec2-user/anaconda3/envs/python3/lib/python3.10/site-packages (from semopy->lingam) (1.12)\n",
      "Collecting numdifftools (from semopy->lingam)\n",
      "  Downloading numdifftools-0.9.41-py2.py3-none-any.whl.metadata (39 kB)\n",
      "Requirement already satisfied: patsy>=0.5.4 in /home/ec2-user/anaconda3/envs/python3/lib/python3.10/site-packages (from statsmodels->lingam) (0.5.6)\n",
      "Requirement already satisfied: six in /home/ec2-user/anaconda3/envs/python3/lib/python3.10/site-packages (from patsy>=0.5.4->statsmodels->lingam) (1.16.0)\n",
      "Collecting python-utils>=3.8.1 (from progressbar2->psy->lingam)\n",
      "  Downloading python_utils-3.8.2-py2.py3-none-any.whl.metadata (9.7 kB)\n",
      "Requirement already satisfied: mpmath>=0.19 in /home/ec2-user/anaconda3/envs/python3/lib/python3.10/site-packages (from sympy->semopy->lingam) (1.3.0)\n",
      "Requirement already satisfied: typing-extensions>3.10.0.2 in /home/ec2-user/anaconda3/envs/python3/lib/python3.10/site-packages (from python-utils>=3.8.1->progressbar2->psy->lingam) (4.9.0)\n",
      "Downloading lingam-1.8.3-py3-none-any.whl (95 kB)\n",
      "\u001b[2K   \u001b[90m━━━━━━━━━━━━━━━━━━━━━━━━━━━━━━━━━━━━━━━━\u001b[0m \u001b[32m95.7/95.7 kB\u001b[0m \u001b[31m8.9 MB/s\u001b[0m eta \u001b[36m0:00:00\u001b[0m\n",
      "\u001b[?25hDownloading graphviz-0.20.3-py3-none-any.whl (47 kB)\n",
      "\u001b[2K   \u001b[90m━━━━━━━━━━━━━━━━━━━━━━━━━━━━━━━━━━━━━━━━\u001b[0m \u001b[32m47.1/47.1 kB\u001b[0m \u001b[31m7.0 MB/s\u001b[0m eta \u001b[36m0:00:00\u001b[0m\n",
      "\u001b[?25hDownloading psy-0.0.1-py2.py3-none-any.whl (38 kB)\n",
      "Downloading pygam-0.9.1-py3-none-any.whl (522 kB)\n",
      "\u001b[2K   \u001b[90m━━━━━━━━━━━━━━━━━━━━━━━━━━━━━━━━━━━━━━━━\u001b[0m \u001b[32m522.0/522.0 kB\u001b[0m \u001b[31m14.3 MB/s\u001b[0m eta \u001b[36m0:00:00\u001b[0m00:01\u001b[0m\n",
      "\u001b[?25hDownloading numpy-1.26.4-cp310-cp310-manylinux_2_17_x86_64.manylinux2014_x86_64.whl (18.2 MB)\n",
      "\u001b[2K   \u001b[90m━━━━━━━━━━━━━━━━━━━━━━━━━━━━━━━━━━━━━━━━\u001b[0m \u001b[32m18.2/18.2 MB\u001b[0m \u001b[31m76.8 MB/s\u001b[0m eta \u001b[36m0:00:00\u001b[0m:00:01\u001b[0m00:01\u001b[0m\n",
      "\u001b[?25hDownloading scipy-1.11.4-cp310-cp310-manylinux_2_17_x86_64.manylinux2014_x86_64.whl (36.4 MB)\n",
      "\u001b[2K   \u001b[90m━━━━━━━━━━━━━━━━━━━━━━━━━━━━━━━━━━━━━━━━\u001b[0m \u001b[32m36.4/36.4 MB\u001b[0m \u001b[31m56.9 MB/s\u001b[0m eta \u001b[36m0:00:00\u001b[0m:00:01\u001b[0m00:01\u001b[0m\n",
      "\u001b[?25hDownloading progressbar2-4.4.2-py3-none-any.whl (56 kB)\n",
      "\u001b[2K   \u001b[90m━━━━━━━━━━━━━━━━━━━━━━━━━━━━━━━━━━━━━━━━\u001b[0m \u001b[32m56.8/56.8 kB\u001b[0m \u001b[31m7.9 MB/s\u001b[0m eta \u001b[36m0:00:00\u001b[0m\n",
      "\u001b[?25hDownloading numdifftools-0.9.41-py2.py3-none-any.whl (100 kB)\n",
      "\u001b[2K   \u001b[90m━━━━━━━━━━━━━━━━━━━━━━━━━━━━━━━━━━━━━━━━\u001b[0m \u001b[32m100.2/100.2 kB\u001b[0m \u001b[31m13.6 MB/s\u001b[0m eta \u001b[36m0:00:00\u001b[0m\n",
      "\u001b[?25hDownloading python_utils-3.8.2-py2.py3-none-any.whl (27 kB)\n",
      "Building wheels for collected packages: semopy\n",
      "  Building wheel for semopy (setup.py) ... \u001b[?25ldone\n",
      "\u001b[?25h  Created wheel for semopy: filename=semopy-2.3.11-py3-none-any.whl size=1659680 sha256=7e164a45f31dc6248ced59519244474036b10bf06ea882a3bb37c6e3c5005eef\n",
      "  Stored in directory: /home/ec2-user/.cache/pip/wheels/53/ec/0d/0b294c02d8c4e9e80afea58839f2c1b4706770594bc99ec045\n",
      "Successfully built semopy\n",
      "Installing collected packages: python-utils, numpy, graphviz, scipy, progressbar2, pygam, psy, numdifftools, semopy, lingam\n",
      "  Attempting uninstall: numpy\n",
      "    Found existing installation: numpy 1.22.4\n",
      "    Uninstalling numpy-1.22.4:\n",
      "      Successfully uninstalled numpy-1.22.4\n",
      "  Attempting uninstall: scipy\n",
      "    Found existing installation: scipy 1.12.0\n",
      "    Uninstalling scipy-1.12.0:\n",
      "      Successfully uninstalled scipy-1.12.0\n",
      "\u001b[31mERROR: pip's dependency resolver does not currently take into account all the packages that are installed. This behaviour is the source of the following dependency conflicts.\n",
      "mkl-fft 1.3.8 requires mkl, which is not installed.\n",
      "hdijupyterutils 0.21.0 requires pandas<2.0.0,>=0.17.1, but you have pandas 2.2.0 which is incompatible.\n",
      "sparkmagic 0.21.0 requires pandas<2.0.0,>=0.17.1, but you have pandas 2.2.0 which is incompatible.\u001b[0m\u001b[31m\n",
      "\u001b[0mSuccessfully installed graphviz-0.20.3 lingam-1.8.3 numdifftools-0.9.41 numpy-1.26.4 progressbar2-4.4.2 psy-0.0.1 pygam-0.9.1 python-utils-3.8.2 scipy-1.11.4 semopy-2.3.11\n"
     ]
    }
   ],
   "source": [
    "!pip install lingam"
   ]
  },
  {
   "cell_type": "code",
   "execution_count": 34,
   "id": "0ee064a5",
   "metadata": {},
   "outputs": [],
   "source": [
    "#German\n",
    "from sklearn.ensemble import RandomForestClassifier\n",
    "from sklearn.metrics import classification_report\n",
    "from sklearn import metrics\n",
    "from sklearn.model_selection import train_test_split\n",
    "\n",
    "from csse import CSSE\n",
    "from prepare_dataset import *\n",
    "\n",
    "import pickle\n",
    "\n",
    "import numpy as np\n",
    "import pandas as pd\n",
    "import graphviz\n",
    "import lingam\n",
    "from lingam.utils import print_causal_directions, print_dagc, make_dot\n",
    "\n",
    "from tqdm import tqdm\n",
    "import random as rnd\n",
    "\n",
    "from IPython.display import display\n",
    "\n",
    "import warnings\n",
    "\n",
    "warnings.filterwarnings('ignore')"
   ]
  },
  {
   "cell_type": "code",
   "execution_count": null,
   "id": "a477f960",
   "metadata": {},
   "outputs": [],
   "source": []
  },
  {
   "cell_type": "markdown",
   "id": "4c6decac",
   "metadata": {},
   "source": [
    "# Prepare CSSE"
   ]
  },
  {
   "cell_type": "code",
   "execution_count": 35,
   "id": "475de53a",
   "metadata": {},
   "outputs": [
    {
     "name": "stdout",
     "output_type": "stream",
     "text": [
      "              precision    recall  f1-score   support\n",
      "\n",
      "           0       0.77      0.87      0.81        68\n",
      "           1       0.61      0.44      0.51        32\n",
      "\n",
      "    accuracy                           0.73       100\n",
      "   macro avg       0.69      0.65      0.66       100\n",
      "weighted avg       0.72      0.73      0.72       100\n",
      "\n"
     ]
    }
   ],
   "source": [
    "# Read Dataset German\n",
    "df_main = prepare_german_dataset(\"german_credit.csv\", \"data/\")\n",
    "\n",
    "#Get the input features\n",
    "columns = df_main.columns\n",
    "class_name = 'default' # default = 0 = \"Good class\" / default = 1 = \"Bad class\" \n",
    "columns_tmp = list(columns)\n",
    "columns_tmp.remove(class_name)\n",
    "\n",
    "x_train, x_test, y_train, y_test = train_test_split(df_main[columns_tmp], df_main[class_name], test_size=0.1)\n",
    "\n",
    "model = RandomForestClassifier(n_estimators = 120, n_jobs=-1, random_state=0)  \n",
    "model.fit(x_train, y_train)\n",
    "\n",
    "p = model.predict(x_test)\n",
    "\n",
    "print(classification_report(y_test, p))\n",
    "\n",
    "K = 5 #Number of counterfactual explanations to be obtained\n",
    "\n",
    "explainerCSSE = CSSE(df_main[columns_tmp], model, K = K, num_gen = 3)"
   ]
  },
  {
   "cell_type": "code",
   "execution_count": 127,
   "id": "67e1aaca",
   "metadata": {},
   "outputs": [],
   "source": [
    "import pickle\n",
    "\n",
    "# Salvar o modelo\n",
    "with open('model/rf.pkl', 'wb') as file:\n",
    "    pickle.dump(model, file)"
   ]
  },
  {
   "cell_type": "markdown",
   "id": "09fd35e4",
   "metadata": {},
   "source": [
    "# Prepare Lingam - Bootstrap"
   ]
  },
  {
   "cell_type": "code",
   "execution_count": 36,
   "id": "a76e6783",
   "metadata": {},
   "outputs": [],
   "source": [
    "model_lingam = lingam.DirectLiNGAM()\n",
    "\n",
    "result_lingam_bt = model_lingam.bootstrap(df_main[columns_tmp], n_sampling=100)\n",
    "\n",
    "causal_effects = result_lingam_bt.get_total_causal_effects(min_causal_effect=0.01)\n",
    "\n",
    "df_causal_effects = pd.DataFrame(causal_effects)\n",
    "labels = [f'{i}' for i in df_main[columns_tmp].columns]\n",
    "\n",
    "df_causal_effects['from'] = df_causal_effects['from'].apply(lambda x : labels[x])\n",
    "df_causal_effects['to'] = df_causal_effects['to'].apply(lambda x : labels[x])\n",
    "\n",
    "causal_order = [labels[x] for x in model_lingam.causal_order_]"
   ]
  },
  {
   "cell_type": "markdown",
   "id": "52ecb5a1",
   "metadata": {},
   "source": [
    "# Functions"
   ]
  },
  {
   "cell_type": "code",
   "execution_count": 37,
   "id": "e9d6ec8b",
   "metadata": {},
   "outputs": [],
   "source": [
    "def apply_causality(df):\n",
    "#     print(f'df len = {df.shape}')\n",
    "    df_apply_causal = pd.DataFrame(columns = df.columns)\n",
    "    original = df.iloc[0]\n",
    "    df_apply_causal.loc[0] = original\n",
    "    for index, df_row in df.iloc[1:].iterrows():\n",
    "        causal_ind = df_row.copy()\n",
    "        for column in causal_order:\n",
    "            value_diff = causal_ind[column] - original[column]\n",
    "#             print(f\"value_diff = {value_diff}\")\n",
    "            if value_diff != 0:\n",
    "                tmp_effects = df_causal_effects[df_causal_effects['from'] == column]\n",
    "                for index, row in tmp_effects.iterrows():\n",
    "                    prob = rnd.random()\n",
    "                    if row['probability'] >= prob:\n",
    "                        causal_ind[row['to']] = causal_ind[row['to']] + (value_diff * row['effect'])\n",
    "        df_apply_causal.loc[len(df_apply_causal)] = causal_ind\n",
    "    \n",
    "#     print(f'df_apply_causal len = {df_apply_causal.shape}')\n",
    "    return df_apply_causal\n",
    "    \n",
    "def euclidean_distance(series1, series2):\n",
    "    # Verificando se as séries têm o mesmo comprimento\n",
    "    if len(series1) != len(series2):\n",
    "        raise ValueError(\"As séries devem ter o mesmo comprimento.\")\n",
    "    \n",
    "    # Calculando a diferença quadrática entre os elementos das séries\n",
    "    squared_diff = (series1 - series2) ** 2\n",
    "    \n",
    "    # Calculando a soma das diferenças quadráticas\n",
    "    sum_squared_diff = np.sum(squared_diff)\n",
    "    \n",
    "    # Calculando a raiz quadrada da soma\n",
    "    euclidean_dist = np.sqrt(sum_squared_diff)\n",
    "    \n",
    "    return euclidean_dist\n",
    "\n",
    "def get_contrafac_df_causal(solution_list_causal):\n",
    "    lista_solution_causal = [[t.column for t in sublist] for sublist in solution_list_causal]\n",
    "\n",
    "    # Inicializa uma lista para armazenar os resultados\n",
    "    resultados = []\n",
    "\n",
    "    # Loop sobre os valores na lista\n",
    "    for lista_valores in lista_solution_causal:\n",
    "        if len(lista_valores) > 1:\n",
    "            for v1 in lista_valores:\n",
    "                for v2 in lista_valores:\n",
    "                    if v1 != v2:\n",
    "                        # Cria uma condição para cada par de valores diferentes na lista\n",
    "                        condicao = (df_causal_effects['to'].isin([v1, v2])) & (df_causal_effects['from'].isin([v1, v2]))\n",
    "                        # Realiza a busca no DataFrame usando a condição e armazena os resultados\n",
    "                        resultados.append(df_causal_effects[condicao])\n",
    "\n",
    "    # Concatena os resultados em um único DataFrame\n",
    "    if resultados:\n",
    "        resultado_final = pd.concat(resultados)\n",
    "        resultado_final = resultado_final.drop_duplicates().sort_values(by='probability')\n",
    "    else:\n",
    "        resultado_final = pd.DataFrame(columns = df_causal_effects.columns)\n",
    "    \n",
    "    return resultado_final\n",
    "\n",
    "def analyse_contrafac(contrafac, df, original_ind):\n",
    "    columns = [x.column for x in contrafac]\n",
    "    condicao = (df['to'].isin(columns)) & (df['from'].isin(columns))\n",
    "    ind = original_ind[columns]\n",
    "    return [contrafac, df[condicao], ind]\n",
    "\n",
    "def verificar_condicoes(row):\n",
    "    if (row['from'] == 'mais' and row['to'] == 'mais' and row['effect'] > 0):\n",
    "        return True\n",
    "    elif row['from'] == 'menos' and row['to'] == 'menos' and row['effect'] > 0:\n",
    "        return True\n",
    "    elif row['from'] == 'mais' and row['to'] == 'menos' and row['effect'] < 0:\n",
    "        return True\n",
    "    elif row['from'] == 'menos' and row['to'] == 'mais' and row['effect'] < 0:\n",
    "        return True\n",
    "    else:\n",
    "        return False"
   ]
  },
  {
   "cell_type": "markdown",
   "id": "eca19c0b",
   "metadata": {},
   "source": [
    "# CSSE Explain with causal"
   ]
  },
  {
   "cell_type": "code",
   "execution_count": 38,
   "id": "5c8d42cb",
   "metadata": {},
   "outputs": [],
   "source": [
    "def get_causal_explain(X):\n",
    "    original_ind = x_test.iloc[X].copy() #Original instance\n",
    "    #self.ind_cur_class = ind_cur_class #Index in the shap corresponds to the original instance class\n",
    "    explainerCSSE.current_class = p[X] #Original instance class\n",
    "    explainerCSSE.original_ind = original_ind\n",
    "\n",
    "    ind_cur_class = explainerCSSE.getBadClass()\n",
    "\n",
    "    #Gets the valid values range of each feature\n",
    "    features_range = []\n",
    "    features_range = explainerCSSE.getFeaturesRange()\n",
    "\n",
    "    #The DataFrame df will have the current population\n",
    "    df = pd.DataFrame(columns=explainerCSSE.input_dataset.columns)\n",
    "\n",
    "    #Generates the initial population with popinitial mutants        \n",
    "    explainerCSSE.getPopInicial(df, features_range)\n",
    "    df_causal = df.copy()\n",
    "    dict_dfs = {}\n",
    "\n",
    "    # for g in tqdm(range(explainerCSSE.num_gen), desc= \"Processing...\"):\n",
    "    for g in tqdm(range(30), desc= \"Processing...\"):\n",
    "\n",
    "        #To use on the parents of each generation\n",
    "        parents = pd.DataFrame(columns=explainerCSSE.input_dataset.columns)\n",
    "\n",
    "        #Copy parents to the next generation\n",
    "        parents = df.copy()\n",
    "        parents_causal = df_causal.copy()\n",
    "    #     print(f\"parents = {len(parents)}\")\n",
    "        dict_dfs[g] = {}\n",
    "\n",
    "        dict_dfs[g]['original_parents'] = parents\n",
    "        dict_dfs[g]['causal_parents'] = apply_causality(parents_causal)\n",
    "    #     raise KeyboardInterrupt(\"Execução interrompida pelo usuário\")\n",
    "        #df will contain the new population\n",
    "        df = pd.DataFrame(columns=explainerCSSE.input_dataset.columns)\n",
    "        df_causal = pd.DataFrame(columns=explainerCSSE.input_dataset.columns)\n",
    "        evaluation = []\n",
    "        evaluation_causal = []\n",
    "\n",
    "        #Assessing generation counterfactuals\n",
    "        explainerCSSE.fitness(parents, evaluation, ind_cur_class)\n",
    "        explainerCSSE.fitness(dict_dfs[g]['causal_parents'], evaluation_causal, ind_cur_class)\n",
    "\n",
    "    #     print(len(df))\n",
    "    #     dict_dfs[g]['original'] = df.copy()\n",
    "    #     df_causal_applied = apply_causality(df)\n",
    "    #     dict_dfs[g]['causal'] = df_causal_applied\n",
    "    #     print(f\"df depois do fitness = {len(df)}\")\n",
    "    #     raise KeyboardInterrupt(\"Execução interrompida pelo usuário\")\n",
    "\n",
    "\n",
    "        #The original individual will always be in the 0 position of the df - So that it is normalized too (it will be used later in the distance function)\n",
    "        df.loc[0] = original_ind.copy()\n",
    "        df_causal.loc[0] = original_ind.copy()\n",
    "\n",
    "        #Copies to the next generation the per_elit best individuals\n",
    "        explainerCSSE.elitism(evaluation, df, parents)\n",
    "        explainerCSSE.elitism(evaluation_causal, df_causal, parents_causal)\n",
    "    #     raise KeyboardInterrupt(\"Execução interrompida pelo usuário\")\n",
    "    #     print(f\"df depois do elitism = {len(df)}\")\n",
    "        number_cross_repetitions = 0\n",
    "        while len(df) < explainerCSSE.pop_size + 1: #+1, as the 1st position is used to store the reference individual\n",
    "            number_cross_repetitions = explainerCSSE.crossover(df, parents, evaluation, number_cross_repetitions)\n",
    "            number_cross_repetitions_causal = explainerCSSE.crossover(df_causal, parents_causal, evaluation_causal, number_cross_repetitions)\n",
    "\n",
    "            mutation_op = rnd.random()\n",
    "            if mutation_op <= explainerCSSE.mutation_proba:\n",
    "                explainerCSSE.mutation(df, len(df) - 1, features_range)\n",
    "                explainerCSSE.mutation(df_causal, len(df_causal) - 1, features_range)\n",
    "    #     raise KeyboardInterrupt(\"Execução interrompida pelo usuário\")\n",
    "\n",
    "    # raise KeyboardInterrupt(\"Execução interrompida pelo usuário\")\n",
    "\n",
    "    evaluation = []\n",
    "    evaluation_causal = []\n",
    "\n",
    "    #Evaluating the latest generation\n",
    "    explainerCSSE.fitness(df, evaluation, ind_cur_class)\n",
    "    explainerCSSE.fitness(df_causal, evaluation_causal, ind_cur_class)\n",
    "\n",
    "    #Order the last generation by distance to the original instance     \n",
    "    evaluation.sort(key=lambda individual: individual.aval_norm)\n",
    "    evaluation_causal.sort(key=lambda individual: individual.aval_norm) \n",
    "\n",
    "    #Getting the counterfactual set\n",
    "    contrafactual_set = pd.DataFrame(columns=explainerCSSE.input_dataset.columns)\n",
    "    contrafactual_set, solution_list = explainerCSSE.getContrafactual(df, evaluation)\n",
    "\n",
    "    #Getting the counterfactual CAUSAL set\n",
    "    contrafactual_set_causal = pd.DataFrame(columns=explainerCSSE.input_dataset.columns)\n",
    "    contrafactual_set_causal, solution_list_causal = explainerCSSE.getContrafactual(df_causal, evaluation_causal) \n",
    "\n",
    "    dict_dfs['contrafactual_set_causal'] = contrafactual_set_causal\n",
    "    dict_dfs['solution_list_causal'] = solution_list_causal\n",
    "    \n",
    "    df_contrafac_causal = get_contrafac_df_causal(solution_list_causal)\n",
    "\n",
    "    return [solution_list_causal, solution_list, df_contrafac_causal, original_ind]"
   ]
  },
  {
   "cell_type": "code",
   "execution_count": 39,
   "id": "283ed944",
   "metadata": {},
   "outputs": [],
   "source": [
    "def run(original_row):\n",
    "    response_list = get_causal_explain(original_row)\n",
    "    list_analyse = []\n",
    "    for contrafac_causal in response_list[0]:\n",
    "        list_analyse.append(analyse_contrafac(contrafac_causal, response_list[2], response_list[3]))\n",
    "    print(f\"tamanho da list_analyse = {len(list_analyse)}\")\n",
    "    return list_analyse"
   ]
  },
  {
   "cell_type": "code",
   "execution_count": 76,
   "id": "3a6a021a",
   "metadata": {},
   "outputs": [
    {
     "name": "stderr",
     "output_type": "stream",
     "text": [
      "Processing...: 100%|██████████| 30/30 [01:09<00:00,  2.31s/it]"
     ]
    },
    {
     "name": "stdout",
     "output_type": "stream",
     "text": [
      "tamanho da list_analyse = 5\n"
     ]
    },
    {
     "name": "stderr",
     "output_type": "stream",
     "text": [
      "\n"
     ]
    }
   ],
   "source": [
    "run0 = run(0)"
   ]
  },
  {
   "cell_type": "code",
   "execution_count": 119,
   "id": "9a270154",
   "metadata": {
    "scrolled": true
   },
   "outputs": [
    {
     "name": "stdout",
     "output_type": "stream",
     "text": [
      "run 0\n"
     ]
    },
    {
     "name": "stderr",
     "output_type": "stream",
     "text": [
      "Processing...: 100%|██████████| 30/30 [01:00<00:00,  2.03s/it]\n"
     ]
    },
    {
     "name": "stdout",
     "output_type": "stream",
     "text": [
      "tamanho da list_analyse = 5\n",
      "run 1\n"
     ]
    },
    {
     "name": "stderr",
     "output_type": "stream",
     "text": [
      "Processing...: 100%|██████████| 30/30 [01:03<00:00,  2.10s/it]\n"
     ]
    },
    {
     "name": "stdout",
     "output_type": "stream",
     "text": [
      "tamanho da list_analyse = 5\n",
      "run 2\n"
     ]
    },
    {
     "name": "stderr",
     "output_type": "stream",
     "text": [
      "Processing...: 100%|██████████| 30/30 [01:01<00:00,  2.06s/it]\n"
     ]
    },
    {
     "name": "stdout",
     "output_type": "stream",
     "text": [
      "tamanho da list_analyse = 4\n"
     ]
    },
    {
     "data": {
      "text/html": [
       "<div>\n",
       "<style scoped>\n",
       "    .dataframe tbody tr th:only-of-type {\n",
       "        vertical-align: middle;\n",
       "    }\n",
       "\n",
       "    .dataframe tbody tr th {\n",
       "        vertical-align: top;\n",
       "    }\n",
       "\n",
       "    .dataframe thead th {\n",
       "        text-align: right;\n",
       "    }\n",
       "</style>\n",
       "<table border=\"1\" class=\"dataframe\">\n",
       "  <thead>\n",
       "    <tr style=\"text-align: right;\">\n",
       "      <th></th>\n",
       "      <th>from</th>\n",
       "      <th>to</th>\n",
       "      <th>effect</th>\n",
       "      <th>probability</th>\n",
       "      <th>causal</th>\n",
       "    </tr>\n",
       "  </thead>\n",
       "  <tbody>\n",
       "  </tbody>\n",
       "</table>\n",
       "</div>"
      ],
      "text/plain": [
       "Empty DataFrame\n",
       "Columns: [from, to, effect, probability, causal]\n",
       "Index: []"
      ]
     },
     "metadata": {},
     "output_type": "display_data"
    },
    {
     "name": "stdout",
     "output_type": "stream",
     "text": [
      "original = credit_amount    2171\n",
      "Name: 66, dtype: int64\n",
      "causal = [('credit_amount', 10013)]\n",
      "run 3\n"
     ]
    },
    {
     "name": "stderr",
     "output_type": "stream",
     "text": [
      "Processing...: 100%|██████████| 30/30 [01:04<00:00,  2.14s/it]\n"
     ]
    },
    {
     "name": "stdout",
     "output_type": "stream",
     "text": [
      "tamanho da list_analyse = 5\n"
     ]
    },
    {
     "data": {
      "text/html": [
       "<div>\n",
       "<style scoped>\n",
       "    .dataframe tbody tr th:only-of-type {\n",
       "        vertical-align: middle;\n",
       "    }\n",
       "\n",
       "    .dataframe tbody tr th {\n",
       "        vertical-align: top;\n",
       "    }\n",
       "\n",
       "    .dataframe thead th {\n",
       "        text-align: right;\n",
       "    }\n",
       "</style>\n",
       "<table border=\"1\" class=\"dataframe\">\n",
       "  <thead>\n",
       "    <tr style=\"text-align: right;\">\n",
       "      <th></th>\n",
       "      <th>from</th>\n",
       "      <th>to</th>\n",
       "      <th>effect</th>\n",
       "      <th>probability</th>\n",
       "      <th>causal</th>\n",
       "    </tr>\n",
       "  </thead>\n",
       "  <tbody>\n",
       "  </tbody>\n",
       "</table>\n",
       "</div>"
      ],
      "text/plain": [
       "Empty DataFrame\n",
       "Columns: [from, to, effect, probability, causal]\n",
       "Index: []"
      ]
     },
     "metadata": {},
     "output_type": "display_data"
    },
    {
     "name": "stdout",
     "output_type": "stream",
     "text": [
      "original = account_check_status    1\n",
      "Name: 504, dtype: int64\n",
      "causal = [('account_check_status', 3)]\n"
     ]
    },
    {
     "data": {
      "text/html": [
       "<div>\n",
       "<style scoped>\n",
       "    .dataframe tbody tr th:only-of-type {\n",
       "        vertical-align: middle;\n",
       "    }\n",
       "\n",
       "    .dataframe tbody tr th {\n",
       "        vertical-align: top;\n",
       "    }\n",
       "\n",
       "    .dataframe thead th {\n",
       "        text-align: right;\n",
       "    }\n",
       "</style>\n",
       "<table border=\"1\" class=\"dataframe\">\n",
       "  <thead>\n",
       "    <tr style=\"text-align: right;\">\n",
       "      <th></th>\n",
       "      <th>from</th>\n",
       "      <th>to</th>\n",
       "      <th>effect</th>\n",
       "      <th>probability</th>\n",
       "      <th>causal</th>\n",
       "    </tr>\n",
       "  </thead>\n",
       "  <tbody>\n",
       "  </tbody>\n",
       "</table>\n",
       "</div>"
      ],
      "text/plain": [
       "Empty DataFrame\n",
       "Columns: [from, to, effect, probability, causal]\n",
       "Index: []"
      ]
     },
     "metadata": {},
     "output_type": "display_data"
    },
    {
     "name": "stdout",
     "output_type": "stream",
     "text": [
      "original = credit_history    2\n",
      "Name: 504, dtype: int64\n",
      "causal = [('credit_history', 4)]\n"
     ]
    },
    {
     "data": {
      "text/html": [
       "<div>\n",
       "<style scoped>\n",
       "    .dataframe tbody tr th:only-of-type {\n",
       "        vertical-align: middle;\n",
       "    }\n",
       "\n",
       "    .dataframe tbody tr th {\n",
       "        vertical-align: top;\n",
       "    }\n",
       "\n",
       "    .dataframe thead th {\n",
       "        text-align: right;\n",
       "    }\n",
       "</style>\n",
       "<table border=\"1\" class=\"dataframe\">\n",
       "  <thead>\n",
       "    <tr style=\"text-align: right;\">\n",
       "      <th></th>\n",
       "      <th>from</th>\n",
       "      <th>to</th>\n",
       "      <th>effect</th>\n",
       "      <th>probability</th>\n",
       "      <th>causal</th>\n",
       "    </tr>\n",
       "  </thead>\n",
       "  <tbody>\n",
       "    <tr>\n",
       "      <th>278</th>\n",
       "      <td>mais</td>\n",
       "      <td>mais</td>\n",
       "      <td>0.002397</td>\n",
       "      <td>0.01</td>\n",
       "      <td>True</td>\n",
       "    </tr>\n",
       "    <tr>\n",
       "      <th>237</th>\n",
       "      <td>menos</td>\n",
       "      <td>mais</td>\n",
       "      <td>-0.008693</td>\n",
       "      <td>0.04</td>\n",
       "      <td>True</td>\n",
       "    </tr>\n",
       "    <tr>\n",
       "      <th>230</th>\n",
       "      <td>mais</td>\n",
       "      <td>mais</td>\n",
       "      <td>0.013293</td>\n",
       "      <td>0.05</td>\n",
       "      <td>True</td>\n",
       "    </tr>\n",
       "    <tr>\n",
       "      <th>176</th>\n",
       "      <td>menos</td>\n",
       "      <td>mais</td>\n",
       "      <td>-0.053418</td>\n",
       "      <td>0.21</td>\n",
       "      <td>True</td>\n",
       "    </tr>\n",
       "    <tr>\n",
       "      <th>161</th>\n",
       "      <td>mais</td>\n",
       "      <td>mais</td>\n",
       "      <td>0.130606</td>\n",
       "      <td>0.29</td>\n",
       "      <td>True</td>\n",
       "    </tr>\n",
       "    <tr>\n",
       "      <th>122</th>\n",
       "      <td>mais</td>\n",
       "      <td>mais</td>\n",
       "      <td>0.153827</td>\n",
       "      <td>0.48</td>\n",
       "      <td>True</td>\n",
       "    </tr>\n",
       "    <tr>\n",
       "      <th>87</th>\n",
       "      <td>mais</td>\n",
       "      <td>menos</td>\n",
       "      <td>-0.263119</td>\n",
       "      <td>0.70</td>\n",
       "      <td>True</td>\n",
       "    </tr>\n",
       "    <tr>\n",
       "      <th>89</th>\n",
       "      <td>mais</td>\n",
       "      <td>menos</td>\n",
       "      <td>-0.096716</td>\n",
       "      <td>0.70</td>\n",
       "      <td>True</td>\n",
       "    </tr>\n",
       "    <tr>\n",
       "      <th>86</th>\n",
       "      <td>mais</td>\n",
       "      <td>mais</td>\n",
       "      <td>0.202645</td>\n",
       "      <td>0.71</td>\n",
       "      <td>True</td>\n",
       "    </tr>\n",
       "    <tr>\n",
       "      <th>74</th>\n",
       "      <td>mais</td>\n",
       "      <td>menos</td>\n",
       "      <td>-0.194940</td>\n",
       "      <td>0.77</td>\n",
       "      <td>True</td>\n",
       "    </tr>\n",
       "    <tr>\n",
       "      <th>65</th>\n",
       "      <td>mais</td>\n",
       "      <td>mais</td>\n",
       "      <td>0.739591</td>\n",
       "      <td>0.80</td>\n",
       "      <td>True</td>\n",
       "    </tr>\n",
       "  </tbody>\n",
       "</table>\n",
       "</div>"
      ],
      "text/plain": [
       "      from     to    effect  probability  causal\n",
       "278   mais   mais  0.002397         0.01    True\n",
       "237  menos   mais -0.008693         0.04    True\n",
       "230   mais   mais  0.013293         0.05    True\n",
       "176  menos   mais -0.053418         0.21    True\n",
       "161   mais   mais  0.130606         0.29    True\n",
       "122   mais   mais  0.153827         0.48    True\n",
       "87    mais  menos -0.263119         0.70    True\n",
       "89    mais  menos -0.096716         0.70    True\n",
       "86    mais   mais  0.202645         0.71    True\n",
       "74    mais  menos -0.194940         0.77    True\n",
       "65    mais   mais  0.739591         0.80    True"
      ]
     },
     "metadata": {},
     "output_type": "display_data"
    },
    {
     "name": "stdout",
     "output_type": "stream",
     "text": [
      "original = account_check_status     1\n",
      "duration_in_month       24\n",
      "credit_history           2\n",
      "age                     24\n",
      "Name: 504, dtype: int64\n",
      "causal = [('account_check_status', 2), ('duration_in_month', 15), ('credit_history', 3), ('age', 36)]\n"
     ]
    },
    {
     "data": {
      "text/html": [
       "<div>\n",
       "<style scoped>\n",
       "    .dataframe tbody tr th:only-of-type {\n",
       "        vertical-align: middle;\n",
       "    }\n",
       "\n",
       "    .dataframe tbody tr th {\n",
       "        vertical-align: top;\n",
       "    }\n",
       "\n",
       "    .dataframe thead th {\n",
       "        text-align: right;\n",
       "    }\n",
       "</style>\n",
       "<table border=\"1\" class=\"dataframe\">\n",
       "  <thead>\n",
       "    <tr style=\"text-align: right;\">\n",
       "      <th></th>\n",
       "      <th>from</th>\n",
       "      <th>to</th>\n",
       "      <th>effect</th>\n",
       "      <th>probability</th>\n",
       "      <th>causal</th>\n",
       "    </tr>\n",
       "  </thead>\n",
       "  <tbody>\n",
       "    <tr>\n",
       "      <th>231</th>\n",
       "      <td>mais</td>\n",
       "      <td>mais</td>\n",
       "      <td>0.095473</td>\n",
       "      <td>0.04</td>\n",
       "      <td>True</td>\n",
       "    </tr>\n",
       "    <tr>\n",
       "      <th>230</th>\n",
       "      <td>mais</td>\n",
       "      <td>mais</td>\n",
       "      <td>0.013293</td>\n",
       "      <td>0.05</td>\n",
       "      <td>True</td>\n",
       "    </tr>\n",
       "    <tr>\n",
       "      <th>192</th>\n",
       "      <td>mais</td>\n",
       "      <td>mais</td>\n",
       "      <td>0.027329</td>\n",
       "      <td>0.13</td>\n",
       "      <td>True</td>\n",
       "    </tr>\n",
       "    <tr>\n",
       "      <th>71</th>\n",
       "      <td>mais</td>\n",
       "      <td>mais</td>\n",
       "      <td>0.112467</td>\n",
       "      <td>0.78</td>\n",
       "      <td>True</td>\n",
       "    </tr>\n",
       "    <tr>\n",
       "      <th>65</th>\n",
       "      <td>mais</td>\n",
       "      <td>mais</td>\n",
       "      <td>0.739591</td>\n",
       "      <td>0.80</td>\n",
       "      <td>True</td>\n",
       "    </tr>\n",
       "    <tr>\n",
       "      <th>47</th>\n",
       "      <td>mais</td>\n",
       "      <td>mais</td>\n",
       "      <td>1.793295</td>\n",
       "      <td>0.87</td>\n",
       "      <td>True</td>\n",
       "    </tr>\n",
       "  </tbody>\n",
       "</table>\n",
       "</div>"
      ],
      "text/plain": [
       "     from    to    effect  probability  causal\n",
       "231  mais  mais  0.095473         0.04    True\n",
       "230  mais  mais  0.013293         0.05    True\n",
       "192  mais  mais  0.027329         0.13    True\n",
       "71   mais  mais  0.112467         0.78    True\n",
       "65   mais  mais  0.739591         0.80    True\n",
       "47   mais  mais  1.793295         0.87    True"
      ]
     },
     "metadata": {},
     "output_type": "display_data"
    },
    {
     "name": "stdout",
     "output_type": "stream",
     "text": [
      "original = credit_history        2\n",
      "present_emp_since     2\n",
      "age                  24\n",
      "Name: 504, dtype: int64\n",
      "causal = [('credit_history', 3), ('present_emp_since', 3), ('age', 66)]\n",
      "run 4\n"
     ]
    },
    {
     "name": "stderr",
     "output_type": "stream",
     "text": [
      "Processing...: 100%|██████████| 30/30 [01:01<00:00,  2.05s/it]"
     ]
    },
    {
     "name": "stdout",
     "output_type": "stream",
     "text": [
      "tamanho da list_analyse = 5\n"
     ]
    },
    {
     "name": "stderr",
     "output_type": "stream",
     "text": [
      "\n"
     ]
    },
    {
     "data": {
      "text/html": [
       "<div>\n",
       "<style scoped>\n",
       "    .dataframe tbody tr th:only-of-type {\n",
       "        vertical-align: middle;\n",
       "    }\n",
       "\n",
       "    .dataframe tbody tr th {\n",
       "        vertical-align: top;\n",
       "    }\n",
       "\n",
       "    .dataframe thead th {\n",
       "        text-align: right;\n",
       "    }\n",
       "</style>\n",
       "<table border=\"1\" class=\"dataframe\">\n",
       "  <thead>\n",
       "    <tr style=\"text-align: right;\">\n",
       "      <th></th>\n",
       "      <th>from</th>\n",
       "      <th>to</th>\n",
       "      <th>effect</th>\n",
       "      <th>probability</th>\n",
       "      <th>causal</th>\n",
       "    </tr>\n",
       "  </thead>\n",
       "  <tbody>\n",
       "  </tbody>\n",
       "</table>\n",
       "</div>"
      ],
      "text/plain": [
       "Empty DataFrame\n",
       "Columns: [from, to, effect, probability, causal]\n",
       "Index: []"
      ]
     },
     "metadata": {},
     "output_type": "display_data"
    },
    {
     "name": "stdout",
     "output_type": "stream",
     "text": [
      "original = account_check_status    4\n",
      "Name: 304, dtype: int64\n",
      "causal = [('account_check_status', 1)]\n",
      "run 5\n"
     ]
    },
    {
     "name": "stderr",
     "output_type": "stream",
     "text": [
      "Processing...: 100%|██████████| 30/30 [01:01<00:00,  2.06s/it]"
     ]
    },
    {
     "name": "stdout",
     "output_type": "stream",
     "text": [
      "tamanho da list_analyse = 5\n"
     ]
    },
    {
     "name": "stderr",
     "output_type": "stream",
     "text": [
      "\n"
     ]
    },
    {
     "data": {
      "text/html": [
       "<div>\n",
       "<style scoped>\n",
       "    .dataframe tbody tr th:only-of-type {\n",
       "        vertical-align: middle;\n",
       "    }\n",
       "\n",
       "    .dataframe tbody tr th {\n",
       "        vertical-align: top;\n",
       "    }\n",
       "\n",
       "    .dataframe thead th {\n",
       "        text-align: right;\n",
       "    }\n",
       "</style>\n",
       "<table border=\"1\" class=\"dataframe\">\n",
       "  <thead>\n",
       "    <tr style=\"text-align: right;\">\n",
       "      <th></th>\n",
       "      <th>from</th>\n",
       "      <th>to</th>\n",
       "      <th>effect</th>\n",
       "      <th>probability</th>\n",
       "      <th>causal</th>\n",
       "    </tr>\n",
       "  </thead>\n",
       "  <tbody>\n",
       "    <tr>\n",
       "      <th>142</th>\n",
       "      <td>menos</td>\n",
       "      <td>menos</td>\n",
       "      <td>-40.122427</td>\n",
       "      <td>0.39</td>\n",
       "      <td>False</td>\n",
       "    </tr>\n",
       "  </tbody>\n",
       "</table>\n",
       "</div>"
      ],
      "text/plain": [
       "      from     to     effect  probability  causal\n",
       "142  menos  menos -40.122427         0.39   False"
      ]
     },
     "metadata": {},
     "output_type": "display_data"
    },
    {
     "name": "stdout",
     "output_type": "stream",
     "text": [
      "original = account_check_status       4\n",
      "credit_amount           3079\n",
      "Name: 370, dtype: int64\n",
      "causal = [('account_check_status', 1), ('credit_amount', 438)]\n"
     ]
    },
    {
     "data": {
      "text/html": [
       "<div>\n",
       "<style scoped>\n",
       "    .dataframe tbody tr th:only-of-type {\n",
       "        vertical-align: middle;\n",
       "    }\n",
       "\n",
       "    .dataframe tbody tr th {\n",
       "        vertical-align: top;\n",
       "    }\n",
       "\n",
       "    .dataframe thead th {\n",
       "        text-align: right;\n",
       "    }\n",
       "</style>\n",
       "<table border=\"1\" class=\"dataframe\">\n",
       "  <thead>\n",
       "    <tr style=\"text-align: right;\">\n",
       "      <th></th>\n",
       "      <th>from</th>\n",
       "      <th>to</th>\n",
       "      <th>effect</th>\n",
       "      <th>probability</th>\n",
       "      <th>causal</th>\n",
       "    </tr>\n",
       "  </thead>\n",
       "  <tbody>\n",
       "    <tr>\n",
       "      <th>260</th>\n",
       "      <td>menos</td>\n",
       "      <td>menos</td>\n",
       "      <td>0.160987</td>\n",
       "      <td>0.02</td>\n",
       "      <td>True</td>\n",
       "    </tr>\n",
       "    <tr>\n",
       "      <th>241</th>\n",
       "      <td>menos</td>\n",
       "      <td>menos</td>\n",
       "      <td>0.010367</td>\n",
       "      <td>0.03</td>\n",
       "      <td>True</td>\n",
       "    </tr>\n",
       "    <tr>\n",
       "      <th>247</th>\n",
       "      <td>menos</td>\n",
       "      <td>menos</td>\n",
       "      <td>0.281349</td>\n",
       "      <td>0.03</td>\n",
       "      <td>True</td>\n",
       "    </tr>\n",
       "    <tr>\n",
       "      <th>244</th>\n",
       "      <td>menos</td>\n",
       "      <td>menos</td>\n",
       "      <td>0.000497</td>\n",
       "      <td>0.03</td>\n",
       "      <td>True</td>\n",
       "    </tr>\n",
       "    <tr>\n",
       "      <th>180</th>\n",
       "      <td>menos</td>\n",
       "      <td>menos</td>\n",
       "      <td>0.011562</td>\n",
       "      <td>0.19</td>\n",
       "      <td>True</td>\n",
       "    </tr>\n",
       "    <tr>\n",
       "      <th>8</th>\n",
       "      <td>menos</td>\n",
       "      <td>menos</td>\n",
       "      <td>0.169039</td>\n",
       "      <td>0.97</td>\n",
       "      <td>True</td>\n",
       "    </tr>\n",
       "  </tbody>\n",
       "</table>\n",
       "</div>"
      ],
      "text/plain": [
       "      from     to    effect  probability  causal\n",
       "260  menos  menos  0.160987         0.02    True\n",
       "241  menos  menos  0.010367         0.03    True\n",
       "247  menos  menos  0.281349         0.03    True\n",
       "244  menos  menos  0.000497         0.03    True\n",
       "180  menos  menos  0.011562         0.19    True\n",
       "8    menos  menos  0.169039         0.97    True"
      ]
     },
     "metadata": {},
     "output_type": "display_data"
    },
    {
     "name": "stdout",
     "output_type": "stream",
     "text": [
      "original = account_check_status    4\n",
      "savings                 5\n",
      "personal_status_sex     3\n",
      "Name: 370, dtype: int64\n",
      "causal = [('account_check_status', 1), ('savings', 4), ('personal_status_sex', 2)]\n",
      "run 6\n"
     ]
    },
    {
     "name": "stderr",
     "output_type": "stream",
     "text": [
      "Processing...: 100%|██████████| 30/30 [01:07<00:00,  2.27s/it]\n"
     ]
    },
    {
     "name": "stdout",
     "output_type": "stream",
     "text": [
      "tamanho da list_analyse = 4\n"
     ]
    },
    {
     "data": {
      "text/html": [
       "<div>\n",
       "<style scoped>\n",
       "    .dataframe tbody tr th:only-of-type {\n",
       "        vertical-align: middle;\n",
       "    }\n",
       "\n",
       "    .dataframe tbody tr th {\n",
       "        vertical-align: top;\n",
       "    }\n",
       "\n",
       "    .dataframe thead th {\n",
       "        text-align: right;\n",
       "    }\n",
       "</style>\n",
       "<table border=\"1\" class=\"dataframe\">\n",
       "  <thead>\n",
       "    <tr style=\"text-align: right;\">\n",
       "      <th></th>\n",
       "      <th>from</th>\n",
       "      <th>to</th>\n",
       "      <th>effect</th>\n",
       "      <th>probability</th>\n",
       "      <th>causal</th>\n",
       "    </tr>\n",
       "  </thead>\n",
       "  <tbody>\n",
       "  </tbody>\n",
       "</table>\n",
       "</div>"
      ],
      "text/plain": [
       "Empty DataFrame\n",
       "Columns: [from, to, effect, probability, causal]\n",
       "Index: []"
      ]
     },
     "metadata": {},
     "output_type": "display_data"
    },
    {
     "name": "stdout",
     "output_type": "stream",
     "text": [
      "original = savings    5\n",
      "Name: 50, dtype: int64\n",
      "causal = [('savings', 2)]\n",
      "run 7\n"
     ]
    },
    {
     "name": "stderr",
     "output_type": "stream",
     "text": [
      "Processing...: 100%|██████████| 30/30 [00:57<00:00,  1.93s/it]"
     ]
    },
    {
     "name": "stdout",
     "output_type": "stream",
     "text": [
      "tamanho da list_analyse = 5\n"
     ]
    },
    {
     "name": "stderr",
     "output_type": "stream",
     "text": [
      "\n"
     ]
    },
    {
     "data": {
      "text/html": [
       "<div>\n",
       "<style scoped>\n",
       "    .dataframe tbody tr th:only-of-type {\n",
       "        vertical-align: middle;\n",
       "    }\n",
       "\n",
       "    .dataframe tbody tr th {\n",
       "        vertical-align: top;\n",
       "    }\n",
       "\n",
       "    .dataframe thead th {\n",
       "        text-align: right;\n",
       "    }\n",
       "</style>\n",
       "<table border=\"1\" class=\"dataframe\">\n",
       "  <thead>\n",
       "    <tr style=\"text-align: right;\">\n",
       "      <th></th>\n",
       "      <th>from</th>\n",
       "      <th>to</th>\n",
       "      <th>effect</th>\n",
       "      <th>probability</th>\n",
       "      <th>causal</th>\n",
       "    </tr>\n",
       "  </thead>\n",
       "  <tbody>\n",
       "  </tbody>\n",
       "</table>\n",
       "</div>"
      ],
      "text/plain": [
       "Empty DataFrame\n",
       "Columns: [from, to, effect, probability, causal]\n",
       "Index: []"
      ]
     },
     "metadata": {},
     "output_type": "display_data"
    },
    {
     "name": "stdout",
     "output_type": "stream",
     "text": [
      "original = credit_amount    1559\n",
      "Name: 843, dtype: int64\n",
      "causal = [('credit_amount', 14600)]\n"
     ]
    },
    {
     "data": {
      "text/html": [
       "<div>\n",
       "<style scoped>\n",
       "    .dataframe tbody tr th:only-of-type {\n",
       "        vertical-align: middle;\n",
       "    }\n",
       "\n",
       "    .dataframe tbody tr th {\n",
       "        vertical-align: top;\n",
       "    }\n",
       "\n",
       "    .dataframe thead th {\n",
       "        text-align: right;\n",
       "    }\n",
       "</style>\n",
       "<table border=\"1\" class=\"dataframe\">\n",
       "  <thead>\n",
       "    <tr style=\"text-align: right;\">\n",
       "      <th></th>\n",
       "      <th>from</th>\n",
       "      <th>to</th>\n",
       "      <th>effect</th>\n",
       "      <th>probability</th>\n",
       "      <th>causal</th>\n",
       "    </tr>\n",
       "  </thead>\n",
       "  <tbody>\n",
       "  </tbody>\n",
       "</table>\n",
       "</div>"
      ],
      "text/plain": [
       "Empty DataFrame\n",
       "Columns: [from, to, effect, probability, causal]\n",
       "Index: []"
      ]
     },
     "metadata": {},
     "output_type": "display_data"
    },
    {
     "name": "stdout",
     "output_type": "stream",
     "text": [
      "original = account_check_status    4\n",
      "Name: 843, dtype: int64\n",
      "causal = [('account_check_status', 2)]\n",
      "run 8\n"
     ]
    },
    {
     "name": "stderr",
     "output_type": "stream",
     "text": [
      "Processing...: 100%|██████████| 30/30 [01:02<00:00,  2.08s/it]\n"
     ]
    },
    {
     "name": "stdout",
     "output_type": "stream",
     "text": [
      "tamanho da list_analyse = 3\n",
      "run 9\n"
     ]
    },
    {
     "name": "stderr",
     "output_type": "stream",
     "text": [
      "Processing...: 100%|██████████| 30/30 [00:59<00:00,  1.98s/it]"
     ]
    },
    {
     "name": "stdout",
     "output_type": "stream",
     "text": [
      "tamanho da list_analyse = 5\n"
     ]
    },
    {
     "name": "stderr",
     "output_type": "stream",
     "text": [
      "\n"
     ]
    },
    {
     "data": {
      "text/html": [
       "<div>\n",
       "<style scoped>\n",
       "    .dataframe tbody tr th:only-of-type {\n",
       "        vertical-align: middle;\n",
       "    }\n",
       "\n",
       "    .dataframe tbody tr th {\n",
       "        vertical-align: top;\n",
       "    }\n",
       "\n",
       "    .dataframe thead th {\n",
       "        text-align: right;\n",
       "    }\n",
       "</style>\n",
       "<table border=\"1\" class=\"dataframe\">\n",
       "  <thead>\n",
       "    <tr style=\"text-align: right;\">\n",
       "      <th></th>\n",
       "      <th>from</th>\n",
       "      <th>to</th>\n",
       "      <th>effect</th>\n",
       "      <th>probability</th>\n",
       "      <th>causal</th>\n",
       "    </tr>\n",
       "  </thead>\n",
       "  <tbody>\n",
       "  </tbody>\n",
       "</table>\n",
       "</div>"
      ],
      "text/plain": [
       "Empty DataFrame\n",
       "Columns: [from, to, effect, probability, causal]\n",
       "Index: []"
      ]
     },
     "metadata": {},
     "output_type": "display_data"
    },
    {
     "name": "stdout",
     "output_type": "stream",
     "text": [
      "original = age    29\n",
      "Name: 692, dtype: int64\n",
      "causal = [('age', 24)]\n"
     ]
    },
    {
     "data": {
      "text/html": [
       "<div>\n",
       "<style scoped>\n",
       "    .dataframe tbody tr th:only-of-type {\n",
       "        vertical-align: middle;\n",
       "    }\n",
       "\n",
       "    .dataframe tbody tr th {\n",
       "        vertical-align: top;\n",
       "    }\n",
       "\n",
       "    .dataframe thead th {\n",
       "        text-align: right;\n",
       "    }\n",
       "</style>\n",
       "<table border=\"1\" class=\"dataframe\">\n",
       "  <thead>\n",
       "    <tr style=\"text-align: right;\">\n",
       "      <th></th>\n",
       "      <th>from</th>\n",
       "      <th>to</th>\n",
       "      <th>effect</th>\n",
       "      <th>probability</th>\n",
       "      <th>causal</th>\n",
       "    </tr>\n",
       "  </thead>\n",
       "  <tbody>\n",
       "  </tbody>\n",
       "</table>\n",
       "</div>"
      ],
      "text/plain": [
       "Empty DataFrame\n",
       "Columns: [from, to, effect, probability, causal]\n",
       "Index: []"
      ]
     },
     "metadata": {},
     "output_type": "display_data"
    },
    {
     "name": "stdout",
     "output_type": "stream",
     "text": [
      "original = credit_history    2\n",
      "Name: 692, dtype: int64\n",
      "causal = [('credit_history', 1)]\n"
     ]
    },
    {
     "data": {
      "text/html": [
       "<div>\n",
       "<style scoped>\n",
       "    .dataframe tbody tr th:only-of-type {\n",
       "        vertical-align: middle;\n",
       "    }\n",
       "\n",
       "    .dataframe tbody tr th {\n",
       "        vertical-align: top;\n",
       "    }\n",
       "\n",
       "    .dataframe thead th {\n",
       "        text-align: right;\n",
       "    }\n",
       "</style>\n",
       "<table border=\"1\" class=\"dataframe\">\n",
       "  <thead>\n",
       "    <tr style=\"text-align: right;\">\n",
       "      <th></th>\n",
       "      <th>from</th>\n",
       "      <th>to</th>\n",
       "      <th>effect</th>\n",
       "      <th>probability</th>\n",
       "      <th>causal</th>\n",
       "    </tr>\n",
       "  </thead>\n",
       "  <tbody>\n",
       "  </tbody>\n",
       "</table>\n",
       "</div>"
      ],
      "text/plain": [
       "Empty DataFrame\n",
       "Columns: [from, to, effect, probability, causal]\n",
       "Index: []"
      ]
     },
     "metadata": {},
     "output_type": "display_data"
    },
    {
     "name": "stdout",
     "output_type": "stream",
     "text": [
      "original = credit_amount    2896\n",
      "Name: 692, dtype: int64\n",
      "causal = [('credit_amount', 10656)]\n",
      "quantas instancias contrafactuais encontradas = 50\n",
      "quantidade de mudanças totais = 111\n",
      "quantas instancias tiveram pelo menos uma relação causal satisfeita = 35/50\n",
      "quantas relações causais foram encontradas = 181\n",
      "quantas relações causais foram satisfeitas = 115.0/181\n",
      "quantas instâncias não tiveram nenhuma relação causal satisfeita = 11/50\n",
      "quantas instâncias não tiveram TODAS as relaçoes causais satisfeitas = 30/50\n"
     ]
    }
   ],
   "source": [
    "%time\n",
    "global_quant_changes = 0\n",
    "global_quant_causal_changes = 0\n",
    "global_quant_causal_rules = 0\n",
    "global_quant_zeros_causal = 0\n",
    "global_quant_full_causal = 0\n",
    "global_quant_causal_contrafac = 0\n",
    "\n",
    "quant_original_instance = 10\n",
    "for x in range(quant_original_instance):\n",
    "    print(f\"run {x}\")\n",
    "    runs = run(x)\n",
    "    for content in runs:\n",
    "        controle = {}\n",
    "        causal = content[0]\n",
    "        df = content[1]\n",
    "        ori = content[2]\n",
    "        \n",
    "        num_changes = len(causal)\n",
    "        global_quant_changes += num_changes\n",
    "        \n",
    "        num_causal_rules = len(df)\n",
    "        global_quant_causal_rules += num_causal_rules\n",
    "        \n",
    "        for attr in causal:\n",
    "            key = attr.column\n",
    "            if attr.value > ori[key]:\n",
    "                controle[key] = 'mais'\n",
    "            else:\n",
    "                controle[key] = 'menos'\n",
    "\n",
    "        df_temp = df.copy()\n",
    "        df_temp['from'] = df['from'].map(controle)\n",
    "        df_temp['to'] = df['to'].map(controle)\n",
    "        df_temp['causal'] = df_temp.apply(verificar_condicoes, axis = 1)\n",
    "        \n",
    "        causal_finds = df_temp['causal'].sum()\n",
    "        global_quant_causal_changes += causal_finds\n",
    "\n",
    "        if causal_finds > 0:\n",
    "            global_quant_causal_contrafac += 1\n",
    "        else:\n",
    "            global_quant_zeros_causal += 1\n",
    "            display(df_temp)\n",
    "            print(f\"original = {ori}\")\n",
    "            print(f\"causal = {causal}\")\n",
    "        \n",
    "        if causal_finds == num_causal_rules:\n",
    "            global_quant_full_causal += 1\n",
    "            if causal_finds > 2:\n",
    "                display(df_temp)\n",
    "                print(f\"original = {ori}\")\n",
    "                print(f\"causal = {causal}\")\n",
    "\n",
    "                \n",
    "quant_contrafac = quant_original_instance*K\n",
    "\n",
    "print()\n",
    "print(f\"quantas instancias contrafactuais encontradas = {quant_contrafac}\")\n",
    "print(f\"quantidade de mudanças totais = {global_quant_changes}\")\n",
    "\n",
    "print(f\"quantas instancias tiveram pelo menos uma relação causal satisfeita = {global_quant_causal_contrafac}/{quant_contrafac}\")\n",
    "\n",
    "print(f\"quantas relações causais foram encontradas = {global_quant_causal_rules}\")\n",
    "\n",
    "print(f\"quantas relações causais foram satisfeitas = {global_quant_causal_changes}/{global_quant_causal_rules}\")\n",
    "\n",
    "print(f\"quantas instâncias não tiveram nenhuma relação causal satisfeita = {global_quant_zeros_causal}/{quant_contrafac}\")\n",
    "print(f\"quantas instâncias tiveram TODAS as relaçoes causais satisfeitas = {global_quant_full_causal}/{global_quant_causal_contrafac}\")"
   ]
  },
  {
   "cell_type": "code",
   "execution_count": null,
   "id": "e59e0c18",
   "metadata": {},
   "outputs": [],
   "source": []
  },
  {
   "cell_type": "code",
   "execution_count": null,
   "id": "6c0e3ce8",
   "metadata": {},
   "outputs": [
    {
     "name": "stdout",
     "output_type": "stream",
     "text": [
      "CPU times: user 3 µs, sys: 0 ns, total: 3 µs\n",
      "Wall time: 5.96 µs\n",
      "run 0\n"
     ]
    },
    {
     "name": "stderr",
     "output_type": "stream",
     "text": [
      "Processing...: 100%|██████████| 30/30 [01:44<00:00,  3.48s/it]\n"
     ]
    },
    {
     "name": "stdout",
     "output_type": "stream",
     "text": [
      "tamanho da list_analyse = 5\n"
     ]
    },
    {
     "data": {
      "text/html": [
       "<div>\n",
       "<style scoped>\n",
       "    .dataframe tbody tr th:only-of-type {\n",
       "        vertical-align: middle;\n",
       "    }\n",
       "\n",
       "    .dataframe tbody tr th {\n",
       "        vertical-align: top;\n",
       "    }\n",
       "\n",
       "    .dataframe thead th {\n",
       "        text-align: right;\n",
       "    }\n",
       "</style>\n",
       "<table border=\"1\" class=\"dataframe\">\n",
       "  <thead>\n",
       "    <tr style=\"text-align: right;\">\n",
       "      <th></th>\n",
       "      <th>from</th>\n",
       "      <th>to</th>\n",
       "      <th>effect</th>\n",
       "      <th>probability</th>\n",
       "      <th>causal</th>\n",
       "    </tr>\n",
       "  </thead>\n",
       "  <tbody>\n",
       "    <tr>\n",
       "      <th>282</th>\n",
       "      <td>mais</td>\n",
       "      <td>menos</td>\n",
       "      <td>-0.006532</td>\n",
       "      <td>0.01</td>\n",
       "      <td>True</td>\n",
       "    </tr>\n",
       "    <tr>\n",
       "      <th>233</th>\n",
       "      <td>mais</td>\n",
       "      <td>menos</td>\n",
       "      <td>-0.007936</td>\n",
       "      <td>0.04</td>\n",
       "      <td>True</td>\n",
       "    </tr>\n",
       "    <tr>\n",
       "      <th>180</th>\n",
       "      <td>menos</td>\n",
       "      <td>menos</td>\n",
       "      <td>0.152100</td>\n",
       "      <td>0.19</td>\n",
       "      <td>True</td>\n",
       "    </tr>\n",
       "    <tr>\n",
       "      <th>120</th>\n",
       "      <td>menos</td>\n",
       "      <td>mais</td>\n",
       "      <td>-0.375009</td>\n",
       "      <td>0.52</td>\n",
       "      <td>True</td>\n",
       "    </tr>\n",
       "    <tr>\n",
       "      <th>81</th>\n",
       "      <td>menos</td>\n",
       "      <td>mais</td>\n",
       "      <td>-0.247582</td>\n",
       "      <td>0.70</td>\n",
       "      <td>True</td>\n",
       "    </tr>\n",
       "    <tr>\n",
       "      <th>52</th>\n",
       "      <td>menos</td>\n",
       "      <td>menos</td>\n",
       "      <td>0.203373</td>\n",
       "      <td>0.81</td>\n",
       "      <td>True</td>\n",
       "    </tr>\n",
       "  </tbody>\n",
       "</table>\n",
       "</div>"
      ],
      "text/plain": [
       "      from     to    effect  probability  causal\n",
       "282   mais  menos -0.006532         0.01    True\n",
       "233   mais  menos -0.007936         0.04    True\n",
       "180  menos  menos  0.152100         0.19    True\n",
       "120  menos   mais -0.375009         0.52    True\n",
       "81   menos   mais -0.247582         0.70    True\n",
       "52   menos  menos  0.203373         0.81    True"
      ]
     },
     "metadata": {},
     "output_type": "display_data"
    },
    {
     "name": "stdout",
     "output_type": "stream",
     "text": [
      "original = account_check_status     2\n",
      "duration_in_month       24\n",
      "credit_history           4\n",
      "Name: 153, dtype: int64\n",
      "causal = [('account_check_status', 1), ('duration_in_month', 35), ('credit_history', 1)]\n",
      "run 1\n"
     ]
    },
    {
     "name": "stderr",
     "output_type": "stream",
     "text": [
      "Processing...:  97%|█████████▋| 29/30 [01:36<00:03,  3.56s/it]"
     ]
    }
   ],
   "source": [
    "%time\n",
    "global_quant_changes = 0\n",
    "global_quant_causal_changes = 0\n",
    "global_quant_causal_rules = 0\n",
    "global_quant_zeros_causal = 0\n",
    "global_quant_full_causal = 0\n",
    "global_quant_causal_contrafac = 0\n",
    "\n",
    "quant_original_instance = 10\n",
    "for x in range(quant_original_instance):\n",
    "    print(f\"run {x}\")\n",
    "    runs = run(x)\n",
    "    for content in runs:\n",
    "        controle = {}\n",
    "        causal = content[0]\n",
    "        df = content[1]\n",
    "        ori = content[2]\n",
    "        \n",
    "        num_changes = len(causal)\n",
    "        global_quant_changes += num_changes\n",
    "        \n",
    "        num_causal_rules = len(df)\n",
    "        global_quant_causal_rules += num_causal_rules\n",
    "        \n",
    "        for attr in causal:\n",
    "            key = attr.column\n",
    "            if attr.value > ori[key]:\n",
    "                controle[key] = 'mais'\n",
    "            else:\n",
    "                controle[key] = 'menos'\n",
    "\n",
    "        df_temp = df.copy()\n",
    "        df_temp['from'] = df['from'].map(controle)\n",
    "        df_temp['to'] = df['to'].map(controle)\n",
    "        df_temp['causal'] = df_temp.apply(verificar_condicoes, axis = 1)\n",
    "        \n",
    "        causal_finds = df_temp['causal'].sum()\n",
    "        global_quant_causal_changes += causal_finds\n",
    "\n",
    "        if causal_finds > 0:\n",
    "            global_quant_causal_contrafac += 1\n",
    "        else:\n",
    "            global_quant_zeros_causal += 1\n",
    "            display(df_temp)\n",
    "            print(f\"original = {ori}\")\n",
    "            print(f\"causal = {causal}\")\n",
    "        \n",
    "        if causal_finds == num_causal_rules:\n",
    "            global_quant_full_causal += 1\n",
    "            if causal_finds > 2:\n",
    "                display(df_temp)\n",
    "                print(f\"original = {ori}\")\n",
    "                print(f\"causal = {causal}\")\n",
    "\n",
    "                \n",
    "quant_contrafac = quant_original_instance*K\n",
    "\n",
    "print()\n",
    "print(f\"quantas instancias contrafactuais encontradas = {quant_contrafac}\")\n",
    "print(f\"quantidade de mudanças totais = {global_quant_changes}\")\n",
    "\n",
    "print(f\"quantas instancias tiveram pelo menos uma relação causal satisfeita = {global_quant_causal_contrafac}/{quant_contrafac}\")\n",
    "\n",
    "print(f\"quantas relações causais foram encontradas = {global_quant_causal_rules}\")\n",
    "\n",
    "print(f\"quantas relações causais foram satisfeitas = {global_quant_causal_changes}/{global_quant_causal_rules}\")\n",
    "\n",
    "print(f\"quantas instâncias não tiveram nenhuma relação causal satisfeita = {global_quant_zeros_causal}/{quant_contrafac}\")\n",
    "print(f\"quantas instâncias tiveram TODAS as relaçoes causais satisfeitas = {global_quant_full_causal}/{global_quant_causal_contrafac}\")"
   ]
  },
  {
   "cell_type": "code",
   "execution_count": null,
   "id": "c10f52d3",
   "metadata": {},
   "outputs": [],
   "source": []
  }
 ],
 "metadata": {
  "kernelspec": {
   "display_name": "conda_python3",
   "language": "python",
   "name": "conda_python3"
  },
  "language_info": {
   "codemirror_mode": {
    "name": "ipython",
    "version": 3
   },
   "file_extension": ".py",
   "mimetype": "text/x-python",
   "name": "python",
   "nbconvert_exporter": "python",
   "pygments_lexer": "ipython3",
   "version": "3.10.13"
  }
 },
 "nbformat": 4,
 "nbformat_minor": 5
}
