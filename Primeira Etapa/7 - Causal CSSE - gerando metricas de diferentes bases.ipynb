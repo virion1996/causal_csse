{
 "cells": [
  {
   "cell_type": "code",
   "execution_count": 1,
   "id": "4f5cf5a8",
   "metadata": {},
   "outputs": [
    {
     "name": "stdout",
     "output_type": "stream",
     "text": [
      "Collecting lingam\n",
      "  Downloading lingam-1.8.3-py3-none-any.whl.metadata (8.3 kB)\n",
      "Requirement already satisfied: numpy in /home/ec2-user/anaconda3/envs/python3/lib/python3.10/site-packages (from lingam) (1.22.4)\n",
      "Requirement already satisfied: scipy in /home/ec2-user/anaconda3/envs/python3/lib/python3.10/site-packages (from lingam) (1.12.0)\n",
      "Requirement already satisfied: scikit-learn in /home/ec2-user/anaconda3/envs/python3/lib/python3.10/site-packages (from lingam) (1.4.1.post1)\n",
      "Collecting graphviz (from lingam)\n",
      "  Downloading graphviz-0.20.3-py3-none-any.whl.metadata (12 kB)\n",
      "Requirement already satisfied: statsmodels in /home/ec2-user/anaconda3/envs/python3/lib/python3.10/site-packages (from lingam) (0.14.1)\n",
      "Requirement already satisfied: networkx in /home/ec2-user/anaconda3/envs/python3/lib/python3.10/site-packages (from lingam) (3.2.1)\n",
      "Requirement already satisfied: pandas in /home/ec2-user/anaconda3/envs/python3/lib/python3.10/site-packages (from lingam) (2.2.1)\n",
      "Collecting pygam (from lingam)\n",
      "  Downloading pygam-0.9.1-py3-none-any.whl.metadata (7.1 kB)\n",
      "Requirement already satisfied: matplotlib in /home/ec2-user/anaconda3/envs/python3/lib/python3.10/site-packages (from lingam) (3.8.3)\n",
      "Collecting psy (from lingam)\n",
      "  Downloading psy-0.0.1-py2.py3-none-any.whl.metadata (5.9 kB)\n",
      "Collecting semopy (from lingam)\n",
      "  Downloading semopy-2.3.11.tar.gz (1.6 MB)\n",
      "\u001b[2K     \u001b[90m━━━━━━━━━━━━━━━━━━━━━━━━━━━━━━━━━━━━━━━━\u001b[0m \u001b[32m1.6/1.6 MB\u001b[0m \u001b[31m20.9 MB/s\u001b[0m eta \u001b[36m0:00:00\u001b[0m:00:01\u001b[0m\n",
      "\u001b[?25h  Preparing metadata (setup.py) ... \u001b[?25ldone\n",
      "\u001b[?25hRequirement already satisfied: contourpy>=1.0.1 in /home/ec2-user/anaconda3/envs/python3/lib/python3.10/site-packages (from matplotlib->lingam) (1.2.0)\n",
      "Requirement already satisfied: cycler>=0.10 in /home/ec2-user/anaconda3/envs/python3/lib/python3.10/site-packages (from matplotlib->lingam) (0.12.1)\n",
      "Requirement already satisfied: fonttools>=4.22.0 in /home/ec2-user/anaconda3/envs/python3/lib/python3.10/site-packages (from matplotlib->lingam) (4.50.0)\n",
      "Requirement already satisfied: kiwisolver>=1.3.1 in /home/ec2-user/anaconda3/envs/python3/lib/python3.10/site-packages (from matplotlib->lingam) (1.4.5)\n",
      "Requirement already satisfied: packaging>=20.0 in /home/ec2-user/anaconda3/envs/python3/lib/python3.10/site-packages (from matplotlib->lingam) (21.3)\n",
      "Requirement already satisfied: pillow>=8 in /home/ec2-user/anaconda3/envs/python3/lib/python3.10/site-packages (from matplotlib->lingam) (10.2.0)\n",
      "Requirement already satisfied: pyparsing>=2.3.1 in /home/ec2-user/anaconda3/envs/python3/lib/python3.10/site-packages (from matplotlib->lingam) (3.1.2)\n",
      "Requirement already satisfied: python-dateutil>=2.7 in /home/ec2-user/anaconda3/envs/python3/lib/python3.10/site-packages (from matplotlib->lingam) (2.9.0)\n",
      "Requirement already satisfied: pytz>=2020.1 in /home/ec2-user/anaconda3/envs/python3/lib/python3.10/site-packages (from pandas->lingam) (2024.1)\n",
      "Requirement already satisfied: tzdata>=2022.7 in /home/ec2-user/anaconda3/envs/python3/lib/python3.10/site-packages (from pandas->lingam) (2024.1)\n",
      "Collecting progressbar2 (from psy->lingam)\n",
      "  Downloading progressbar2-4.4.2-py3-none-any.whl.metadata (17 kB)\n",
      "Collecting numpy (from lingam)\n",
      "  Downloading numpy-1.26.4-cp310-cp310-manylinux_2_17_x86_64.manylinux2014_x86_64.whl.metadata (61 kB)\n",
      "\u001b[2K     \u001b[90m━━━━━━━━━━━━━━━━━━━━━━━━━━━━━━━━━━━━━━━\u001b[0m \u001b[32m61.0/61.0 kB\u001b[0m \u001b[31m855.9 kB/s\u001b[0m eta \u001b[36m0:00:00\u001b[0ma \u001b[36m0:00:01\u001b[0m\n",
      "\u001b[?25hCollecting scipy (from lingam)\n",
      "  Downloading scipy-1.11.4-cp310-cp310-manylinux_2_17_x86_64.manylinux2014_x86_64.whl.metadata (60 kB)\n",
      "\u001b[2K     \u001b[90m━━━━━━━━━━━━━━━━━━━━━━━━━━━━━━━━━━━━━━━━\u001b[0m \u001b[32m60.4/60.4 kB\u001b[0m \u001b[31m1.1 MB/s\u001b[0m eta \u001b[36m0:00:00\u001b[0mta \u001b[36m0:00:01\u001b[0m\n",
      "\u001b[?25hRequirement already satisfied: joblib>=1.2.0 in /home/ec2-user/anaconda3/envs/python3/lib/python3.10/site-packages (from scikit-learn->lingam) (1.3.2)\n",
      "Requirement already satisfied: threadpoolctl>=2.0.0 in /home/ec2-user/anaconda3/envs/python3/lib/python3.10/site-packages (from scikit-learn->lingam) (3.4.0)\n",
      "Requirement already satisfied: sympy in /home/ec2-user/anaconda3/envs/python3/lib/python3.10/site-packages (from semopy->lingam) (1.12)\n",
      "Collecting numdifftools (from semopy->lingam)\n",
      "  Downloading numdifftools-0.9.41-py2.py3-none-any.whl.metadata (39 kB)\n",
      "Requirement already satisfied: patsy>=0.5.4 in /home/ec2-user/anaconda3/envs/python3/lib/python3.10/site-packages (from statsmodels->lingam) (0.5.6)\n",
      "Requirement already satisfied: six in /home/ec2-user/anaconda3/envs/python3/lib/python3.10/site-packages (from patsy>=0.5.4->statsmodels->lingam) (1.16.0)\n",
      "Collecting python-utils>=3.8.1 (from progressbar2->psy->lingam)\n",
      "  Downloading python_utils-3.8.2-py2.py3-none-any.whl.metadata (9.7 kB)\n",
      "Requirement already satisfied: mpmath>=0.19 in /home/ec2-user/anaconda3/envs/python3/lib/python3.10/site-packages (from sympy->semopy->lingam) (1.3.0)\n",
      "Requirement already satisfied: typing-extensions>3.10.0.2 in /home/ec2-user/anaconda3/envs/python3/lib/python3.10/site-packages (from python-utils>=3.8.1->progressbar2->psy->lingam) (4.10.0)\n",
      "Downloading lingam-1.8.3-py3-none-any.whl (95 kB)\n",
      "\u001b[2K   \u001b[90m━━━━━━━━━━━━━━━━━━━━━━━━━━━━━━━━━━━━━━━━\u001b[0m \u001b[32m95.7/95.7 kB\u001b[0m \u001b[31m17.2 MB/s\u001b[0m eta \u001b[36m0:00:00\u001b[0m\n",
      "\u001b[?25hDownloading graphviz-0.20.3-py3-none-any.whl (47 kB)\n",
      "\u001b[2K   \u001b[90m━━━━━━━━━━━━━━━━━━━━━━━━━━━━━━━━━━━━━━━━\u001b[0m \u001b[32m47.1/47.1 kB\u001b[0m \u001b[31m8.5 MB/s\u001b[0m eta \u001b[36m0:00:00\u001b[0m\n",
      "\u001b[?25hDownloading psy-0.0.1-py2.py3-none-any.whl (38 kB)\n",
      "Downloading pygam-0.9.1-py3-none-any.whl (522 kB)\n",
      "\u001b[2K   \u001b[90m━━━━━━━━━━━━━━━━━━━━━━━━━━━━━━━━━━━━━━━━\u001b[0m \u001b[32m522.0/522.0 kB\u001b[0m \u001b[31m50.4 MB/s\u001b[0m eta \u001b[36m0:00:00\u001b[0m\n",
      "\u001b[?25hDownloading numpy-1.26.4-cp310-cp310-manylinux_2_17_x86_64.manylinux2014_x86_64.whl (18.2 MB)\n",
      "\u001b[2K   \u001b[90m━━━━━━━━━━━━━━━━━━━━━━━━━━━━━━━━━━━━━━━━\u001b[0m \u001b[32m18.2/18.2 MB\u001b[0m \u001b[31m93.6 MB/s\u001b[0m eta \u001b[36m0:00:00\u001b[0m:00:01\u001b[0m00:01\u001b[0m\n",
      "\u001b[?25hDownloading scipy-1.11.4-cp310-cp310-manylinux_2_17_x86_64.manylinux2014_x86_64.whl (36.4 MB)\n",
      "\u001b[2K   \u001b[90m━━━━━━━━━━━━━━━━━━━━━━━━━━━━━━━━━━━━━━━━\u001b[0m \u001b[32m36.4/36.4 MB\u001b[0m \u001b[31m15.7 MB/s\u001b[0m eta \u001b[36m0:00:00\u001b[0m:00:01\u001b[0m00:01\u001b[0m\n",
      "\u001b[?25hDownloading progressbar2-4.4.2-py3-none-any.whl (56 kB)\n",
      "\u001b[2K   \u001b[90m━━━━━━━━━━━━━━━━━━━━━━━━━━━━━━━━━━━━━━━━\u001b[0m \u001b[32m56.8/56.8 kB\u001b[0m \u001b[31m10.1 MB/s\u001b[0m eta \u001b[36m0:00:00\u001b[0m\n",
      "\u001b[?25hDownloading numdifftools-0.9.41-py2.py3-none-any.whl (100 kB)\n",
      "\u001b[2K   \u001b[90m━━━━━━━━━━━━━━━━━━━━━━━━━━━━━━━━━━━━━━━━\u001b[0m \u001b[32m100.2/100.2 kB\u001b[0m \u001b[31m16.5 MB/s\u001b[0m eta \u001b[36m0:00:00\u001b[0m\n",
      "\u001b[?25hDownloading python_utils-3.8.2-py2.py3-none-any.whl (27 kB)\n",
      "Building wheels for collected packages: semopy\n",
      "  Building wheel for semopy (setup.py) ... \u001b[?25ldone\n",
      "\u001b[?25h  Created wheel for semopy: filename=semopy-2.3.11-py3-none-any.whl size=1659681 sha256=ec38813796755bfcdf3a1151060c6c7e759c7c5a12c86ca667c8859332d20cf8\n",
      "  Stored in directory: /home/ec2-user/.cache/pip/wheels/53/ec/0d/0b294c02d8c4e9e80afea58839f2c1b4706770594bc99ec045\n",
      "Successfully built semopy\n",
      "Installing collected packages: python-utils, numpy, graphviz, scipy, progressbar2, pygam, psy, numdifftools, semopy, lingam\n",
      "  Attempting uninstall: numpy\n",
      "    Found existing installation: numpy 1.22.4\n",
      "    Uninstalling numpy-1.22.4:\n",
      "      Successfully uninstalled numpy-1.22.4\n",
      "  Attempting uninstall: scipy\n",
      "    Found existing installation: scipy 1.12.0\n",
      "    Uninstalling scipy-1.12.0:\n",
      "      Successfully uninstalled scipy-1.12.0\n",
      "\u001b[31mERROR: pip's dependency resolver does not currently take into account all the packages that are installed. This behaviour is the source of the following dependency conflicts.\n",
      "mkl-fft 1.3.8 requires mkl, which is not installed.\n",
      "hdijupyterutils 0.21.0 requires pandas<2.0.0,>=0.17.1, but you have pandas 2.2.1 which is incompatible.\n",
      "sparkmagic 0.21.0 requires pandas<2.0.0,>=0.17.1, but you have pandas 2.2.1 which is incompatible.\u001b[0m\u001b[31m\n",
      "\u001b[0mSuccessfully installed graphviz-0.20.3 lingam-1.8.3 numdifftools-0.9.41 numpy-1.26.4 progressbar2-4.4.2 psy-0.0.1 pygam-0.9.1 python-utils-3.8.2 scipy-1.11.4 semopy-2.3.11\n"
     ]
    }
   ],
   "source": [
    "!pip install lingam"
   ]
  },
  {
   "cell_type": "code",
   "execution_count": 1,
   "id": "37b54b11",
   "metadata": {},
   "outputs": [],
   "source": [
    "#German\n",
    "from sklearn.ensemble import RandomForestClassifier\n",
    "from sklearn.metrics import classification_report\n",
    "from sklearn import metrics\n",
    "from sklearn.model_selection import train_test_split\n",
    "\n",
    "from csse import CSSE\n",
    "from prepare_dataset import *\n",
    "\n",
    "import pickle\n",
    "\n",
    "import numpy as np\n",
    "import pandas as pd\n",
    "import graphviz\n",
    "import lingam\n",
    "from lingam.utils import print_causal_directions, print_dagc, make_dot\n",
    "\n",
    "from tqdm import tqdm\n",
    "import random as rnd\n",
    "\n",
    "from IPython.display import display\n",
    "\n",
    "import warnings\n",
    "\n",
    "warnings.filterwarnings('ignore')"
   ]
  },
  {
   "cell_type": "code",
   "execution_count": 2,
   "id": "8b7584be",
   "metadata": {},
   "outputs": [],
   "source": [
    "#German\n",
    "from sklearn.ensemble import RandomForestClassifier\n",
    "from sklearn.metrics import classification_report\n",
    "from sklearn import metrics\n",
    "from sklearn.model_selection import train_test_split\n",
    "\n",
    "from csse import CSSE\n",
    "from prepare_dataset import *\n",
    "\n",
    "import pickle\n",
    "\n",
    "import numpy as np\n",
    "import pandas as pd\n",
    "import graphviz\n",
    "import lingam\n",
    "from lingam.utils import print_causal_directions, print_dagc, make_dot\n",
    "\n",
    "from tqdm import tqdm\n",
    "import random as rnd\n",
    "\n",
    "from IPython.display import display\n",
    "\n",
    "import warnings\n",
    "\n",
    "warnings.filterwarnings('ignore')\n",
    "\n",
    "\n",
    "\n",
    "class CCSSE:\n",
    "    def __init__(self, dataset, samples = None, K = 5, generation = 10):\n",
    "        self.dataset = dataset\n",
    "        self.samples = samples\n",
    "        self.K = K\n",
    "        self.generation = generation\n",
    "        \n",
    "        self.x_train, self.x_test, self.y_train, self.y_test, self.dfx_full, self.dfy_full = self.get_datasets_train_test()\n",
    "\n",
    "        self.bb_model, self.p = self.get_bb_model()\n",
    "        self.explainerCSSE = self.get_model_contrafactual()\n",
    "        self.model_causal, self.df_causal_effects, self.df_error, self.causal_order = self.get_model_causality()\n",
    "    \n",
    "        self.run_dict = {}\n",
    "        self.run_non_causal_dict = {}\n",
    "    \n",
    "    def get_datasets_train_test(self):\n",
    "        if self.dataset == \"german_short\":\n",
    "            map_columns = {\n",
    "                'Unnamed: 0': 'index',\n",
    "                'x0': 'Sex',\n",
    "                'x1': 'Age',\n",
    "                'x2': 'Credit',\n",
    "                'x3': 'LoanDuration',\n",
    "            }\n",
    "            x_train = pd.read_csv(\"data/algrec_german/X_train_short.csv\").rename(columns = map_columns)\n",
    "            x_test = pd.read_csv(\"data/algrec_german/X_test_short.csv\").rename(columns = map_columns)\n",
    "            y_train = pd.read_csv(\"data/algrec_german/y_train_short.csv\").rename(columns={'Unnamed: 0': 'index'})\n",
    "            y_test = pd.read_csv(\"data/algrec_german/y_test_short.csv\").rename(columns={'Unnamed: 0': 'index'})\n",
    "            x_train = x_train.set_index('index')\n",
    "            x_test = x_test.set_index('index')\n",
    "            y_train = y_train.set_index('index')\n",
    "            y_test = y_test.set_index('index')\n",
    "            dfx_full = pd.concat([x_train, x_test])\n",
    "            dfy_full = pd.concat([y_train, y_test])\n",
    "\n",
    "        elif self.dataset == \"german_medium\":\n",
    "            map_columns = {\n",
    "                'Unnamed: 0': 'index',\n",
    "                'x0': 'Sex',\n",
    "                'x1': 'Age',\n",
    "                'x2': 'Credit',\n",
    "                'x3': 'LoanDuration',\n",
    "                'x4': 'CheckingAccountBalance',\n",
    "                'x5':'SavingsAccountBalance',\n",
    "                'x6':'HousingStatus'\n",
    "            }\n",
    "            x_train = pd.read_csv(\"data/algrec_german/X_train.csv\").rename(columns = map_columns)\n",
    "            x_test = pd.read_csv(\"data/algrec_german/X_test.csv\").rename(columns = map_columns)\n",
    "            y_train = pd.read_csv(\"data/algrec_german/y_train.csv\").rename(columns={'Unnamed: 0': 'index'})\n",
    "            y_test = pd.read_csv(\"data/algrec_german/y_test.csv\").rename(columns={'Unnamed: 0': 'index'})\n",
    "            x_train = x_train.set_index('index')\n",
    "            x_test = x_test.set_index('index')\n",
    "            y_train = y_train.set_index('index')\n",
    "            y_test = y_test.set_index('index')\n",
    "            dfx_full = pd.concat([x_train, x_test])\n",
    "            dfy_full = pd.concat([y_train, y_test])\n",
    "\n",
    "        elif self.dataset == \"german_full\":\n",
    "            df_main = prepare_german_dataset(\"german_credit.csv\", \"data/\")\n",
    "            columns = df_main.columns\n",
    "            class_name = 'default' # default = 0 = \"Good class\" / default = 1 = \"Bad class\" \n",
    "            columns_tmp = list(columns)\n",
    "            columns_tmp.remove(class_name)\n",
    "\n",
    "            x_train, x_test, y_train, y_test = train_test_split(df_main[columns_tmp], df_main[class_name], test_size=0.1)\n",
    "\n",
    "            dfx_full = pd.concat([x_train, x_test])\n",
    "            dfy_full = pd.concat([y_train, y_test])\n",
    "            \n",
    "        elif self.dataset == 'np':\n",
    "            df_main = pd.read_csv(\"data/breast_coimbra_np.csv\")\n",
    "            columns = df_main.columns\n",
    "            class_name = 'Classification' # default = 0 = \"Good class\" / default = 1 = \"Bad class\" \n",
    "            columns_tmp = list(columns)\n",
    "            columns_tmp.remove(class_name)\n",
    "\n",
    "            x_train, x_test, y_train, y_test = train_test_split(df_main[columns_tmp], df_main[class_name], test_size=0.1)\n",
    "\n",
    "            dfx_full = pd.concat([x_train, x_test])\n",
    "            dfy_full = pd.concat([y_train, y_test])\n",
    "            \n",
    "        elif self.dataset == 'nm':\n",
    "            df_main = pd.read_csv(\"data/heloc_dataset_v1_nm.csv\")\n",
    "            columns = df_main.columns\n",
    "            class_name = 'RiskPerformance' # default = 0 = \"Good class\" / default = 1 = \"Bad class\" \n",
    "            columns_tmp = list(columns)\n",
    "            columns_tmp.remove(class_name)\n",
    "\n",
    "            x_train, x_test, y_train, y_test = train_test_split(df_main[columns_tmp], df_main[class_name], test_size=0.1)\n",
    "\n",
    "            dfx_full = pd.concat([x_train, x_test])\n",
    "            dfy_full = pd.concat([y_train, y_test])\n",
    "            \n",
    "        elif self.dataset == 'cm':\n",
    "            df_main = pd.read_csv(\"data/house_votes_84_processada_cm.csv\")\n",
    "            columns = df_main.columns\n",
    "            class_name = 'Class Name' # default = 0 = \"Good class\" / default = 1 = \"Bad class\" \n",
    "            columns_tmp = list(columns)\n",
    "            columns_tmp.remove(class_name)\n",
    "\n",
    "            x_train, x_test, y_train, y_test = train_test_split(df_main[columns_tmp], df_main[class_name], test_size=0.1)\n",
    "\n",
    "            dfx_full = pd.concat([x_train, x_test])\n",
    "            dfy_full = pd.concat([y_train, y_test])\n",
    "            \n",
    "        elif self.dataset == 'ng':\n",
    "            df_main = pd.read_csv(\"data/ionosphere_ng.csv\")\n",
    "            columns = df_main.columns\n",
    "            class_name = 'target' # default = 0 = \"Good class\" / default = 1 = \"Bad class\" \n",
    "            columns_tmp = list(columns)\n",
    "            columns_tmp.remove(class_name)\n",
    "\n",
    "            x_train, x_test, y_train, y_test = train_test_split(df_main[columns_tmp], df_main[class_name], test_size=0.1)\n",
    "\n",
    "            dfx_full = pd.concat([x_train, x_test])\n",
    "            dfy_full = pd.concat([y_train, y_test])\n",
    "            \n",
    "        elif self.dataset == 'tokyo_ng':\n",
    "            df_main = pd.read_csv(\"data/Tokyo_ng.csv\").rename(columns = {'Unnamed: 44': 'class'})\n",
    "            columns = df_main.columns\n",
    "            class_name = 'class' # default = 0 = \"Good class\" / default = 1 = \"Bad class\" \n",
    "            columns_tmp = list(columns)\n",
    "            columns_tmp.remove(class_name)\n",
    "\n",
    "            x_train, x_test, y_train, y_test = train_test_split(df_main[columns_tmp], df_main[class_name], test_size=0.1)\n",
    "\n",
    "            dfx_full = pd.concat([x_train, x_test])\n",
    "            dfy_full = pd.concat([y_train, y_test])\n",
    "            \n",
    "        elif self.dataset == 'breast-cancer_ng':\n",
    "            df_main = pd.read_csv(\"data/breast-cancer_ng.csv\")\n",
    "            columns = df_main.columns\n",
    "            class_name = 'diagnosis' # default = 0 = \"Good class\" / default = 1 = \"Bad class\" \n",
    "            columns_tmp = list(columns)\n",
    "            columns_tmp.remove(class_name)\n",
    "\n",
    "            x_train, x_test, y_train, y_test = train_test_split(df_main[columns_tmp], df_main[class_name], test_size=0.1)\n",
    "\n",
    "            dfx_full = pd.concat([x_train, x_test])\n",
    "            dfy_full = pd.concat([y_train, y_test])\n",
    "        \n",
    "        elif self.dataset == 'cp':\n",
    "            df_train = pd.read_csv(\"data/monks-1_train_cp.csv\")\n",
    "\n",
    "            #Get the input features\n",
    "            columns = df_train.columns\n",
    "            class_name = 'Class' # default = 0 = \"Good class\" / default = 1 = \"Bad class\" \n",
    "            columns_tmp = list(columns)\n",
    "            columns_tmp.remove(class_name)\n",
    "            columns_tmp.remove('Id')\n",
    "\n",
    "            x_train = df_train[columns_tmp]\n",
    "            y_train = df_train[['Class']]\n",
    "\n",
    "            # x_train, x_test, y_train, y_test = train_test_split(df_main[columns_tmp], df_main[class_name], test_size=0.1)\n",
    "\n",
    "            model = RandomForestClassifier()  \n",
    "            model.fit(x_train, y_train)\n",
    "\n",
    "            df_test = pd.read_csv('data/monks-1_test_cp.csv')\n",
    "\n",
    "            #Get the input features\n",
    "            columns = df_test.columns\n",
    "            class_name = 'Class' # default = 0 = \"Good class\" / default = 1 = \"Bad class\" \n",
    "            columns_tmp = list(columns)\n",
    "            columns_tmp.remove(class_name)\n",
    "            columns_tmp.remove('Id')\n",
    "\n",
    "            x_test = df_test[columns_tmp]\n",
    "            y_test = df_test[['Class']]\n",
    "\n",
    "            dfx_full = pd.concat([x_train, x_test])\n",
    "            dfy_full = pd.concat([y_train, y_test])\n",
    "            \n",
    "        elif self.dataset == 'cg':\n",
    "            df_main = pd.read_csv(\"data/mushrooms_processada_cg.csv\")[:1000]\n",
    "            columns = df_main.columns\n",
    "            class_name = 'class' # default = 0 = \"Good class\" / default = 1 = \"Bad class\" \n",
    "            columns_tmp = list(columns)\n",
    "            columns_tmp.remove(class_name)\n",
    "\n",
    "            x_train, x_test, y_train, y_test = train_test_split(df_main[columns_tmp], df_main[class_name], test_size=0.1)\n",
    "\n",
    "            dfx_full = pd.concat([x_train, x_test])\n",
    "            dfy_full = pd.concat([y_train, y_test])\n",
    "            \n",
    "        elif self.dataset == 'Phishing_cg':\n",
    "            df_main = pd.read_csv(\"data/Phishing_cg.csv\")[2:1000].astype(float)\n",
    "            columns = df_main.columns\n",
    "            class_name = 'Class' # default = 0 = \"Good class\" / default = 1 = \"Bad class\" \n",
    "            columns_tmp = list(columns)\n",
    "            columns_tmp.remove(class_name)\n",
    "\n",
    "            x_train, x_test, y_train, y_test = train_test_split(df_main[columns_tmp], df_main[class_name], test_size=0.1)\n",
    "\n",
    "            dfx_full = pd.concat([x_train, x_test])\n",
    "            dfy_full = pd.concat([y_train, y_test])\n",
    "\n",
    "        else:\n",
    "            x_train = pd.DataFrame()\n",
    "            x_test = pd.DataFrame()\n",
    "            y_train = pd.DataFrame()\n",
    "            y_test = pd.DataFrame()\n",
    "            dfx_full = pd.DataFrame()\n",
    "            dfy_full = pd.DataFrame()\n",
    "\n",
    "        return x_train, x_test, y_train, y_test, dfx_full, dfy_full\n",
    "    \n",
    "\n",
    "    def get_bb_model(self):\n",
    "        bb_model = RandomForestClassifier()  \n",
    "        bb_model.fit(self.x_train, self.y_train)\n",
    "\n",
    "        p = bb_model.predict(self.x_test)\n",
    "\n",
    "        print(classification_report(self.y_test, p))\n",
    "\n",
    "        return bb_model, p\n",
    "\n",
    "    def get_model_contrafactual(self):\n",
    "        return CSSE(self.dfx_full, self.bb_model, K = self.K, num_gen = self.generation)\n",
    "\n",
    "    def get_model_causality(self):\n",
    "        model_causal = lingam.DirectLiNGAM()\n",
    "        model_causal.fit(self.dfx_full)\n",
    "            \n",
    "        labels = [f'{i}' for i in self.dfx_full.columns]\n",
    "        causal_order = [labels[x] for x in model_causal.causal_order_]\n",
    "        \n",
    "        matrix = model_causal.adjacency_matrix_\n",
    "        from_list = []\n",
    "        to_list = []\n",
    "        effect_list = []\n",
    "\n",
    "        # Iteração sobre a matriz para extrair os valores e suas posições\n",
    "        for i in range(len(matrix)):\n",
    "            for j in range(len(matrix[i])):\n",
    "                if matrix[i][j] != 0:\n",
    "                    from_list.append(j)\n",
    "                    to_list.append(i)\n",
    "                    effect_list.append(matrix[i][j])\n",
    "\n",
    "        # Criando o DataFrame\n",
    "        df_causal_effects = pd.DataFrame({'from': from_list, 'to': to_list, 'effect': effect_list})\n",
    "        labels = [f'{i}' for i in self.dfx_full.columns]\n",
    "        df_causal_effects['from'] = df_causal_effects['from'].apply(lambda x : labels[x])\n",
    "        df_causal_effects['to'] = df_causal_effects['to'].apply(lambda x : labels[x])\n",
    "\n",
    "\n",
    "        matrix_error = model_causal.get_error_independence_p_values(self.dfx_full)\n",
    "        from_list = []\n",
    "        to_list = []\n",
    "        effect_list = []\n",
    "\n",
    "        # Iteração sobre a matriz para extrair os valores e suas posições\n",
    "        for i in range(len(matrix_error)):\n",
    "            for j in range(i + 1, len(matrix_error[i])):\n",
    "                if matrix_error[i][j] != 0:\n",
    "                    from_list.append(j)\n",
    "                    to_list.append(i)\n",
    "                    effect_list.append(matrix_error[i][j])\n",
    "\n",
    "        # Criando o DataFrame\n",
    "        df_error = pd.DataFrame({'from': from_list, 'to': to_list, 'effect': effect_list})\n",
    "        labels = [f'{i}' for i in self.dfx_full.columns]\n",
    "        df_error['from'] = df_error['from'].apply(lambda x : labels[x])\n",
    "        df_error['to'] = df_error['to'].apply(lambda x : labels[x])\n",
    "        \n",
    "\n",
    "        return model_causal, df_causal_effects, df_error, causal_order\n",
    "        \n",
    "    \n",
    "    def print_causal_graph(self):\n",
    "        make_dot(self.model_causal.adjacency_matrix_)\n",
    "\n",
    "    def run_non_causal(self):\n",
    "        self.run_non_causal_dict = {}\n",
    "\n",
    "        if isinstance(self.samples, list):\n",
    "            self.create_run_dict(self)\n",
    "            for sample in self.samples:\n",
    "                self.run_non_causal_sample(sample)\n",
    "                \n",
    "        elif isinstance(self.samples, int):\n",
    "            for sample in range(self.samples):\n",
    "                self.run_non_causal_sample(sample)\n",
    "        \n",
    "        else: \n",
    "            for sample in range(10):\n",
    "                self.run_non_causal_sample(sample)\n",
    "                \n",
    "    def run_non_causal_sample(self, sample):\n",
    "        self.run_non_causal_dict[sample] = {}\n",
    "        original_instance = self.x_test.iloc[sample].copy()\n",
    "        contrafactual_set, solution = self.explainerCSSE.explain(original_instance, self.p[sample]) #Method returns the list of counterfactuals and the explanations generated from them\n",
    "\n",
    "        self.run_non_causal_dict[sample]['solution'] = solution\n",
    "\n",
    "    def run_causal(self):\n",
    "        self.run_dict = {}\n",
    "        self.run_dict['global_numbers'] = {\n",
    "                    \"global_quant_changes\": 0,\n",
    "                    \"global_quant_causal_changes\": 0,\n",
    "                    \"global_quant_causal_rules\": 0,\n",
    "                    \"global_quant_zeros_causal\": 0,\n",
    "                    \"global_quant_full_causal\": 0,\n",
    "                    \"global_quant_causal_contrafac\": 0,\n",
    "                    \"global_quant_maioria_causal_satisfeita\": 0,\n",
    "                    \"global_quant_contrafac_unico\": 0\n",
    "            }\n",
    "        self.global_quant_contrafac_max = 0\n",
    "        if isinstance(self.samples, list):\n",
    "            for sample in self.samples:\n",
    "                self.run_causal_sample(sample)\n",
    "                \n",
    "        elif isinstance(self.samples, int):\n",
    "            for sample in range(self.samples):\n",
    "                self.run_causal_sample(sample)\n",
    "        \n",
    "        else: \n",
    "            for sample in range(10):\n",
    "                self.run_causal_sample(sample)\n",
    "        \n",
    "        self.global_quant_contrafac_max = self.K * len(self.run_dict)\n",
    "\n",
    "\n",
    "    def run_causal_sample(self, sample):\n",
    "        if isinstance(self.samples, list):\n",
    "            original_instance = self.dfx_full.iloc[sample]\n",
    "        else:\n",
    "            original_instance = self.x_test.iloc[sample]\n",
    "        self.run_dict[sample] = {}\n",
    "        self.run_dict[sample]['original_instance'] = original_instance\n",
    "\n",
    "        print(f'Running original instance:\\n {display(original_instance)}')\n",
    "\n",
    "        causal_explain = self.get_causal_explain(sample)\n",
    "        self.run_dict[sample]['causal_explain'] = causal_explain\n",
    "\n",
    "        list_analyse = []\n",
    "        for contrafactual in causal_explain[0]:\n",
    "            list_analyse.append(self.analyse_contrafac(contrafactual, causal_explain[1], causal_explain[2]))\n",
    "\n",
    "        self.run_dict[sample]['list_analyse'] = list_analyse\n",
    "        self.analyse_explaination(sample)\n",
    "\n",
    "    def analyse_contrafac(self, contrafac, df, original_ind):\n",
    "        columns = [x.column for x in contrafac]\n",
    "        condicao = (df['to'].isin(columns)) & (df['from'].isin(columns))\n",
    "        ind = original_ind[columns]\n",
    "        return [contrafac, df[condicao], ind]\n",
    "\n",
    "    def get_causal_explain(self, sample):\n",
    "        if isinstance(self.samples, list):\n",
    "            original_ind = self.dfx_full.iloc[sample].copy()\n",
    "        else:\n",
    "            original_ind = self.x_test.iloc[sample].copy() #Original instance\n",
    "        #self.ind_cur_class = ind_cur_class #Index in the shap corresponds to the original instance class\n",
    "        self.explainerCSSE.current_class = self.p[sample] #Original instance class\n",
    "        self.explainerCSSE.original_ind = original_ind\n",
    "        \n",
    "        ind_cur_class = self.explainerCSSE.getBadClass()\n",
    "\n",
    "        #Gets the valid values range of each feature\n",
    "        features_range = []\n",
    "        features_range = self.explainerCSSE.getFeaturesRange()\n",
    "\n",
    "        #The DataFrame df will have the current population\n",
    "        df = pd.DataFrame(columns=self.explainerCSSE.input_dataset.columns)\n",
    "\n",
    "        #Generates the initial population with popinitial mutants        \n",
    "        self.explainerCSSE.getPopInicial(df, features_range)\n",
    "        df_causal = df.copy()\n",
    "        dict_dfs = {}\n",
    "\n",
    "        # for g in tqdm(range(self.explainerCSSE.num_gen), desc= \"Processing...\"):\n",
    "        for g in tqdm(range(self.generation), desc= \"Processing...\"):\n",
    "\n",
    "            #To use on the parents of each generation\n",
    "            old_parents = pd.DataFrame(columns=self.explainerCSSE.input_dataset.columns)\n",
    "\n",
    "            #Copy parents to the next generation\n",
    "            old_parents = df_causal.copy()\n",
    "            dict_dfs[g] = {}\n",
    "\n",
    "            parents_causal = self.apply_causality(old_parents)\n",
    "            dict_dfs[g]['causal_parents'] = parents_causal\n",
    "            #df will contain the new population\n",
    "            df_causal = pd.DataFrame(columns=self.explainerCSSE.input_dataset.columns)\n",
    "            evaluation_causal = []\n",
    "\n",
    "            #Assessing generation counterfactuals\n",
    "            self.explainerCSSE.fitness(dict_dfs[g]['causal_parents'], evaluation_causal, ind_cur_class)\n",
    "\n",
    "            #The original individual will always be in the 0 position of the df - So that it is normalized too (it will be used later in the distance function)\n",
    "            df_causal.loc[0] = original_ind.copy()\n",
    "\n",
    "            #Copies to the next generation the per_elit best individuals\n",
    "            self.explainerCSSE.elitism(evaluation_causal, df_causal, parents_causal)\n",
    "            number_cross_repetitions = 0\n",
    "            while len(df_causal) < self.explainerCSSE.pop_size + 1: #+1, as the 1st position is used to store the reference individual\n",
    "                number_cross_repetitions_causal = self.explainerCSSE.crossover(df_causal, parents_causal, evaluation_causal, number_cross_repetitions)\n",
    "\n",
    "                mutation_op = rnd.random()\n",
    "                if mutation_op <= self.explainerCSSE.mutation_proba:\n",
    "                    self.explainerCSSE.mutation(df_causal, len(df_causal) - 1, features_range)\n",
    "\n",
    "\n",
    "        evaluation = []\n",
    "        evaluation_causal = []\n",
    "\n",
    "        #Evaluating the latest generation\n",
    "        self.explainerCSSE.fitness(df_causal, evaluation_causal, ind_cur_class)\n",
    "\n",
    "        #Order the last generation by distance to the original instance     \n",
    "        evaluation_causal.sort(key=lambda individual: individual.aval_norm) \n",
    "\n",
    "        #Getting the counterfactual CAUSAL set\n",
    "        contrafactual_set_causal, solution_list_causal = self.explainerCSSE.getContrafactual(df_causal, evaluation_causal) \n",
    "\n",
    "        dict_dfs['contrafactual_set_causal'] = contrafactual_set_causal\n",
    "        dict_dfs['solution_list_causal'] = solution_list_causal\n",
    "        \n",
    "        df_contrafac_causal = self.get_contrafac_df_causal(solution_list_causal)\n",
    "        return [solution_list_causal, df_contrafac_causal, original_ind]\n",
    "    \n",
    "\n",
    "    def apply_causality(self, df):\n",
    "        df_apply_causal = pd.DataFrame(columns = df.columns)\n",
    "        original = df.iloc[0]\n",
    "        df_apply_causal.loc[0] = original\n",
    "        for index, df_row in df.iloc[1:].iterrows():\n",
    "            causal_ind = df_row.copy()\n",
    "            for column in self.causal_order:\n",
    "                value_diff = causal_ind[column] - original[column]\n",
    "                if value_diff != 0:\n",
    "                    tmp_effects = self.df_causal_effects[self.df_causal_effects['from'] == column]\n",
    "                    for index, row in tmp_effects.iterrows():\n",
    "    #                     prob = rnd.random()\n",
    "    #                     if row['probability'] <= prob:\n",
    "                        tmp_error = self.df_error[self.df_error['from'].isin([column, row['to']]) | self.df_error['to'].isin([column, row['to']])]\n",
    "                        error_value = tmp_error['effect'].iloc[0]\n",
    "    #                     print(f'error value = {error_value}')\n",
    "                        causal_ind[row['to']] = causal_ind[row['to']] + (value_diff * row['effect']) + tmp_error['effect'].iloc[0]\n",
    "            df_apply_causal.loc[len(df_apply_causal)] = causal_ind\n",
    "        return df_apply_causal\n",
    "\n",
    "\n",
    "    def get_contrafac_df_causal(self, solution_list_causal):\n",
    "        lista_solution_causal = [[t.column for t in sublist] for sublist in solution_list_causal]\n",
    "\n",
    "        # Inicializa uma lista para armazenar os resultados\n",
    "        resultados = []\n",
    "\n",
    "        # Loop sobre os valores na lista\n",
    "        for lista_valores in lista_solution_causal:\n",
    "            if len(lista_valores) > 1:\n",
    "                for v1 in lista_valores:\n",
    "                    for v2 in lista_valores:\n",
    "                        if v1 != v2:\n",
    "                            # Cria uma condição para cada par de valores diferentes na lista\n",
    "                            condicao = (self.df_causal_effects['to'].isin([v1, v2])) & (self.df_causal_effects['from'].isin([v1, v2]))\n",
    "                            # Realiza a busca no DataFrame usando a condição e armazena os resultados\n",
    "                            resultados.append(self.df_causal_effects[condicao])\n",
    "\n",
    "        # Concatena os resultados em um único DataFrame\n",
    "        if resultados:\n",
    "            resultado_final = pd.concat(resultados)\n",
    "            resultado_final = resultado_final.drop_duplicates()\n",
    "        else:\n",
    "            resultado_final = pd.DataFrame(columns = self.df_causal_effects.columns)\n",
    "            \n",
    "        return resultado_final\n",
    "    \n",
    "\n",
    "    def analyse_explaination(self, sample):\n",
    "        self.run_dict[sample]['data_analysis'] = []\n",
    "        for i, content in enumerate(self.run_dict[sample]['list_analyse']):\n",
    "            self.global_quant_contrafac_max += 1\n",
    "            controle = {}\n",
    "            causal = content[0]\n",
    "            df = content[1]\n",
    "            ori = content[2]\n",
    "            \n",
    "            \n",
    "            num_changes = len(causal)\n",
    "            self.run_dict['global_numbers']['global_quant_changes'] += num_changes\n",
    "            \n",
    "            num_causal_rules = len(df)\n",
    "            self.run_dict['global_numbers']['global_quant_causal_rules'] += num_causal_rules\n",
    "            \n",
    "            for attr in causal:\n",
    "                key = attr.column\n",
    "                if attr.value > ori[key]:\n",
    "                    controle[key] = 'mais'\n",
    "                else:\n",
    "                    controle[key] = 'menos'\n",
    "\n",
    "            df_temp = df.copy()\n",
    "            df_temp['from'] = df['from'].map(controle)\n",
    "            df_temp['to'] = df['to'].map(controle)\n",
    "            df_temp['causal'] = df_temp.apply(self.verificar_condicoes, axis = 1)\n",
    "            data_dict = {}\n",
    "\n",
    "            data_dict['df_respeita_causal'] = df_temp\n",
    "            data_dict['contrafactual_causal'] = causal\n",
    "            data_dict['df_causal_effects'] = df\n",
    "            \n",
    "            self.run_dict[sample]['data_analysis'].append(data_dict)\n",
    "\n",
    "\n",
    "            causal_finds = df_temp['causal'].sum()\n",
    "            self.run_dict['global_numbers']['global_quant_causal_changes'] += causal_finds\n",
    "            \n",
    "            # print(f'causal = \\n{causal}\\n')\n",
    "            # print(f'original = \\n{ori}\\n')\n",
    "            # print(f'df_temp = \\n{display(df_temp)}\\n')\n",
    "            \n",
    "            if len(df_temp) > 0:\n",
    "                if causal_finds > 0:\n",
    "                    self.run_dict['global_numbers']['global_quant_causal_contrafac'] += 1\n",
    "                else:\n",
    "                    # print(f'nenhuma relaçao causal satisfeita')\n",
    "                    self.run_dict['global_numbers']['global_quant_zeros_causal'] += 1\n",
    "    #                 display(df_temp)\n",
    "    #                 print(f\"original = {ori}\")\n",
    "    #                 print(f\"causal = {causal}\")\n",
    "\n",
    "                if causal_finds == num_causal_rules:\n",
    "                    self.run_dict['global_numbers']['global_quant_full_causal'] += 1\n",
    "                    # if causal_finds > 2:\n",
    "                        # print(f'todas > 2 relaçoes causais satisfeitas')\n",
    "    #                     display(df_temp)\n",
    "    #                     print(f\"original = {ori}\")\n",
    "    #                     print(f\"causal = {causal}\")\n",
    "                    # elif causal_finds == 1:\n",
    "                        # print(f'todas = 1 relaçoes causais satisfeitas')\n",
    "                \n",
    "                if causal_finds >= (len(df_temp)/2):\n",
    "                    self.run_dict['global_numbers']['global_quant_maioria_causal_satisfeita'] += 1\n",
    "            else:\n",
    "    #             if len(causal) > 0:\n",
    "                self.run_dict['global_numbers']['global_quant_contrafac_unico'] += 1\n",
    "        \n",
    "    def verificar_condicoes(self, row):\n",
    "        if (row['from'] == 'mais' and row['to'] == 'mais' and row['effect'] > 0):\n",
    "            return True\n",
    "        elif row['from'] == 'menos' and row['to'] == 'menos' and row['effect'] > 0:\n",
    "            return True\n",
    "        elif row['from'] == 'mais' and row['to'] == 'menos' and row['effect'] < 0:\n",
    "            return True\n",
    "        elif row['from'] == 'menos' and row['to'] == 'mais' and row['effect'] < 0:\n",
    "            return True\n",
    "        else:\n",
    "            return False\n",
    "            \n",
    "\n",
    "    def show_metrics(self):\n",
    "        \n",
    "        print(f\"Quantidade de instâncias contrafactuais = {self.global_quant_contrafac_max}\")\n",
    "        print(f'Quantidade de relações causais na base de dados = {len(self.df_causal_effects)}')\n",
    "        print(f\"Quantidade de atributos modificados = {self.run_dict['global_numbers']['global_quant_changes']}\")\n",
    "        print(f\"Quantidade de instâncias contrafactuais causais = {self.run_dict['global_numbers']['global_quant_contrafac_unico'] + self.run_dict['global_numbers']['global_quant_causal_contrafac']}\")\n",
    "        print(f\"Quantidade de relações causais analisadas = {self.run_dict['global_numbers']['global_quant_causal_rules']}\")\n",
    "        print(f\"Quantidade de relações causais satisfeitas = {self.run_dict['global_numbers']['global_quant_causal_changes']}\")\n",
    "        print(f\"Quantidade de instâncias contrafactuais com um único atributo modificado = {self.run_dict['global_numbers']['global_quant_contrafac_unico']}\")\n",
    "        \n",
    "              \n",
    "              \n",
    "              \n",
    "#         print(f\"quantas instancias tiveram pelo menos uma relação causal satisfeita = {self.run_dict['global_numbers']['global_quant_causal_contrafac']}/{self.global_quant_contrafac_max}\")\n",
    "\n",
    "#         print(f\"quantas relações causais foram encontradas = {self.run_dict['global_numbers']['global_quant_causal_rules']}\")\n",
    "\n",
    "#         print(f\"quantas relações causais foram satisfeitas = {self.run_dict['global_numbers']['global_quant_causal_changes']}/{self.run_dict['global_numbers']['global_quant_causal_rules']}\")\n",
    "\n",
    "#         print(f\"quantas instâncias não tiveram nenhuma relação causal satisfeita = {self.run_dict['global_numbers']['global_quant_zeros_causal']}/{self.global_quant_contrafac_max}\")\n",
    "#         print(f\"quantas instâncias tiveram TODAS as relaçoes causais satisfeitas = {self.run_dict['global_numbers']['global_quant_full_causal']}/{self.run_dict['global_numbers']['global_quant_causal_contrafac']}\")\n",
    "\n",
    "#         print(f\"quantas instancias causais teveram a maioria das relacoes causais satisfeitas = {self.run_dict['global_numbers']['global_quant_maioria_causal_satisfeita']}/{self.global_quant_contrafac_max}\")\n",
    "#         print(f\"quantas instancias tiveram um unico atributo modificado = {self.run_dict['global_numbers']['global_quant_contrafac_unico']}/{self.global_quant_contrafac_max}\")\n",
    "        print('---------------------------------------------------------------------------------------')\n",
    "\n",
    "        "
   ]
  },
  {
   "cell_type": "markdown",
   "id": "b5b40cab",
   "metadata": {},
   "source": [
    "# German medium"
   ]
  },
  {
   "cell_type": "code",
   "execution_count": 48,
   "id": "e8994481",
   "metadata": {},
   "outputs": [],
   "source": [
    "samples_index = [238, 349, 597, 646, 704, 747, 76, 839, 890, 979]"
   ]
  },
  {
   "cell_type": "code",
   "execution_count": 3,
   "id": "81e95d32",
   "metadata": {
    "scrolled": true
   },
   "outputs": [
    {
     "name": "stdout",
     "output_type": "stream",
     "text": [
      "              precision    recall  f1-score   support\n",
      "\n",
      "         0.0       0.46      0.50      0.48        66\n",
      "         1.0       0.58      0.55      0.56        84\n",
      "\n",
      "    accuracy                           0.53       150\n",
      "   macro avg       0.52      0.52      0.52       150\n",
      "weighted avg       0.53      0.53      0.53       150\n",
      "\n"
     ]
    }
   ],
   "source": [
    "ccsse = CCSSE('german_medium', samples = 10, K = 1, generation= 10)"
   ]
  },
  {
   "cell_type": "code",
   "execution_count": 60,
   "id": "db706ea8",
   "metadata": {},
   "outputs": [
    {
     "data": {
      "text/plain": [
       "Sex                          0.0\n",
       "Age                         37.0\n",
       "Credit                    1274.0\n",
       "LoanDuration                12.0\n",
       "CheckingAccountBalance       1.0\n",
       "SavingsAccountBalance        1.0\n",
       "HousingStatus                3.0\n",
       "Name: 747, dtype: float64"
      ]
     },
     "metadata": {},
     "output_type": "display_data"
    },
    {
     "name": "stdout",
     "output_type": "stream",
     "text": [
      "Running original instance:\n",
      " None\n"
     ]
    },
    {
     "name": "stderr",
     "output_type": "stream",
     "text": [
      "Processing...: 100%|██████████| 10/10 [00:10<00:00,  1.02s/it]\n"
     ]
    },
    {
     "data": {
      "text/plain": [
       "Sex                          1.0\n",
       "Age                         32.0\n",
       "Credit                    1136.0\n",
       "LoanDuration                 9.0\n",
       "CheckingAccountBalance       2.0\n",
       "SavingsAccountBalance        3.0\n",
       "HousingStatus                1.0\n",
       "Name: 349, dtype: float64"
      ]
     },
     "metadata": {},
     "output_type": "display_data"
    },
    {
     "name": "stdout",
     "output_type": "stream",
     "text": [
      "Running original instance:\n",
      " None\n"
     ]
    },
    {
     "name": "stderr",
     "output_type": "stream",
     "text": [
      "Processing...: 100%|██████████| 10/10 [00:12<00:00,  1.27s/it]\n"
     ]
    },
    {
     "data": {
      "text/plain": [
       "Sex                          1.0\n",
       "Age                         25.0\n",
       "Credit                    1264.0\n",
       "LoanDuration                15.0\n",
       "CheckingAccountBalance       2.0\n",
       "SavingsAccountBalance        2.0\n",
       "HousingStatus                2.0\n",
       "Name: 979, dtype: float64"
      ]
     },
     "metadata": {},
     "output_type": "display_data"
    },
    {
     "name": "stdout",
     "output_type": "stream",
     "text": [
      "Running original instance:\n",
      " None\n"
     ]
    },
    {
     "name": "stderr",
     "output_type": "stream",
     "text": [
      "Processing...: 100%|██████████| 10/10 [00:09<00:00,  1.00it/s]\n"
     ]
    },
    {
     "data": {
      "text/plain": [
       "Sex                         1.0\n",
       "Age                        46.0\n",
       "Credit                    697.0\n",
       "LoanDuration               12.0\n",
       "CheckingAccountBalance      1.0\n",
       "SavingsAccountBalance       1.0\n",
       "HousingStatus               3.0\n",
       "Name: 925, dtype: float64"
      ]
     },
     "metadata": {},
     "output_type": "display_data"
    },
    {
     "name": "stdout",
     "output_type": "stream",
     "text": [
      "Running original instance:\n",
      " None\n"
     ]
    },
    {
     "name": "stderr",
     "output_type": "stream",
     "text": [
      "Processing...: 100%|██████████| 10/10 [00:10<00:00,  1.10s/it]\n"
     ]
    },
    {
     "data": {
      "text/plain": [
       "Sex                          1.0\n",
       "Age                         35.0\n",
       "Credit                    7253.0\n",
       "LoanDuration                33.0\n",
       "CheckingAccountBalance       1.0\n",
       "SavingsAccountBalance        1.0\n",
       "HousingStatus                3.0\n",
       "Name: 411, dtype: float64"
      ]
     },
     "metadata": {},
     "output_type": "display_data"
    },
    {
     "name": "stdout",
     "output_type": "stream",
     "text": [
      "Running original instance:\n",
      " None\n"
     ]
    },
    {
     "name": "stderr",
     "output_type": "stream",
     "text": [
      "Processing...: 100%|██████████| 10/10 [00:11<00:00,  1.13s/it]\n"
     ]
    },
    {
     "data": {
      "text/plain": [
       "Sex                          1.0\n",
       "Age                         43.0\n",
       "Credit                    2442.0\n",
       "LoanDuration                27.0\n",
       "CheckingAccountBalance       1.0\n",
       "SavingsAccountBalance        1.0\n",
       "HousingStatus                3.0\n",
       "Name: 890, dtype: float64"
      ]
     },
     "metadata": {},
     "output_type": "display_data"
    },
    {
     "name": "stdout",
     "output_type": "stream",
     "text": [
      "Running original instance:\n",
      " None\n"
     ]
    },
    {
     "name": "stderr",
     "output_type": "stream",
     "text": [
      "Processing...: 100%|██████████| 10/10 [00:10<00:00,  1.10s/it]\n"
     ]
    },
    {
     "data": {
      "text/plain": [
       "Sex                          1.0\n",
       "Age                         32.0\n",
       "Credit                    4583.0\n",
       "LoanDuration                30.0\n",
       "CheckingAccountBalance       1.0\n",
       "SavingsAccountBalance        1.0\n",
       "HousingStatus                3.0\n",
       "Name: 646, dtype: float64"
      ]
     },
     "metadata": {},
     "output_type": "display_data"
    },
    {
     "name": "stdout",
     "output_type": "stream",
     "text": [
      "Running original instance:\n",
      " None\n"
     ]
    },
    {
     "name": "stderr",
     "output_type": "stream",
     "text": [
      "Processing...: 100%|██████████| 10/10 [00:11<00:00,  1.14s/it]\n"
     ]
    },
    {
     "data": {
      "text/plain": [
       "Sex                         1.0\n",
       "Age                        41.0\n",
       "Credit                    719.0\n",
       "LoanDuration               12.0\n",
       "CheckingAccountBalance      1.0\n",
       "SavingsAccountBalance       1.0\n",
       "HousingStatus               3.0\n",
       "Name: 443, dtype: float64"
      ]
     },
     "metadata": {},
     "output_type": "display_data"
    },
    {
     "name": "stdout",
     "output_type": "stream",
     "text": [
      "Running original instance:\n",
      " None\n"
     ]
    },
    {
     "name": "stderr",
     "output_type": "stream",
     "text": [
      "Processing...: 100%|██████████| 10/10 [00:10<00:00,  1.06s/it]\n"
     ]
    },
    {
     "data": {
      "text/plain": [
       "Sex                          1.0\n",
       "Age                         34.0\n",
       "Credit                    3965.0\n",
       "LoanDuration                42.0\n",
       "CheckingAccountBalance       1.0\n",
       "SavingsAccountBalance        1.0\n",
       "HousingStatus                3.0\n",
       "Name: 76, dtype: float64"
      ]
     },
     "metadata": {},
     "output_type": "display_data"
    },
    {
     "name": "stdout",
     "output_type": "stream",
     "text": [
      "Running original instance:\n",
      " None\n"
     ]
    },
    {
     "name": "stderr",
     "output_type": "stream",
     "text": [
      "Processing...: 100%|██████████| 10/10 [00:10<00:00,  1.05s/it]\n"
     ]
    },
    {
     "data": {
      "text/plain": [
       "Sex                          1.0\n",
       "Age                         27.0\n",
       "Credit                    2613.0\n",
       "LoanDuration                36.0\n",
       "CheckingAccountBalance       1.0\n",
       "SavingsAccountBalance        1.0\n",
       "HousingStatus                3.0\n",
       "Name: 225, dtype: float64"
      ]
     },
     "metadata": {},
     "output_type": "display_data"
    },
    {
     "name": "stdout",
     "output_type": "stream",
     "text": [
      "Running original instance:\n",
      " None\n"
     ]
    },
    {
     "name": "stderr",
     "output_type": "stream",
     "text": [
      "Processing...: 100%|██████████| 10/10 [00:10<00:00,  1.09s/it]\n"
     ]
    }
   ],
   "source": [
    "ccsse.run_causal()"
   ]
  },
  {
   "cell_type": "code",
   "execution_count": 61,
   "id": "e307d0ed",
   "metadata": {},
   "outputs": [
    {
     "name": "stdout",
     "output_type": "stream",
     "text": [
      "Quantidade de instâncias contrafactuais = 11\n",
      "Quantidade de relações causais na base de dados = 3\n",
      "Quantidade de atributos modificados = 11\n",
      "Quantidade de instâncias contrafactuais causais = 10\n",
      "Quantidade de relações causais analisadas = 1\n",
      "Quantidade de relações causais satisfeitas = 1.0\n",
      "Quantidade de instâncias contrafactuais com um único atributo modificado = 9\n",
      "---------------------------------------------------------------------------------------\n"
     ]
    }
   ],
   "source": [
    "ccsse.show_metrics()"
   ]
  },
  {
   "cell_type": "code",
   "execution_count": 71,
   "id": "14fe562e",
   "metadata": {},
   "outputs": [
    {
     "data": {
      "text/plain": [
       "{'global_numbers': {'global_quant_changes': 11,\n",
       "  'global_quant_causal_changes': 1.0,\n",
       "  'global_quant_causal_rules': 1,\n",
       "  'global_quant_zeros_causal': 0,\n",
       "  'global_quant_full_causal': 1,\n",
       "  'global_quant_causal_contrafac': 1,\n",
       "  'global_quant_maioria_causal_satisfeita': 1,\n",
       "  'global_quant_contrafac_unico': 9},\n",
       " 0: {'original_instance': Sex                          0.0\n",
       "  Age                         37.0\n",
       "  Credit                    1274.0\n",
       "  LoanDuration                12.0\n",
       "  CheckingAccountBalance       1.0\n",
       "  SavingsAccountBalance        1.0\n",
       "  HousingStatus                3.0\n",
       "  Name: 747, dtype: float64,\n",
       "  'causal_explain': [[[('Credit', 11180.972953669236)]],\n",
       "   Empty DataFrame\n",
       "   Columns: [from, to, effect]\n",
       "   Index: [],\n",
       "   Sex                          0.0\n",
       "   Age                         37.0\n",
       "   Credit                    1274.0\n",
       "   LoanDuration                12.0\n",
       "   CheckingAccountBalance       1.0\n",
       "   SavingsAccountBalance        1.0\n",
       "   HousingStatus                3.0\n",
       "   Name: 747, dtype: float64],\n",
       "  'list_analyse': [[[('Credit', 11180.972953669236)],\n",
       "    Empty DataFrame\n",
       "    Columns: [from, to, effect]\n",
       "    Index: [],\n",
       "    Credit    1274.0\n",
       "    Name: 747, dtype: float64]],\n",
       "  'data_analysis': [{'df_respeita_causal': Empty DataFrame\n",
       "    Columns: [from, to, effect, causal]\n",
       "    Index: [],\n",
       "    'contrafactual_causal': [('Credit', 11180.972953669236)],\n",
       "    'df_causal_effects': Empty DataFrame\n",
       "    Columns: [from, to, effect]\n",
       "    Index: []}]},\n",
       " 1: {'original_instance': Sex                          1.0\n",
       "  Age                         32.0\n",
       "  Credit                    1136.0\n",
       "  LoanDuration                 9.0\n",
       "  CheckingAccountBalance       2.0\n",
       "  SavingsAccountBalance        3.0\n",
       "  HousingStatus                1.0\n",
       "  Name: 349, dtype: float64,\n",
       "  'causal_explain': [[[('Credit', 1572.2399401102207)]],\n",
       "   Empty DataFrame\n",
       "   Columns: [from, to, effect]\n",
       "   Index: [],\n",
       "   Sex                          1.0\n",
       "   Age                         32.0\n",
       "   Credit                    1136.0\n",
       "   LoanDuration                 9.0\n",
       "   CheckingAccountBalance       2.0\n",
       "   SavingsAccountBalance        3.0\n",
       "   HousingStatus                1.0\n",
       "   Name: 349, dtype: float64],\n",
       "  'list_analyse': [[[('Credit', 1572.2399401102207)],\n",
       "    Empty DataFrame\n",
       "    Columns: [from, to, effect]\n",
       "    Index: [],\n",
       "    Credit    1136.0\n",
       "    Name: 349, dtype: float64]],\n",
       "  'data_analysis': [{'df_respeita_causal': Empty DataFrame\n",
       "    Columns: [from, to, effect, causal]\n",
       "    Index: [],\n",
       "    'contrafactual_causal': [('Credit', 1572.2399401102207)],\n",
       "    'df_causal_effects': Empty DataFrame\n",
       "    Columns: [from, to, effect]\n",
       "    Index: []}]},\n",
       " 2: {'original_instance': Sex                          1.0\n",
       "  Age                         25.0\n",
       "  Credit                    1264.0\n",
       "  LoanDuration                15.0\n",
       "  CheckingAccountBalance       2.0\n",
       "  SavingsAccountBalance        2.0\n",
       "  HousingStatus                2.0\n",
       "  Name: 979, dtype: float64,\n",
       "  'causal_explain': [[[('Credit', 1541.4546232554114),\n",
       "     ('LoanDuration', 17.03)]],\n",
       "              from      to    effect\n",
       "   1  LoanDuration  Credit  142.2142,\n",
       "   Sex                          1.0\n",
       "   Age                         25.0\n",
       "   Credit                    1264.0\n",
       "   LoanDuration                15.0\n",
       "   CheckingAccountBalance       2.0\n",
       "   SavingsAccountBalance        2.0\n",
       "   HousingStatus                2.0\n",
       "   Name: 979, dtype: float64],\n",
       "  'list_analyse': [[[('Credit', 1541.4546232554114), ('LoanDuration', 17.03)],\n",
       "               from      to    effect\n",
       "    1  LoanDuration  Credit  142.2142,\n",
       "    Credit          1264.0\n",
       "    LoanDuration      15.0\n",
       "    Name: 979, dtype: float64]],\n",
       "  'data_analysis': [{'df_respeita_causal':    from    to    effect  causal\n",
       "    1  mais  mais  142.2142    True,\n",
       "    'contrafactual_causal': [('Credit', 1541.4546232554114),\n",
       "     ('LoanDuration', 17.03)],\n",
       "    'df_causal_effects':            from      to    effect\n",
       "    1  LoanDuration  Credit  142.2142}]},\n",
       " 3: {'original_instance': Sex                         1.0\n",
       "  Age                        46.0\n",
       "  Credit                    697.0\n",
       "  LoanDuration               12.0\n",
       "  CheckingAccountBalance      1.0\n",
       "  SavingsAccountBalance       1.0\n",
       "  HousingStatus               3.0\n",
       "  Name: 925, dtype: float64,\n",
       "  'causal_explain': [[[('Credit', 1097.9721807954843)]],\n",
       "   Empty DataFrame\n",
       "   Columns: [from, to, effect]\n",
       "   Index: [],\n",
       "   Sex                         1.0\n",
       "   Age                        46.0\n",
       "   Credit                    697.0\n",
       "   LoanDuration               12.0\n",
       "   CheckingAccountBalance      1.0\n",
       "   SavingsAccountBalance       1.0\n",
       "   HousingStatus               3.0\n",
       "   Name: 925, dtype: float64],\n",
       "  'list_analyse': [[[('Credit', 1097.9721807954843)],\n",
       "    Empty DataFrame\n",
       "    Columns: [from, to, effect]\n",
       "    Index: [],\n",
       "    Credit    697.0\n",
       "    Name: 925, dtype: float64]],\n",
       "  'data_analysis': [{'df_respeita_causal': Empty DataFrame\n",
       "    Columns: [from, to, effect, causal]\n",
       "    Index: [],\n",
       "    'contrafactual_causal': [('Credit', 1097.9721807954843)],\n",
       "    'df_causal_effects': Empty DataFrame\n",
       "    Columns: [from, to, effect]\n",
       "    Index: []}]},\n",
       " 4: {'original_instance': Sex                          1.0\n",
       "  Age                         35.0\n",
       "  Credit                    7253.0\n",
       "  LoanDuration                33.0\n",
       "  CheckingAccountBalance       1.0\n",
       "  SavingsAccountBalance        1.0\n",
       "  HousingStatus                3.0\n",
       "  Name: 411, dtype: float64,\n",
       "  'causal_explain': [[[('Credit', 9611.016490856533)]],\n",
       "   Empty DataFrame\n",
       "   Columns: [from, to, effect]\n",
       "   Index: [],\n",
       "   Sex                          1.0\n",
       "   Age                         35.0\n",
       "   Credit                    7253.0\n",
       "   LoanDuration                33.0\n",
       "   CheckingAccountBalance       1.0\n",
       "   SavingsAccountBalance        1.0\n",
       "   HousingStatus                3.0\n",
       "   Name: 411, dtype: float64],\n",
       "  'list_analyse': [[[('Credit', 9611.016490856533)],\n",
       "    Empty DataFrame\n",
       "    Columns: [from, to, effect]\n",
       "    Index: [],\n",
       "    Credit    7253.0\n",
       "    Name: 411, dtype: float64]],\n",
       "  'data_analysis': [{'df_respeita_causal': Empty DataFrame\n",
       "    Columns: [from, to, effect, causal]\n",
       "    Index: [],\n",
       "    'contrafactual_causal': [('Credit', 9611.016490856533)],\n",
       "    'df_causal_effects': Empty DataFrame\n",
       "    Columns: [from, to, effect]\n",
       "    Index: []}]},\n",
       " 5: {'original_instance': Sex                          1.0\n",
       "  Age                         43.0\n",
       "  Credit                    2442.0\n",
       "  LoanDuration                27.0\n",
       "  CheckingAccountBalance       1.0\n",
       "  SavingsAccountBalance        1.0\n",
       "  HousingStatus                3.0\n",
       "  Name: 890, dtype: float64,\n",
       "  'causal_explain': [[[('Age', 38.53)]],\n",
       "   Empty DataFrame\n",
       "   Columns: [from, to, effect]\n",
       "   Index: [],\n",
       "   Sex                          1.0\n",
       "   Age                         43.0\n",
       "   Credit                    2442.0\n",
       "   LoanDuration                27.0\n",
       "   CheckingAccountBalance       1.0\n",
       "   SavingsAccountBalance        1.0\n",
       "   HousingStatus                3.0\n",
       "   Name: 890, dtype: float64],\n",
       "  'list_analyse': [[[('Age', 38.53)],\n",
       "    Empty DataFrame\n",
       "    Columns: [from, to, effect]\n",
       "    Index: [],\n",
       "    Age    43.0\n",
       "    Name: 890, dtype: float64]],\n",
       "  'data_analysis': [{'df_respeita_causal': Empty DataFrame\n",
       "    Columns: [from, to, effect, causal]\n",
       "    Index: [],\n",
       "    'contrafactual_causal': [('Age', 38.53)],\n",
       "    'df_causal_effects': Empty DataFrame\n",
       "    Columns: [from, to, effect]\n",
       "    Index: []}]},\n",
       " 6: {'original_instance': Sex                          1.0\n",
       "  Age                         32.0\n",
       "  Credit                    4583.0\n",
       "  LoanDuration                30.0\n",
       "  CheckingAccountBalance       1.0\n",
       "  SavingsAccountBalance        1.0\n",
       "  HousingStatus                3.0\n",
       "  Name: 646, dtype: float64,\n",
       "  'causal_explain': [[[('Age', 32.8)]],\n",
       "   Empty DataFrame\n",
       "   Columns: [from, to, effect]\n",
       "   Index: [],\n",
       "   Sex                          1.0\n",
       "   Age                         32.0\n",
       "   Credit                    4583.0\n",
       "   LoanDuration                30.0\n",
       "   CheckingAccountBalance       1.0\n",
       "   SavingsAccountBalance        1.0\n",
       "   HousingStatus                3.0\n",
       "   Name: 646, dtype: float64],\n",
       "  'list_analyse': [[[('Age', 32.8)],\n",
       "    Empty DataFrame\n",
       "    Columns: [from, to, effect]\n",
       "    Index: [],\n",
       "    Age    32.0\n",
       "    Name: 646, dtype: float64]],\n",
       "  'data_analysis': [{'df_respeita_causal': Empty DataFrame\n",
       "    Columns: [from, to, effect, causal]\n",
       "    Index: [],\n",
       "    'contrafactual_causal': [('Age', 32.8)],\n",
       "    'df_causal_effects': Empty DataFrame\n",
       "    Columns: [from, to, effect]\n",
       "    Index: []}]},\n",
       " 7: {'original_instance': Sex                         1.0\n",
       "  Age                        41.0\n",
       "  Credit                    719.0\n",
       "  LoanDuration               12.0\n",
       "  CheckingAccountBalance      1.0\n",
       "  SavingsAccountBalance       1.0\n",
       "  HousingStatus               3.0\n",
       "  Name: 443, dtype: float64,\n",
       "  'causal_explain': [[[('Credit', 1377.2275304461646)]],\n",
       "   Empty DataFrame\n",
       "   Columns: [from, to, effect]\n",
       "   Index: [],\n",
       "   Sex                         1.0\n",
       "   Age                        41.0\n",
       "   Credit                    719.0\n",
       "   LoanDuration               12.0\n",
       "   CheckingAccountBalance      1.0\n",
       "   SavingsAccountBalance       1.0\n",
       "   HousingStatus               3.0\n",
       "   Name: 443, dtype: float64],\n",
       "  'list_analyse': [[[('Credit', 1377.2275304461646)],\n",
       "    Empty DataFrame\n",
       "    Columns: [from, to, effect]\n",
       "    Index: [],\n",
       "    Credit    719.0\n",
       "    Name: 443, dtype: float64]],\n",
       "  'data_analysis': [{'df_respeita_causal': Empty DataFrame\n",
       "    Columns: [from, to, effect, causal]\n",
       "    Index: [],\n",
       "    'contrafactual_causal': [('Credit', 1377.2275304461646)],\n",
       "    'df_causal_effects': Empty DataFrame\n",
       "    Columns: [from, to, effect]\n",
       "    Index: []}]},\n",
       " 8: {'original_instance': Sex                          1.0\n",
       "  Age                         34.0\n",
       "  Credit                    3965.0\n",
       "  LoanDuration                42.0\n",
       "  CheckingAccountBalance       1.0\n",
       "  SavingsAccountBalance        1.0\n",
       "  HousingStatus                3.0\n",
       "  Name: 76, dtype: float64,\n",
       "  'causal_explain': [[[('Age', 36.65)]],\n",
       "   Empty DataFrame\n",
       "   Columns: [from, to, effect]\n",
       "   Index: [],\n",
       "   Sex                          1.0\n",
       "   Age                         34.0\n",
       "   Credit                    3965.0\n",
       "   LoanDuration                42.0\n",
       "   CheckingAccountBalance       1.0\n",
       "   SavingsAccountBalance        1.0\n",
       "   HousingStatus                3.0\n",
       "   Name: 76, dtype: float64],\n",
       "  'list_analyse': [[[('Age', 36.65)],\n",
       "    Empty DataFrame\n",
       "    Columns: [from, to, effect]\n",
       "    Index: [],\n",
       "    Age    34.0\n",
       "    Name: 76, dtype: float64]],\n",
       "  'data_analysis': [{'df_respeita_causal': Empty DataFrame\n",
       "    Columns: [from, to, effect, causal]\n",
       "    Index: [],\n",
       "    'contrafactual_causal': [('Age', 36.65)],\n",
       "    'df_causal_effects': Empty DataFrame\n",
       "    Columns: [from, to, effect]\n",
       "    Index: []}]},\n",
       " 9: {'original_instance': Sex                          1.0\n",
       "  Age                         27.0\n",
       "  Credit                    2613.0\n",
       "  LoanDuration                36.0\n",
       "  CheckingAccountBalance       1.0\n",
       "  SavingsAccountBalance        1.0\n",
       "  HousingStatus                3.0\n",
       "  Name: 225, dtype: float64,\n",
       "  'causal_explain': [[[('Credit', 2935.9368214980223)]],\n",
       "   Empty DataFrame\n",
       "   Columns: [from, to, effect]\n",
       "   Index: [],\n",
       "   Sex                          1.0\n",
       "   Age                         27.0\n",
       "   Credit                    2613.0\n",
       "   LoanDuration                36.0\n",
       "   CheckingAccountBalance       1.0\n",
       "   SavingsAccountBalance        1.0\n",
       "   HousingStatus                3.0\n",
       "   Name: 225, dtype: float64],\n",
       "  'list_analyse': [[[('Credit', 2935.9368214980223)],\n",
       "    Empty DataFrame\n",
       "    Columns: [from, to, effect]\n",
       "    Index: [],\n",
       "    Credit    2613.0\n",
       "    Name: 225, dtype: float64]],\n",
       "  'data_analysis': [{'df_respeita_causal': Empty DataFrame\n",
       "    Columns: [from, to, effect, causal]\n",
       "    Index: [],\n",
       "    'contrafactual_causal': [('Credit', 2935.9368214980223)],\n",
       "    'df_causal_effects': Empty DataFrame\n",
       "    Columns: [from, to, effect]\n",
       "    Index: []}]}}"
      ]
     },
     "execution_count": 71,
     "metadata": {},
     "output_type": "execute_result"
    }
   ],
   "source": [
    "ccsse.run_dict"
   ]
  },
  {
   "cell_type": "code",
   "execution_count": 73,
   "id": "cf9eb04b",
   "metadata": {
    "scrolled": true
   },
   "outputs": [
    {
     "name": "stdout",
     "output_type": "stream",
     "text": [
      "              precision    recall  f1-score   support\n",
      "\n",
      "         0.0       0.44      0.48      0.46        66\n",
      "         1.0       0.56      0.52      0.54        84\n",
      "\n",
      "    accuracy                           0.51       150\n",
      "   macro avg       0.50      0.50      0.50       150\n",
      "weighted avg       0.51      0.51      0.51       150\n",
      "\n"
     ]
    }
   ],
   "source": [
    "ccsse_10 = CCSSE('german_medium', samples = 10, K = 10, generation= 10)"
   ]
  },
  {
   "cell_type": "code",
   "execution_count": 74,
   "id": "4ab47a97",
   "metadata": {
    "scrolled": true
   },
   "outputs": [
    {
     "data": {
      "text/plain": [
       "Sex                          0.0\n",
       "Age                         37.0\n",
       "Credit                    1274.0\n",
       "LoanDuration                12.0\n",
       "CheckingAccountBalance       1.0\n",
       "SavingsAccountBalance        1.0\n",
       "HousingStatus                3.0\n",
       "Name: 747, dtype: float64"
      ]
     },
     "metadata": {},
     "output_type": "display_data"
    },
    {
     "name": "stdout",
     "output_type": "stream",
     "text": [
      "Running original instance:\n",
      " None\n"
     ]
    },
    {
     "name": "stderr",
     "output_type": "stream",
     "text": [
      "Processing...: 100%|██████████| 10/10 [00:10<00:00,  1.03s/it]\n"
     ]
    },
    {
     "data": {
      "text/plain": [
       "Sex                          1.0\n",
       "Age                         32.0\n",
       "Credit                    1136.0\n",
       "LoanDuration                 9.0\n",
       "CheckingAccountBalance       2.0\n",
       "SavingsAccountBalance        3.0\n",
       "HousingStatus                1.0\n",
       "Name: 349, dtype: float64"
      ]
     },
     "metadata": {},
     "output_type": "display_data"
    },
    {
     "name": "stdout",
     "output_type": "stream",
     "text": [
      "Running original instance:\n",
      " None\n"
     ]
    },
    {
     "name": "stderr",
     "output_type": "stream",
     "text": [
      "Processing...: 100%|██████████| 10/10 [00:11<00:00,  1.18s/it]\n"
     ]
    },
    {
     "data": {
      "text/plain": [
       "Sex                          1.0\n",
       "Age                         25.0\n",
       "Credit                    1264.0\n",
       "LoanDuration                15.0\n",
       "CheckingAccountBalance       2.0\n",
       "SavingsAccountBalance        2.0\n",
       "HousingStatus                2.0\n",
       "Name: 979, dtype: float64"
      ]
     },
     "metadata": {},
     "output_type": "display_data"
    },
    {
     "name": "stdout",
     "output_type": "stream",
     "text": [
      "Running original instance:\n",
      " None\n"
     ]
    },
    {
     "name": "stderr",
     "output_type": "stream",
     "text": [
      "Processing...: 100%|██████████| 10/10 [00:09<00:00,  1.07it/s]\n"
     ]
    },
    {
     "data": {
      "text/plain": [
       "Sex                         1.0\n",
       "Age                        46.0\n",
       "Credit                    697.0\n",
       "LoanDuration               12.0\n",
       "CheckingAccountBalance      1.0\n",
       "SavingsAccountBalance       1.0\n",
       "HousingStatus               3.0\n",
       "Name: 925, dtype: float64"
      ]
     },
     "metadata": {},
     "output_type": "display_data"
    },
    {
     "name": "stdout",
     "output_type": "stream",
     "text": [
      "Running original instance:\n",
      " None\n"
     ]
    },
    {
     "name": "stderr",
     "output_type": "stream",
     "text": [
      "Processing...: 100%|██████████| 10/10 [00:11<00:00,  1.12s/it]\n"
     ]
    },
    {
     "data": {
      "text/plain": [
       "Sex                          1.0\n",
       "Age                         35.0\n",
       "Credit                    7253.0\n",
       "LoanDuration                33.0\n",
       "CheckingAccountBalance       1.0\n",
       "SavingsAccountBalance        1.0\n",
       "HousingStatus                3.0\n",
       "Name: 411, dtype: float64"
      ]
     },
     "metadata": {},
     "output_type": "display_data"
    },
    {
     "name": "stdout",
     "output_type": "stream",
     "text": [
      "Running original instance:\n",
      " None\n"
     ]
    },
    {
     "name": "stderr",
     "output_type": "stream",
     "text": [
      "Processing...: 100%|██████████| 10/10 [00:12<00:00,  1.28s/it]\n"
     ]
    },
    {
     "data": {
      "text/plain": [
       "Sex                          1.0\n",
       "Age                         43.0\n",
       "Credit                    2442.0\n",
       "LoanDuration                27.0\n",
       "CheckingAccountBalance       1.0\n",
       "SavingsAccountBalance        1.0\n",
       "HousingStatus                3.0\n",
       "Name: 890, dtype: float64"
      ]
     },
     "metadata": {},
     "output_type": "display_data"
    },
    {
     "name": "stdout",
     "output_type": "stream",
     "text": [
      "Running original instance:\n",
      " None\n"
     ]
    },
    {
     "name": "stderr",
     "output_type": "stream",
     "text": [
      "Processing...: 100%|██████████| 10/10 [00:10<00:00,  1.01s/it]\n"
     ]
    },
    {
     "data": {
      "text/plain": [
       "Sex                          1.0\n",
       "Age                         32.0\n",
       "Credit                    4583.0\n",
       "LoanDuration                30.0\n",
       "CheckingAccountBalance       1.0\n",
       "SavingsAccountBalance        1.0\n",
       "HousingStatus                3.0\n",
       "Name: 646, dtype: float64"
      ]
     },
     "metadata": {},
     "output_type": "display_data"
    },
    {
     "name": "stdout",
     "output_type": "stream",
     "text": [
      "Running original instance:\n",
      " None\n"
     ]
    },
    {
     "name": "stderr",
     "output_type": "stream",
     "text": [
      "Processing...: 100%|██████████| 10/10 [00:11<00:00,  1.12s/it]\n"
     ]
    },
    {
     "data": {
      "text/plain": [
       "Sex                         1.0\n",
       "Age                        41.0\n",
       "Credit                    719.0\n",
       "LoanDuration               12.0\n",
       "CheckingAccountBalance      1.0\n",
       "SavingsAccountBalance       1.0\n",
       "HousingStatus               3.0\n",
       "Name: 443, dtype: float64"
      ]
     },
     "metadata": {},
     "output_type": "display_data"
    },
    {
     "name": "stdout",
     "output_type": "stream",
     "text": [
      "Running original instance:\n",
      " None\n"
     ]
    },
    {
     "name": "stderr",
     "output_type": "stream",
     "text": [
      "Processing...: 100%|██████████| 10/10 [00:10<00:00,  1.05s/it]\n"
     ]
    },
    {
     "data": {
      "text/plain": [
       "Sex                          1.0\n",
       "Age                         34.0\n",
       "Credit                    3965.0\n",
       "LoanDuration                42.0\n",
       "CheckingAccountBalance       1.0\n",
       "SavingsAccountBalance        1.0\n",
       "HousingStatus                3.0\n",
       "Name: 76, dtype: float64"
      ]
     },
     "metadata": {},
     "output_type": "display_data"
    },
    {
     "name": "stdout",
     "output_type": "stream",
     "text": [
      "Running original instance:\n",
      " None\n"
     ]
    },
    {
     "name": "stderr",
     "output_type": "stream",
     "text": [
      "Processing...: 100%|██████████| 10/10 [00:10<00:00,  1.08s/it]\n"
     ]
    },
    {
     "data": {
      "text/plain": [
       "Sex                          1.0\n",
       "Age                         27.0\n",
       "Credit                    2613.0\n",
       "LoanDuration                36.0\n",
       "CheckingAccountBalance       1.0\n",
       "SavingsAccountBalance        1.0\n",
       "HousingStatus                3.0\n",
       "Name: 225, dtype: float64"
      ]
     },
     "metadata": {},
     "output_type": "display_data"
    },
    {
     "name": "stdout",
     "output_type": "stream",
     "text": [
      "Running original instance:\n",
      " None\n"
     ]
    },
    {
     "name": "stderr",
     "output_type": "stream",
     "text": [
      "Processing...: 100%|██████████| 10/10 [00:11<00:00,  1.13s/it]\n"
     ]
    }
   ],
   "source": [
    "ccsse_10.run_causal()"
   ]
  },
  {
   "cell_type": "code",
   "execution_count": 75,
   "id": "7ab38f32",
   "metadata": {},
   "outputs": [
    {
     "name": "stdout",
     "output_type": "stream",
     "text": [
      "Quantidade de instâncias contrafactuais = 110\n",
      "Quantidade de relações causais na base de dados = 3\n",
      "Quantidade de atributos modificados = 76\n",
      "Quantidade de instâncias contrafactuais causais = 45\n",
      "Quantidade de relações causais analisadas = 16\n",
      "Quantidade de relações causais satisfeitas = 12.0\n",
      "Quantidade de instâncias contrafactuais com um único atributo modificado = 34\n",
      "---------------------------------------------------------------------------------------\n"
     ]
    }
   ],
   "source": [
    "ccsse_10.show_metrics()"
   ]
  },
  {
   "cell_type": "markdown",
   "id": "c8bdbd7a",
   "metadata": {},
   "source": [
    "# German short"
   ]
  },
  {
   "cell_type": "code",
   "execution_count": 65,
   "id": "70bae170",
   "metadata": {
    "scrolled": true
   },
   "outputs": [
    {
     "name": "stdout",
     "output_type": "stream",
     "text": [
      "              precision    recall  f1-score   support\n",
      "\n",
      "         0.0       0.44      0.62      0.52        66\n",
      "         1.0       0.56      0.38      0.45        84\n",
      "\n",
      "    accuracy                           0.49       150\n",
      "   macro avg       0.50      0.50      0.48       150\n",
      "weighted avg       0.51      0.49      0.48       150\n",
      "\n"
     ]
    }
   ],
   "source": [
    "ccsse_short = CCSSE('german_short', samples = 10, K = 1, generation= 10)"
   ]
  },
  {
   "cell_type": "code",
   "execution_count": 66,
   "id": "4d1a8f48",
   "metadata": {
    "scrolled": true
   },
   "outputs": [
    {
     "data": {
      "text/plain": [
       "Sex                0.0\n",
       "Age               37.0\n",
       "Credit          1274.0\n",
       "LoanDuration      12.0\n",
       "Name: 747, dtype: float64"
      ]
     },
     "metadata": {},
     "output_type": "display_data"
    },
    {
     "name": "stdout",
     "output_type": "stream",
     "text": [
      "Running original instance:\n",
      " None\n"
     ]
    },
    {
     "name": "stderr",
     "output_type": "stream",
     "text": [
      "Processing...: 100%|██████████| 10/10 [00:11<00:00,  1.12s/it]\n"
     ]
    },
    {
     "data": {
      "text/plain": [
       "Sex                1.0\n",
       "Age               32.0\n",
       "Credit          1136.0\n",
       "LoanDuration       9.0\n",
       "Name: 349, dtype: float64"
      ]
     },
     "metadata": {},
     "output_type": "display_data"
    },
    {
     "name": "stdout",
     "output_type": "stream",
     "text": [
      "Running original instance:\n",
      " None\n"
     ]
    },
    {
     "name": "stderr",
     "output_type": "stream",
     "text": [
      "Processing...: 100%|██████████| 10/10 [00:10<00:00,  1.09s/it]\n"
     ]
    },
    {
     "data": {
      "text/plain": [
       "Sex                1.0\n",
       "Age               25.0\n",
       "Credit          1264.0\n",
       "LoanDuration      15.0\n",
       "Name: 979, dtype: float64"
      ]
     },
     "metadata": {},
     "output_type": "display_data"
    },
    {
     "name": "stdout",
     "output_type": "stream",
     "text": [
      "Running original instance:\n",
      " None\n"
     ]
    },
    {
     "name": "stderr",
     "output_type": "stream",
     "text": [
      "Processing...: 100%|██████████| 10/10 [00:10<00:00,  1.01s/it]\n"
     ]
    },
    {
     "data": {
      "text/plain": [
       "Sex               1.0\n",
       "Age              46.0\n",
       "Credit          697.0\n",
       "LoanDuration     12.0\n",
       "Name: 925, dtype: float64"
      ]
     },
     "metadata": {},
     "output_type": "display_data"
    },
    {
     "name": "stdout",
     "output_type": "stream",
     "text": [
      "Running original instance:\n",
      " None\n"
     ]
    },
    {
     "name": "stderr",
     "output_type": "stream",
     "text": [
      "Processing...: 100%|██████████| 10/10 [00:10<00:00,  1.02s/it]\n"
     ]
    },
    {
     "data": {
      "text/plain": [
       "Sex                1.0\n",
       "Age               35.0\n",
       "Credit          7253.0\n",
       "LoanDuration      33.0\n",
       "Name: 411, dtype: float64"
      ]
     },
     "metadata": {},
     "output_type": "display_data"
    },
    {
     "name": "stdout",
     "output_type": "stream",
     "text": [
      "Running original instance:\n",
      " None\n"
     ]
    },
    {
     "name": "stderr",
     "output_type": "stream",
     "text": [
      "Processing...: 100%|██████████| 10/10 [00:10<00:00,  1.02s/it]\n"
     ]
    },
    {
     "data": {
      "text/plain": [
       "Sex                1.0\n",
       "Age               43.0\n",
       "Credit          2442.0\n",
       "LoanDuration      27.0\n",
       "Name: 890, dtype: float64"
      ]
     },
     "metadata": {},
     "output_type": "display_data"
    },
    {
     "name": "stdout",
     "output_type": "stream",
     "text": [
      "Running original instance:\n",
      " None\n"
     ]
    },
    {
     "name": "stderr",
     "output_type": "stream",
     "text": [
      "Processing...: 100%|██████████| 10/10 [00:10<00:00,  1.02s/it]\n"
     ]
    },
    {
     "data": {
      "text/plain": [
       "Sex                1.0\n",
       "Age               32.0\n",
       "Credit          4583.0\n",
       "LoanDuration      30.0\n",
       "Name: 646, dtype: float64"
      ]
     },
     "metadata": {},
     "output_type": "display_data"
    },
    {
     "name": "stdout",
     "output_type": "stream",
     "text": [
      "Running original instance:\n",
      " None\n"
     ]
    },
    {
     "name": "stderr",
     "output_type": "stream",
     "text": [
      "Processing...: 100%|██████████| 10/10 [00:10<00:00,  1.07s/it]\n"
     ]
    },
    {
     "data": {
      "text/plain": [
       "Sex               1.0\n",
       "Age              41.0\n",
       "Credit          719.0\n",
       "LoanDuration     12.0\n",
       "Name: 443, dtype: float64"
      ]
     },
     "metadata": {},
     "output_type": "display_data"
    },
    {
     "name": "stdout",
     "output_type": "stream",
     "text": [
      "Running original instance:\n",
      " None\n"
     ]
    },
    {
     "name": "stderr",
     "output_type": "stream",
     "text": [
      "Processing...: 100%|██████████| 10/10 [00:11<00:00,  1.10s/it]\n"
     ]
    },
    {
     "data": {
      "text/plain": [
       "Sex                1.0\n",
       "Age               34.0\n",
       "Credit          3965.0\n",
       "LoanDuration      42.0\n",
       "Name: 76, dtype: float64"
      ]
     },
     "metadata": {},
     "output_type": "display_data"
    },
    {
     "name": "stdout",
     "output_type": "stream",
     "text": [
      "Running original instance:\n",
      " None\n"
     ]
    },
    {
     "name": "stderr",
     "output_type": "stream",
     "text": [
      "Processing...: 100%|██████████| 10/10 [00:11<00:00,  1.12s/it]\n"
     ]
    },
    {
     "data": {
      "text/plain": [
       "Sex                1.0\n",
       "Age               27.0\n",
       "Credit          2613.0\n",
       "LoanDuration      36.0\n",
       "Name: 225, dtype: float64"
      ]
     },
     "metadata": {},
     "output_type": "display_data"
    },
    {
     "name": "stdout",
     "output_type": "stream",
     "text": [
      "Running original instance:\n",
      " None\n"
     ]
    },
    {
     "name": "stderr",
     "output_type": "stream",
     "text": [
      "Processing...: 100%|██████████| 10/10 [00:10<00:00,  1.08s/it]\n"
     ]
    }
   ],
   "source": [
    "ccsse_short.run_causal()"
   ]
  },
  {
   "cell_type": "code",
   "execution_count": 67,
   "id": "b81597e6",
   "metadata": {},
   "outputs": [
    {
     "name": "stdout",
     "output_type": "stream",
     "text": [
      "Quantidade de instâncias contrafactuais = 11\n",
      "Quantidade de relações causais na base de dados = 2\n",
      "Quantidade de atributos modificados = 10\n",
      "Quantidade de instâncias contrafactuais causais = 10\n",
      "Quantidade de relações causais analisadas = 0\n",
      "Quantidade de relações causais satisfeitas = 0.0\n",
      "Quantidade de instâncias contrafactuais com um único atributo modificado = 10\n",
      "---------------------------------------------------------------------------------------\n"
     ]
    }
   ],
   "source": [
    "ccsse_short.show_metrics()"
   ]
  },
  {
   "cell_type": "code",
   "execution_count": 72,
   "id": "6eb90035",
   "metadata": {},
   "outputs": [
    {
     "data": {
      "text/plain": [
       "{'global_numbers': {'global_quant_changes': 10,\n",
       "  'global_quant_causal_changes': 0.0,\n",
       "  'global_quant_causal_rules': 0,\n",
       "  'global_quant_zeros_causal': 0,\n",
       "  'global_quant_full_causal': 0,\n",
       "  'global_quant_causal_contrafac': 0,\n",
       "  'global_quant_maioria_causal_satisfeita': 0,\n",
       "  'global_quant_contrafac_unico': 10},\n",
       " 0: {'original_instance': Sex                0.0\n",
       "  Age               37.0\n",
       "  Credit          1274.0\n",
       "  LoanDuration      12.0\n",
       "  Name: 747, dtype: float64,\n",
       "  'causal_explain': [[[('Credit', 1504.665492590474)]],\n",
       "   Empty DataFrame\n",
       "   Columns: [from, to, effect]\n",
       "   Index: [],\n",
       "   Sex                0.0\n",
       "   Age               37.0\n",
       "   Credit          1274.0\n",
       "   LoanDuration      12.0\n",
       "   Name: 747, dtype: float64],\n",
       "  'list_analyse': [[[('Credit', 1504.665492590474)],\n",
       "    Empty DataFrame\n",
       "    Columns: [from, to, effect]\n",
       "    Index: [],\n",
       "    Credit    1274.0\n",
       "    Name: 747, dtype: float64]],\n",
       "  'data_analysis': [{'df_respeita_causal': Empty DataFrame\n",
       "    Columns: [from, to, effect, causal]\n",
       "    Index: [],\n",
       "    'contrafactual_causal': [('Credit', 1504.665492590474)],\n",
       "    'df_causal_effects': Empty DataFrame\n",
       "    Columns: [from, to, effect]\n",
       "    Index: []}]},\n",
       " 1: {'original_instance': Sex                1.0\n",
       "  Age               32.0\n",
       "  Credit          1136.0\n",
       "  LoanDuration       9.0\n",
       "  Name: 349, dtype: float64,\n",
       "  'causal_explain': [[[('Credit', 1056.0730875271129)]],\n",
       "   Empty DataFrame\n",
       "   Columns: [from, to, effect]\n",
       "   Index: [],\n",
       "   Sex                1.0\n",
       "   Age               32.0\n",
       "   Credit          1136.0\n",
       "   LoanDuration       9.0\n",
       "   Name: 349, dtype: float64],\n",
       "  'list_analyse': [[[('Credit', 1056.0730875271129)],\n",
       "    Empty DataFrame\n",
       "    Columns: [from, to, effect]\n",
       "    Index: [],\n",
       "    Credit    1136.0\n",
       "    Name: 349, dtype: float64]],\n",
       "  'data_analysis': [{'df_respeita_causal': Empty DataFrame\n",
       "    Columns: [from, to, effect, causal]\n",
       "    Index: [],\n",
       "    'contrafactual_causal': [('Credit', 1056.0730875271129)],\n",
       "    'df_causal_effects': Empty DataFrame\n",
       "    Columns: [from, to, effect]\n",
       "    Index: []}]},\n",
       " 2: {'original_instance': Sex                1.0\n",
       "  Age               25.0\n",
       "  Credit          1264.0\n",
       "  LoanDuration      15.0\n",
       "  Name: 979, dtype: float64,\n",
       "  'causal_explain': [[[('Credit', 1892.291667496604)]],\n",
       "   Empty DataFrame\n",
       "   Columns: [from, to, effect]\n",
       "   Index: [],\n",
       "   Sex                1.0\n",
       "   Age               25.0\n",
       "   Credit          1264.0\n",
       "   LoanDuration      15.0\n",
       "   Name: 979, dtype: float64],\n",
       "  'list_analyse': [[[('Credit', 1892.291667496604)],\n",
       "    Empty DataFrame\n",
       "    Columns: [from, to, effect]\n",
       "    Index: [],\n",
       "    Credit    1264.0\n",
       "    Name: 979, dtype: float64]],\n",
       "  'data_analysis': [{'df_respeita_causal': Empty DataFrame\n",
       "    Columns: [from, to, effect, causal]\n",
       "    Index: [],\n",
       "    'contrafactual_causal': [('Credit', 1892.291667496604)],\n",
       "    'df_causal_effects': Empty DataFrame\n",
       "    Columns: [from, to, effect]\n",
       "    Index: []}]},\n",
       " 3: {'original_instance': Sex               1.0\n",
       "  Age              46.0\n",
       "  Credit          697.0\n",
       "  LoanDuration     12.0\n",
       "  Name: 925, dtype: float64,\n",
       "  'causal_explain': [[[('Credit', 901.72)]],\n",
       "   Empty DataFrame\n",
       "   Columns: [from, to, effect]\n",
       "   Index: [],\n",
       "   Sex               1.0\n",
       "   Age              46.0\n",
       "   Credit          697.0\n",
       "   LoanDuration     12.0\n",
       "   Name: 925, dtype: float64],\n",
       "  'list_analyse': [[[('Credit', 901.72)],\n",
       "    Empty DataFrame\n",
       "    Columns: [from, to, effect]\n",
       "    Index: [],\n",
       "    Credit    697.0\n",
       "    Name: 925, dtype: float64]],\n",
       "  'data_analysis': [{'df_respeita_causal': Empty DataFrame\n",
       "    Columns: [from, to, effect, causal]\n",
       "    Index: [],\n",
       "    'contrafactual_causal': [('Credit', 901.72)],\n",
       "    'df_causal_effects': Empty DataFrame\n",
       "    Columns: [from, to, effect]\n",
       "    Index: []}]},\n",
       " 4: {'original_instance': Sex                1.0\n",
       "  Age               35.0\n",
       "  Credit          7253.0\n",
       "  LoanDuration      33.0\n",
       "  Name: 411, dtype: float64,\n",
       "  'causal_explain': [[[('Age', 41.218842995522266)]],\n",
       "   Empty DataFrame\n",
       "   Columns: [from, to, effect]\n",
       "   Index: [],\n",
       "   Sex                1.0\n",
       "   Age               35.0\n",
       "   Credit          7253.0\n",
       "   LoanDuration      33.0\n",
       "   Name: 411, dtype: float64],\n",
       "  'list_analyse': [[[('Age', 41.218842995522266)],\n",
       "    Empty DataFrame\n",
       "    Columns: [from, to, effect]\n",
       "    Index: [],\n",
       "    Age    35.0\n",
       "    Name: 411, dtype: float64]],\n",
       "  'data_analysis': [{'df_respeita_causal': Empty DataFrame\n",
       "    Columns: [from, to, effect, causal]\n",
       "    Index: [],\n",
       "    'contrafactual_causal': [('Age', 41.218842995522266)],\n",
       "    'df_causal_effects': Empty DataFrame\n",
       "    Columns: [from, to, effect]\n",
       "    Index: []}]},\n",
       " 5: {'original_instance': Sex                1.0\n",
       "  Age               43.0\n",
       "  Credit          2442.0\n",
       "  LoanDuration      27.0\n",
       "  Name: 890, dtype: float64,\n",
       "  'causal_explain': [[[('Credit', 2865.14)]],\n",
       "   Empty DataFrame\n",
       "   Columns: [from, to, effect]\n",
       "   Index: [],\n",
       "   Sex                1.0\n",
       "   Age               43.0\n",
       "   Credit          2442.0\n",
       "   LoanDuration      27.0\n",
       "   Name: 890, dtype: float64],\n",
       "  'list_analyse': [[[('Credit', 2865.14)],\n",
       "    Empty DataFrame\n",
       "    Columns: [from, to, effect]\n",
       "    Index: [],\n",
       "    Credit    2442.0\n",
       "    Name: 890, dtype: float64]],\n",
       "  'data_analysis': [{'df_respeita_causal': Empty DataFrame\n",
       "    Columns: [from, to, effect, causal]\n",
       "    Index: [],\n",
       "    'contrafactual_causal': [('Credit', 2865.14)],\n",
       "    'df_causal_effects': Empty DataFrame\n",
       "    Columns: [from, to, effect]\n",
       "    Index: []}]},\n",
       " 6: {'original_instance': Sex                1.0\n",
       "  Age               32.0\n",
       "  Credit          4583.0\n",
       "  LoanDuration      30.0\n",
       "  Name: 646, dtype: float64,\n",
       "  'causal_explain': [[[('Age', 32.52)]],\n",
       "   Empty DataFrame\n",
       "   Columns: [from, to, effect]\n",
       "   Index: [],\n",
       "   Sex                1.0\n",
       "   Age               32.0\n",
       "   Credit          4583.0\n",
       "   LoanDuration      30.0\n",
       "   Name: 646, dtype: float64],\n",
       "  'list_analyse': [[[('Age', 32.52)],\n",
       "    Empty DataFrame\n",
       "    Columns: [from, to, effect]\n",
       "    Index: [],\n",
       "    Age    32.0\n",
       "    Name: 646, dtype: float64]],\n",
       "  'data_analysis': [{'df_respeita_causal': Empty DataFrame\n",
       "    Columns: [from, to, effect, causal]\n",
       "    Index: [],\n",
       "    'contrafactual_causal': [('Age', 32.52)],\n",
       "    'df_causal_effects': Empty DataFrame\n",
       "    Columns: [from, to, effect]\n",
       "    Index: []}]},\n",
       " 7: {'original_instance': Sex               1.0\n",
       "  Age              41.0\n",
       "  Credit          719.0\n",
       "  LoanDuration     12.0\n",
       "  Name: 443, dtype: float64,\n",
       "  'causal_explain': [[[('Credit', 1241.38)]],\n",
       "   Empty DataFrame\n",
       "   Columns: [from, to, effect]\n",
       "   Index: [],\n",
       "   Sex               1.0\n",
       "   Age              41.0\n",
       "   Credit          719.0\n",
       "   LoanDuration     12.0\n",
       "   Name: 443, dtype: float64],\n",
       "  'list_analyse': [[[('Credit', 1241.38)],\n",
       "    Empty DataFrame\n",
       "    Columns: [from, to, effect]\n",
       "    Index: [],\n",
       "    Credit    719.0\n",
       "    Name: 443, dtype: float64]],\n",
       "  'data_analysis': [{'df_respeita_causal': Empty DataFrame\n",
       "    Columns: [from, to, effect, causal]\n",
       "    Index: [],\n",
       "    'contrafactual_causal': [('Credit', 1241.38)],\n",
       "    'df_causal_effects': Empty DataFrame\n",
       "    Columns: [from, to, effect]\n",
       "    Index: []}]},\n",
       " 8: {'original_instance': Sex                1.0\n",
       "  Age               34.0\n",
       "  Credit          3965.0\n",
       "  LoanDuration      42.0\n",
       "  Name: 76, dtype: float64,\n",
       "  'causal_explain': [[[('Age', 32.49087571479709)]],\n",
       "   Empty DataFrame\n",
       "   Columns: [from, to, effect]\n",
       "   Index: [],\n",
       "   Sex                1.0\n",
       "   Age               34.0\n",
       "   Credit          3965.0\n",
       "   LoanDuration      42.0\n",
       "   Name: 76, dtype: float64],\n",
       "  'list_analyse': [[[('Age', 32.49087571479709)],\n",
       "    Empty DataFrame\n",
       "    Columns: [from, to, effect]\n",
       "    Index: [],\n",
       "    Age    34.0\n",
       "    Name: 76, dtype: float64]],\n",
       "  'data_analysis': [{'df_respeita_causal': Empty DataFrame\n",
       "    Columns: [from, to, effect, causal]\n",
       "    Index: [],\n",
       "    'contrafactual_causal': [('Age', 32.49087571479709)],\n",
       "    'df_causal_effects': Empty DataFrame\n",
       "    Columns: [from, to, effect]\n",
       "    Index: []}]},\n",
       " 9: {'original_instance': Sex                1.0\n",
       "  Age               27.0\n",
       "  Credit          2613.0\n",
       "  LoanDuration      36.0\n",
       "  Name: 225, dtype: float64,\n",
       "  'causal_explain': [[[('Age', 26.329168729596297)]],\n",
       "   Empty DataFrame\n",
       "   Columns: [from, to, effect]\n",
       "   Index: [],\n",
       "   Sex                1.0\n",
       "   Age               27.0\n",
       "   Credit          2613.0\n",
       "   LoanDuration      36.0\n",
       "   Name: 225, dtype: float64],\n",
       "  'list_analyse': [[[('Age', 26.329168729596297)],\n",
       "    Empty DataFrame\n",
       "    Columns: [from, to, effect]\n",
       "    Index: [],\n",
       "    Age    27.0\n",
       "    Name: 225, dtype: float64]],\n",
       "  'data_analysis': [{'df_respeita_causal': Empty DataFrame\n",
       "    Columns: [from, to, effect, causal]\n",
       "    Index: [],\n",
       "    'contrafactual_causal': [('Age', 26.329168729596297)],\n",
       "    'df_causal_effects': Empty DataFrame\n",
       "    Columns: [from, to, effect]\n",
       "    Index: []}]}}"
      ]
     },
     "execution_count": 72,
     "metadata": {},
     "output_type": "execute_result"
    }
   ],
   "source": [
    "ccsse_short.run_dict"
   ]
  },
  {
   "cell_type": "code",
   "execution_count": 68,
   "id": "803661a6",
   "metadata": {
    "scrolled": true
   },
   "outputs": [
    {
     "name": "stdout",
     "output_type": "stream",
     "text": [
      "              precision    recall  f1-score   support\n",
      "\n",
      "         0.0       0.44      0.61      0.51        66\n",
      "         1.0       0.57      0.40      0.47        84\n",
      "\n",
      "    accuracy                           0.49       150\n",
      "   macro avg       0.51      0.51      0.49       150\n",
      "weighted avg       0.51      0.49      0.49       150\n",
      "\n"
     ]
    }
   ],
   "source": [
    "ccsse_short10 = CCSSE('german_short', samples = 10, K = 10, generation= 10)"
   ]
  },
  {
   "cell_type": "code",
   "execution_count": 69,
   "id": "1d4d0b41",
   "metadata": {
    "scrolled": true
   },
   "outputs": [
    {
     "data": {
      "text/plain": [
       "Sex                0.0\n",
       "Age               37.0\n",
       "Credit          1274.0\n",
       "LoanDuration      12.0\n",
       "Name: 747, dtype: float64"
      ]
     },
     "metadata": {},
     "output_type": "display_data"
    },
    {
     "name": "stdout",
     "output_type": "stream",
     "text": [
      "Running original instance:\n",
      " None\n"
     ]
    },
    {
     "name": "stderr",
     "output_type": "stream",
     "text": [
      "Processing...: 100%|██████████| 10/10 [00:11<00:00,  1.12s/it]\n"
     ]
    },
    {
     "data": {
      "text/plain": [
       "Sex                1.0\n",
       "Age               32.0\n",
       "Credit          1136.0\n",
       "LoanDuration       9.0\n",
       "Name: 349, dtype: float64"
      ]
     },
     "metadata": {},
     "output_type": "display_data"
    },
    {
     "name": "stdout",
     "output_type": "stream",
     "text": [
      "Running original instance:\n",
      " None\n"
     ]
    },
    {
     "name": "stderr",
     "output_type": "stream",
     "text": [
      "Processing...: 100%|██████████| 10/10 [00:10<00:00,  1.09s/it]\n"
     ]
    },
    {
     "data": {
      "text/plain": [
       "Sex                1.0\n",
       "Age               25.0\n",
       "Credit          1264.0\n",
       "LoanDuration      15.0\n",
       "Name: 979, dtype: float64"
      ]
     },
     "metadata": {},
     "output_type": "display_data"
    },
    {
     "name": "stdout",
     "output_type": "stream",
     "text": [
      "Running original instance:\n",
      " None\n"
     ]
    },
    {
     "name": "stderr",
     "output_type": "stream",
     "text": [
      "Processing...: 100%|██████████| 10/10 [00:12<00:00,  1.27s/it]\n"
     ]
    },
    {
     "data": {
      "text/plain": [
       "Sex               1.0\n",
       "Age              46.0\n",
       "Credit          697.0\n",
       "LoanDuration     12.0\n",
       "Name: 925, dtype: float64"
      ]
     },
     "metadata": {},
     "output_type": "display_data"
    },
    {
     "name": "stdout",
     "output_type": "stream",
     "text": [
      "Running original instance:\n",
      " None\n"
     ]
    },
    {
     "name": "stderr",
     "output_type": "stream",
     "text": [
      "Processing...: 100%|██████████| 10/10 [00:11<00:00,  1.11s/it]\n"
     ]
    },
    {
     "data": {
      "text/plain": [
       "Sex                1.0\n",
       "Age               35.0\n",
       "Credit          7253.0\n",
       "LoanDuration      33.0\n",
       "Name: 411, dtype: float64"
      ]
     },
     "metadata": {},
     "output_type": "display_data"
    },
    {
     "name": "stdout",
     "output_type": "stream",
     "text": [
      "Running original instance:\n",
      " None\n"
     ]
    },
    {
     "name": "stderr",
     "output_type": "stream",
     "text": [
      "Processing...: 100%|██████████| 10/10 [00:10<00:00,  1.01s/it]\n"
     ]
    },
    {
     "data": {
      "text/plain": [
       "Sex                1.0\n",
       "Age               43.0\n",
       "Credit          2442.0\n",
       "LoanDuration      27.0\n",
       "Name: 890, dtype: float64"
      ]
     },
     "metadata": {},
     "output_type": "display_data"
    },
    {
     "name": "stdout",
     "output_type": "stream",
     "text": [
      "Running original instance:\n",
      " None\n"
     ]
    },
    {
     "name": "stderr",
     "output_type": "stream",
     "text": [
      "Processing...: 100%|██████████| 10/10 [00:10<00:00,  1.00s/it]\n"
     ]
    },
    {
     "data": {
      "text/plain": [
       "Sex                1.0\n",
       "Age               32.0\n",
       "Credit          4583.0\n",
       "LoanDuration      30.0\n",
       "Name: 646, dtype: float64"
      ]
     },
     "metadata": {},
     "output_type": "display_data"
    },
    {
     "name": "stdout",
     "output_type": "stream",
     "text": [
      "Running original instance:\n",
      " None\n"
     ]
    },
    {
     "name": "stderr",
     "output_type": "stream",
     "text": [
      "Processing...: 100%|██████████| 10/10 [00:10<00:00,  1.08s/it]\n"
     ]
    },
    {
     "data": {
      "text/plain": [
       "Sex               1.0\n",
       "Age              41.0\n",
       "Credit          719.0\n",
       "LoanDuration     12.0\n",
       "Name: 443, dtype: float64"
      ]
     },
     "metadata": {},
     "output_type": "display_data"
    },
    {
     "name": "stdout",
     "output_type": "stream",
     "text": [
      "Running original instance:\n",
      " None\n"
     ]
    },
    {
     "name": "stderr",
     "output_type": "stream",
     "text": [
      "Processing...: 100%|██████████| 10/10 [00:10<00:00,  1.02s/it]\n"
     ]
    },
    {
     "data": {
      "text/plain": [
       "Sex                1.0\n",
       "Age               34.0\n",
       "Credit          3965.0\n",
       "LoanDuration      42.0\n",
       "Name: 76, dtype: float64"
      ]
     },
     "metadata": {},
     "output_type": "display_data"
    },
    {
     "name": "stdout",
     "output_type": "stream",
     "text": [
      "Running original instance:\n",
      " None\n"
     ]
    },
    {
     "name": "stderr",
     "output_type": "stream",
     "text": [
      "Processing...: 100%|██████████| 10/10 [00:10<00:00,  1.06s/it]\n"
     ]
    },
    {
     "data": {
      "text/plain": [
       "Sex                1.0\n",
       "Age               27.0\n",
       "Credit          2613.0\n",
       "LoanDuration      36.0\n",
       "Name: 225, dtype: float64"
      ]
     },
     "metadata": {},
     "output_type": "display_data"
    },
    {
     "name": "stdout",
     "output_type": "stream",
     "text": [
      "Running original instance:\n",
      " None\n"
     ]
    },
    {
     "name": "stderr",
     "output_type": "stream",
     "text": [
      "Processing...: 100%|██████████| 10/10 [00:10<00:00,  1.09s/it]\n"
     ]
    }
   ],
   "source": [
    "ccsse_short10.run_causal()"
   ]
  },
  {
   "cell_type": "code",
   "execution_count": 70,
   "id": "acb21588",
   "metadata": {},
   "outputs": [
    {
     "name": "stdout",
     "output_type": "stream",
     "text": [
      "Quantidade de instâncias contrafactuais = 110\n",
      "Quantidade de relações causais na base de dados = 2\n",
      "Quantidade de atributos modificados = 38\n",
      "Quantidade de instâncias contrafactuais causais = 25\n",
      "Quantidade de relações causais analisadas = 6\n",
      "Quantidade de relações causais satisfeitas = 3.0\n",
      "Quantidade de instâncias contrafactuais com um único atributo modificado = 22\n",
      "---------------------------------------------------------------------------------------\n"
     ]
    }
   ],
   "source": [
    "ccsse_short10.show_metrics()"
   ]
  },
  {
   "cell_type": "code",
   "execution_count": 79,
   "id": "83c363ee",
   "metadata": {},
   "outputs": [
    {
     "data": {
      "text/plain": [
       "{'global_numbers': {'global_quant_changes': 38,\n",
       "  'global_quant_causal_changes': 3.0,\n",
       "  'global_quant_causal_rules': 6,\n",
       "  'global_quant_zeros_causal': 3,\n",
       "  'global_quant_full_causal': 3,\n",
       "  'global_quant_causal_contrafac': 3,\n",
       "  'global_quant_maioria_causal_satisfeita': 3,\n",
       "  'global_quant_contrafac_unico': 22},\n",
       " 0: {'original_instance': Sex                0.0\n",
       "  Age               37.0\n",
       "  Credit          1274.0\n",
       "  LoanDuration      12.0\n",
       "  Name: 747, dtype: float64,\n",
       "  'causal_explain': [[[('Credit', 1016.8134710586951)],\n",
       "    [('Age', 41.251004095010046)]],\n",
       "   Empty DataFrame\n",
       "   Columns: [from, to, effect]\n",
       "   Index: [],\n",
       "   Sex                0.0\n",
       "   Age               37.0\n",
       "   Credit          1274.0\n",
       "   LoanDuration      12.0\n",
       "   Name: 747, dtype: float64],\n",
       "  'list_analyse': [[[('Credit', 1016.8134710586951)],\n",
       "    Empty DataFrame\n",
       "    Columns: [from, to, effect]\n",
       "    Index: [],\n",
       "    Credit    1274.0\n",
       "    Name: 747, dtype: float64],\n",
       "   [[('Age', 41.251004095010046)],\n",
       "    Empty DataFrame\n",
       "    Columns: [from, to, effect]\n",
       "    Index: [],\n",
       "    Age    37.0\n",
       "    Name: 747, dtype: float64]],\n",
       "  'data_analysis': [{'df_respeita_causal': Empty DataFrame\n",
       "    Columns: [from, to, effect, causal]\n",
       "    Index: [],\n",
       "    'contrafactual_causal': [('Credit', 1016.8134710586951)],\n",
       "    'df_causal_effects': Empty DataFrame\n",
       "    Columns: [from, to, effect]\n",
       "    Index: []},\n",
       "   {'df_respeita_causal': Empty DataFrame\n",
       "    Columns: [from, to, effect, causal]\n",
       "    Index: [],\n",
       "    'contrafactual_causal': [('Age', 41.251004095010046)],\n",
       "    'df_causal_effects': Empty DataFrame\n",
       "    Columns: [from, to, effect]\n",
       "    Index: []}]},\n",
       " 1: {'original_instance': Sex                1.0\n",
       "  Age               32.0\n",
       "  Credit          1136.0\n",
       "  LoanDuration       9.0\n",
       "  Name: 349, dtype: float64,\n",
       "  'causal_explain': [[[('Credit', 1498.9779711943636)],\n",
       "    [('Age', 35.3011395658227)],\n",
       "    [('Credit', 1256.9926570647879), ('LoanDuration', 9.85)]],\n",
       "              from      to    effect\n",
       "   1  LoanDuration  Credit  142.2142,\n",
       "   Sex                1.0\n",
       "   Age               32.0\n",
       "   Credit          1136.0\n",
       "   LoanDuration       9.0\n",
       "   Name: 349, dtype: float64],\n",
       "  'list_analyse': [[[('Credit', 1498.9779711943636)],\n",
       "    Empty DataFrame\n",
       "    Columns: [from, to, effect]\n",
       "    Index: [],\n",
       "    Credit    1136.0\n",
       "    Name: 349, dtype: float64],\n",
       "   [[('Age', 35.3011395658227)],\n",
       "    Empty DataFrame\n",
       "    Columns: [from, to, effect]\n",
       "    Index: [],\n",
       "    Age    32.0\n",
       "    Name: 349, dtype: float64],\n",
       "   [[('Credit', 1256.9926570647879), ('LoanDuration', 9.85)],\n",
       "               from      to    effect\n",
       "    1  LoanDuration  Credit  142.2142,\n",
       "    Credit          1136.0\n",
       "    LoanDuration       9.0\n",
       "    Name: 349, dtype: float64]],\n",
       "  'data_analysis': [{'df_respeita_causal': Empty DataFrame\n",
       "    Columns: [from, to, effect, causal]\n",
       "    Index: [],\n",
       "    'contrafactual_causal': [('Credit', 1498.9779711943636)],\n",
       "    'df_causal_effects': Empty DataFrame\n",
       "    Columns: [from, to, effect]\n",
       "    Index: []},\n",
       "   {'df_respeita_causal': Empty DataFrame\n",
       "    Columns: [from, to, effect, causal]\n",
       "    Index: [],\n",
       "    'contrafactual_causal': [('Age', 35.3011395658227)],\n",
       "    'df_causal_effects': Empty DataFrame\n",
       "    Columns: [from, to, effect]\n",
       "    Index: []},\n",
       "   {'df_respeita_causal':    from    to    effect  causal\n",
       "    1  mais  mais  142.2142    True,\n",
       "    'contrafactual_causal': [('Credit', 1256.9926570647879),\n",
       "     ('LoanDuration', 9.85)],\n",
       "    'df_causal_effects':            from      to    effect\n",
       "    1  LoanDuration  Credit  142.2142}]},\n",
       " 2: {'original_instance': Sex                1.0\n",
       "  Age               25.0\n",
       "  Credit          1264.0\n",
       "  LoanDuration      15.0\n",
       "  Name: 979, dtype: float64,\n",
       "  'causal_explain': [[[('Age', 38.97866555679984)],\n",
       "    [('Credit', 8163.32)],\n",
       "    [('Credit', 1640.5513568600281), ('LoanDuration', 12.13)]],\n",
       "              from      to    effect\n",
       "   1  LoanDuration  Credit  142.2142,\n",
       "   Sex                1.0\n",
       "   Age               25.0\n",
       "   Credit          1264.0\n",
       "   LoanDuration      15.0\n",
       "   Name: 979, dtype: float64],\n",
       "  'list_analyse': [[[('Age', 38.97866555679984)],\n",
       "    Empty DataFrame\n",
       "    Columns: [from, to, effect]\n",
       "    Index: [],\n",
       "    Age    25.0\n",
       "    Name: 979, dtype: float64],\n",
       "   [[('Credit', 8163.32)],\n",
       "    Empty DataFrame\n",
       "    Columns: [from, to, effect]\n",
       "    Index: [],\n",
       "    Credit    1264.0\n",
       "    Name: 979, dtype: float64],\n",
       "   [[('Credit', 1640.5513568600281), ('LoanDuration', 12.13)],\n",
       "               from      to    effect\n",
       "    1  LoanDuration  Credit  142.2142,\n",
       "    Credit          1264.0\n",
       "    LoanDuration      15.0\n",
       "    Name: 979, dtype: float64]],\n",
       "  'data_analysis': [{'df_respeita_causal': Empty DataFrame\n",
       "    Columns: [from, to, effect, causal]\n",
       "    Index: [],\n",
       "    'contrafactual_causal': [('Age', 38.97866555679984)],\n",
       "    'df_causal_effects': Empty DataFrame\n",
       "    Columns: [from, to, effect]\n",
       "    Index: []},\n",
       "   {'df_respeita_causal': Empty DataFrame\n",
       "    Columns: [from, to, effect, causal]\n",
       "    Index: [],\n",
       "    'contrafactual_causal': [('Credit', 8163.32)],\n",
       "    'df_causal_effects': Empty DataFrame\n",
       "    Columns: [from, to, effect]\n",
       "    Index: []},\n",
       "   {'df_respeita_causal':     from    to    effect  causal\n",
       "    1  menos  mais  142.2142   False,\n",
       "    'contrafactual_causal': [('Credit', 1640.5513568600281),\n",
       "     ('LoanDuration', 12.13)],\n",
       "    'df_causal_effects':            from      to    effect\n",
       "    1  LoanDuration  Credit  142.2142}]},\n",
       " 3: {'original_instance': Sex               1.0\n",
       "  Age              46.0\n",
       "  Credit          697.0\n",
       "  LoanDuration     12.0\n",
       "  Name: 925, dtype: float64,\n",
       "  'causal_explain': [[[('Age', 34.43)],\n",
       "    [('Credit', 5064.5086781749005)],\n",
       "    [('Age', 35.41), ('Credit', 4242.510600411456)]],\n",
       "   Empty DataFrame\n",
       "   Columns: [from, to, effect]\n",
       "   Index: [],\n",
       "   Sex               1.0\n",
       "   Age              46.0\n",
       "   Credit          697.0\n",
       "   LoanDuration     12.0\n",
       "   Name: 925, dtype: float64],\n",
       "  'list_analyse': [[[('Age', 34.43)],\n",
       "    Empty DataFrame\n",
       "    Columns: [from, to, effect]\n",
       "    Index: [],\n",
       "    Age    46.0\n",
       "    Name: 925, dtype: float64],\n",
       "   [[('Credit', 5064.5086781749005)],\n",
       "    Empty DataFrame\n",
       "    Columns: [from, to, effect]\n",
       "    Index: [],\n",
       "    Credit    697.0\n",
       "    Name: 925, dtype: float64],\n",
       "   [[('Age', 35.41), ('Credit', 4242.510600411456)],\n",
       "    Empty DataFrame\n",
       "    Columns: [from, to, effect]\n",
       "    Index: [],\n",
       "    Age        46.0\n",
       "    Credit    697.0\n",
       "    Name: 925, dtype: float64]],\n",
       "  'data_analysis': [{'df_respeita_causal': Empty DataFrame\n",
       "    Columns: [from, to, effect, causal]\n",
       "    Index: [],\n",
       "    'contrafactual_causal': [('Age', 34.43)],\n",
       "    'df_causal_effects': Empty DataFrame\n",
       "    Columns: [from, to, effect]\n",
       "    Index: []},\n",
       "   {'df_respeita_causal': Empty DataFrame\n",
       "    Columns: [from, to, effect, causal]\n",
       "    Index: [],\n",
       "    'contrafactual_causal': [('Credit', 5064.5086781749005)],\n",
       "    'df_causal_effects': Empty DataFrame\n",
       "    Columns: [from, to, effect]\n",
       "    Index: []},\n",
       "   {'df_respeita_causal': Empty DataFrame\n",
       "    Columns: [from, to, effect, causal]\n",
       "    Index: [],\n",
       "    'contrafactual_causal': [('Age', 35.41), ('Credit', 4242.510600411456)],\n",
       "    'df_causal_effects': Empty DataFrame\n",
       "    Columns: [from, to, effect]\n",
       "    Index: []}]},\n",
       " 4: {'original_instance': Sex                1.0\n",
       "  Age               35.0\n",
       "  Credit          7253.0\n",
       "  LoanDuration      33.0\n",
       "  Name: 411, dtype: float64,\n",
       "  'causal_explain': [[[('Credit', 9888.339718458854)],\n",
       "    [('Age', 41.74170934873405)],\n",
       "    [('Age', 32.93092004624011), ('Credit', 9829.932189081892)]],\n",
       "   Empty DataFrame\n",
       "   Columns: [from, to, effect]\n",
       "   Index: [],\n",
       "   Sex                1.0\n",
       "   Age               35.0\n",
       "   Credit          7253.0\n",
       "   LoanDuration      33.0\n",
       "   Name: 411, dtype: float64],\n",
       "  'list_analyse': [[[('Credit', 9888.339718458854)],\n",
       "    Empty DataFrame\n",
       "    Columns: [from, to, effect]\n",
       "    Index: [],\n",
       "    Credit    7253.0\n",
       "    Name: 411, dtype: float64],\n",
       "   [[('Age', 41.74170934873405)],\n",
       "    Empty DataFrame\n",
       "    Columns: [from, to, effect]\n",
       "    Index: [],\n",
       "    Age    35.0\n",
       "    Name: 411, dtype: float64],\n",
       "   [[('Age', 32.93092004624011), ('Credit', 9829.932189081892)],\n",
       "    Empty DataFrame\n",
       "    Columns: [from, to, effect]\n",
       "    Index: [],\n",
       "    Age         35.0\n",
       "    Credit    7253.0\n",
       "    Name: 411, dtype: float64]],\n",
       "  'data_analysis': [{'df_respeita_causal': Empty DataFrame\n",
       "    Columns: [from, to, effect, causal]\n",
       "    Index: [],\n",
       "    'contrafactual_causal': [('Credit', 9888.339718458854)],\n",
       "    'df_causal_effects': Empty DataFrame\n",
       "    Columns: [from, to, effect]\n",
       "    Index: []},\n",
       "   {'df_respeita_causal': Empty DataFrame\n",
       "    Columns: [from, to, effect, causal]\n",
       "    Index: [],\n",
       "    'contrafactual_causal': [('Age', 41.74170934873405)],\n",
       "    'df_causal_effects': Empty DataFrame\n",
       "    Columns: [from, to, effect]\n",
       "    Index: []},\n",
       "   {'df_respeita_causal': Empty DataFrame\n",
       "    Columns: [from, to, effect, causal]\n",
       "    Index: [],\n",
       "    'contrafactual_causal': [('Age', 32.93092004624011),\n",
       "     ('Credit', 9829.932189081892)],\n",
       "    'df_causal_effects': Empty DataFrame\n",
       "    Columns: [from, to, effect]\n",
       "    Index: []}]},\n",
       " 5: {'original_instance': Sex                1.0\n",
       "  Age               43.0\n",
       "  Credit          2442.0\n",
       "  LoanDuration      27.0\n",
       "  Name: 890, dtype: float64,\n",
       "  'causal_explain': [[[('Age', 46.84)],\n",
       "    [('Age', 39.3092796711542), ('Credit', 2678.1861593119143)],\n",
       "    [('Credit', -18536.554134563834), ('LoanDuration', 8.56)]],\n",
       "              from      to    effect\n",
       "   1  LoanDuration  Credit  142.2142,\n",
       "   Sex                1.0\n",
       "   Age               43.0\n",
       "   Credit          2442.0\n",
       "   LoanDuration      27.0\n",
       "   Name: 890, dtype: float64],\n",
       "  'list_analyse': [[[('Age', 46.84)],\n",
       "    Empty DataFrame\n",
       "    Columns: [from, to, effect]\n",
       "    Index: [],\n",
       "    Age    43.0\n",
       "    Name: 890, dtype: float64],\n",
       "   [[('Age', 39.3092796711542), ('Credit', 2678.1861593119143)],\n",
       "    Empty DataFrame\n",
       "    Columns: [from, to, effect]\n",
       "    Index: [],\n",
       "    Age         43.0\n",
       "    Credit    2442.0\n",
       "    Name: 890, dtype: float64],\n",
       "   [[('Credit', -18536.554134563834), ('LoanDuration', 8.56)],\n",
       "               from      to    effect\n",
       "    1  LoanDuration  Credit  142.2142,\n",
       "    Credit          2442.0\n",
       "    LoanDuration      27.0\n",
       "    Name: 890, dtype: float64]],\n",
       "  'data_analysis': [{'df_respeita_causal': Empty DataFrame\n",
       "    Columns: [from, to, effect, causal]\n",
       "    Index: [],\n",
       "    'contrafactual_causal': [('Age', 46.84)],\n",
       "    'df_causal_effects': Empty DataFrame\n",
       "    Columns: [from, to, effect]\n",
       "    Index: []},\n",
       "   {'df_respeita_causal': Empty DataFrame\n",
       "    Columns: [from, to, effect, causal]\n",
       "    Index: [],\n",
       "    'contrafactual_causal': [('Age', 39.3092796711542),\n",
       "     ('Credit', 2678.1861593119143)],\n",
       "    'df_causal_effects': Empty DataFrame\n",
       "    Columns: [from, to, effect]\n",
       "    Index: []},\n",
       "   {'df_respeita_causal':     from     to    effect  causal\n",
       "    1  menos  menos  142.2142    True,\n",
       "    'contrafactual_causal': [('Credit', -18536.554134563834),\n",
       "     ('LoanDuration', 8.56)],\n",
       "    'df_causal_effects':            from      to    effect\n",
       "    1  LoanDuration  Credit  142.2142}]},\n",
       " 6: {'original_instance': Sex                1.0\n",
       "  Age               32.0\n",
       "  Credit          4583.0\n",
       "  LoanDuration      30.0\n",
       "  Name: 646, dtype: float64,\n",
       "  'causal_explain': [[[('Age', 34.4)],\n",
       "    [('Credit', 5888.53)],\n",
       "    [('Age', 29.87499009890587),\n",
       "     ('Credit', 5480.703364341516),\n",
       "     ('LoanDuration', 9.57)]],\n",
       "              from      to    effect\n",
       "   1  LoanDuration  Credit  142.2142,\n",
       "   Sex                1.0\n",
       "   Age               32.0\n",
       "   Credit          4583.0\n",
       "   LoanDuration      30.0\n",
       "   Name: 646, dtype: float64],\n",
       "  'list_analyse': [[[('Age', 34.4)],\n",
       "    Empty DataFrame\n",
       "    Columns: [from, to, effect]\n",
       "    Index: [],\n",
       "    Age    32.0\n",
       "    Name: 646, dtype: float64],\n",
       "   [[('Credit', 5888.53)],\n",
       "    Empty DataFrame\n",
       "    Columns: [from, to, effect]\n",
       "    Index: [],\n",
       "    Credit    4583.0\n",
       "    Name: 646, dtype: float64],\n",
       "   [[('Age', 29.87499009890587),\n",
       "     ('Credit', 5480.703364341516),\n",
       "     ('LoanDuration', 9.57)],\n",
       "               from      to    effect\n",
       "    1  LoanDuration  Credit  142.2142,\n",
       "    Age               32.0\n",
       "    Credit          4583.0\n",
       "    LoanDuration      30.0\n",
       "    Name: 646, dtype: float64]],\n",
       "  'data_analysis': [{'df_respeita_causal': Empty DataFrame\n",
       "    Columns: [from, to, effect, causal]\n",
       "    Index: [],\n",
       "    'contrafactual_causal': [('Age', 34.4)],\n",
       "    'df_causal_effects': Empty DataFrame\n",
       "    Columns: [from, to, effect]\n",
       "    Index: []},\n",
       "   {'df_respeita_causal': Empty DataFrame\n",
       "    Columns: [from, to, effect, causal]\n",
       "    Index: [],\n",
       "    'contrafactual_causal': [('Credit', 5888.53)],\n",
       "    'df_causal_effects': Empty DataFrame\n",
       "    Columns: [from, to, effect]\n",
       "    Index: []},\n",
       "   {'df_respeita_causal':     from    to    effect  causal\n",
       "    1  menos  mais  142.2142   False,\n",
       "    'contrafactual_causal': [('Age', 29.87499009890587),\n",
       "     ('Credit', 5480.703364341516),\n",
       "     ('LoanDuration', 9.57)],\n",
       "    'df_causal_effects':            from      to    effect\n",
       "    1  LoanDuration  Credit  142.2142}]},\n",
       " 7: {'original_instance': Sex               1.0\n",
       "  Age              41.0\n",
       "  Credit          719.0\n",
       "  LoanDuration     12.0\n",
       "  Name: 443, dtype: float64,\n",
       "  'causal_explain': [[[('Credit', 1154.3966265445038)], [('Age', 34.5)]],\n",
       "   Empty DataFrame\n",
       "   Columns: [from, to, effect]\n",
       "   Index: [],\n",
       "   Sex               1.0\n",
       "   Age              41.0\n",
       "   Credit          719.0\n",
       "   LoanDuration     12.0\n",
       "   Name: 443, dtype: float64],\n",
       "  'list_analyse': [[[('Credit', 1154.3966265445038)],\n",
       "    Empty DataFrame\n",
       "    Columns: [from, to, effect]\n",
       "    Index: [],\n",
       "    Credit    719.0\n",
       "    Name: 443, dtype: float64],\n",
       "   [[('Age', 34.5)],\n",
       "    Empty DataFrame\n",
       "    Columns: [from, to, effect]\n",
       "    Index: [],\n",
       "    Age    41.0\n",
       "    Name: 443, dtype: float64]],\n",
       "  'data_analysis': [{'df_respeita_causal': Empty DataFrame\n",
       "    Columns: [from, to, effect, causal]\n",
       "    Index: [],\n",
       "    'contrafactual_causal': [('Credit', 1154.3966265445038)],\n",
       "    'df_causal_effects': Empty DataFrame\n",
       "    Columns: [from, to, effect]\n",
       "    Index: []},\n",
       "   {'df_respeita_causal': Empty DataFrame\n",
       "    Columns: [from, to, effect, causal]\n",
       "    Index: [],\n",
       "    'contrafactual_causal': [('Age', 34.5)],\n",
       "    'df_causal_effects': Empty DataFrame\n",
       "    Columns: [from, to, effect]\n",
       "    Index: []}]},\n",
       " 8: {'original_instance': Sex                1.0\n",
       "  Age               34.0\n",
       "  Credit          3965.0\n",
       "  LoanDuration      42.0\n",
       "  Name: 76, dtype: float64,\n",
       "  'causal_explain': [[[('Age', 33.16137888759355)],\n",
       "    [('Credit', 2431.0617127353216)],\n",
       "    [('Credit', 3014.250520791666), ('LoanDuration', 46.1)]],\n",
       "              from      to    effect\n",
       "   1  LoanDuration  Credit  142.2142,\n",
       "   Sex                1.0\n",
       "   Age               34.0\n",
       "   Credit          3965.0\n",
       "   LoanDuration      42.0\n",
       "   Name: 76, dtype: float64],\n",
       "  'list_analyse': [[[('Age', 33.16137888759355)],\n",
       "    Empty DataFrame\n",
       "    Columns: [from, to, effect]\n",
       "    Index: [],\n",
       "    Age    34.0\n",
       "    Name: 76, dtype: float64],\n",
       "   [[('Credit', 2431.0617127353216)],\n",
       "    Empty DataFrame\n",
       "    Columns: [from, to, effect]\n",
       "    Index: [],\n",
       "    Credit    3965.0\n",
       "    Name: 76, dtype: float64],\n",
       "   [[('Credit', 3014.250520791666), ('LoanDuration', 46.1)],\n",
       "               from      to    effect\n",
       "    1  LoanDuration  Credit  142.2142,\n",
       "    Credit          3965.0\n",
       "    LoanDuration      42.0\n",
       "    Name: 76, dtype: float64]],\n",
       "  'data_analysis': [{'df_respeita_causal': Empty DataFrame\n",
       "    Columns: [from, to, effect, causal]\n",
       "    Index: [],\n",
       "    'contrafactual_causal': [('Age', 33.16137888759355)],\n",
       "    'df_causal_effects': Empty DataFrame\n",
       "    Columns: [from, to, effect]\n",
       "    Index: []},\n",
       "   {'df_respeita_causal': Empty DataFrame\n",
       "    Columns: [from, to, effect, causal]\n",
       "    Index: [],\n",
       "    'contrafactual_causal': [('Credit', 2431.0617127353216)],\n",
       "    'df_causal_effects': Empty DataFrame\n",
       "    Columns: [from, to, effect]\n",
       "    Index: []},\n",
       "   {'df_respeita_causal':    from     to    effect  causal\n",
       "    1  mais  menos  142.2142   False,\n",
       "    'contrafactual_causal': [('Credit', 3014.250520791666),\n",
       "     ('LoanDuration', 46.1)],\n",
       "    'df_causal_effects':            from      to    effect\n",
       "    1  LoanDuration  Credit  142.2142}]},\n",
       " 9: {'original_instance': Sex                1.0\n",
       "  Age               27.0\n",
       "  Credit          2613.0\n",
       "  LoanDuration      36.0\n",
       "  Name: 225, dtype: float64,\n",
       "  'causal_explain': [[[('Credit', 3160.06)],\n",
       "    [('Age', 24.483480467566135)],\n",
       "    [('Credit', 2158.567972919877), ('LoanDuration', 11.17)]],\n",
       "              from      to    effect\n",
       "   1  LoanDuration  Credit  142.2142,\n",
       "   Sex                1.0\n",
       "   Age               27.0\n",
       "   Credit          2613.0\n",
       "   LoanDuration      36.0\n",
       "   Name: 225, dtype: float64],\n",
       "  'list_analyse': [[[('Credit', 3160.06)],\n",
       "    Empty DataFrame\n",
       "    Columns: [from, to, effect]\n",
       "    Index: [],\n",
       "    Credit    2613.0\n",
       "    Name: 225, dtype: float64],\n",
       "   [[('Age', 24.483480467566135)],\n",
       "    Empty DataFrame\n",
       "    Columns: [from, to, effect]\n",
       "    Index: [],\n",
       "    Age    27.0\n",
       "    Name: 225, dtype: float64],\n",
       "   [[('Credit', 2158.567972919877), ('LoanDuration', 11.17)],\n",
       "               from      to    effect\n",
       "    1  LoanDuration  Credit  142.2142,\n",
       "    Credit          2613.0\n",
       "    LoanDuration      36.0\n",
       "    Name: 225, dtype: float64]],\n",
       "  'data_analysis': [{'df_respeita_causal': Empty DataFrame\n",
       "    Columns: [from, to, effect, causal]\n",
       "    Index: [],\n",
       "    'contrafactual_causal': [('Credit', 3160.06)],\n",
       "    'df_causal_effects': Empty DataFrame\n",
       "    Columns: [from, to, effect]\n",
       "    Index: []},\n",
       "   {'df_respeita_causal': Empty DataFrame\n",
       "    Columns: [from, to, effect, causal]\n",
       "    Index: [],\n",
       "    'contrafactual_causal': [('Age', 24.483480467566135)],\n",
       "    'df_causal_effects': Empty DataFrame\n",
       "    Columns: [from, to, effect]\n",
       "    Index: []},\n",
       "   {'df_respeita_causal':     from     to    effect  causal\n",
       "    1  menos  menos  142.2142    True,\n",
       "    'contrafactual_causal': [('Credit', 2158.567972919877),\n",
       "     ('LoanDuration', 11.17)],\n",
       "    'df_causal_effects':            from      to    effect\n",
       "    1  LoanDuration  Credit  142.2142}]}}"
      ]
     },
     "execution_count": 79,
     "metadata": {},
     "output_type": "execute_result"
    }
   ],
   "source": [
    "ccsse_short10.run_dict"
   ]
  },
  {
   "cell_type": "markdown",
   "id": "56247403",
   "metadata": {},
   "source": [
    "# ----------------------------------------------------------------------------------"
   ]
  },
  {
   "cell_type": "markdown",
   "id": "8aa26c81",
   "metadata": {},
   "source": [
    "# Breast Coimbra np"
   ]
  },
  {
   "cell_type": "code",
   "execution_count": 22,
   "id": "7683e329",
   "metadata": {
    "scrolled": true
   },
   "outputs": [
    {
     "name": "stdout",
     "output_type": "stream",
     "text": [
      "              precision    recall  f1-score   support\n",
      "\n",
      "           1       0.80      0.80      0.80         5\n",
      "           2       0.86      0.86      0.86         7\n",
      "\n",
      "    accuracy                           0.83        12\n",
      "   macro avg       0.83      0.83      0.83        12\n",
      "weighted avg       0.83      0.83      0.83        12\n",
      "\n"
     ]
    }
   ],
   "source": [
    "ccsse = CCSSE('np', samples = 10, K = 1, generation= 10)"
   ]
  },
  {
   "cell_type": "code",
   "execution_count": 23,
   "id": "39e75089",
   "metadata": {
    "scrolled": true
   },
   "outputs": [
    {
     "data": {
      "text/plain": [
       "Age             61.000000\n",
       "BMI             32.038959\n",
       "Glucose         85.000000\n",
       "Insulin         18.077000\n",
       "HOMA             3.790144\n",
       "Leptin          30.772900\n",
       "Adiponectin      7.780255\n",
       "Resistin        13.683920\n",
       "MCP.1          444.395000\n",
       "Name: 17, dtype: float64"
      ]
     },
     "metadata": {},
     "output_type": "display_data"
    },
    {
     "name": "stdout",
     "output_type": "stream",
     "text": [
      "Running original instance:\n",
      " None\n"
     ]
    },
    {
     "name": "stderr",
     "output_type": "stream",
     "text": [
      "Processing...: 100%|██████████| 10/10 [00:09<00:00,  1.02it/s]\n"
     ]
    },
    {
     "data": {
      "text/plain": [
       "Age             58.000000\n",
       "BMI             29.154519\n",
       "Glucose        139.000000\n",
       "Insulin         16.582000\n",
       "HOMA             5.685415\n",
       "Leptin          22.888400\n",
       "Adiponectin     10.262660\n",
       "Resistin        13.973990\n",
       "MCP.1          923.886000\n",
       "Name: 89, dtype: float64"
      ]
     },
     "metadata": {},
     "output_type": "display_data"
    },
    {
     "name": "stdout",
     "output_type": "stream",
     "text": [
      "Running original instance:\n",
      " None\n"
     ]
    },
    {
     "name": "stderr",
     "output_type": "stream",
     "text": [
      "Processing...: 100%|██████████| 10/10 [00:09<00:00,  1.01it/s]\n"
     ]
    },
    {
     "data": {
      "text/plain": [
       "Age             46.000000\n",
       "BMI             20.830000\n",
       "Glucose         88.000000\n",
       "Insulin          3.420000\n",
       "HOMA             0.742368\n",
       "Leptin          12.870000\n",
       "Adiponectin     18.550000\n",
       "Resistin        13.560000\n",
       "MCP.1          301.210000\n",
       "Name: 68, dtype: float64"
      ]
     },
     "metadata": {},
     "output_type": "display_data"
    },
    {
     "name": "stdout",
     "output_type": "stream",
     "text": [
      "Running original instance:\n",
      " None\n"
     ]
    },
    {
     "name": "stderr",
     "output_type": "stream",
     "text": [
      "Processing...: 100%|██████████| 10/10 [00:10<00:00,  1.07s/it]\n"
     ]
    },
    {
     "data": {
      "text/plain": [
       "Age              48.00000\n",
       "BMI              28.12500\n",
       "Glucose          90.00000\n",
       "Insulin           2.54000\n",
       "HOMA              0.56388\n",
       "Leptin           15.53250\n",
       "Adiponectin      10.22231\n",
       "Resistin         16.11032\n",
       "MCP.1          1698.44000\n",
       "Name: 86, dtype: float64"
      ]
     },
     "metadata": {},
     "output_type": "display_data"
    },
    {
     "name": "stdout",
     "output_type": "stream",
     "text": [
      "Running original instance:\n",
      " None\n"
     ]
    },
    {
     "name": "stderr",
     "output_type": "stream",
     "text": [
      "Processing...: 100%|██████████| 10/10 [00:10<00:00,  1.00s/it]\n"
     ]
    },
    {
     "data": {
      "text/plain": [
       "Age             28.000000\n",
       "BMI             35.855815\n",
       "Glucose         87.000000\n",
       "Insulin          8.576000\n",
       "HOMA             1.840410\n",
       "Leptin          68.510200\n",
       "Adiponectin      4.794200\n",
       "Resistin        21.443660\n",
       "MCP.1          358.624000\n",
       "Name: 32, dtype: float64"
      ]
     },
     "metadata": {},
     "output_type": "display_data"
    },
    {
     "name": "stdout",
     "output_type": "stream",
     "text": [
      "Running original instance:\n",
      " None\n"
     ]
    },
    {
     "name": "stderr",
     "output_type": "stream",
     "text": [
      "Processing...: 100%|██████████| 10/10 [00:09<00:00,  1.04it/s]\n"
     ]
    },
    {
     "data": {
      "text/plain": [
       "Age             45.000000\n",
       "BMI             37.035608\n",
       "Glucose         83.000000\n",
       "Insulin          6.760000\n",
       "HOMA             1.383997\n",
       "Leptin          39.980200\n",
       "Adiponectin      4.617125\n",
       "Resistin         8.704480\n",
       "MCP.1          586.173000\n",
       "Name: 25, dtype: float64"
      ]
     },
     "metadata": {},
     "output_type": "display_data"
    },
    {
     "name": "stdout",
     "output_type": "stream",
     "text": [
      "Running original instance:\n",
      " None\n"
     ]
    },
    {
     "name": "stderr",
     "output_type": "stream",
     "text": [
      "Processing...: 100%|██████████| 10/10 [00:11<00:00,  1.11s/it]\n"
     ]
    },
    {
     "data": {
      "text/plain": [
       "Age             66.000000\n",
       "BMI             27.700000\n",
       "Glucose         90.000000\n",
       "Insulin          6.042000\n",
       "HOMA             1.341324\n",
       "Leptin          24.846000\n",
       "Adiponectin      7.652055\n",
       "Resistin         6.705200\n",
       "MCP.1          225.880000\n",
       "Name: 45, dtype: float64"
      ]
     },
     "metadata": {},
     "output_type": "display_data"
    },
    {
     "name": "stdout",
     "output_type": "stream",
     "text": [
      "Running original instance:\n",
      " None\n"
     ]
    },
    {
     "name": "stderr",
     "output_type": "stream",
     "text": [
      "Processing...: 100%|██████████| 10/10 [00:14<00:00,  1.41s/it]\n"
     ]
    },
    {
     "data": {
      "text/plain": [
       "Age             57.000000\n",
       "BMI             34.838148\n",
       "Glucose         95.000000\n",
       "Insulin         12.548000\n",
       "HOMA             2.940415\n",
       "Leptin          33.161200\n",
       "Adiponectin      2.364950\n",
       "Resistin         9.954200\n",
       "MCP.1          655.834000\n",
       "Name: 104, dtype: float64"
      ]
     },
     "metadata": {},
     "output_type": "display_data"
    },
    {
     "name": "stdout",
     "output_type": "stream",
     "text": [
      "Running original instance:\n",
      " None\n"
     ]
    },
    {
     "name": "stderr",
     "output_type": "stream",
     "text": [
      "Processing...: 100%|██████████| 10/10 [00:10<00:00,  1.02s/it]\n"
     ]
    },
    {
     "data": {
      "text/plain": [
       "Age             45.000000\n",
       "BMI             21.303949\n",
       "Glucose        102.000000\n",
       "Insulin         13.852000\n",
       "HOMA             3.485163\n",
       "Leptin           7.647600\n",
       "Adiponectin     21.056625\n",
       "Resistin        23.034080\n",
       "MCP.1          552.444000\n",
       "Name: 52, dtype: float64"
      ]
     },
     "metadata": {},
     "output_type": "display_data"
    },
    {
     "name": "stdout",
     "output_type": "stream",
     "text": [
      "Running original instance:\n",
      " None\n"
     ]
    },
    {
     "name": "stderr",
     "output_type": "stream",
     "text": [
      "Processing...: 100%|██████████| 10/10 [00:09<00:00,  1.07it/s]\n"
     ]
    },
    {
     "data": {
      "text/plain": [
       "Age             66.000000\n",
       "BMI             31.238590\n",
       "Glucose         82.000000\n",
       "Insulin          4.181000\n",
       "HOMA             0.845677\n",
       "Leptin          16.224700\n",
       "Adiponectin      4.267105\n",
       "Resistin         3.291750\n",
       "MCP.1          634.602000\n",
       "Name: 36, dtype: float64"
      ]
     },
     "metadata": {},
     "output_type": "display_data"
    },
    {
     "name": "stdout",
     "output_type": "stream",
     "text": [
      "Running original instance:\n",
      " None\n"
     ]
    },
    {
     "name": "stderr",
     "output_type": "stream",
     "text": [
      "Processing...: 100%|██████████| 10/10 [00:11<00:00,  1.10s/it]\n"
     ]
    }
   ],
   "source": [
    "ccsse.run_causal()"
   ]
  },
  {
   "cell_type": "code",
   "execution_count": 24,
   "id": "b6900cda",
   "metadata": {},
   "outputs": [
    {
     "name": "stdout",
     "output_type": "stream",
     "text": [
      "Quantidade de instâncias contrafactuais = 11\n",
      "Quantidade de relações causais na base de dados = 12\n",
      "Quantidade de atributos modificados = 16\n",
      "Quantidade de instâncias contrafactuais causais = 8\n",
      "Quantidade de relações causais analisadas = 4\n",
      "Quantidade de relações causais satisfeitas = 2.0\n",
      "Quantidade de instâncias contrafactuais com um único atributo modificado = 6\n",
      "---------------------------------------------------------------------------------------\n"
     ]
    }
   ],
   "source": [
    "ccsse.show_metrics()"
   ]
  },
  {
   "cell_type": "markdown",
   "id": "ad6eee47",
   "metadata": {},
   "source": [
    "# ----------------------------------------------------------------------------------"
   ]
  },
  {
   "cell_type": "markdown",
   "id": "957cb77a",
   "metadata": {},
   "source": [
    "# Heloc nm"
   ]
  },
  {
   "cell_type": "code",
   "execution_count": 3,
   "id": "baa3eb34",
   "metadata": {
    "scrolled": true
   },
   "outputs": [
    {
     "name": "stdout",
     "output_type": "stream",
     "text": [
      "              precision    recall  f1-score   support\n",
      "\n",
      "         Bad       0.74      0.80      0.77       563\n",
      "        Good       0.74      0.67      0.70       483\n",
      "\n",
      "    accuracy                           0.74      1046\n",
      "   macro avg       0.74      0.73      0.73      1046\n",
      "weighted avg       0.74      0.74      0.74      1046\n",
      "\n"
     ]
    }
   ],
   "source": [
    "ccsse = CCSSE('nm', samples = 10, K = 10, generation= 10)"
   ]
  },
  {
   "cell_type": "code",
   "execution_count": 4,
   "id": "11acbb78",
   "metadata": {
    "scrolled": true
   },
   "outputs": [
    {
     "data": {
      "text/plain": [
       "ExternalRiskEstimate                   64\n",
       "MSinceOldestTradeOpen                 345\n",
       "MSinceMostRecentTradeOpen               3\n",
       "AverageMInFile                        109\n",
       "NumSatisfactoryTrades                  31\n",
       "NumTrades60Ever2DerogPubRec             2\n",
       "NumTrades90Ever2DerogPubRec             1\n",
       "PercentTradesNeverDelq                 92\n",
       "MSinceMostRecentDelq                   59\n",
       "MaxDelq2PublicRecLast12M                6\n",
       "MaxDelqEver                             2\n",
       "NumTotalTrades                         36\n",
       "NumTradesOpeninLast12M                  3\n",
       "PercentInstallTrades                   42\n",
       "MSinceMostRecentInqexcl7days            0\n",
       "NumInqLast6M                            3\n",
       "NumInqLast6Mexcl7days                   3\n",
       "NetFractionRevolvingBurden             51\n",
       "NetFractionInstallBurden               78\n",
       "NumRevolvingTradesWBalance              6\n",
       "NumInstallTradesWBalance                1\n",
       "NumBank2NatlTradesWHighUtilization      3\n",
       "PercentTradesWBalance                  64\n",
       "Name: 350, dtype: int64"
      ]
     },
     "metadata": {},
     "output_type": "display_data"
    },
    {
     "name": "stdout",
     "output_type": "stream",
     "text": [
      "Running original instance:\n",
      " None\n"
     ]
    },
    {
     "name": "stderr",
     "output_type": "stream",
     "text": [
      "Processing...: 100%|██████████| 10/10 [00:53<00:00,  5.30s/it]\n"
     ]
    },
    {
     "data": {
      "text/plain": [
       "ExternalRiskEstimate                   75\n",
       "MSinceOldestTradeOpen                 310\n",
       "MSinceMostRecentTradeOpen               1\n",
       "AverageMInFile                         83\n",
       "NumSatisfactoryTrades                  25\n",
       "NumTrades60Ever2DerogPubRec             0\n",
       "NumTrades90Ever2DerogPubRec             0\n",
       "PercentTradesNeverDelq                100\n",
       "MSinceMostRecentDelq                   -7\n",
       "MaxDelq2PublicRecLast12M                7\n",
       "MaxDelqEver                             8\n",
       "NumTotalTrades                         13\n",
       "NumTradesOpeninLast12M                  4\n",
       "PercentInstallTrades                   32\n",
       "MSinceMostRecentInqexcl7days           -7\n",
       "NumInqLast6M                            1\n",
       "NumInqLast6Mexcl7days                   1\n",
       "NetFractionRevolvingBurden             28\n",
       "NetFractionInstallBurden               83\n",
       "NumRevolvingTradesWBalance              3\n",
       "NumInstallTradesWBalance                4\n",
       "NumBank2NatlTradesWHighUtilization      1\n",
       "PercentTradesWBalance                  62\n",
       "Name: 2806, dtype: int64"
      ]
     },
     "metadata": {},
     "output_type": "display_data"
    },
    {
     "name": "stdout",
     "output_type": "stream",
     "text": [
      "Running original instance:\n",
      " None\n"
     ]
    },
    {
     "name": "stderr",
     "output_type": "stream",
     "text": [
      "Processing...: 100%|██████████| 10/10 [00:35<00:00,  3.58s/it]\n"
     ]
    },
    {
     "data": {
      "text/plain": [
       "ExternalRiskEstimate                   80\n",
       "MSinceOldestTradeOpen                 229\n",
       "MSinceMostRecentTradeOpen               0\n",
       "AverageMInFile                         87\n",
       "NumSatisfactoryTrades                  12\n",
       "NumTrades60Ever2DerogPubRec             0\n",
       "NumTrades90Ever2DerogPubRec             0\n",
       "PercentTradesNeverDelq                100\n",
       "MSinceMostRecentDelq                   -7\n",
       "MaxDelq2PublicRecLast12M                7\n",
       "MaxDelqEver                             8\n",
       "NumTotalTrades                         13\n",
       "NumTradesOpeninLast12M                  2\n",
       "PercentInstallTrades                   15\n",
       "MSinceMostRecentInqexcl7days            0\n",
       "NumInqLast6M                            0\n",
       "NumInqLast6Mexcl7days                   0\n",
       "NetFractionRevolvingBurden             53\n",
       "NetFractionInstallBurden               -8\n",
       "NumRevolvingTradesWBalance              2\n",
       "NumInstallTradesWBalance                1\n",
       "NumBank2NatlTradesWHighUtilization      2\n",
       "PercentTradesWBalance                  38\n",
       "Name: 5303, dtype: int64"
      ]
     },
     "metadata": {},
     "output_type": "display_data"
    },
    {
     "name": "stdout",
     "output_type": "stream",
     "text": [
      "Running original instance:\n",
      " None\n"
     ]
    },
    {
     "name": "stderr",
     "output_type": "stream",
     "text": [
      "Processing...: 100%|██████████| 10/10 [00:31<00:00,  3.17s/it]\n"
     ]
    },
    {
     "data": {
      "text/plain": [
       "ExternalRiskEstimate                   86\n",
       "MSinceOldestTradeOpen                 147\n",
       "MSinceMostRecentTradeOpen               7\n",
       "AverageMInFile                         63\n",
       "NumSatisfactoryTrades                  15\n",
       "NumTrades60Ever2DerogPubRec             0\n",
       "NumTrades90Ever2DerogPubRec             0\n",
       "PercentTradesNeverDelq                100\n",
       "MSinceMostRecentDelq                   -7\n",
       "MaxDelq2PublicRecLast12M                7\n",
       "MaxDelqEver                             8\n",
       "NumTotalTrades                         15\n",
       "NumTradesOpeninLast12M                  1\n",
       "PercentInstallTrades                   47\n",
       "MSinceMostRecentInqexcl7days           -7\n",
       "NumInqLast6M                            1\n",
       "NumInqLast6Mexcl7days                   0\n",
       "NetFractionRevolvingBurden              6\n",
       "NetFractionInstallBurden               91\n",
       "NumRevolvingTradesWBalance              1\n",
       "NumInstallTradesWBalance                2\n",
       "NumBank2NatlTradesWHighUtilization      0\n",
       "PercentTradesWBalance                  60\n",
       "Name: 4465, dtype: int64"
      ]
     },
     "metadata": {},
     "output_type": "display_data"
    },
    {
     "name": "stdout",
     "output_type": "stream",
     "text": [
      "Running original instance:\n",
      " None\n"
     ]
    },
    {
     "name": "stderr",
     "output_type": "stream",
     "text": [
      "Processing...: 100%|██████████| 10/10 [00:41<00:00,  4.11s/it]\n"
     ]
    },
    {
     "data": {
      "text/plain": [
       "ExternalRiskEstimate                   89\n",
       "MSinceOldestTradeOpen                 323\n",
       "MSinceMostRecentTradeOpen              19\n",
       "AverageMInFile                        118\n",
       "NumSatisfactoryTrades                  15\n",
       "NumTrades60Ever2DerogPubRec             0\n",
       "NumTrades90Ever2DerogPubRec             0\n",
       "PercentTradesNeverDelq                100\n",
       "MSinceMostRecentDelq                   -7\n",
       "MaxDelq2PublicRecLast12M                7\n",
       "MaxDelqEver                             8\n",
       "NumTotalTrades                         15\n",
       "NumTradesOpeninLast12M                  0\n",
       "PercentInstallTrades                   40\n",
       "MSinceMostRecentInqexcl7days           10\n",
       "NumInqLast6M                            1\n",
       "NumInqLast6Mexcl7days                   0\n",
       "NetFractionRevolvingBurden              0\n",
       "NetFractionInstallBurden               -8\n",
       "NumRevolvingTradesWBalance              1\n",
       "NumInstallTradesWBalance                3\n",
       "NumBank2NatlTradesWHighUtilization      0\n",
       "PercentTradesWBalance                  50\n",
       "Name: 7960, dtype: int64"
      ]
     },
     "metadata": {},
     "output_type": "display_data"
    },
    {
     "name": "stdout",
     "output_type": "stream",
     "text": [
      "Running original instance:\n",
      " None\n"
     ]
    },
    {
     "name": "stderr",
     "output_type": "stream",
     "text": [
      "Processing...: 100%|██████████| 10/10 [00:52<00:00,  5.24s/it]\n"
     ]
    },
    {
     "data": {
      "text/plain": [
       "ExternalRiskEstimate                   65\n",
       "MSinceOldestTradeOpen                 106\n",
       "MSinceMostRecentTradeOpen               5\n",
       "AverageMInFile                         42\n",
       "NumSatisfactoryTrades                  11\n",
       "NumTrades60Ever2DerogPubRec             1\n",
       "NumTrades90Ever2DerogPubRec             0\n",
       "PercentTradesNeverDelq                 92\n",
       "MSinceMostRecentDelq                   22\n",
       "MaxDelq2PublicRecLast12M                6\n",
       "MaxDelqEver                             5\n",
       "NumTotalTrades                         13\n",
       "NumTradesOpeninLast12M                  3\n",
       "PercentInstallTrades                   31\n",
       "MSinceMostRecentInqexcl7days            0\n",
       "NumInqLast6M                            2\n",
       "NumInqLast6Mexcl7days                   2\n",
       "NetFractionRevolvingBurden             60\n",
       "NetFractionInstallBurden               -8\n",
       "NumRevolvingTradesWBalance              4\n",
       "NumInstallTradesWBalance                1\n",
       "NumBank2NatlTradesWHighUtilization      1\n",
       "PercentTradesWBalance                  83\n",
       "Name: 344, dtype: int64"
      ]
     },
     "metadata": {},
     "output_type": "display_data"
    },
    {
     "name": "stdout",
     "output_type": "stream",
     "text": [
      "Running original instance:\n",
      " None\n"
     ]
    },
    {
     "name": "stderr",
     "output_type": "stream",
     "text": [
      "Processing...: 100%|██████████| 10/10 [00:53<00:00,  5.32s/it]\n"
     ]
    },
    {
     "data": {
      "text/plain": [
       "ExternalRiskEstimate                   66\n",
       "MSinceOldestTradeOpen                 120\n",
       "MSinceMostRecentTradeOpen               3\n",
       "AverageMInFile                         60\n",
       "NumSatisfactoryTrades                  23\n",
       "NumTrades60Ever2DerogPubRec             1\n",
       "NumTrades90Ever2DerogPubRec             0\n",
       "PercentTradesNeverDelq                 83\n",
       "MSinceMostRecentDelq                   22\n",
       "MaxDelq2PublicRecLast12M                5\n",
       "MaxDelqEver                             5\n",
       "NumTotalTrades                         30\n",
       "NumTradesOpeninLast12M                  2\n",
       "PercentInstallTrades                   17\n",
       "MSinceMostRecentInqexcl7days           -7\n",
       "NumInqLast6M                            2\n",
       "NumInqLast6Mexcl7days                   1\n",
       "NetFractionRevolvingBurden             44\n",
       "NetFractionInstallBurden               70\n",
       "NumRevolvingTradesWBalance              4\n",
       "NumInstallTradesWBalance                2\n",
       "NumBank2NatlTradesWHighUtilization      0\n",
       "PercentTradesWBalance                  67\n",
       "Name: 2702, dtype: int64"
      ]
     },
     "metadata": {},
     "output_type": "display_data"
    },
    {
     "name": "stdout",
     "output_type": "stream",
     "text": [
      "Running original instance:\n",
      " None\n"
     ]
    },
    {
     "name": "stderr",
     "output_type": "stream",
     "text": [
      "Processing...: 100%|██████████| 10/10 [00:42<00:00,  4.28s/it]\n"
     ]
    },
    {
     "data": {
      "text/plain": [
       "ExternalRiskEstimate                  77\n",
       "MSinceOldestTradeOpen                 88\n",
       "MSinceMostRecentTradeOpen              5\n",
       "AverageMInFile                        40\n",
       "NumSatisfactoryTrades                 12\n",
       "NumTrades60Ever2DerogPubRec            0\n",
       "NumTrades90Ever2DerogPubRec            0\n",
       "PercentTradesNeverDelq                92\n",
       "MSinceMostRecentDelq                  15\n",
       "MaxDelq2PublicRecLast12M               6\n",
       "MaxDelqEver                            6\n",
       "NumTotalTrades                        12\n",
       "NumTradesOpeninLast12M                 4\n",
       "PercentInstallTrades                  42\n",
       "MSinceMostRecentInqexcl7days          -7\n",
       "NumInqLast6M                           0\n",
       "NumInqLast6Mexcl7days                  0\n",
       "NetFractionRevolvingBurden             0\n",
       "NetFractionInstallBurden              76\n",
       "NumRevolvingTradesWBalance             2\n",
       "NumInstallTradesWBalance               3\n",
       "NumBank2NatlTradesWHighUtilization     0\n",
       "PercentTradesWBalance                 56\n",
       "Name: 4542, dtype: int64"
      ]
     },
     "metadata": {},
     "output_type": "display_data"
    },
    {
     "name": "stdout",
     "output_type": "stream",
     "text": [
      "Running original instance:\n",
      " None\n"
     ]
    },
    {
     "name": "stderr",
     "output_type": "stream",
     "text": [
      "Processing...: 100%|██████████| 10/10 [00:37<00:00,  3.71s/it]\n"
     ]
    },
    {
     "data": {
      "text/plain": [
       "ExternalRiskEstimate                   69\n",
       "MSinceOldestTradeOpen                 361\n",
       "MSinceMostRecentTradeOpen               8\n",
       "AverageMInFile                         96\n",
       "NumSatisfactoryTrades                  26\n",
       "NumTrades60Ever2DerogPubRec             1\n",
       "NumTrades90Ever2DerogPubRec             0\n",
       "PercentTradesNeverDelq                 89\n",
       "MSinceMostRecentDelq                    1\n",
       "MaxDelq2PublicRecLast12M                4\n",
       "MaxDelqEver                             5\n",
       "NumTotalTrades                         28\n",
       "NumTradesOpeninLast12M                  1\n",
       "PercentInstallTrades                   29\n",
       "MSinceMostRecentInqexcl7days           -7\n",
       "NumInqLast6M                            0\n",
       "NumInqLast6Mexcl7days                   0\n",
       "NetFractionRevolvingBurden             29\n",
       "NetFractionInstallBurden               57\n",
       "NumRevolvingTradesWBalance              5\n",
       "NumInstallTradesWBalance                3\n",
       "NumBank2NatlTradesWHighUtilization      0\n",
       "PercentTradesWBalance                  64\n",
       "Name: 4604, dtype: int64"
      ]
     },
     "metadata": {},
     "output_type": "display_data"
    },
    {
     "name": "stdout",
     "output_type": "stream",
     "text": [
      "Running original instance:\n",
      " None\n"
     ]
    },
    {
     "name": "stderr",
     "output_type": "stream",
     "text": [
      "Processing...: 100%|██████████| 10/10 [00:30<00:00,  3.02s/it]\n"
     ]
    },
    {
     "data": {
      "text/plain": [
       "ExternalRiskEstimate                   76\n",
       "MSinceOldestTradeOpen                 356\n",
       "MSinceMostRecentTradeOpen               2\n",
       "AverageMInFile                         56\n",
       "NumSatisfactoryTrades                  34\n",
       "NumTrades60Ever2DerogPubRec             0\n",
       "NumTrades90Ever2DerogPubRec             0\n",
       "PercentTradesNeverDelq                100\n",
       "MSinceMostRecentDelq                   -7\n",
       "MaxDelq2PublicRecLast12M                7\n",
       "MaxDelqEver                             8\n",
       "NumTotalTrades                         29\n",
       "NumTradesOpeninLast12M                  6\n",
       "PercentInstallTrades                   22\n",
       "MSinceMostRecentInqexcl7days            0\n",
       "NumInqLast6M                            6\n",
       "NumInqLast6Mexcl7days                   6\n",
       "NetFractionRevolvingBurden              2\n",
       "NetFractionInstallBurden               66\n",
       "NumRevolvingTradesWBalance              4\n",
       "NumInstallTradesWBalance                3\n",
       "NumBank2NatlTradesWHighUtilization      0\n",
       "PercentTradesWBalance                  39\n",
       "Name: 3580, dtype: int64"
      ]
     },
     "metadata": {},
     "output_type": "display_data"
    },
    {
     "name": "stdout",
     "output_type": "stream",
     "text": [
      "Running original instance:\n",
      " None\n"
     ]
    },
    {
     "name": "stderr",
     "output_type": "stream",
     "text": [
      "Processing...: 100%|██████████| 10/10 [00:34<00:00,  3.47s/it]\n"
     ]
    }
   ],
   "source": [
    "ccsse.run_causal()"
   ]
  },
  {
   "cell_type": "code",
   "execution_count": 5,
   "id": "b74ec42b",
   "metadata": {},
   "outputs": [
    {
     "name": "stdout",
     "output_type": "stream",
     "text": [
      "Quantidade de instâncias contrafactuais = 110\n",
      "Quantidade de relações causais na base de dados = 170\n",
      "Quantidade de atributos modificados = 87\n",
      "Quantidade de instâncias contrafactuais causais = 20\n",
      "Quantidade de relações causais analisadas = 168\n",
      "Quantidade de relações causais satisfeitas = 116.0\n",
      "Quantidade de instâncias contrafactuais com um único atributo modificado = 1\n",
      "---------------------------------------------------------------------------------------\n"
     ]
    }
   ],
   "source": [
    "ccsse.show_metrics()"
   ]
  },
  {
   "cell_type": "markdown",
   "id": "b5a87d72",
   "metadata": {},
   "source": [
    "# ----------------------------------------------------------------------------------"
   ]
  },
  {
   "cell_type": "markdown",
   "id": "ad675b66",
   "metadata": {},
   "source": [
    "# tokyo ng"
   ]
  },
  {
   "cell_type": "code",
   "execution_count": 25,
   "id": "593edb83",
   "metadata": {
    "scrolled": true
   },
   "outputs": [
    {
     "name": "stdout",
     "output_type": "stream",
     "text": [
      "              precision    recall  f1-score   support\n",
      "\n",
      "           0       0.90      0.88      0.89        40\n",
      "           1       0.91      0.93      0.92        56\n",
      "\n",
      "    accuracy                           0.91        96\n",
      "   macro avg       0.90      0.90      0.90        96\n",
      "weighted avg       0.91      0.91      0.91        96\n",
      "\n"
     ]
    }
   ],
   "source": [
    "ccsse = CCSSE('tokyo_ng', samples = 10, K = 10, generation= 10)"
   ]
  },
  {
   "cell_type": "code",
   "execution_count": 26,
   "id": "bcfac502",
   "metadata": {
    "scrolled": true
   },
   "outputs": [
    {
     "data": {
      "text/plain": [
       "cpu_avg_user            0.002021\n",
       "cpu_avg_sys             0.012630\n",
       "cpu_avg_busy            0.014650\n",
       "cpu_avg_wait            0.000146\n",
       "cpu_avg_idle            0.981500\n",
       "cpu_avg_waste           0.981600\n",
       "cpu_max_user            0.003833\n",
       "cpu_max_sys             0.027500\n",
       "cpu_max_busy            0.030670\n",
       "cpu_max_wait            0.000167\n",
       "cpu_max_idle            0.994700\n",
       "cpu_max_waste           0.994900\n",
       "cpu_frac_busy           0.000000\n",
       "io_iget              3004.000000\n",
       "io_bread             7646.000000\n",
       "io_bwrite           24490.000000\n",
       "io_lread            20800.000000\n",
       "io_lwrite               0.000000\n",
       "io_phread               0.000000\n",
       "io_phwrite            750.900000\n",
       "io_wcancel              3.600000\n",
       "io_namei                0.000000\n",
       "io_dirblk               0.001071\n",
       "disk_avg_active         0.012850\n",
       "disk_max_active         0.000000\n",
       "disk_frac_active        0.000000\n",
       "disk_avg_read           0.077780\n",
       "disk_avg_write          0.077780\n",
       "disk_avg_total          0.000000\n",
       "disk_max_read           0.933300\n",
       "disk_max_write          0.933300\n",
       "disk_max_total          0.000000\n",
       "disk_frac_busy          8.736000\n",
       "net_avg_read            2.931000\n",
       "net_avg_write          11.670000\n",
       "net_avg_total          23.400000\n",
       "net_max_read            9.550000\n",
       "net_max_write          30.830000\n",
       "net_max_total           0.000000\n",
       "net_frac_busy           0.000000\n",
       "mem_swap                9.300000\n",
       "mem_fault               0.133300\n",
       "mem_tlbflush          235.300000\n",
       "syscall_total           0.183300\n",
       "Name: 956, dtype: float64"
      ]
     },
     "metadata": {},
     "output_type": "display_data"
    },
    {
     "name": "stdout",
     "output_type": "stream",
     "text": [
      "Running original instance:\n",
      " None\n"
     ]
    },
    {
     "name": "stderr",
     "output_type": "stream",
     "text": [
      "Processing...:   0%|          | 0/10 [00:08<?, ?it/s]\n"
     ]
    },
    {
     "ename": "ValueError",
     "evalue": "array must not contain infs or NaNs",
     "output_type": "error",
     "traceback": [
      "\u001b[0;31m---------------------------------------------------------------------------\u001b[0m",
      "\u001b[0;31mValueError\u001b[0m                                Traceback (most recent call last)",
      "Cell \u001b[0;32mIn[26], line 1\u001b[0m\n\u001b[0;32m----> 1\u001b[0m \u001b[43mccsse\u001b[49m\u001b[38;5;241;43m.\u001b[39;49m\u001b[43mrun_causal\u001b[49m\u001b[43m(\u001b[49m\u001b[43m)\u001b[49m\n",
      "Cell \u001b[0;32mIn[24], line 324\u001b[0m, in \u001b[0;36mCCSSE.run_causal\u001b[0;34m(self)\u001b[0m\n\u001b[1;32m    322\u001b[0m \u001b[38;5;28;01melif\u001b[39;00m \u001b[38;5;28misinstance\u001b[39m(\u001b[38;5;28mself\u001b[39m\u001b[38;5;241m.\u001b[39msamples, \u001b[38;5;28mint\u001b[39m):\n\u001b[1;32m    323\u001b[0m     \u001b[38;5;28;01mfor\u001b[39;00m sample \u001b[38;5;129;01min\u001b[39;00m \u001b[38;5;28mrange\u001b[39m(\u001b[38;5;28mself\u001b[39m\u001b[38;5;241m.\u001b[39msamples):\n\u001b[0;32m--> 324\u001b[0m         \u001b[38;5;28;43mself\u001b[39;49m\u001b[38;5;241;43m.\u001b[39;49m\u001b[43mrun_causal_sample\u001b[49m\u001b[43m(\u001b[49m\u001b[43msample\u001b[49m\u001b[43m)\u001b[49m\n\u001b[1;32m    326\u001b[0m \u001b[38;5;28;01melse\u001b[39;00m: \n\u001b[1;32m    327\u001b[0m     \u001b[38;5;28;01mfor\u001b[39;00m sample \u001b[38;5;129;01min\u001b[39;00m \u001b[38;5;28mrange\u001b[39m(\u001b[38;5;241m10\u001b[39m):\n",
      "Cell \u001b[0;32mIn[24], line 340\u001b[0m, in \u001b[0;36mCCSSE.run_causal_sample\u001b[0;34m(self, sample)\u001b[0m\n\u001b[1;32m    336\u001b[0m \u001b[38;5;28mself\u001b[39m\u001b[38;5;241m.\u001b[39mrun_dict[sample][\u001b[38;5;124m'\u001b[39m\u001b[38;5;124moriginal_instance\u001b[39m\u001b[38;5;124m'\u001b[39m] \u001b[38;5;241m=\u001b[39m original_instance\n\u001b[1;32m    338\u001b[0m \u001b[38;5;28mprint\u001b[39m(\u001b[38;5;124mf\u001b[39m\u001b[38;5;124m'\u001b[39m\u001b[38;5;124mRunning original instance:\u001b[39m\u001b[38;5;130;01m\\n\u001b[39;00m\u001b[38;5;124m \u001b[39m\u001b[38;5;132;01m{\u001b[39;00mdisplay(original_instance)\u001b[38;5;132;01m}\u001b[39;00m\u001b[38;5;124m'\u001b[39m)\n\u001b[0;32m--> 340\u001b[0m causal_explain \u001b[38;5;241m=\u001b[39m \u001b[38;5;28;43mself\u001b[39;49m\u001b[38;5;241;43m.\u001b[39;49m\u001b[43mget_causal_explain\u001b[49m\u001b[43m(\u001b[49m\u001b[43msample\u001b[49m\u001b[43m)\u001b[49m\n\u001b[1;32m    341\u001b[0m \u001b[38;5;28mself\u001b[39m\u001b[38;5;241m.\u001b[39mrun_dict[sample][\u001b[38;5;124m'\u001b[39m\u001b[38;5;124mcausal_explain\u001b[39m\u001b[38;5;124m'\u001b[39m] \u001b[38;5;241m=\u001b[39m causal_explain\n\u001b[1;32m    343\u001b[0m list_analyse \u001b[38;5;241m=\u001b[39m []\n",
      "Cell \u001b[0;32mIn[24], line 393\u001b[0m, in \u001b[0;36mCCSSE.get_causal_explain\u001b[0;34m(self, sample)\u001b[0m\n\u001b[1;32m    390\u001b[0m evaluation_causal \u001b[38;5;241m=\u001b[39m []\n\u001b[1;32m    392\u001b[0m \u001b[38;5;66;03m#Assessing generation counterfactuals\u001b[39;00m\n\u001b[0;32m--> 393\u001b[0m \u001b[38;5;28;43mself\u001b[39;49m\u001b[38;5;241;43m.\u001b[39;49m\u001b[43mexplainerCSSE\u001b[49m\u001b[38;5;241;43m.\u001b[39;49m\u001b[43mfitness\u001b[49m\u001b[43m(\u001b[49m\u001b[43mdict_dfs\u001b[49m\u001b[43m[\u001b[49m\u001b[43mg\u001b[49m\u001b[43m]\u001b[49m\u001b[43m[\u001b[49m\u001b[38;5;124;43m'\u001b[39;49m\u001b[38;5;124;43mcausal_parents\u001b[39;49m\u001b[38;5;124;43m'\u001b[39;49m\u001b[43m]\u001b[49m\u001b[43m,\u001b[49m\u001b[43m \u001b[49m\u001b[43mevaluation_causal\u001b[49m\u001b[43m,\u001b[49m\u001b[43m \u001b[49m\u001b[43mind_cur_class\u001b[49m\u001b[43m)\u001b[49m\n\u001b[1;32m    395\u001b[0m \u001b[38;5;66;03m#The original individual will always be in the 0 position of the df - So that it is normalized too (it will be used later in the distance function)\u001b[39;00m\n\u001b[1;32m    396\u001b[0m df_causal\u001b[38;5;241m.\u001b[39mloc[\u001b[38;5;241m0\u001b[39m] \u001b[38;5;241m=\u001b[39m original_ind\u001b[38;5;241m.\u001b[39mcopy()\n",
      "File \u001b[0;32m~/SageMaker/tcc/csse.py:206\u001b[0m, in \u001b[0;36mCSSE.fitness\u001b[0;34m(self, population, evaluation, ind_cur_class)\u001b[0m\n\u001b[1;32m    204\u001b[0m \u001b[38;5;28;01mwhile\u001b[39;00m i \u001b[38;5;241m<\u001b[39m \u001b[38;5;28mlen\u001b[39m(population):\n\u001b[1;32m    205\u001b[0m     proximityEvaluation \u001b[38;5;241m=\u001b[39m getProximityEvaluation(predict_proba[i, ind_cur_class])\n\u001b[0;32m--> 206\u001b[0m     evaldist \u001b[38;5;241m=\u001b[39m \u001b[43mgetEvaluationDist\u001b[49m\u001b[43m(\u001b[49m\u001b[43mi\u001b[49m\u001b[43m,\u001b[49m\u001b[43m \u001b[49m\u001b[43mX_train_minmax\u001b[49m\u001b[43m)\u001b[49m\n\u001b[1;32m    207\u001b[0m     \u001b[38;5;66;03m#The original individual is in the 1st position\u001b[39;00m\n\u001b[1;32m    208\u001b[0m     numChanges \u001b[38;5;241m=\u001b[39m \u001b[38;5;28mself\u001b[39m\u001b[38;5;241m.\u001b[39mnumChanges(population\u001b[38;5;241m.\u001b[39mloc[i])\n",
      "File \u001b[0;32m~/SageMaker/tcc/csse.py:189\u001b[0m, in \u001b[0;36mCSSE.fitness.<locals>.getEvaluationDist\u001b[0;34m(ind, X_train_minmax)\u001b[0m\n\u001b[1;32m    187\u001b[0m a \u001b[38;5;241m=\u001b[39m X_train_minmax[\u001b[38;5;241m0\u001b[39m]\n\u001b[1;32m    188\u001b[0m b \u001b[38;5;241m=\u001b[39m X_train_minmax[ind]\n\u001b[0;32m--> 189\u001b[0m dst \u001b[38;5;241m=\u001b[39m \u001b[43mdistance\u001b[49m\u001b[38;5;241;43m.\u001b[39;49m\u001b[43meuclidean\u001b[49m\u001b[43m(\u001b[49m\u001b[43ma\u001b[49m\u001b[43m,\u001b[49m\u001b[43m \u001b[49m\u001b[43mb\u001b[49m\u001b[43m)\u001b[49m\n\u001b[1;32m    191\u001b[0m \u001b[38;5;28;01mreturn\u001b[39;00m dst\n",
      "File \u001b[0;32m~/anaconda3/envs/python3/lib/python3.10/site-packages/scipy/spatial/distance.py:536\u001b[0m, in \u001b[0;36meuclidean\u001b[0;34m(u, v, w)\u001b[0m\n\u001b[1;32m    500\u001b[0m \u001b[38;5;28;01mdef\u001b[39;00m \u001b[38;5;21meuclidean\u001b[39m(u, v, w\u001b[38;5;241m=\u001b[39m\u001b[38;5;28;01mNone\u001b[39;00m):\n\u001b[1;32m    501\u001b[0m \u001b[38;5;250m    \u001b[39m\u001b[38;5;124;03m\"\"\"\u001b[39;00m\n\u001b[1;32m    502\u001b[0m \u001b[38;5;124;03m    Computes the Euclidean distance between two 1-D arrays.\u001b[39;00m\n\u001b[1;32m    503\u001b[0m \n\u001b[0;32m   (...)\u001b[0m\n\u001b[1;32m    534\u001b[0m \n\u001b[1;32m    535\u001b[0m \u001b[38;5;124;03m    \"\"\"\u001b[39;00m\n\u001b[0;32m--> 536\u001b[0m     \u001b[38;5;28;01mreturn\u001b[39;00m \u001b[43mminkowski\u001b[49m\u001b[43m(\u001b[49m\u001b[43mu\u001b[49m\u001b[43m,\u001b[49m\u001b[43m \u001b[49m\u001b[43mv\u001b[49m\u001b[43m,\u001b[49m\u001b[43m \u001b[49m\u001b[43mp\u001b[49m\u001b[38;5;241;43m=\u001b[39;49m\u001b[38;5;241;43m2\u001b[39;49m\u001b[43m,\u001b[49m\u001b[43m \u001b[49m\u001b[43mw\u001b[49m\u001b[38;5;241;43m=\u001b[39;49m\u001b[43mw\u001b[49m\u001b[43m)\u001b[49m\n",
      "File \u001b[0;32m~/anaconda3/envs/python3/lib/python3.10/site-packages/scipy/spatial/distance.py:496\u001b[0m, in \u001b[0;36mminkowski\u001b[0;34m(u, v, p, w)\u001b[0m\n\u001b[1;32m    494\u001b[0m         root_w \u001b[38;5;241m=\u001b[39m np\u001b[38;5;241m.\u001b[39mpower(w, \u001b[38;5;241m1\u001b[39m\u001b[38;5;241m/\u001b[39mp)\n\u001b[1;32m    495\u001b[0m     u_v \u001b[38;5;241m=\u001b[39m root_w \u001b[38;5;241m*\u001b[39m u_v\n\u001b[0;32m--> 496\u001b[0m dist \u001b[38;5;241m=\u001b[39m \u001b[43mnorm\u001b[49m\u001b[43m(\u001b[49m\u001b[43mu_v\u001b[49m\u001b[43m,\u001b[49m\u001b[43m \u001b[49m\u001b[38;5;28;43mord\u001b[39;49m\u001b[38;5;241;43m=\u001b[39;49m\u001b[43mp\u001b[49m\u001b[43m)\u001b[49m\n\u001b[1;32m    497\u001b[0m \u001b[38;5;28;01mreturn\u001b[39;00m dist\n",
      "File \u001b[0;32m~/anaconda3/envs/python3/lib/python3.10/site-packages/scipy/linalg/_misc.py:146\u001b[0m, in \u001b[0;36mnorm\u001b[0;34m(a, ord, axis, keepdims, check_finite)\u001b[0m\n\u001b[1;32m    144\u001b[0m \u001b[38;5;66;03m# Differs from numpy only in non-finite handling and the use of blas.\u001b[39;00m\n\u001b[1;32m    145\u001b[0m \u001b[38;5;28;01mif\u001b[39;00m check_finite:\n\u001b[0;32m--> 146\u001b[0m     a \u001b[38;5;241m=\u001b[39m \u001b[43mnp\u001b[49m\u001b[38;5;241;43m.\u001b[39;49m\u001b[43masarray_chkfinite\u001b[49m\u001b[43m(\u001b[49m\u001b[43ma\u001b[49m\u001b[43m)\u001b[49m\n\u001b[1;32m    147\u001b[0m \u001b[38;5;28;01melse\u001b[39;00m:\n\u001b[1;32m    148\u001b[0m     a \u001b[38;5;241m=\u001b[39m np\u001b[38;5;241m.\u001b[39masarray(a)\n",
      "File \u001b[0;32m~/anaconda3/envs/python3/lib/python3.10/site-packages/numpy/lib/function_base.py:630\u001b[0m, in \u001b[0;36masarray_chkfinite\u001b[0;34m(a, dtype, order)\u001b[0m\n\u001b[1;32m    628\u001b[0m a \u001b[38;5;241m=\u001b[39m asarray(a, dtype\u001b[38;5;241m=\u001b[39mdtype, order\u001b[38;5;241m=\u001b[39morder)\n\u001b[1;32m    629\u001b[0m \u001b[38;5;28;01mif\u001b[39;00m a\u001b[38;5;241m.\u001b[39mdtype\u001b[38;5;241m.\u001b[39mchar \u001b[38;5;129;01min\u001b[39;00m typecodes[\u001b[38;5;124m'\u001b[39m\u001b[38;5;124mAllFloat\u001b[39m\u001b[38;5;124m'\u001b[39m] \u001b[38;5;129;01mand\u001b[39;00m \u001b[38;5;129;01mnot\u001b[39;00m np\u001b[38;5;241m.\u001b[39misfinite(a)\u001b[38;5;241m.\u001b[39mall():\n\u001b[0;32m--> 630\u001b[0m     \u001b[38;5;28;01mraise\u001b[39;00m \u001b[38;5;167;01mValueError\u001b[39;00m(\n\u001b[1;32m    631\u001b[0m         \u001b[38;5;124m\"\u001b[39m\u001b[38;5;124marray must not contain infs or NaNs\u001b[39m\u001b[38;5;124m\"\u001b[39m)\n\u001b[1;32m    632\u001b[0m \u001b[38;5;28;01mreturn\u001b[39;00m a\n",
      "\u001b[0;31mValueError\u001b[0m: array must not contain infs or NaNs"
     ]
    }
   ],
   "source": [
    "ccsse.run_causal()"
   ]
  },
  {
   "cell_type": "code",
   "execution_count": null,
   "id": "eda1e41d",
   "metadata": {},
   "outputs": [],
   "source": [
    "ccsse.show_metrics()"
   ]
  },
  {
   "cell_type": "markdown",
   "id": "91e52500",
   "metadata": {},
   "source": [
    "# ----------------------------------------------------------------------------------"
   ]
  },
  {
   "cell_type": "markdown",
   "id": "a49e7570",
   "metadata": {},
   "source": [
    "# Breast Cancer ng"
   ]
  },
  {
   "cell_type": "code",
   "execution_count": 3,
   "id": "74fbaf3f",
   "metadata": {
    "scrolled": true
   },
   "outputs": [
    {
     "name": "stdout",
     "output_type": "stream",
     "text": [
      "              precision    recall  f1-score   support\n",
      "\n",
      "           B       0.94      0.97      0.96        34\n",
      "           M       0.95      0.91      0.93        23\n",
      "\n",
      "    accuracy                           0.95        57\n",
      "   macro avg       0.95      0.94      0.94        57\n",
      "weighted avg       0.95      0.95      0.95        57\n",
      "\n"
     ]
    }
   ],
   "source": [
    "ccsse = CCSSE('breast-cancer_ng', samples = 10, K = 10, generation= 10)"
   ]
  },
  {
   "cell_type": "code",
   "execution_count": 4,
   "id": "6ba96448",
   "metadata": {
    "scrolled": true
   },
   "outputs": [
    {
     "data": {
      "text/plain": [
       "id                         8.974280e+07\n",
       "radius_mean                1.706000e+01\n",
       "texture_mean               2.100000e+01\n",
       "perimeter_mean             1.118000e+02\n",
       "area_mean                  9.186000e+02\n",
       "smoothness_mean            1.119000e-01\n",
       "compactness_mean           1.056000e-01\n",
       "concavity_mean             1.508000e-01\n",
       "concave points_mean        9.934000e-02\n",
       "symmetry_mean              1.727000e-01\n",
       "fractal_dimension_mean     6.071000e-02\n",
       "radius_se                  8.161000e-01\n",
       "texture_se                 2.129000e+00\n",
       "perimeter_se               6.076000e+00\n",
       "area_se                    8.717000e+01\n",
       "smoothness_se              6.455000e-03\n",
       "compactness_se             1.797000e-02\n",
       "concavity_se               4.502000e-02\n",
       "concave points_se          1.744000e-02\n",
       "symmetry_se                1.829000e-02\n",
       "fractal_dimension_se       3.733000e-03\n",
       "radius_worst               2.099000e+01\n",
       "texture_worst              3.315000e+01\n",
       "perimeter_worst            1.432000e+02\n",
       "area_worst                 1.362000e+03\n",
       "smoothness_worst           1.449000e-01\n",
       "compactness_worst          2.053000e-01\n",
       "concavity_worst            3.920000e-01\n",
       "concave points_worst       1.827000e-01\n",
       "symmetry_worst             2.623000e-01\n",
       "fractal_dimension_worst    7.599000e-02\n",
       "Name: 335, dtype: float64"
      ]
     },
     "metadata": {},
     "output_type": "display_data"
    },
    {
     "name": "stdout",
     "output_type": "stream",
     "text": [
      "Running original instance:\n",
      " None\n"
     ]
    },
    {
     "name": "stderr",
     "output_type": "stream",
     "text": [
      "Processing...: 100%|██████████| 10/10 [01:49<00:00, 10.91s/it]\n"
     ]
    },
    {
     "data": {
      "text/plain": [
       "id                         886452.000000\n",
       "radius_mean                    13.960000\n",
       "texture_mean                   17.050000\n",
       "perimeter_mean                 91.430000\n",
       "area_mean                     602.400000\n",
       "smoothness_mean                 0.109600\n",
       "compactness_mean                0.127900\n",
       "concavity_mean                  0.097890\n",
       "concave points_mean             0.052460\n",
       "symmetry_mean                   0.190800\n",
       "fractal_dimension_mean          0.061300\n",
       "radius_se                       0.425000\n",
       "texture_se                      0.809800\n",
       "perimeter_se                    2.563000\n",
       "area_se                        35.740000\n",
       "smoothness_se                   0.006351\n",
       "compactness_se                  0.026790\n",
       "concavity_se                    0.031190\n",
       "concave points_se               0.013420\n",
       "symmetry_se                     0.020620\n",
       "fractal_dimension_se            0.002695\n",
       "radius_worst                   16.390000\n",
       "texture_worst                  22.070000\n",
       "perimeter_worst               108.100000\n",
       "area_worst                    826.000000\n",
       "smoothness_worst                0.151200\n",
       "compactness_worst               0.326200\n",
       "concavity_worst                 0.320900\n",
       "concave points_worst            0.137400\n",
       "symmetry_worst                  0.306800\n",
       "fractal_dimension_worst         0.079570\n",
       "Name: 255, dtype: float64"
      ]
     },
     "metadata": {},
     "output_type": "display_data"
    },
    {
     "name": "stdout",
     "output_type": "stream",
     "text": [
      "Running original instance:\n",
      " None\n"
     ]
    },
    {
     "name": "stderr",
     "output_type": "stream",
     "text": [
      "Processing...: 100%|██████████| 10/10 [00:34<00:00,  3.40s/it]\n"
     ]
    },
    {
     "data": {
      "text/plain": [
       "id                         8.610175e+06\n",
       "radius_mean                1.231000e+01\n",
       "texture_mean               1.652000e+01\n",
       "perimeter_mean             7.919000e+01\n",
       "area_mean                  4.709000e+02\n",
       "smoothness_mean            9.172000e-02\n",
       "compactness_mean           6.829000e-02\n",
       "concavity_mean             3.372000e-02\n",
       "concave points_mean        2.272000e-02\n",
       "symmetry_mean              1.720000e-01\n",
       "fractal_dimension_mean     5.914000e-02\n",
       "radius_se                  2.505000e-01\n",
       "texture_se                 1.025000e+00\n",
       "perimeter_se               1.740000e+00\n",
       "area_se                    1.968000e+01\n",
       "smoothness_se              4.854000e-03\n",
       "compactness_se             1.819000e-02\n",
       "concavity_se               1.826000e-02\n",
       "concave points_se          7.965000e-03\n",
       "symmetry_se                1.386000e-02\n",
       "fractal_dimension_se       2.304000e-03\n",
       "radius_worst               1.411000e+01\n",
       "texture_worst              2.321000e+01\n",
       "perimeter_worst            8.971000e+01\n",
       "area_worst                 6.111000e+02\n",
       "smoothness_worst           1.176000e-01\n",
       "compactness_worst          1.843000e-01\n",
       "concavity_worst            1.703000e-01\n",
       "concave points_worst       8.660000e-02\n",
       "symmetry_worst             2.618000e-01\n",
       "fractal_dimension_worst    7.609000e-02\n",
       "Name: 74, dtype: float64"
      ]
     },
     "metadata": {},
     "output_type": "display_data"
    },
    {
     "name": "stdout",
     "output_type": "stream",
     "text": [
      "Running original instance:\n",
      " None\n"
     ]
    },
    {
     "name": "stderr",
     "output_type": "stream",
     "text": [
      "Processing...: 100%|██████████| 10/10 [00:53<00:00,  5.36s/it]\n"
     ]
    },
    {
     "data": {
      "text/plain": [
       "id                         8.910499e+06\n",
       "radius_mean                1.359000e+01\n",
       "texture_mean               2.184000e+01\n",
       "perimeter_mean             8.716000e+01\n",
       "area_mean                  5.610000e+02\n",
       "smoothness_mean            7.956000e-02\n",
       "compactness_mean           8.259000e-02\n",
       "concavity_mean             4.072000e-02\n",
       "concave points_mean        2.142000e-02\n",
       "symmetry_mean              1.635000e-01\n",
       "fractal_dimension_mean     5.859000e-02\n",
       "radius_se                  3.380000e-01\n",
       "texture_se                 1.916000e+00\n",
       "perimeter_se               2.591000e+00\n",
       "area_se                    2.676000e+01\n",
       "smoothness_se              5.436000e-03\n",
       "compactness_se             2.406000e-02\n",
       "concavity_se               3.099000e-02\n",
       "concave points_se          9.919000e-03\n",
       "symmetry_se                2.030000e-02\n",
       "fractal_dimension_se       3.009000e-03\n",
       "radius_worst               1.480000e+01\n",
       "texture_worst              3.004000e+01\n",
       "perimeter_worst            9.766000e+01\n",
       "area_worst                 6.615000e+02\n",
       "smoothness_worst           1.005000e-01\n",
       "compactness_worst          1.730000e-01\n",
       "concavity_worst            1.453000e-01\n",
       "concave points_worst       6.189000e-02\n",
       "symmetry_worst             2.446000e-01\n",
       "fractal_dimension_worst    7.024000e-02\n",
       "Name: 267, dtype: float64"
      ]
     },
     "metadata": {},
     "output_type": "display_data"
    },
    {
     "name": "stdout",
     "output_type": "stream",
     "text": [
      "Running original instance:\n",
      " None\n"
     ]
    },
    {
     "name": "stderr",
     "output_type": "stream",
     "text": [
      "Processing...: 100%|██████████| 10/10 [00:53<00:00,  5.37s/it]\n"
     ]
    },
    {
     "data": {
      "text/plain": [
       "id                         895633.000000\n",
       "radius_mean                    16.260000\n",
       "texture_mean                   21.880000\n",
       "perimeter_mean                107.500000\n",
       "area_mean                     826.800000\n",
       "smoothness_mean                 0.116500\n",
       "compactness_mean                0.128300\n",
       "concavity_mean                  0.179900\n",
       "concave points_mean             0.079810\n",
       "symmetry_mean                   0.186900\n",
       "fractal_dimension_mean          0.065320\n",
       "radius_se                       0.570600\n",
       "texture_se                      1.457000\n",
       "perimeter_se                    2.961000\n",
       "area_se                        57.720000\n",
       "smoothness_se                   0.010560\n",
       "compactness_se                  0.037560\n",
       "concavity_se                    0.058390\n",
       "concave points_se               0.011860\n",
       "symmetry_se                     0.040220\n",
       "fractal_dimension_se            0.006187\n",
       "radius_worst                   17.730000\n",
       "texture_worst                  25.210000\n",
       "perimeter_worst               113.700000\n",
       "area_worst                    975.200000\n",
       "smoothness_worst                0.142600\n",
       "compactness_worst               0.211600\n",
       "concavity_worst                 0.334400\n",
       "concave points_worst            0.104700\n",
       "symmetry_worst                  0.273600\n",
       "fractal_dimension_worst         0.079530\n",
       "Name: 329, dtype: float64"
      ]
     },
     "metadata": {},
     "output_type": "display_data"
    },
    {
     "name": "stdout",
     "output_type": "stream",
     "text": [
      "Running original instance:\n",
      " None\n"
     ]
    },
    {
     "name": "stderr",
     "output_type": "stream",
     "text": [
      "Processing...: 100%|██████████| 10/10 [01:51<00:00, 11.18s/it]\n"
     ]
    },
    {
     "data": {
      "text/plain": [
       "id                         9.190390e+07\n",
       "radius_mean                1.167000e+01\n",
       "texture_mean               2.002000e+01\n",
       "perimeter_mean             7.521000e+01\n",
       "area_mean                  4.162000e+02\n",
       "smoothness_mean            1.016000e-01\n",
       "compactness_mean           9.453000e-02\n",
       "concavity_mean             4.200000e-02\n",
       "concave points_mean        2.157000e-02\n",
       "symmetry_mean              1.859000e-01\n",
       "fractal_dimension_mean     6.461000e-02\n",
       "radius_se                  2.067000e-01\n",
       "texture_se                 8.745000e-01\n",
       "perimeter_se               1.393000e+00\n",
       "area_se                    1.534000e+01\n",
       "smoothness_se              5.251000e-03\n",
       "compactness_se             1.727000e-02\n",
       "concavity_se               1.840000e-02\n",
       "concave points_se          5.298000e-03\n",
       "symmetry_se                1.449000e-02\n",
       "fractal_dimension_se       2.671000e-03\n",
       "radius_worst               1.335000e+01\n",
       "texture_worst              2.881000e+01\n",
       "perimeter_worst            8.700000e+01\n",
       "area_worst                 5.506000e+02\n",
       "smoothness_worst           1.550000e-01\n",
       "compactness_worst          2.964000e-01\n",
       "concavity_worst            2.758000e-01\n",
       "concave points_worst       8.120000e-02\n",
       "symmetry_worst             3.206000e-01\n",
       "fractal_dimension_worst    8.950000e-02\n",
       "Name: 531, dtype: float64"
      ]
     },
     "metadata": {},
     "output_type": "display_data"
    },
    {
     "name": "stdout",
     "output_type": "stream",
     "text": [
      "Running original instance:\n",
      " None\n"
     ]
    },
    {
     "name": "stderr",
     "output_type": "stream",
     "text": [
      "Processing...: 100%|██████████| 10/10 [00:57<00:00,  5.71s/it]\n"
     ]
    },
    {
     "data": {
      "text/plain": [
       "id                         925291.000000\n",
       "radius_mean                    11.510000\n",
       "texture_mean                   23.930000\n",
       "perimeter_mean                 74.520000\n",
       "area_mean                     403.500000\n",
       "smoothness_mean                 0.092610\n",
       "compactness_mean                0.102100\n",
       "concavity_mean                  0.111200\n",
       "concave points_mean             0.041050\n",
       "symmetry_mean                   0.138800\n",
       "fractal_dimension_mean          0.065700\n",
       "radius_se                       0.238800\n",
       "texture_se                      2.904000\n",
       "perimeter_se                    1.936000\n",
       "area_se                        16.970000\n",
       "smoothness_se                   0.008200\n",
       "compactness_se                  0.029820\n",
       "concavity_se                    0.057380\n",
       "concave points_se               0.012670\n",
       "symmetry_se                     0.014880\n",
       "fractal_dimension_se            0.004738\n",
       "radius_worst                   12.480000\n",
       "texture_worst                  37.160000\n",
       "perimeter_worst                82.280000\n",
       "area_worst                    474.200000\n",
       "smoothness_worst                0.129800\n",
       "compactness_worst               0.251700\n",
       "concavity_worst                 0.363000\n",
       "concave points_worst            0.096530\n",
       "symmetry_worst                  0.211200\n",
       "fractal_dimension_worst         0.087320\n",
       "Name: 559, dtype: float64"
      ]
     },
     "metadata": {},
     "output_type": "display_data"
    },
    {
     "name": "stdout",
     "output_type": "stream",
     "text": [
      "Running original instance:\n",
      " None\n"
     ]
    },
    {
     "name": "stderr",
     "output_type": "stream",
     "text": [
      "Processing...: 100%|██████████| 10/10 [01:14<00:00,  7.43s/it]\n"
     ]
    },
    {
     "data": {
      "text/plain": [
       "id                         898690.000000\n",
       "radius_mean                    11.470000\n",
       "texture_mean                   16.030000\n",
       "perimeter_mean                 73.020000\n",
       "area_mean                     402.700000\n",
       "smoothness_mean                 0.090760\n",
       "compactness_mean                0.058860\n",
       "concavity_mean                  0.025870\n",
       "concave points_mean             0.023220\n",
       "symmetry_mean                   0.163400\n",
       "fractal_dimension_mean          0.063720\n",
       "radius_se                       0.170700\n",
       "texture_se                      0.761500\n",
       "perimeter_se                    1.090000\n",
       "area_se                        12.250000\n",
       "smoothness_se                   0.009191\n",
       "compactness_se                  0.008548\n",
       "concavity_se                    0.009400\n",
       "concave points_se               0.006315\n",
       "symmetry_se                     0.017550\n",
       "fractal_dimension_se            0.003009\n",
       "radius_worst                   12.510000\n",
       "texture_worst                  20.790000\n",
       "perimeter_worst                79.670000\n",
       "area_worst                    475.800000\n",
       "smoothness_worst                0.153100\n",
       "compactness_worst               0.112000\n",
       "concavity_worst                 0.098230\n",
       "concave points_worst            0.065480\n",
       "symmetry_worst                  0.285100\n",
       "fractal_dimension_worst         0.087630\n",
       "Name: 348, dtype: float64"
      ]
     },
     "metadata": {},
     "output_type": "display_data"
    },
    {
     "name": "stdout",
     "output_type": "stream",
     "text": [
      "Running original instance:\n",
      " None\n"
     ]
    },
    {
     "name": "stderr",
     "output_type": "stream",
     "text": [
      "Processing...: 100%|██████████| 10/10 [01:04<00:00,  6.44s/it]\n"
     ]
    },
    {
     "data": {
      "text/plain": [
       "id                         9.043970e+07\n",
       "radius_mean                1.791000e+01\n",
       "texture_mean               2.102000e+01\n",
       "perimeter_mean             1.244000e+02\n",
       "area_mean                  9.940000e+02\n",
       "smoothness_mean            1.230000e-01\n",
       "compactness_mean           2.576000e-01\n",
       "concavity_mean             3.189000e-01\n",
       "concave points_mean        1.198000e-01\n",
       "symmetry_mean              2.113000e-01\n",
       "fractal_dimension_mean     7.115000e-02\n",
       "radius_se                  4.030000e-01\n",
       "texture_se                 7.747000e-01\n",
       "perimeter_se               3.123000e+00\n",
       "area_se                    4.151000e+01\n",
       "smoothness_se              7.159000e-03\n",
       "compactness_se             3.718000e-02\n",
       "concavity_se               6.165000e-02\n",
       "concave points_se          1.051000e-02\n",
       "symmetry_se                1.591000e-02\n",
       "fractal_dimension_se       5.099000e-03\n",
       "radius_worst               2.080000e+01\n",
       "texture_worst              2.778000e+01\n",
       "perimeter_worst            1.496000e+02\n",
       "area_worst                 1.304000e+03\n",
       "smoothness_worst           1.873000e-01\n",
       "compactness_worst          5.917000e-01\n",
       "concavity_worst            9.034000e-01\n",
       "concave points_worst       1.964000e-01\n",
       "symmetry_worst             3.245000e-01\n",
       "fractal_dimension_worst    1.198000e-01\n",
       "Name: 400, dtype: float64"
      ]
     },
     "metadata": {},
     "output_type": "display_data"
    },
    {
     "name": "stdout",
     "output_type": "stream",
     "text": [
      "Running original instance:\n",
      " None\n"
     ]
    },
    {
     "name": "stderr",
     "output_type": "stream",
     "text": [
      "Processing...: 100%|██████████| 10/10 [01:54<00:00, 11.47s/it]\n"
     ]
    },
    {
     "data": {
      "text/plain": [
       "id                         909411.000000\n",
       "radius_mean                    10.970000\n",
       "texture_mean                   17.200000\n",
       "perimeter_mean                 71.730000\n",
       "area_mean                     371.500000\n",
       "smoothness_mean                 0.089150\n",
       "compactness_mean                0.111300\n",
       "concavity_mean                  0.094570\n",
       "concave points_mean             0.036130\n",
       "symmetry_mean                   0.148900\n",
       "fractal_dimension_mean          0.066400\n",
       "radius_se                       0.257400\n",
       "texture_se                      1.376000\n",
       "perimeter_se                    2.806000\n",
       "area_se                        18.150000\n",
       "smoothness_se                   0.008565\n",
       "compactness_se                  0.046380\n",
       "concavity_se                    0.064300\n",
       "concave points_se               0.017680\n",
       "symmetry_se                     0.015160\n",
       "fractal_dimension_se            0.004976\n",
       "radius_worst                   12.360000\n",
       "texture_worst                  26.870000\n",
       "perimeter_worst                90.140000\n",
       "area_worst                    476.400000\n",
       "smoothness_worst                0.139100\n",
       "compactness_worst               0.408200\n",
       "concavity_worst                 0.477900\n",
       "concave points_worst            0.155500\n",
       "symmetry_worst                  0.254000\n",
       "fractal_dimension_worst         0.095320\n",
       "Name: 440, dtype: float64"
      ]
     },
     "metadata": {},
     "output_type": "display_data"
    },
    {
     "name": "stdout",
     "output_type": "stream",
     "text": [
      "Running original instance:\n",
      " None\n"
     ]
    },
    {
     "name": "stderr",
     "output_type": "stream",
     "text": [
      "Processing...: 100%|██████████| 10/10 [00:38<00:00,  3.82s/it]\n"
     ]
    }
   ],
   "source": [
    "ccsse.run_causal()"
   ]
  },
  {
   "cell_type": "code",
   "execution_count": 5,
   "id": "8ba878b7",
   "metadata": {},
   "outputs": [
    {
     "name": "stdout",
     "output_type": "stream",
     "text": [
      "Quantidade de instâncias contrafactuais = 110\n",
      "Quantidade de relações causais na base de dados = 260\n",
      "Quantidade de atributos modificados = 146\n",
      "Quantidade de instâncias contrafactuais causais = 13\n",
      "Quantidade de relações causais analisadas = 646\n",
      "Quantidade de relações causais satisfeitas = 375\n",
      "Quantidade de instâncias contrafactuais com um único atributo modificado = 0\n",
      "---------------------------------------------------------------------------------------\n"
     ]
    }
   ],
   "source": [
    "ccsse.show_metrics()"
   ]
  },
  {
   "cell_type": "markdown",
   "id": "4fba52a1",
   "metadata": {},
   "source": [
    "# ----------------------------------------------------------------------------------"
   ]
  },
  {
   "cell_type": "markdown",
   "id": "9120204b",
   "metadata": {},
   "source": [
    "# Monks cp"
   ]
  },
  {
   "cell_type": "code",
   "execution_count": 15,
   "id": "9cf55ec7",
   "metadata": {
    "scrolled": true
   },
   "outputs": [
    {
     "name": "stdout",
     "output_type": "stream",
     "text": [
      "              precision    recall  f1-score   support\n",
      "\n",
      "           0       0.94      0.96      0.95       216\n",
      "           1       0.96      0.94      0.95       216\n",
      "\n",
      "    accuracy                           0.95       432\n",
      "   macro avg       0.95      0.95      0.95       432\n",
      "weighted avg       0.95      0.95      0.95       432\n",
      "\n"
     ]
    }
   ],
   "source": [
    "ccsse = CCSSE('cp', samples = 10, K = 10, generation= 10)"
   ]
  },
  {
   "cell_type": "code",
   "execution_count": 16,
   "id": "0e76b843",
   "metadata": {
    "scrolled": true
   },
   "outputs": [
    {
     "data": {
      "text/plain": [
       "a1    1\n",
       "a2    1\n",
       "a3    1\n",
       "a4    1\n",
       "a5    1\n",
       "a6    1\n",
       "Name: 0, dtype: int64"
      ]
     },
     "metadata": {},
     "output_type": "display_data"
    },
    {
     "name": "stdout",
     "output_type": "stream",
     "text": [
      "Running original instance:\n",
      " None\n"
     ]
    },
    {
     "name": "stderr",
     "output_type": "stream",
     "text": [
      "Processing...: 100%|██████████| 10/10 [00:00<00:00, 17.91it/s]\n"
     ]
    },
    {
     "data": {
      "text/plain": [
       "a1    1\n",
       "a2    1\n",
       "a3    1\n",
       "a4    1\n",
       "a5    1\n",
       "a6    2\n",
       "Name: 1, dtype: int64"
      ]
     },
     "metadata": {},
     "output_type": "display_data"
    },
    {
     "name": "stdout",
     "output_type": "stream",
     "text": [
      "Running original instance:\n",
      " None\n"
     ]
    },
    {
     "name": "stderr",
     "output_type": "stream",
     "text": [
      "Processing...: 100%|██████████| 10/10 [00:00<00:00, 20.07it/s]\n"
     ]
    },
    {
     "data": {
      "text/plain": [
       "a1    1\n",
       "a2    1\n",
       "a3    1\n",
       "a4    1\n",
       "a5    2\n",
       "a6    1\n",
       "Name: 2, dtype: int64"
      ]
     },
     "metadata": {},
     "output_type": "display_data"
    },
    {
     "name": "stdout",
     "output_type": "stream",
     "text": [
      "Running original instance:\n",
      " None\n"
     ]
    },
    {
     "name": "stderr",
     "output_type": "stream",
     "text": [
      "Processing...: 100%|██████████| 10/10 [00:00<00:00, 22.52it/s]\n"
     ]
    },
    {
     "data": {
      "text/plain": [
       "a1    1\n",
       "a2    1\n",
       "a3    1\n",
       "a4    1\n",
       "a5    2\n",
       "a6    2\n",
       "Name: 3, dtype: int64"
      ]
     },
     "metadata": {},
     "output_type": "display_data"
    },
    {
     "name": "stdout",
     "output_type": "stream",
     "text": [
      "Running original instance:\n",
      " None\n"
     ]
    },
    {
     "name": "stderr",
     "output_type": "stream",
     "text": [
      "Processing...: 100%|██████████| 10/10 [00:00<00:00, 21.91it/s]\n"
     ]
    },
    {
     "data": {
      "text/plain": [
       "a1    1\n",
       "a2    1\n",
       "a3    1\n",
       "a4    1\n",
       "a5    3\n",
       "a6    1\n",
       "Name: 4, dtype: int64"
      ]
     },
     "metadata": {},
     "output_type": "display_data"
    },
    {
     "name": "stdout",
     "output_type": "stream",
     "text": [
      "Running original instance:\n",
      " None\n"
     ]
    },
    {
     "name": "stderr",
     "output_type": "stream",
     "text": [
      "Processing...: 100%|██████████| 10/10 [00:00<00:00, 24.74it/s]\n"
     ]
    },
    {
     "data": {
      "text/plain": [
       "a1    1\n",
       "a2    1\n",
       "a3    1\n",
       "a4    1\n",
       "a5    3\n",
       "a6    2\n",
       "Name: 5, dtype: int64"
      ]
     },
     "metadata": {},
     "output_type": "display_data"
    },
    {
     "name": "stdout",
     "output_type": "stream",
     "text": [
      "Running original instance:\n",
      " None\n"
     ]
    },
    {
     "name": "stderr",
     "output_type": "stream",
     "text": [
      "Processing...: 100%|██████████| 10/10 [00:00<00:00, 23.69it/s]\n"
     ]
    },
    {
     "data": {
      "text/plain": [
       "a1    1\n",
       "a2    1\n",
       "a3    1\n",
       "a4    1\n",
       "a5    4\n",
       "a6    1\n",
       "Name: 6, dtype: int64"
      ]
     },
     "metadata": {},
     "output_type": "display_data"
    },
    {
     "name": "stdout",
     "output_type": "stream",
     "text": [
      "Running original instance:\n",
      " None\n"
     ]
    },
    {
     "name": "stderr",
     "output_type": "stream",
     "text": [
      "Processing...: 100%|██████████| 10/10 [00:00<00:00, 23.80it/s]\n"
     ]
    },
    {
     "data": {
      "text/plain": [
       "a1    1\n",
       "a2    1\n",
       "a3    1\n",
       "a4    1\n",
       "a5    4\n",
       "a6    2\n",
       "Name: 7, dtype: int64"
      ]
     },
     "metadata": {},
     "output_type": "display_data"
    },
    {
     "name": "stdout",
     "output_type": "stream",
     "text": [
      "Running original instance:\n",
      " None\n"
     ]
    },
    {
     "name": "stderr",
     "output_type": "stream",
     "text": [
      "Processing...: 100%|██████████| 10/10 [00:00<00:00, 24.52it/s]\n"
     ]
    },
    {
     "data": {
      "text/plain": [
       "a1    1\n",
       "a2    1\n",
       "a3    1\n",
       "a4    2\n",
       "a5    1\n",
       "a6    1\n",
       "Name: 8, dtype: int64"
      ]
     },
     "metadata": {},
     "output_type": "display_data"
    },
    {
     "name": "stdout",
     "output_type": "stream",
     "text": [
      "Running original instance:\n",
      " None\n"
     ]
    },
    {
     "name": "stderr",
     "output_type": "stream",
     "text": [
      "Processing...: 100%|██████████| 10/10 [00:00<00:00, 25.81it/s]\n"
     ]
    },
    {
     "data": {
      "text/plain": [
       "a1    1\n",
       "a2    1\n",
       "a3    1\n",
       "a4    2\n",
       "a5    1\n",
       "a6    2\n",
       "Name: 9, dtype: int64"
      ]
     },
     "metadata": {},
     "output_type": "display_data"
    },
    {
     "name": "stdout",
     "output_type": "stream",
     "text": [
      "Running original instance:\n",
      " None\n"
     ]
    },
    {
     "name": "stderr",
     "output_type": "stream",
     "text": [
      "Processing...: 100%|██████████| 10/10 [00:00<00:00, 25.10it/s]\n"
     ]
    }
   ],
   "source": [
    "ccsse.run_causal()"
   ]
  },
  {
   "cell_type": "code",
   "execution_count": 17,
   "id": "568d7a1d",
   "metadata": {},
   "outputs": [
    {
     "name": "stdout",
     "output_type": "stream",
     "text": [
      "Quantidade de instâncias contrafactuais = 110\n",
      "Quantidade de relações causais na base de dados = 0\n",
      "Quantidade de atributos modificados = 64\n",
      "Quantidade de instâncias contrafactuais causais = 30\n",
      "Quantidade de relações causais analisadas = 0\n",
      "Quantidade de relações causais satisfeitas = 0.0\n",
      "Quantidade de instâncias contrafactuais com um único atributo modificado = 30\n",
      "---------------------------------------------------------------------------------------\n"
     ]
    }
   ],
   "source": [
    "ccsse.show_metrics()"
   ]
  },
  {
   "cell_type": "markdown",
   "id": "a0ec38a2",
   "metadata": {},
   "source": [
    "# ----------------------------------------------------------------------------------"
   ]
  },
  {
   "cell_type": "markdown",
   "id": "e8bc65cb",
   "metadata": {},
   "source": [
    "# House Votes cm"
   ]
  },
  {
   "cell_type": "code",
   "execution_count": 11,
   "id": "a4a0e733",
   "metadata": {
    "scrolled": true
   },
   "outputs": [
    {
     "name": "stdout",
     "output_type": "stream",
     "text": [
      "              precision    recall  f1-score   support\n",
      "\n",
      "    democrat       1.00      1.00      1.00        23\n",
      "  republican       1.00      1.00      1.00        21\n",
      "\n",
      "    accuracy                           1.00        44\n",
      "   macro avg       1.00      1.00      1.00        44\n",
      "weighted avg       1.00      1.00      1.00        44\n",
      "\n"
     ]
    }
   ],
   "source": [
    "ccsse = CCSSE('cm', samples = 10, K = 10, generation= 10)"
   ]
  },
  {
   "cell_type": "code",
   "execution_count": 12,
   "id": "6d9eee00",
   "metadata": {
    "scrolled": true
   },
   "outputs": [
    {
     "data": {
      "text/plain": [
       "handicapped-infants                       0\n",
       "water-project-cost-sharing                1\n",
       "adoption-of-the-budget-resolution         0\n",
       "physician-fee-freeze                      1\n",
       "el-salvador-aid                           1\n",
       "religious-groups-in-schools               1\n",
       "anti-satellite-test-ban                   0\n",
       "aid-to-nicaraguan-contras                 0\n",
       "mx-missile                                0\n",
       "immigration                               1\n",
       "synfuels-corporation-cutback              0\n",
       "education-spending                        1\n",
       "superfund-right-to-sue                    1\n",
       "crime                                     1\n",
       "duty-free-exports                         0\n",
       "export-administration-act-south-africa    0\n",
       "Name: 434, dtype: int64"
      ]
     },
     "metadata": {},
     "output_type": "display_data"
    },
    {
     "name": "stdout",
     "output_type": "stream",
     "text": [
      "Running original instance:\n",
      " None\n"
     ]
    },
    {
     "name": "stderr",
     "output_type": "stream",
     "text": [
      "Processing...: 100%|██████████| 10/10 [00:04<00:00,  2.01it/s]\n"
     ]
    },
    {
     "data": {
      "text/plain": [
       "handicapped-infants                       0\n",
       "water-project-cost-sharing                0\n",
       "adoption-of-the-budget-resolution         1\n",
       "physician-fee-freeze                      1\n",
       "el-salvador-aid                           1\n",
       "religious-groups-in-schools               1\n",
       "anti-satellite-test-ban                   1\n",
       "aid-to-nicaraguan-contras                 0\n",
       "mx-missile                                0\n",
       "immigration                               1\n",
       "synfuels-corporation-cutback              1\n",
       "education-spending                        1\n",
       "superfund-right-to-sue                    1\n",
       "crime                                     1\n",
       "duty-free-exports                         0\n",
       "export-administration-act-south-africa    1\n",
       "Name: 353, dtype: int64"
      ]
     },
     "metadata": {},
     "output_type": "display_data"
    },
    {
     "name": "stdout",
     "output_type": "stream",
     "text": [
      "Running original instance:\n",
      " None\n"
     ]
    },
    {
     "name": "stderr",
     "output_type": "stream",
     "text": [
      "Processing...: 100%|██████████| 10/10 [00:04<00:00,  2.11it/s]\n"
     ]
    },
    {
     "data": {
      "text/plain": [
       "handicapped-infants                       0\n",
       "water-project-cost-sharing                1\n",
       "adoption-of-the-budget-resolution         0\n",
       "physician-fee-freeze                      1\n",
       "el-salvador-aid                           1\n",
       "religious-groups-in-schools               1\n",
       "anti-satellite-test-ban                   0\n",
       "aid-to-nicaraguan-contras                 0\n",
       "mx-missile                                0\n",
       "immigration                               0\n",
       "synfuels-corporation-cutback              0\n",
       "education-spending                        1\n",
       "superfund-right-to-sue                    1\n",
       "crime                                     1\n",
       "duty-free-exports                         0\n",
       "export-administration-act-south-africa    0\n",
       "Name: 35, dtype: int64"
      ]
     },
     "metadata": {},
     "output_type": "display_data"
    },
    {
     "name": "stdout",
     "output_type": "stream",
     "text": [
      "Running original instance:\n",
      " None\n"
     ]
    },
    {
     "name": "stderr",
     "output_type": "stream",
     "text": [
      "Processing...: 100%|██████████| 10/10 [00:04<00:00,  2.16it/s]\n"
     ]
    },
    {
     "data": {
      "text/plain": [
       "handicapped-infants                       0\n",
       "water-project-cost-sharing                0\n",
       "adoption-of-the-budget-resolution         0\n",
       "physician-fee-freeze                      1\n",
       "el-salvador-aid                           1\n",
       "religious-groups-in-schools               1\n",
       "anti-satellite-test-ban                   0\n",
       "aid-to-nicaraguan-contras                 0\n",
       "mx-missile                                0\n",
       "immigration                               0\n",
       "synfuels-corporation-cutback              0\n",
       "education-spending                        1\n",
       "superfund-right-to-sue                    1\n",
       "crime                                     1\n",
       "duty-free-exports                         0\n",
       "export-administration-act-south-africa    1\n",
       "Name: 379, dtype: int64"
      ]
     },
     "metadata": {},
     "output_type": "display_data"
    },
    {
     "name": "stdout",
     "output_type": "stream",
     "text": [
      "Running original instance:\n",
      " None\n"
     ]
    },
    {
     "name": "stderr",
     "output_type": "stream",
     "text": [
      "Processing...: 100%|██████████| 10/10 [00:04<00:00,  2.07it/s]\n"
     ]
    },
    {
     "data": {
      "text/plain": [
       "handicapped-infants                       1\n",
       "water-project-cost-sharing                1\n",
       "adoption-of-the-budget-resolution         1\n",
       "physician-fee-freeze                      0\n",
       "el-salvador-aid                           0\n",
       "religious-groups-in-schools               0\n",
       "anti-satellite-test-ban                   1\n",
       "aid-to-nicaraguan-contras                 1\n",
       "mx-missile                                1\n",
       "immigration                               0\n",
       "synfuels-corporation-cutback              0\n",
       "education-spending                        0\n",
       "superfund-right-to-sue                    0\n",
       "crime                                     0\n",
       "duty-free-exports                         1\n",
       "export-administration-act-south-africa    1\n",
       "Name: 114, dtype: int64"
      ]
     },
     "metadata": {},
     "output_type": "display_data"
    },
    {
     "name": "stdout",
     "output_type": "stream",
     "text": [
      "Running original instance:\n",
      " None\n"
     ]
    },
    {
     "name": "stderr",
     "output_type": "stream",
     "text": [
      "Processing...: 100%|██████████| 10/10 [00:04<00:00,  2.13it/s]\n"
     ]
    },
    {
     "data": {
      "text/plain": [
       "handicapped-infants                       0\n",
       "water-project-cost-sharing                0\n",
       "adoption-of-the-budget-resolution         0\n",
       "physician-fee-freeze                      1\n",
       "el-salvador-aid                           1\n",
       "religious-groups-in-schools               1\n",
       "anti-satellite-test-ban                   1\n",
       "aid-to-nicaraguan-contras                 1\n",
       "mx-missile                                1\n",
       "immigration                               1\n",
       "synfuels-corporation-cutback              0\n",
       "education-spending                        1\n",
       "superfund-right-to-sue                    1\n",
       "crime                                     1\n",
       "duty-free-exports                         0\n",
       "export-administration-act-south-africa    1\n",
       "Name: 142, dtype: int64"
      ]
     },
     "metadata": {},
     "output_type": "display_data"
    },
    {
     "name": "stdout",
     "output_type": "stream",
     "text": [
      "Running original instance:\n",
      " None\n"
     ]
    },
    {
     "name": "stderr",
     "output_type": "stream",
     "text": [
      "Processing...: 100%|██████████| 10/10 [00:03<00:00,  2.58it/s]\n"
     ]
    },
    {
     "data": {
      "text/plain": [
       "handicapped-infants                       1\n",
       "water-project-cost-sharing                0\n",
       "adoption-of-the-budget-resolution         1\n",
       "physician-fee-freeze                      0\n",
       "el-salvador-aid                           0\n",
       "religious-groups-in-schools               0\n",
       "anti-satellite-test-ban                   1\n",
       "aid-to-nicaraguan-contras                 1\n",
       "mx-missile                                1\n",
       "immigration                               1\n",
       "synfuels-corporation-cutback              0\n",
       "education-spending                        0\n",
       "superfund-right-to-sue                    1\n",
       "crime                                     0\n",
       "duty-free-exports                         1\n",
       "export-administration-act-south-africa    1\n",
       "Name: 262, dtype: int64"
      ]
     },
     "metadata": {},
     "output_type": "display_data"
    },
    {
     "name": "stdout",
     "output_type": "stream",
     "text": [
      "Running original instance:\n",
      " None\n"
     ]
    },
    {
     "name": "stderr",
     "output_type": "stream",
     "text": [
      "Processing...: 100%|██████████| 10/10 [00:05<00:00,  1.97it/s]\n"
     ]
    },
    {
     "data": {
      "text/plain": [
       "handicapped-infants                       0\n",
       "water-project-cost-sharing                0\n",
       "adoption-of-the-budget-resolution         0\n",
       "physician-fee-freeze                      1\n",
       "el-salvador-aid                           1\n",
       "religious-groups-in-schools               1\n",
       "anti-satellite-test-ban                   1\n",
       "aid-to-nicaraguan-contras                 0\n",
       "mx-missile                                0\n",
       "immigration                               1\n",
       "synfuels-corporation-cutback              0\n",
       "education-spending                        1\n",
       "superfund-right-to-sue                    0\n",
       "crime                                     1\n",
       "duty-free-exports                         1\n",
       "export-administration-act-south-africa    1\n",
       "Name: 345, dtype: int64"
      ]
     },
     "metadata": {},
     "output_type": "display_data"
    },
    {
     "name": "stdout",
     "output_type": "stream",
     "text": [
      "Running original instance:\n",
      " None\n"
     ]
    },
    {
     "name": "stderr",
     "output_type": "stream",
     "text": [
      "Processing...: 100%|██████████| 10/10 [00:04<00:00,  2.49it/s]\n"
     ]
    },
    {
     "data": {
      "text/plain": [
       "handicapped-infants                       0\n",
       "water-project-cost-sharing                1\n",
       "adoption-of-the-budget-resolution         1\n",
       "physician-fee-freeze                      0\n",
       "el-salvador-aid                           1\n",
       "religious-groups-in-schools               1\n",
       "anti-satellite-test-ban                   1\n",
       "aid-to-nicaraguan-contras                 0\n",
       "mx-missile                                1\n",
       "immigration                               1\n",
       "synfuels-corporation-cutback              1\n",
       "education-spending                        0\n",
       "superfund-right-to-sue                    1\n",
       "crime                                     1\n",
       "duty-free-exports                         0\n",
       "export-administration-act-south-africa    1\n",
       "Name: 88, dtype: int64"
      ]
     },
     "metadata": {},
     "output_type": "display_data"
    },
    {
     "name": "stdout",
     "output_type": "stream",
     "text": [
      "Running original instance:\n",
      " None\n"
     ]
    },
    {
     "name": "stderr",
     "output_type": "stream",
     "text": [
      "Processing...: 100%|██████████| 10/10 [00:04<00:00,  2.03it/s]\n"
     ]
    },
    {
     "data": {
      "text/plain": [
       "handicapped-infants                       1\n",
       "water-project-cost-sharing                0\n",
       "adoption-of-the-budget-resolution         1\n",
       "physician-fee-freeze                      0\n",
       "el-salvador-aid                           0\n",
       "religious-groups-in-schools               1\n",
       "anti-satellite-test-ban                   1\n",
       "aid-to-nicaraguan-contras                 1\n",
       "mx-missile                                1\n",
       "immigration                               1\n",
       "synfuels-corporation-cutback              0\n",
       "education-spending                        0\n",
       "superfund-right-to-sue                    1\n",
       "crime                                     0\n",
       "duty-free-exports                         0\n",
       "export-administration-act-south-africa    1\n",
       "Name: 360, dtype: int64"
      ]
     },
     "metadata": {},
     "output_type": "display_data"
    },
    {
     "name": "stdout",
     "output_type": "stream",
     "text": [
      "Running original instance:\n",
      " None\n"
     ]
    },
    {
     "name": "stderr",
     "output_type": "stream",
     "text": [
      "Processing...: 100%|██████████| 10/10 [00:05<00:00,  1.98it/s]\n"
     ]
    }
   ],
   "source": [
    "ccsse.run_causal()"
   ]
  },
  {
   "cell_type": "code",
   "execution_count": 13,
   "id": "b6cbeafb",
   "metadata": {},
   "outputs": [
    {
     "name": "stdout",
     "output_type": "stream",
     "text": [
      "Quantidade de instâncias contrafactuais = 110\n",
      "Quantidade de relações causais na base de dados = 60\n",
      "Quantidade de atributos modificados = 321\n",
      "Quantidade de instâncias contrafactuais causais = 36\n",
      "Quantidade de relações causais analisadas = 828\n",
      "Quantidade de relações causais satisfeitas = 638\n",
      "Quantidade de instâncias contrafactuais com um único atributo modificado = 0\n",
      "---------------------------------------------------------------------------------------\n"
     ]
    }
   ],
   "source": [
    "ccsse.show_metrics()"
   ]
  },
  {
   "cell_type": "markdown",
   "id": "86f67677",
   "metadata": {},
   "source": [
    "# ----------------------------------------------------------------------------------"
   ]
  },
  {
   "cell_type": "markdown",
   "id": "999de985",
   "metadata": {},
   "source": [
    "# Mushrooms cg"
   ]
  },
  {
   "cell_type": "code",
   "execution_count": null,
   "id": "db069287",
   "metadata": {
    "scrolled": true
   },
   "outputs": [],
   "source": [
    "ccsse = CCSSE('cg', samples = 10, K = 10, generation= 10)"
   ]
  },
  {
   "cell_type": "code",
   "execution_count": null,
   "id": "dc1b91fa",
   "metadata": {
    "scrolled": true
   },
   "outputs": [],
   "source": [
    "ccsse.run_causal()"
   ]
  },
  {
   "cell_type": "code",
   "execution_count": null,
   "id": "3d81da9f",
   "metadata": {},
   "outputs": [],
   "source": [
    "ccsse.show_metrics()"
   ]
  },
  {
   "cell_type": "markdown",
   "id": "b1160d48",
   "metadata": {},
   "source": [
    "# ----------------------------------------------------------------------------------"
   ]
  },
  {
   "cell_type": "markdown",
   "id": "1a3aeaa4",
   "metadata": {},
   "source": [
    "# German short"
   ]
  },
  {
   "cell_type": "code",
   "execution_count": 12,
   "id": "f73d6c39",
   "metadata": {
    "scrolled": true
   },
   "outputs": [
    {
     "name": "stdout",
     "output_type": "stream",
     "text": [
      "              precision    recall  f1-score   support\n",
      "\n",
      "         0.0       0.46      0.64      0.54        66\n",
      "         1.0       0.59      0.42      0.49        84\n",
      "\n",
      "    accuracy                           0.51       150\n",
      "   macro avg       0.53      0.53      0.51       150\n",
      "weighted avg       0.54      0.51      0.51       150\n",
      "\n"
     ]
    }
   ],
   "source": [
    "ccsse = CCSSE('german_short', samples = 10, K = 10, generation= 10)"
   ]
  },
  {
   "cell_type": "code",
   "execution_count": 14,
   "id": "da6ec7b0",
   "metadata": {},
   "outputs": [
    {
     "data": {
      "text/plain": [
       "Index(['Sex', 'Age', 'Credit', 'LoanDuration'], dtype='object')"
      ]
     },
     "execution_count": 14,
     "metadata": {},
     "output_type": "execute_result"
    }
   ],
   "source": [
    "ccsse.x_test.columns"
   ]
  },
  {
   "cell_type": "code",
   "execution_count": 19,
   "id": "b4091470",
   "metadata": {
    "scrolled": true
   },
   "outputs": [
    {
     "data": {
      "text/plain": [
       "Sex                0.0\n",
       "Age               37.0\n",
       "Credit          1274.0\n",
       "LoanDuration      12.0\n",
       "Name: 747, dtype: float64"
      ]
     },
     "metadata": {},
     "output_type": "display_data"
    },
    {
     "name": "stdout",
     "output_type": "stream",
     "text": [
      "Running original instance:\n",
      " None\n"
     ]
    },
    {
     "name": "stderr",
     "output_type": "stream",
     "text": [
      "Processing...: 100%|██████████| 10/10 [00:10<00:00,  1.01s/it]\n"
     ]
    },
    {
     "data": {
      "text/plain": [
       "Sex                1.0\n",
       "Age               32.0\n",
       "Credit          1136.0\n",
       "LoanDuration       9.0\n",
       "Name: 349, dtype: float64"
      ]
     },
     "metadata": {},
     "output_type": "display_data"
    },
    {
     "name": "stdout",
     "output_type": "stream",
     "text": [
      "Running original instance:\n",
      " None\n"
     ]
    },
    {
     "name": "stderr",
     "output_type": "stream",
     "text": [
      "Processing...: 100%|██████████| 10/10 [00:11<00:00,  1.13s/it]\n"
     ]
    },
    {
     "data": {
      "text/plain": [
       "Sex                1.0\n",
       "Age               25.0\n",
       "Credit          1264.0\n",
       "LoanDuration      15.0\n",
       "Name: 979, dtype: float64"
      ]
     },
     "metadata": {},
     "output_type": "display_data"
    },
    {
     "name": "stdout",
     "output_type": "stream",
     "text": [
      "Running original instance:\n",
      " None\n"
     ]
    },
    {
     "name": "stderr",
     "output_type": "stream",
     "text": [
      "Processing...: 100%|██████████| 10/10 [00:09<00:00,  1.03it/s]\n"
     ]
    },
    {
     "data": {
      "text/plain": [
       "Sex               1.0\n",
       "Age              46.0\n",
       "Credit          697.0\n",
       "LoanDuration     12.0\n",
       "Name: 925, dtype: float64"
      ]
     },
     "metadata": {},
     "output_type": "display_data"
    },
    {
     "name": "stdout",
     "output_type": "stream",
     "text": [
      "Running original instance:\n",
      " None\n"
     ]
    },
    {
     "name": "stderr",
     "output_type": "stream",
     "text": [
      "Processing...: 100%|██████████| 10/10 [00:10<00:00,  1.08s/it]\n"
     ]
    },
    {
     "data": {
      "text/plain": [
       "Sex                1.0\n",
       "Age               35.0\n",
       "Credit          7253.0\n",
       "LoanDuration      33.0\n",
       "Name: 411, dtype: float64"
      ]
     },
     "metadata": {},
     "output_type": "display_data"
    },
    {
     "name": "stdout",
     "output_type": "stream",
     "text": [
      "Running original instance:\n",
      " None\n"
     ]
    },
    {
     "name": "stderr",
     "output_type": "stream",
     "text": [
      "Processing...: 100%|██████████| 10/10 [00:10<00:00,  1.02s/it]\n"
     ]
    },
    {
     "data": {
      "text/plain": [
       "Sex                1.0\n",
       "Age               43.0\n",
       "Credit          2442.0\n",
       "LoanDuration      27.0\n",
       "Name: 890, dtype: float64"
      ]
     },
     "metadata": {},
     "output_type": "display_data"
    },
    {
     "name": "stdout",
     "output_type": "stream",
     "text": [
      "Running original instance:\n",
      " None\n"
     ]
    },
    {
     "name": "stderr",
     "output_type": "stream",
     "text": [
      "Processing...: 100%|██████████| 10/10 [00:10<00:00,  1.00s/it]\n"
     ]
    },
    {
     "data": {
      "text/plain": [
       "Sex                1.0\n",
       "Age               32.0\n",
       "Credit          4583.0\n",
       "LoanDuration      30.0\n",
       "Name: 646, dtype: float64"
      ]
     },
     "metadata": {},
     "output_type": "display_data"
    },
    {
     "name": "stdout",
     "output_type": "stream",
     "text": [
      "Running original instance:\n",
      " None\n"
     ]
    },
    {
     "name": "stderr",
     "output_type": "stream",
     "text": [
      "Processing...: 100%|██████████| 10/10 [00:10<00:00,  1.03s/it]\n"
     ]
    },
    {
     "data": {
      "text/plain": [
       "Sex               1.0\n",
       "Age              41.0\n",
       "Credit          719.0\n",
       "LoanDuration     12.0\n",
       "Name: 443, dtype: float64"
      ]
     },
     "metadata": {},
     "output_type": "display_data"
    },
    {
     "name": "stdout",
     "output_type": "stream",
     "text": [
      "Running original instance:\n",
      " None\n"
     ]
    },
    {
     "name": "stderr",
     "output_type": "stream",
     "text": [
      "Processing...: 100%|██████████| 10/10 [00:10<00:00,  1.10s/it]\n"
     ]
    },
    {
     "data": {
      "text/plain": [
       "Sex                1.0\n",
       "Age               34.0\n",
       "Credit          3965.0\n",
       "LoanDuration      42.0\n",
       "Name: 76, dtype: float64"
      ]
     },
     "metadata": {},
     "output_type": "display_data"
    },
    {
     "name": "stdout",
     "output_type": "stream",
     "text": [
      "Running original instance:\n",
      " None\n"
     ]
    },
    {
     "name": "stderr",
     "output_type": "stream",
     "text": [
      "Processing...: 100%|██████████| 10/10 [00:09<00:00,  1.01it/s]\n"
     ]
    },
    {
     "data": {
      "text/plain": [
       "Sex                1.0\n",
       "Age               27.0\n",
       "Credit          2613.0\n",
       "LoanDuration      36.0\n",
       "Name: 225, dtype: float64"
      ]
     },
     "metadata": {},
     "output_type": "display_data"
    },
    {
     "name": "stdout",
     "output_type": "stream",
     "text": [
      "Running original instance:\n",
      " None\n"
     ]
    },
    {
     "name": "stderr",
     "output_type": "stream",
     "text": [
      "Processing...: 100%|██████████| 10/10 [00:09<00:00,  1.00it/s]\n"
     ]
    }
   ],
   "source": [
    "ccsse.run_causal()"
   ]
  },
  {
   "cell_type": "code",
   "execution_count": 20,
   "id": "cf3f545c",
   "metadata": {},
   "outputs": [
    {
     "name": "stdout",
     "output_type": "stream",
     "text": [
      "Quantidade de instâncias contrafactuais = 110\n",
      "Quantidade de relações causais na base de dados = 2\n",
      "Quantidade de atributos modificados = 37\n",
      "Quantidade de instâncias contrafactuais causais = 25\n",
      "Quantidade de relações causais analisadas = 6\n",
      "Quantidade de relações causais satisfeitas = 4.0\n",
      "Quantidade de instâncias contrafactuais com um único atributo modificado = 21\n",
      "---------------------------------------------------------------------------------------\n"
     ]
    }
   ],
   "source": [
    "ccsse.show_metrics()"
   ]
  },
  {
   "cell_type": "markdown",
   "id": "f41fce71",
   "metadata": {},
   "source": [
    "# ----------------------------------------------------------------------------------"
   ]
  },
  {
   "cell_type": "markdown",
   "id": "70b3779a",
   "metadata": {},
   "source": [
    "# German full"
   ]
  },
  {
   "cell_type": "code",
   "execution_count": 15,
   "id": "7115fb02",
   "metadata": {
    "scrolled": true
   },
   "outputs": [
    {
     "name": "stdout",
     "output_type": "stream",
     "text": [
      "              precision    recall  f1-score   support\n",
      "\n",
      "           0       0.82      0.92      0.87        72\n",
      "           1       0.70      0.50      0.58        28\n",
      "\n",
      "    accuracy                           0.80       100\n",
      "   macro avg       0.76      0.71      0.73       100\n",
      "weighted avg       0.79      0.80      0.79       100\n",
      "\n"
     ]
    }
   ],
   "source": [
    "ccsse = CCSSE('german_full', samples = 10, K = 10, generation= 10)"
   ]
  },
  {
   "cell_type": "code",
   "execution_count": 16,
   "id": "5121426a",
   "metadata": {},
   "outputs": [
    {
     "data": {
      "text/plain": [
       "20"
      ]
     },
     "execution_count": 16,
     "metadata": {},
     "output_type": "execute_result"
    }
   ],
   "source": [
    "len(ccsse.x_test.columns)"
   ]
  },
  {
   "cell_type": "code",
   "execution_count": 22,
   "id": "4beaa729",
   "metadata": {
    "scrolled": true
   },
   "outputs": [
    {
     "data": {
      "text/plain": [
       "account_check_status             1\n",
       "duration_in_month                6\n",
       "credit_history                   2\n",
       "purpose                          0\n",
       "credit_amount                 1203\n",
       "savings                          2\n",
       "present_emp_since                5\n",
       "installment_as_income_perc       3\n",
       "personal_status_sex              3\n",
       "other_debtors                    1\n",
       "present_res_since                2\n",
       "property                         2\n",
       "age                             43\n",
       "other_installment_plans          1\n",
       "housing                          2\n",
       "credits_this_2                   1\n",
       "job                              3\n",
       "people_under_maintenance         1\n",
       "telephone                        2\n",
       "foreign_worker                   1\n",
       "Name: 518, dtype: int64"
      ]
     },
     "metadata": {},
     "output_type": "display_data"
    },
    {
     "name": "stdout",
     "output_type": "stream",
     "text": [
      "Running original instance:\n",
      " None\n"
     ]
    },
    {
     "name": "stderr",
     "output_type": "stream",
     "text": [
      "Processing...: 100%|██████████| 10/10 [00:16<00:00,  1.70s/it]\n"
     ]
    },
    {
     "data": {
      "text/plain": [
       "account_check_status            1\n",
       "duration_in_month               6\n",
       "credit_history                  2\n",
       "purpose                         0\n",
       "credit_amount                 662\n",
       "savings                         1\n",
       "present_emp_since               2\n",
       "installment_as_income_perc      3\n",
       "personal_status_sex             3\n",
       "other_debtors                   1\n",
       "present_res_since               4\n",
       "property                        1\n",
       "age                            41\n",
       "other_installment_plans         1\n",
       "housing                         2\n",
       "credits_this_2                  1\n",
       "job                             2\n",
       "people_under_maintenance        2\n",
       "telephone                       2\n",
       "foreign_worker                  1\n",
       "Name: 529, dtype: int64"
      ]
     },
     "metadata": {},
     "output_type": "display_data"
    },
    {
     "name": "stdout",
     "output_type": "stream",
     "text": [
      "Running original instance:\n",
      " None\n"
     ]
    },
    {
     "name": "stderr",
     "output_type": "stream",
     "text": [
      "Processing...: 100%|██████████| 10/10 [00:14<00:00,  1.46s/it]\n"
     ]
    },
    {
     "data": {
      "text/plain": [
       "account_check_status             3\n",
       "duration_in_month               12\n",
       "credit_history                   2\n",
       "purpose                          4\n",
       "credit_amount                 1881\n",
       "savings                          1\n",
       "present_emp_since                3\n",
       "installment_as_income_perc       2\n",
       "personal_status_sex              2\n",
       "other_debtors                    1\n",
       "present_res_since                2\n",
       "property                         3\n",
       "age                             44\n",
       "other_installment_plans          1\n",
       "housing                          1\n",
       "credits_this_2                   1\n",
       "job                              2\n",
       "people_under_maintenance         1\n",
       "telephone                        2\n",
       "foreign_worker                   1\n",
       "Name: 139, dtype: int64"
      ]
     },
     "metadata": {},
     "output_type": "display_data"
    },
    {
     "name": "stdout",
     "output_type": "stream",
     "text": [
      "Running original instance:\n",
      " None\n"
     ]
    },
    {
     "name": "stderr",
     "output_type": "stream",
     "text": [
      "Processing...: 100%|██████████| 10/10 [00:19<00:00,  1.95s/it]\n"
     ]
    },
    {
     "data": {
      "text/plain": [
       "account_check_status              4\n",
       "duration_in_month                60\n",
       "credit_history                    3\n",
       "purpose                           4\n",
       "credit_amount                 15653\n",
       "savings                           1\n",
       "present_emp_since                 4\n",
       "installment_as_income_perc        2\n",
       "personal_status_sex               3\n",
       "other_debtors                     1\n",
       "present_res_since                 4\n",
       "property                          3\n",
       "age                              21\n",
       "other_installment_plans           1\n",
       "housing                           2\n",
       "credits_this_2                    2\n",
       "job                               3\n",
       "people_under_maintenance          1\n",
       "telephone                         2\n",
       "foreign_worker                    1\n",
       "Name: 637, dtype: int64"
      ]
     },
     "metadata": {},
     "output_type": "display_data"
    },
    {
     "name": "stdout",
     "output_type": "stream",
     "text": [
      "Running original instance:\n",
      " None\n"
     ]
    },
    {
     "name": "stderr",
     "output_type": "stream",
     "text": [
      "Processing...: 100%|██████████| 10/10 [00:14<00:00,  1.48s/it]\n"
     ]
    },
    {
     "data": {
      "text/plain": [
       "account_check_status             2\n",
       "duration_in_month               11\n",
       "credit_history                   4\n",
       "purpose                          0\n",
       "credit_amount                 1322\n",
       "savings                          4\n",
       "present_emp_since                3\n",
       "installment_as_income_perc       4\n",
       "personal_status_sex              2\n",
       "other_debtors                    1\n",
       "present_res_since                4\n",
       "property                         3\n",
       "age                             40\n",
       "other_installment_plans          1\n",
       "housing                          2\n",
       "credits_this_2                   2\n",
       "job                              3\n",
       "people_under_maintenance         1\n",
       "telephone                        1\n",
       "foreign_worker                   1\n",
       "Name: 875, dtype: int64"
      ]
     },
     "metadata": {},
     "output_type": "display_data"
    },
    {
     "name": "stdout",
     "output_type": "stream",
     "text": [
      "Running original instance:\n",
      " None\n"
     ]
    },
    {
     "name": "stderr",
     "output_type": "stream",
     "text": [
      "Processing...: 100%|██████████| 10/10 [00:17<00:00,  1.74s/it]\n"
     ]
    },
    {
     "data": {
      "text/plain": [
       "account_check_status             1\n",
       "duration_in_month               48\n",
       "credit_history                   2\n",
       "purpose                          0\n",
       "credit_amount                 3931\n",
       "savings                          1\n",
       "present_emp_since                4\n",
       "installment_as_income_perc       4\n",
       "personal_status_sex              3\n",
       "other_debtors                    1\n",
       "present_res_since                4\n",
       "property                         4\n",
       "age                             46\n",
       "other_installment_plans          1\n",
       "housing                          3\n",
       "credits_this_2                   1\n",
       "job                              3\n",
       "people_under_maintenance         2\n",
       "telephone                        1\n",
       "foreign_worker                   1\n",
       "Name: 814, dtype: int64"
      ]
     },
     "metadata": {},
     "output_type": "display_data"
    },
    {
     "name": "stdout",
     "output_type": "stream",
     "text": [
      "Running original instance:\n",
      " None\n"
     ]
    },
    {
     "name": "stderr",
     "output_type": "stream",
     "text": [
      "Processing...: 100%|██████████| 10/10 [00:15<00:00,  1.53s/it]\n"
     ]
    },
    {
     "data": {
      "text/plain": [
       "account_check_status             1\n",
       "duration_in_month               42\n",
       "credit_history                   3\n",
       "purpose                          4\n",
       "credit_amount                 4370\n",
       "savings                          1\n",
       "present_emp_since                4\n",
       "installment_as_income_perc       3\n",
       "personal_status_sex              3\n",
       "other_debtors                    1\n",
       "present_res_since                2\n",
       "property                         2\n",
       "age                             26\n",
       "other_installment_plans          2\n",
       "housing                          2\n",
       "credits_this_2                   2\n",
       "job                              3\n",
       "people_under_maintenance         2\n",
       "telephone                        2\n",
       "foreign_worker                   1\n",
       "Name: 639, dtype: int64"
      ]
     },
     "metadata": {},
     "output_type": "display_data"
    },
    {
     "name": "stdout",
     "output_type": "stream",
     "text": [
      "Running original instance:\n",
      " None\n"
     ]
    },
    {
     "name": "stderr",
     "output_type": "stream",
     "text": [
      "Processing...: 100%|██████████| 10/10 [00:12<00:00,  1.26s/it]\n"
     ]
    },
    {
     "data": {
      "text/plain": [
       "account_check_status             2\n",
       "duration_in_month               12\n",
       "credit_history                   4\n",
       "purpose                          5\n",
       "credit_amount                 1424\n",
       "savings                          1\n",
       "present_emp_since                4\n",
       "installment_as_income_perc       4\n",
       "personal_status_sex              3\n",
       "other_debtors                    1\n",
       "present_res_since                3\n",
       "property                         2\n",
       "age                             26\n",
       "other_installment_plans          1\n",
       "housing                          2\n",
       "credits_this_2                   1\n",
       "job                              3\n",
       "people_under_maintenance         1\n",
       "telephone                        1\n",
       "foreign_worker                   1\n",
       "Name: 207, dtype: int64"
      ]
     },
     "metadata": {},
     "output_type": "display_data"
    },
    {
     "name": "stdout",
     "output_type": "stream",
     "text": [
      "Running original instance:\n",
      " None\n"
     ]
    },
    {
     "name": "stderr",
     "output_type": "stream",
     "text": [
      "Processing...: 100%|██████████| 10/10 [00:17<00:00,  1.79s/it]\n"
     ]
    },
    {
     "data": {
      "text/plain": [
       "account_check_status             1\n",
       "duration_in_month               24\n",
       "credit_history                   2\n",
       "purpose                          9\n",
       "credit_amount                 6568\n",
       "savings                          1\n",
       "present_emp_since                3\n",
       "installment_as_income_perc       2\n",
       "personal_status_sex              4\n",
       "other_debtors                    1\n",
       "present_res_since                2\n",
       "property                         3\n",
       "age                             21\n",
       "other_installment_plans          3\n",
       "housing                          2\n",
       "credits_this_2                   1\n",
       "job                              2\n",
       "people_under_maintenance         1\n",
       "telephone                        1\n",
       "foreign_worker                   1\n",
       "Name: 208, dtype: int64"
      ]
     },
     "metadata": {},
     "output_type": "display_data"
    },
    {
     "name": "stdout",
     "output_type": "stream",
     "text": [
      "Running original instance:\n",
      " None\n"
     ]
    },
    {
     "name": "stderr",
     "output_type": "stream",
     "text": [
      "Processing...: 100%|██████████| 10/10 [00:15<00:00,  1.55s/it]\n"
     ]
    },
    {
     "data": {
      "text/plain": [
       "account_check_status             3\n",
       "duration_in_month               15\n",
       "credit_history                   2\n",
       "purpose                          4\n",
       "credit_amount                 2327\n",
       "savings                          1\n",
       "present_emp_since                2\n",
       "installment_as_income_perc       2\n",
       "personal_status_sex              2\n",
       "other_debtors                    1\n",
       "present_res_since                3\n",
       "property                         1\n",
       "age                             25\n",
       "other_installment_plans          1\n",
       "housing                          2\n",
       "credits_this_2                   1\n",
       "job                              2\n",
       "people_under_maintenance         1\n",
       "telephone                        1\n",
       "foreign_worker                   1\n",
       "Name: 834, dtype: int64"
      ]
     },
     "metadata": {},
     "output_type": "display_data"
    },
    {
     "name": "stdout",
     "output_type": "stream",
     "text": [
      "Running original instance:\n",
      " None\n"
     ]
    },
    {
     "name": "stderr",
     "output_type": "stream",
     "text": [
      "Processing...: 100%|██████████| 10/10 [00:21<00:00,  2.15s/it]\n"
     ]
    }
   ],
   "source": [
    "ccsse.run_causal()"
   ]
  },
  {
   "cell_type": "code",
   "execution_count": 23,
   "id": "a76cb8e4",
   "metadata": {},
   "outputs": [
    {
     "name": "stdout",
     "output_type": "stream",
     "text": [
      "Quantidade de instâncias contrafactuais = 110\n",
      "Quantidade de relações causais na base de dados = 59\n",
      "Quantidade de atributos modificados = 135\n",
      "Quantidade de instâncias contrafactuais causais = 29\n",
      "Quantidade de relações causais analisadas = 186\n",
      "Quantidade de relações causais satisfeitas = 150.0\n",
      "Quantidade de instâncias contrafactuais com um único atributo modificado = 7\n",
      "---------------------------------------------------------------------------------------\n"
     ]
    }
   ],
   "source": [
    "ccsse.show_metrics()"
   ]
  },
  {
   "cell_type": "markdown",
   "id": "0ad390d6",
   "metadata": {},
   "source": [
    "# ----------------------------------------------------------------------------------"
   ]
  },
  {
   "cell_type": "markdown",
   "id": "71af252d",
   "metadata": {},
   "source": [
    "# Phishing_cg"
   ]
  },
  {
   "cell_type": "code",
   "execution_count": 8,
   "id": "aab03954",
   "metadata": {
    "scrolled": true
   },
   "outputs": [
    {
     "name": "stdout",
     "output_type": "stream",
     "text": [
      "              precision    recall  f1-score   support\n",
      "\n",
      "         0.0       0.92      0.96      0.94        49\n",
      "         1.0       0.96      0.92      0.94        51\n",
      "\n",
      "    accuracy                           0.94       100\n",
      "   macro avg       0.94      0.94      0.94       100\n",
      "weighted avg       0.94      0.94      0.94       100\n",
      "\n"
     ]
    }
   ],
   "source": [
    "ccsse = CCSSE('Phishing_cg', samples = 10, K = 10, generation= 10)"
   ]
  },
  {
   "cell_type": "code",
   "execution_count": 9,
   "id": "1d103b03",
   "metadata": {},
   "outputs": [
    {
     "data": {
      "text/html": [
       "<div>\n",
       "<style scoped>\n",
       "    .dataframe tbody tr th:only-of-type {\n",
       "        vertical-align: middle;\n",
       "    }\n",
       "\n",
       "    .dataframe tbody tr th {\n",
       "        vertical-align: top;\n",
       "    }\n",
       "\n",
       "    .dataframe thead th {\n",
       "        text-align: right;\n",
       "    }\n",
       "</style>\n",
       "<table border=\"1\" class=\"dataframe\">\n",
       "  <thead>\n",
       "    <tr style=\"text-align: right;\">\n",
       "      <th></th>\n",
       "      <th>from</th>\n",
       "      <th>to</th>\n",
       "      <th>effect</th>\n",
       "    </tr>\n",
       "  </thead>\n",
       "  <tbody>\n",
       "    <tr>\n",
       "      <th>0</th>\n",
       "      <td>double_slash_redirecting</td>\n",
       "      <td>having_IP_Address</td>\n",
       "      <td>0.704897</td>\n",
       "    </tr>\n",
       "    <tr>\n",
       "      <th>1</th>\n",
       "      <td>Redirect</td>\n",
       "      <td>having_IP_Address</td>\n",
       "      <td>-0.182756</td>\n",
       "    </tr>\n",
       "    <tr>\n",
       "      <th>2</th>\n",
       "      <td>having_IP_Address</td>\n",
       "      <td>URL_Length</td>\n",
       "      <td>0.482936</td>\n",
       "    </tr>\n",
       "    <tr>\n",
       "      <th>3</th>\n",
       "      <td>Shortining_Service</td>\n",
       "      <td>URL_Length</td>\n",
       "      <td>-0.496544</td>\n",
       "    </tr>\n",
       "    <tr>\n",
       "      <th>4</th>\n",
       "      <td>port</td>\n",
       "      <td>URL_Length</td>\n",
       "      <td>0.161871</td>\n",
       "    </tr>\n",
       "    <tr>\n",
       "      <th>...</th>\n",
       "      <td>...</td>\n",
       "      <td>...</td>\n",
       "      <td>...</td>\n",
       "    </tr>\n",
       "    <tr>\n",
       "      <th>99</th>\n",
       "      <td>Submitting_to_email</td>\n",
       "      <td>Statistical_report</td>\n",
       "      <td>0.186762</td>\n",
       "    </tr>\n",
       "    <tr>\n",
       "      <th>100</th>\n",
       "      <td>Abnormal_URL</td>\n",
       "      <td>Statistical_report</td>\n",
       "      <td>0.671463</td>\n",
       "    </tr>\n",
       "    <tr>\n",
       "      <th>101</th>\n",
       "      <td>Redirect</td>\n",
       "      <td>Statistical_report</td>\n",
       "      <td>0.343433</td>\n",
       "    </tr>\n",
       "    <tr>\n",
       "      <th>102</th>\n",
       "      <td>on_mouseover</td>\n",
       "      <td>Statistical_report</td>\n",
       "      <td>0.098306</td>\n",
       "    </tr>\n",
       "    <tr>\n",
       "      <th>103</th>\n",
       "      <td>RightClick</td>\n",
       "      <td>Statistical_report</td>\n",
       "      <td>0.148405</td>\n",
       "    </tr>\n",
       "  </tbody>\n",
       "</table>\n",
       "<p>104 rows × 3 columns</p>\n",
       "</div>"
      ],
      "text/plain": [
       "                          from                   to    effect\n",
       "0    double_slash_redirecting   having_IP_Address    0.704897\n",
       "1                   Redirect    having_IP_Address   -0.182756\n",
       "2          having_IP_Address          URL_Length     0.482936\n",
       "3          Shortining_Service         URL_Length    -0.496544\n",
       "4                        port         URL_Length     0.161871\n",
       "..                         ...                  ...       ...\n",
       "99        Submitting_to_email   Statistical_report   0.186762\n",
       "100              Abnormal_URL   Statistical_report   0.671463\n",
       "101                 Redirect    Statistical_report   0.343433\n",
       "102             on_mouseover    Statistical_report   0.098306\n",
       "103               RightClick    Statistical_report   0.148405\n",
       "\n",
       "[104 rows x 3 columns]"
      ]
     },
     "execution_count": 9,
     "metadata": {},
     "output_type": "execute_result"
    }
   ],
   "source": [
    "ccsse.df_causal_effectsausal_effects"
   ]
  },
  {
   "cell_type": "code",
   "execution_count": 10,
   "id": "f67a7c7f",
   "metadata": {
    "scrolled": true
   },
   "outputs": [
    {
     "data": {
      "text/plain": [
       "having_IP_Address               1.0\n",
       "URL_Length                      0.0\n",
       "Shortining_Service              1.0\n",
       "having_At_Symbol                1.0\n",
       "double_slash_redirecting        1.0\n",
       "Prefix_Suffix                   0.0\n",
       "having_Sub_Domain               0.0\n",
       "SSLfinal_State                  2.0\n",
       "Domain_registeration_length     1.0\n",
       "Favicon                         1.0\n",
       "port                            1.0\n",
       "HTTPS_token                     1.0\n",
       "Request_URL                     1.0\n",
       "URL_of_Anchor                   1.0\n",
       "Links_in_tags                   1.0\n",
       "SFH                             0.0\n",
       "Submitting_to_email             1.0\n",
       "Abnormal_URL                    1.0\n",
       "Redirect                        0.0\n",
       "on_mouseover                    1.0\n",
       "RightClick                      1.0\n",
       "popUpWidnow                     1.0\n",
       "Iframe                          1.0\n",
       "age_of_domain                   1.0\n",
       "DNSRecord                       0.0\n",
       "web_traffic                     0.0\n",
       "Page_Rank                       0.0\n",
       "Google_Index                    1.0\n",
       "Links_pointing_to_page          2.0\n",
       "Statistical_report              1.0\n",
       "Name: 754, dtype: float64"
      ]
     },
     "metadata": {},
     "output_type": "display_data"
    },
    {
     "name": "stdout",
     "output_type": "stream",
     "text": [
      "Running original instance:\n",
      " None\n"
     ]
    },
    {
     "name": "stderr",
     "output_type": "stream",
     "text": [
      "Processing...: 100%|██████████| 10/10 [00:19<00:00,  1.96s/it]\n"
     ]
    },
    {
     "data": {
      "text/plain": [
       "having_IP_Address               1.0\n",
       "URL_Length                      0.0\n",
       "Shortining_Service              1.0\n",
       "having_At_Symbol                1.0\n",
       "double_slash_redirecting        1.0\n",
       "Prefix_Suffix                   0.0\n",
       "having_Sub_Domain               2.0\n",
       "SSLfinal_State                  2.0\n",
       "Domain_registeration_length     0.0\n",
       "Favicon                         1.0\n",
       "port                            1.0\n",
       "HTTPS_token                     1.0\n",
       "Request_URL                     1.0\n",
       "URL_of_Anchor                   1.0\n",
       "Links_in_tags                   0.0\n",
       "SFH                             0.0\n",
       "Submitting_to_email             1.0\n",
       "Abnormal_URL                    1.0\n",
       "Redirect                        0.0\n",
       "on_mouseover                    1.0\n",
       "RightClick                      1.0\n",
       "popUpWidnow                     1.0\n",
       "Iframe                          1.0\n",
       "age_of_domain                   1.0\n",
       "DNSRecord                       1.0\n",
       "web_traffic                     2.0\n",
       "Page_Rank                       1.0\n",
       "Google_Index                    1.0\n",
       "Links_pointing_to_page          1.0\n",
       "Statistical_report              1.0\n",
       "Name: 425, dtype: float64"
      ]
     },
     "metadata": {},
     "output_type": "display_data"
    },
    {
     "name": "stdout",
     "output_type": "stream",
     "text": [
      "Running original instance:\n",
      " None\n"
     ]
    },
    {
     "name": "stderr",
     "output_type": "stream",
     "text": [
      "Processing...: 100%|██████████| 10/10 [00:19<00:00,  1.93s/it]\n"
     ]
    },
    {
     "data": {
      "text/plain": [
       "having_IP_Address               1.0\n",
       "URL_Length                      0.0\n",
       "Shortining_Service              1.0\n",
       "having_At_Symbol                1.0\n",
       "double_slash_redirecting        1.0\n",
       "Prefix_Suffix                   0.0\n",
       "having_Sub_Domain               1.0\n",
       "SSLfinal_State                  1.0\n",
       "Domain_registeration_length     1.0\n",
       "Favicon                         1.0\n",
       "port                            1.0\n",
       "HTTPS_token                     1.0\n",
       "Request_URL                     0.0\n",
       "URL_of_Anchor                   1.0\n",
       "Links_in_tags                   1.0\n",
       "SFH                             0.0\n",
       "Submitting_to_email             1.0\n",
       "Abnormal_URL                    1.0\n",
       "Redirect                        0.0\n",
       "on_mouseover                    1.0\n",
       "RightClick                      1.0\n",
       "popUpWidnow                     1.0\n",
       "Iframe                          1.0\n",
       "age_of_domain                   1.0\n",
       "DNSRecord                       1.0\n",
       "web_traffic                     0.0\n",
       "Page_Rank                       0.0\n",
       "Google_Index                    1.0\n",
       "Links_pointing_to_page          1.0\n",
       "Statistical_report              1.0\n",
       "Name: 652, dtype: float64"
      ]
     },
     "metadata": {},
     "output_type": "display_data"
    },
    {
     "name": "stdout",
     "output_type": "stream",
     "text": [
      "Running original instance:\n",
      " None\n"
     ]
    },
    {
     "name": "stderr",
     "output_type": "stream",
     "text": [
      "Processing...: 100%|██████████| 10/10 [00:22<00:00,  2.22s/it]\n"
     ]
    },
    {
     "data": {
      "text/plain": [
       "having_IP_Address               0.0\n",
       "URL_Length                      0.0\n",
       "Shortining_Service              0.0\n",
       "having_At_Symbol                1.0\n",
       "double_slash_redirecting        0.0\n",
       "Prefix_Suffix                   0.0\n",
       "having_Sub_Domain               0.0\n",
       "SSLfinal_State                  0.0\n",
       "Domain_registeration_length     0.0\n",
       "Favicon                         1.0\n",
       "port                            1.0\n",
       "HTTPS_token                     0.0\n",
       "Request_URL                     1.0\n",
       "URL_of_Anchor                   0.0\n",
       "Links_in_tags                   0.0\n",
       "SFH                             0.0\n",
       "Submitting_to_email             1.0\n",
       "Abnormal_URL                    0.0\n",
       "Redirect                        1.0\n",
       "on_mouseover                    1.0\n",
       "RightClick                      1.0\n",
       "popUpWidnow                     1.0\n",
       "Iframe                          1.0\n",
       "age_of_domain                   0.0\n",
       "DNSRecord                       0.0\n",
       "web_traffic                     2.0\n",
       "Page_Rank                       0.0\n",
       "Google_Index                    1.0\n",
       "Links_pointing_to_page          2.0\n",
       "Statistical_report              1.0\n",
       "Name: 541, dtype: float64"
      ]
     },
     "metadata": {},
     "output_type": "display_data"
    },
    {
     "name": "stdout",
     "output_type": "stream",
     "text": [
      "Running original instance:\n",
      " None\n"
     ]
    },
    {
     "name": "stderr",
     "output_type": "stream",
     "text": [
      "Processing...: 100%|██████████| 10/10 [00:22<00:00,  2.23s/it]\n"
     ]
    },
    {
     "data": {
      "text/plain": [
       "having_IP_Address               1.0\n",
       "URL_Length                      0.0\n",
       "Shortining_Service              1.0\n",
       "having_At_Symbol                1.0\n",
       "double_slash_redirecting        1.0\n",
       "Prefix_Suffix                   1.0\n",
       "having_Sub_Domain               0.0\n",
       "SSLfinal_State                  2.0\n",
       "Domain_registeration_length     0.0\n",
       "Favicon                         1.0\n",
       "port                            1.0\n",
       "HTTPS_token                     1.0\n",
       "Request_URL                     1.0\n",
       "URL_of_Anchor                   2.0\n",
       "Links_in_tags                   2.0\n",
       "SFH                             0.0\n",
       "Submitting_to_email             1.0\n",
       "Abnormal_URL                    1.0\n",
       "Redirect                        0.0\n",
       "on_mouseover                    1.0\n",
       "RightClick                      1.0\n",
       "popUpWidnow                     1.0\n",
       "Iframe                          1.0\n",
       "age_of_domain                   1.0\n",
       "DNSRecord                       1.0\n",
       "web_traffic                     2.0\n",
       "Page_Rank                       0.0\n",
       "Google_Index                    1.0\n",
       "Links_pointing_to_page          1.0\n",
       "Statistical_report              1.0\n",
       "Name: 899, dtype: float64"
      ]
     },
     "metadata": {},
     "output_type": "display_data"
    },
    {
     "name": "stdout",
     "output_type": "stream",
     "text": [
      "Running original instance:\n",
      " None\n"
     ]
    },
    {
     "name": "stderr",
     "output_type": "stream",
     "text": [
      "Processing...: 100%|██████████| 10/10 [00:20<00:00,  2.07s/it]\n"
     ]
    },
    {
     "data": {
      "text/plain": [
       "having_IP_Address               1.0\n",
       "URL_Length                      2.0\n",
       "Shortining_Service              1.0\n",
       "having_At_Symbol                1.0\n",
       "double_slash_redirecting        1.0\n",
       "Prefix_Suffix                   1.0\n",
       "having_Sub_Domain               0.0\n",
       "SSLfinal_State                  2.0\n",
       "Domain_registeration_length     0.0\n",
       "Favicon                         1.0\n",
       "port                            1.0\n",
       "HTTPS_token                     1.0\n",
       "Request_URL                     1.0\n",
       "URL_of_Anchor                   1.0\n",
       "Links_in_tags                   1.0\n",
       "SFH                             2.0\n",
       "Submitting_to_email             1.0\n",
       "Abnormal_URL                    1.0\n",
       "Redirect                        0.0\n",
       "on_mouseover                    1.0\n",
       "RightClick                      1.0\n",
       "popUpWidnow                     1.0\n",
       "Iframe                          1.0\n",
       "age_of_domain                   1.0\n",
       "DNSRecord                       1.0\n",
       "web_traffic                     2.0\n",
       "Page_Rank                       1.0\n",
       "Google_Index                    0.0\n",
       "Links_pointing_to_page          1.0\n",
       "Statistical_report              1.0\n",
       "Name: 839, dtype: float64"
      ]
     },
     "metadata": {},
     "output_type": "display_data"
    },
    {
     "name": "stdout",
     "output_type": "stream",
     "text": [
      "Running original instance:\n",
      " None\n"
     ]
    },
    {
     "name": "stderr",
     "output_type": "stream",
     "text": [
      "Processing...: 100%|██████████| 10/10 [00:21<00:00,  2.11s/it]\n"
     ]
    },
    {
     "data": {
      "text/plain": [
       "having_IP_Address               1.0\n",
       "URL_Length                      0.0\n",
       "Shortining_Service              1.0\n",
       "having_At_Symbol                0.0\n",
       "double_slash_redirecting        1.0\n",
       "Prefix_Suffix                   0.0\n",
       "having_Sub_Domain               1.0\n",
       "SSLfinal_State                  0.0\n",
       "Domain_registeration_length     0.0\n",
       "Favicon                         1.0\n",
       "port                            1.0\n",
       "HTTPS_token                     1.0\n",
       "Request_URL                     1.0\n",
       "URL_of_Anchor                   0.0\n",
       "Links_in_tags                   1.0\n",
       "SFH                             0.0\n",
       "Submitting_to_email             1.0\n",
       "Abnormal_URL                    1.0\n",
       "Redirect                        0.0\n",
       "on_mouseover                    1.0\n",
       "RightClick                      1.0\n",
       "popUpWidnow                     1.0\n",
       "Iframe                          1.0\n",
       "age_of_domain                   0.0\n",
       "DNSRecord                       0.0\n",
       "web_traffic                     0.0\n",
       "Page_Rank                       0.0\n",
       "Google_Index                    1.0\n",
       "Links_pointing_to_page          2.0\n",
       "Statistical_report              1.0\n",
       "Name: 469, dtype: float64"
      ]
     },
     "metadata": {},
     "output_type": "display_data"
    },
    {
     "name": "stdout",
     "output_type": "stream",
     "text": [
      "Running original instance:\n",
      " None\n"
     ]
    },
    {
     "name": "stderr",
     "output_type": "stream",
     "text": [
      "Processing...: 100%|██████████| 10/10 [00:25<00:00,  2.53s/it]\n"
     ]
    },
    {
     "data": {
      "text/plain": [
       "having_IP_Address               1.0\n",
       "URL_Length                      0.0\n",
       "Shortining_Service              1.0\n",
       "having_At_Symbol                1.0\n",
       "double_slash_redirecting        1.0\n",
       "Prefix_Suffix                   0.0\n",
       "having_Sub_Domain               1.0\n",
       "SSLfinal_State                  1.0\n",
       "Domain_registeration_length     0.0\n",
       "Favicon                         1.0\n",
       "port                            1.0\n",
       "HTTPS_token                     1.0\n",
       "Request_URL                     1.0\n",
       "URL_of_Anchor                   0.0\n",
       "Links_in_tags                   1.0\n",
       "SFH                             0.0\n",
       "Submitting_to_email             1.0\n",
       "Abnormal_URL                    1.0\n",
       "Redirect                        0.0\n",
       "on_mouseover                    1.0\n",
       "RightClick                      1.0\n",
       "popUpWidnow                     1.0\n",
       "Iframe                          1.0\n",
       "age_of_domain                   1.0\n",
       "DNSRecord                       0.0\n",
       "web_traffic                     0.0\n",
       "Page_Rank                       0.0\n",
       "Google_Index                    0.0\n",
       "Links_pointing_to_page          2.0\n",
       "Statistical_report              1.0\n",
       "Name: 559, dtype: float64"
      ]
     },
     "metadata": {},
     "output_type": "display_data"
    },
    {
     "name": "stdout",
     "output_type": "stream",
     "text": [
      "Running original instance:\n",
      " None\n"
     ]
    },
    {
     "name": "stderr",
     "output_type": "stream",
     "text": [
      "Processing...: 100%|██████████| 10/10 [00:21<00:00,  2.12s/it]\n"
     ]
    },
    {
     "data": {
      "text/plain": [
       "having_IP_Address               1.0\n",
       "URL_Length                      2.0\n",
       "Shortining_Service              1.0\n",
       "having_At_Symbol                1.0\n",
       "double_slash_redirecting        1.0\n",
       "Prefix_Suffix                   0.0\n",
       "having_Sub_Domain               0.0\n",
       "SSLfinal_State                  0.0\n",
       "Domain_registeration_length     1.0\n",
       "Favicon                         1.0\n",
       "port                            1.0\n",
       "HTTPS_token                     1.0\n",
       "Request_URL                     0.0\n",
       "URL_of_Anchor                   0.0\n",
       "Links_in_tags                   1.0\n",
       "SFH                             2.0\n",
       "Submitting_to_email             1.0\n",
       "Abnormal_URL                    1.0\n",
       "Redirect                        0.0\n",
       "on_mouseover                    1.0\n",
       "RightClick                      1.0\n",
       "popUpWidnow                     1.0\n",
       "Iframe                          1.0\n",
       "age_of_domain                   0.0\n",
       "DNSRecord                       0.0\n",
       "web_traffic                     1.0\n",
       "Page_Rank                       0.0\n",
       "Google_Index                    1.0\n",
       "Links_pointing_to_page          2.0\n",
       "Statistical_report              1.0\n",
       "Name: 641, dtype: float64"
      ]
     },
     "metadata": {},
     "output_type": "display_data"
    },
    {
     "name": "stdout",
     "output_type": "stream",
     "text": [
      "Running original instance:\n",
      " None\n"
     ]
    },
    {
     "name": "stderr",
     "output_type": "stream",
     "text": [
      "Processing...: 100%|██████████| 10/10 [00:26<00:00,  2.61s/it]\n"
     ]
    },
    {
     "data": {
      "text/plain": [
       "having_IP_Address               1.0\n",
       "URL_Length                      2.0\n",
       "Shortining_Service              1.0\n",
       "having_At_Symbol                0.0\n",
       "double_slash_redirecting        1.0\n",
       "Prefix_Suffix                   0.0\n",
       "having_Sub_Domain               1.0\n",
       "SSLfinal_State                  1.0\n",
       "Domain_registeration_length     1.0\n",
       "Favicon                         1.0\n",
       "port                            1.0\n",
       "HTTPS_token                     1.0\n",
       "Request_URL                     0.0\n",
       "URL_of_Anchor                   0.0\n",
       "Links_in_tags                   1.0\n",
       "SFH                             2.0\n",
       "Submitting_to_email             1.0\n",
       "Abnormal_URL                    1.0\n",
       "Redirect                        0.0\n",
       "on_mouseover                    1.0\n",
       "RightClick                      1.0\n",
       "popUpWidnow                     1.0\n",
       "Iframe                          1.0\n",
       "age_of_domain                   1.0\n",
       "DNSRecord                       1.0\n",
       "web_traffic                     0.0\n",
       "Page_Rank                       0.0\n",
       "Google_Index                    1.0\n",
       "Links_pointing_to_page          1.0\n",
       "Statistical_report              1.0\n",
       "Name: 557, dtype: float64"
      ]
     },
     "metadata": {},
     "output_type": "display_data"
    },
    {
     "name": "stdout",
     "output_type": "stream",
     "text": [
      "Running original instance:\n",
      " None\n"
     ]
    },
    {
     "name": "stderr",
     "output_type": "stream",
     "text": [
      "Processing...: 100%|██████████| 10/10 [00:26<00:00,  2.61s/it]\n"
     ]
    }
   ],
   "source": [
    "ccsse.run_causal()"
   ]
  },
  {
   "cell_type": "code",
   "execution_count": 11,
   "id": "0428bf56",
   "metadata": {},
   "outputs": [
    {
     "name": "stdout",
     "output_type": "stream",
     "text": [
      "Quantidade de instâncias contrafactuais = 110\n",
      "Quantidade de relações causais na base de dados = 104\n",
      "Quantidade de atributos modificados = 42\n",
      "Quantidade de instâncias contrafactuais causais = 13\n",
      "Quantidade de relações causais analisadas = 23\n",
      "Quantidade de relações causais satisfeitas = 20.0\n",
      "Quantidade de instâncias contrafactuais com um único atributo modificado = 2\n",
      "---------------------------------------------------------------------------------------\n"
     ]
    }
   ],
   "source": [
    "ccsse.show_metrics()"
   ]
  },
  {
   "cell_type": "markdown",
   "id": "000a163f",
   "metadata": {},
   "source": [
    "# ----------------------------------------------------------------------------------"
   ]
  },
  {
   "cell_type": "code",
   "execution_count": null,
   "id": "f49d96a2",
   "metadata": {},
   "outputs": [],
   "source": []
  }
 ],
 "metadata": {
  "kernelspec": {
   "display_name": "conda_python3",
   "language": "python",
   "name": "conda_python3"
  },
  "language_info": {
   "codemirror_mode": {
    "name": "ipython",
    "version": 3
   },
   "file_extension": ".py",
   "mimetype": "text/x-python",
   "name": "python",
   "nbconvert_exporter": "python",
   "pygments_lexer": "ipython3",
   "version": "3.10.14"
  }
 },
 "nbformat": 4,
 "nbformat_minor": 5
}
