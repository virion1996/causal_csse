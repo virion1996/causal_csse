{
 "cells": [
  {
   "cell_type": "code",
   "execution_count": 1,
   "id": "0cb1b312",
   "metadata": {},
   "outputs": [
    {
     "name": "stdout",
     "output_type": "stream",
     "text": [
      "Requirement already satisfied: lingam in /home/ec2-user/anaconda3/envs/python3/lib/python3.10/site-packages (1.8.3)\n",
      "Requirement already satisfied: numpy in /home/ec2-user/anaconda3/envs/python3/lib/python3.10/site-packages (from lingam) (1.26.4)\n",
      "Requirement already satisfied: scipy in /home/ec2-user/anaconda3/envs/python3/lib/python3.10/site-packages (from lingam) (1.11.4)\n",
      "Requirement already satisfied: scikit-learn in /home/ec2-user/anaconda3/envs/python3/lib/python3.10/site-packages (from lingam) (1.4.1.post1)\n",
      "Requirement already satisfied: graphviz in /home/ec2-user/anaconda3/envs/python3/lib/python3.10/site-packages (from lingam) (0.20.3)\n",
      "Requirement already satisfied: statsmodels in /home/ec2-user/anaconda3/envs/python3/lib/python3.10/site-packages (from lingam) (0.14.1)\n",
      "Requirement already satisfied: networkx in /home/ec2-user/anaconda3/envs/python3/lib/python3.10/site-packages (from lingam) (3.2.1)\n",
      "Requirement already satisfied: pandas in /home/ec2-user/anaconda3/envs/python3/lib/python3.10/site-packages (from lingam) (2.2.1)\n",
      "Requirement already satisfied: pygam in /home/ec2-user/anaconda3/envs/python3/lib/python3.10/site-packages (from lingam) (0.9.1)\n",
      "Requirement already satisfied: matplotlib in /home/ec2-user/anaconda3/envs/python3/lib/python3.10/site-packages (from lingam) (3.8.3)\n",
      "Requirement already satisfied: psy in /home/ec2-user/anaconda3/envs/python3/lib/python3.10/site-packages (from lingam) (0.0.1)\n",
      "Requirement already satisfied: semopy in /home/ec2-user/anaconda3/envs/python3/lib/python3.10/site-packages (from lingam) (2.3.11)\n",
      "Requirement already satisfied: contourpy>=1.0.1 in /home/ec2-user/anaconda3/envs/python3/lib/python3.10/site-packages (from matplotlib->lingam) (1.2.0)\n",
      "Requirement already satisfied: cycler>=0.10 in /home/ec2-user/anaconda3/envs/python3/lib/python3.10/site-packages (from matplotlib->lingam) (0.12.1)\n",
      "Requirement already satisfied: fonttools>=4.22.0 in /home/ec2-user/anaconda3/envs/python3/lib/python3.10/site-packages (from matplotlib->lingam) (4.50.0)\n",
      "Requirement already satisfied: kiwisolver>=1.3.1 in /home/ec2-user/anaconda3/envs/python3/lib/python3.10/site-packages (from matplotlib->lingam) (1.4.5)\n",
      "Requirement already satisfied: packaging>=20.0 in /home/ec2-user/anaconda3/envs/python3/lib/python3.10/site-packages (from matplotlib->lingam) (21.3)\n",
      "Requirement already satisfied: pillow>=8 in /home/ec2-user/anaconda3/envs/python3/lib/python3.10/site-packages (from matplotlib->lingam) (10.2.0)\n",
      "Requirement already satisfied: pyparsing>=2.3.1 in /home/ec2-user/anaconda3/envs/python3/lib/python3.10/site-packages (from matplotlib->lingam) (3.1.2)\n",
      "Requirement already satisfied: python-dateutil>=2.7 in /home/ec2-user/anaconda3/envs/python3/lib/python3.10/site-packages (from matplotlib->lingam) (2.9.0)\n",
      "Requirement already satisfied: pytz>=2020.1 in /home/ec2-user/anaconda3/envs/python3/lib/python3.10/site-packages (from pandas->lingam) (2024.1)\n",
      "Requirement already satisfied: tzdata>=2022.7 in /home/ec2-user/anaconda3/envs/python3/lib/python3.10/site-packages (from pandas->lingam) (2024.1)\n",
      "Requirement already satisfied: progressbar2 in /home/ec2-user/anaconda3/envs/python3/lib/python3.10/site-packages (from psy->lingam) (4.4.2)\n",
      "Requirement already satisfied: joblib>=1.2.0 in /home/ec2-user/anaconda3/envs/python3/lib/python3.10/site-packages (from scikit-learn->lingam) (1.3.2)\n",
      "Requirement already satisfied: threadpoolctl>=2.0.0 in /home/ec2-user/anaconda3/envs/python3/lib/python3.10/site-packages (from scikit-learn->lingam) (3.4.0)\n",
      "Requirement already satisfied: sympy in /home/ec2-user/anaconda3/envs/python3/lib/python3.10/site-packages (from semopy->lingam) (1.12)\n",
      "Requirement already satisfied: numdifftools in /home/ec2-user/anaconda3/envs/python3/lib/python3.10/site-packages (from semopy->lingam) (0.9.41)\n",
      "Requirement already satisfied: patsy>=0.5.4 in /home/ec2-user/anaconda3/envs/python3/lib/python3.10/site-packages (from statsmodels->lingam) (0.5.6)\n",
      "Requirement already satisfied: six in /home/ec2-user/anaconda3/envs/python3/lib/python3.10/site-packages (from patsy>=0.5.4->statsmodels->lingam) (1.16.0)\n",
      "Requirement already satisfied: python-utils>=3.8.1 in /home/ec2-user/anaconda3/envs/python3/lib/python3.10/site-packages (from progressbar2->psy->lingam) (3.8.2)\n",
      "Requirement already satisfied: mpmath>=0.19 in /home/ec2-user/anaconda3/envs/python3/lib/python3.10/site-packages (from sympy->semopy->lingam) (1.3.0)\n",
      "Requirement already satisfied: typing-extensions>3.10.0.2 in /home/ec2-user/anaconda3/envs/python3/lib/python3.10/site-packages (from python-utils>=3.8.1->progressbar2->psy->lingam) (4.10.0)\n"
     ]
    }
   ],
   "source": [
    "!pip install lingam"
   ]
  },
  {
   "cell_type": "code",
   "execution_count": 2,
   "id": "dbb18414",
   "metadata": {},
   "outputs": [],
   "source": [
    "#German\n",
    "from sklearn.ensemble import RandomForestClassifier\n",
    "from sklearn.metrics import classification_report\n",
    "from sklearn import metrics\n",
    "from sklearn.model_selection import train_test_split\n",
    "\n",
    "from csse import CSSE\n",
    "from prepare_dataset import *\n",
    "\n",
    "import pickle\n",
    "\n",
    "import numpy as np\n",
    "import pandas as pd\n",
    "import graphviz\n",
    "import lingam\n",
    "from lingam.utils import print_causal_directions, print_dagc, make_dot\n",
    "\n",
    "from tqdm import tqdm\n",
    "import random as rnd\n",
    "\n",
    "from IPython.display import display\n",
    "\n",
    "import warnings\n",
    "\n",
    "warnings.filterwarnings('ignore')"
   ]
  },
  {
   "cell_type": "code",
   "execution_count": 3,
   "id": "dcd0d018",
   "metadata": {},
   "outputs": [],
   "source": [
    "map_columns = {\n",
    "    'Unnamed: 0': 'index',\n",
    "    'x0': 'Sex',\n",
    "    'x1': 'Age',\n",
    "    'x2': 'Credit',\n",
    "    'x3': 'LoanDuration',\n",
    "}"
   ]
  },
  {
   "cell_type": "code",
   "execution_count": 4,
   "id": "b1582411",
   "metadata": {},
   "outputs": [],
   "source": [
    "# Read Dataset German\n",
    "x_train = pd.read_csv(\"data/algrec_german/X_train_short.csv\").rename(columns=map_columns)\n",
    "x_test = pd.read_csv(\"data/algrec_german/X_test_short.csv\").rename(columns=map_columns)\n",
    "y_train = pd.read_csv(\"data/algrec_german/y_train_short.csv\").rename(columns={'Unnamed: 0': 'index'})\n",
    "y_test = pd.read_csv(\"data/algrec_german/y_test_short.csv\").rename(columns={'Unnamed: 0': 'index'})\n",
    "\n",
    "x_train = x_train.set_index('index')\n",
    "x_test = x_test.set_index('index')\n",
    "y_train = y_train.set_index('index')\n",
    "y_test = y_test.set_index('index')\n",
    "\n",
    "dfx_full = pd.concat([x_train, x_test])\n",
    "dfy_full = pd.concat([y_train, y_test])"
   ]
  },
  {
   "cell_type": "code",
   "execution_count": 9,
   "id": "0e76d851",
   "metadata": {},
   "outputs": [
    {
     "data": {
      "text/html": [
       "<div>\n",
       "<style scoped>\n",
       "    .dataframe tbody tr th:only-of-type {\n",
       "        vertical-align: middle;\n",
       "    }\n",
       "\n",
       "    .dataframe tbody tr th {\n",
       "        vertical-align: top;\n",
       "    }\n",
       "\n",
       "    .dataframe thead th {\n",
       "        text-align: right;\n",
       "    }\n",
       "</style>\n",
       "<table border=\"1\" class=\"dataframe\">\n",
       "  <thead>\n",
       "    <tr style=\"text-align: right;\">\n",
       "      <th></th>\n",
       "      <th>Sex</th>\n",
       "      <th>Age</th>\n",
       "      <th>Credit</th>\n",
       "      <th>LoanDuration</th>\n",
       "      <th>y</th>\n",
       "    </tr>\n",
       "    <tr>\n",
       "      <th>index</th>\n",
       "      <th></th>\n",
       "      <th></th>\n",
       "      <th></th>\n",
       "      <th></th>\n",
       "      <th></th>\n",
       "    </tr>\n",
       "  </thead>\n",
       "  <tbody>\n",
       "    <tr>\n",
       "      <th>674</th>\n",
       "      <td>1.0</td>\n",
       "      <td>41.0</td>\n",
       "      <td>2580.0</td>\n",
       "      <td>21.0</td>\n",
       "      <td>0.0</td>\n",
       "    </tr>\n",
       "    <tr>\n",
       "      <th>123</th>\n",
       "      <td>1.0</td>\n",
       "      <td>63.0</td>\n",
       "      <td>781.0</td>\n",
       "      <td>10.0</td>\n",
       "      <td>1.0</td>\n",
       "    </tr>\n",
       "    <tr>\n",
       "      <th>167</th>\n",
       "      <td>0.0</td>\n",
       "      <td>20.0</td>\n",
       "      <td>1577.0</td>\n",
       "      <td>11.0</td>\n",
       "      <td>1.0</td>\n",
       "    </tr>\n",
       "    <tr>\n",
       "      <th>258</th>\n",
       "      <td>0.0</td>\n",
       "      <td>23.0</td>\n",
       "      <td>3812.0</td>\n",
       "      <td>15.0</td>\n",
       "      <td>1.0</td>\n",
       "    </tr>\n",
       "    <tr>\n",
       "      <th>583</th>\n",
       "      <td>1.0</td>\n",
       "      <td>33.0</td>\n",
       "      <td>2384.0</td>\n",
       "      <td>36.0</td>\n",
       "      <td>0.0</td>\n",
       "    </tr>\n",
       "  </tbody>\n",
       "</table>\n",
       "</div>"
      ],
      "text/plain": [
       "       Sex   Age  Credit  LoanDuration    y\n",
       "index                                      \n",
       "674    1.0  41.0  2580.0          21.0  0.0\n",
       "123    1.0  63.0   781.0          10.0  1.0\n",
       "167    0.0  20.0  1577.0          11.0  1.0\n",
       "258    0.0  23.0  3812.0          15.0  1.0\n",
       "583    1.0  33.0  2384.0          36.0  0.0"
      ]
     },
     "execution_count": 9,
     "metadata": {},
     "output_type": "execute_result"
    }
   ],
   "source": [
    "zxc = pd.concat([x_train, y_train], axis = 1)\n",
    "zxc.head()"
   ]
  },
  {
   "cell_type": "code",
   "execution_count": 10,
   "id": "d8fa37e0",
   "metadata": {},
   "outputs": [
    {
     "data": {
      "text/html": [
       "<div>\n",
       "<style scoped>\n",
       "    .dataframe tbody tr th:only-of-type {\n",
       "        vertical-align: middle;\n",
       "    }\n",
       "\n",
       "    .dataframe tbody tr th {\n",
       "        vertical-align: top;\n",
       "    }\n",
       "\n",
       "    .dataframe thead th {\n",
       "        text-align: right;\n",
       "    }\n",
       "</style>\n",
       "<table border=\"1\" class=\"dataframe\">\n",
       "  <thead>\n",
       "    <tr style=\"text-align: right;\">\n",
       "      <th></th>\n",
       "      <th>Sex</th>\n",
       "      <th>Age</th>\n",
       "      <th>Credit</th>\n",
       "      <th>LoanDuration</th>\n",
       "    </tr>\n",
       "    <tr>\n",
       "      <th>index</th>\n",
       "      <th></th>\n",
       "      <th></th>\n",
       "      <th></th>\n",
       "      <th></th>\n",
       "    </tr>\n",
       "  </thead>\n",
       "  <tbody>\n",
       "    <tr>\n",
       "      <th>674</th>\n",
       "      <td>1.0</td>\n",
       "      <td>41.0</td>\n",
       "      <td>2580.0</td>\n",
       "      <td>21.0</td>\n",
       "    </tr>\n",
       "    <tr>\n",
       "      <th>123</th>\n",
       "      <td>1.0</td>\n",
       "      <td>63.0</td>\n",
       "      <td>781.0</td>\n",
       "      <td>10.0</td>\n",
       "    </tr>\n",
       "    <tr>\n",
       "      <th>167</th>\n",
       "      <td>0.0</td>\n",
       "      <td>20.0</td>\n",
       "      <td>1577.0</td>\n",
       "      <td>11.0</td>\n",
       "    </tr>\n",
       "    <tr>\n",
       "      <th>258</th>\n",
       "      <td>0.0</td>\n",
       "      <td>23.0</td>\n",
       "      <td>3812.0</td>\n",
       "      <td>15.0</td>\n",
       "    </tr>\n",
       "    <tr>\n",
       "      <th>583</th>\n",
       "      <td>1.0</td>\n",
       "      <td>33.0</td>\n",
       "      <td>2384.0</td>\n",
       "      <td>36.0</td>\n",
       "    </tr>\n",
       "    <tr>\n",
       "      <th>...</th>\n",
       "      <td>...</td>\n",
       "      <td>...</td>\n",
       "      <td>...</td>\n",
       "      <td>...</td>\n",
       "    </tr>\n",
       "    <tr>\n",
       "      <th>614</th>\n",
       "      <td>0.0</td>\n",
       "      <td>22.0</td>\n",
       "      <td>1808.0</td>\n",
       "      <td>18.0</td>\n",
       "    </tr>\n",
       "    <tr>\n",
       "      <th>224</th>\n",
       "      <td>1.0</td>\n",
       "      <td>30.0</td>\n",
       "      <td>4657.0</td>\n",
       "      <td>15.0</td>\n",
       "    </tr>\n",
       "    <tr>\n",
       "      <th>447</th>\n",
       "      <td>1.0</td>\n",
       "      <td>35.0</td>\n",
       "      <td>2576.0</td>\n",
       "      <td>7.0</td>\n",
       "    </tr>\n",
       "    <tr>\n",
       "      <th>446</th>\n",
       "      <td>0.0</td>\n",
       "      <td>34.0</td>\n",
       "      <td>1842.0</td>\n",
       "      <td>36.0</td>\n",
       "    </tr>\n",
       "    <tr>\n",
       "      <th>203</th>\n",
       "      <td>1.0</td>\n",
       "      <td>21.0</td>\n",
       "      <td>902.0</td>\n",
       "      <td>12.0</td>\n",
       "    </tr>\n",
       "  </tbody>\n",
       "</table>\n",
       "<p>350 rows × 4 columns</p>\n",
       "</div>"
      ],
      "text/plain": [
       "       Sex   Age  Credit  LoanDuration\n",
       "index                                 \n",
       "674    1.0  41.0  2580.0          21.0\n",
       "123    1.0  63.0   781.0          10.0\n",
       "167    0.0  20.0  1577.0          11.0\n",
       "258    0.0  23.0  3812.0          15.0\n",
       "583    1.0  33.0  2384.0          36.0\n",
       "...    ...   ...     ...           ...\n",
       "614    0.0  22.0  1808.0          18.0\n",
       "224    1.0  30.0  4657.0          15.0\n",
       "447    1.0  35.0  2576.0           7.0\n",
       "446    0.0  34.0  1842.0          36.0\n",
       "203    1.0  21.0   902.0          12.0\n",
       "\n",
       "[350 rows x 4 columns]"
      ]
     },
     "execution_count": 10,
     "metadata": {},
     "output_type": "execute_result"
    }
   ],
   "source": [
    "x_train"
   ]
  },
  {
   "cell_type": "code",
   "execution_count": 100,
   "id": "c882a697",
   "metadata": {
    "scrolled": true
   },
   "outputs": [
    {
     "name": "stdout",
     "output_type": "stream",
     "text": [
      "              precision    recall  f1-score   support\n",
      "\n",
      "         0.0       0.47      0.65      0.55        66\n",
      "         1.0       0.61      0.43      0.50        84\n",
      "\n",
      "    accuracy                           0.53       150\n",
      "   macro avg       0.54      0.54      0.53       150\n",
      "weighted avg       0.55      0.53      0.52       150\n",
      "\n"
     ]
    }
   ],
   "source": [
    "model = RandomForestClassifier()  \n",
    "model.fit(x_train, y_train)\n",
    "\n",
    "index_samples = [747, 349, 646, 76, 890]\n",
    "\n",
    "x_test_sample = x_test.loc[index_samples]\n",
    "y_test_sample = y_test.loc[index_samples]\n",
    "\n",
    "\n",
    "p = model.predict(x_test)\n",
    "\n",
    "print(classification_report(y_test, p))\n",
    "\n",
    "K = 10 #Number of counterfactual explanations to be obtained\n",
    "\n",
    "explainerCSSE = CSSE(dfx_full, model, K = K, num_gen = 10)"
   ]
  },
  {
   "cell_type": "code",
   "execution_count": 101,
   "id": "ed201ad3",
   "metadata": {},
   "outputs": [],
   "source": [
    "# model_lingam = lingam.DirectLiNGAM()\n",
    "\n",
    "# result_lingam_bt = model_lingam.bootstrap(dfx_full, n_sampling=100)\n",
    "\n",
    "# causal_effects = result_lingam_bt.get_total_causal_effects(min_causal_effect=0.01)\n",
    "\n",
    "# df_causal_effects = pd.DataFrame(causal_effects)\n",
    "# labels = [f'{i}' for i in dfx_full.columns]\n",
    "\n",
    "# df_causal_effects['from'] = df_causal_effects['from'].apply(lambda x : labels[x])\n",
    "# df_causal_effects['to'] = df_causal_effects['to'].apply(lambda x : labels[x])\n",
    "\n",
    "# causal_order = [labels[x] for x in model_lingam.causal_order_]"
   ]
  },
  {
   "cell_type": "code",
   "execution_count": 102,
   "id": "bad9ebab",
   "metadata": {},
   "outputs": [],
   "source": [
    "# causal_order"
   ]
  },
  {
   "cell_type": "code",
   "execution_count": 103,
   "id": "055e192a",
   "metadata": {},
   "outputs": [],
   "source": [
    "# df_causal_effects"
   ]
  },
  {
   "cell_type": "code",
   "execution_count": 104,
   "id": "a35db163",
   "metadata": {},
   "outputs": [],
   "source": [
    "# make_dot(model_lingam.adjacency_matrix_)"
   ]
  },
  {
   "cell_type": "code",
   "execution_count": 105,
   "id": "e70e5d38",
   "metadata": {
    "scrolled": true
   },
   "outputs": [
    {
     "data": {
      "text/plain": [
       "<lingam.direct_lingam.DirectLiNGAM at 0x7f321e02c640>"
      ]
     },
     "execution_count": 105,
     "metadata": {},
     "output_type": "execute_result"
    }
   ],
   "source": [
    "model_lingam = lingam.DirectLiNGAM()\n",
    "model_lingam.fit(dfx_full)"
   ]
  },
  {
   "cell_type": "code",
   "execution_count": 106,
   "id": "efa38e51",
   "metadata": {},
   "outputs": [
    {
     "data": {
      "text/plain": [
       "['Sex', 'LoanDuration', 'Credit', 'Age']"
      ]
     },
     "execution_count": 106,
     "metadata": {},
     "output_type": "execute_result"
    }
   ],
   "source": [
    "labels = [f'{i}' for i in dfx_full.columns]\n",
    "causal_order = [labels[x] for x in model_lingam.causal_order_]\n",
    "causal_order"
   ]
  },
  {
   "cell_type": "code",
   "execution_count": 107,
   "id": "73169a9f",
   "metadata": {},
   "outputs": [
    {
     "data": {
      "text/html": [
       "<div>\n",
       "<style scoped>\n",
       "    .dataframe tbody tr th:only-of-type {\n",
       "        vertical-align: middle;\n",
       "    }\n",
       "\n",
       "    .dataframe tbody tr th {\n",
       "        vertical-align: top;\n",
       "    }\n",
       "\n",
       "    .dataframe thead th {\n",
       "        text-align: right;\n",
       "    }\n",
       "</style>\n",
       "<table border=\"1\" class=\"dataframe\">\n",
       "  <thead>\n",
       "    <tr style=\"text-align: right;\">\n",
       "      <th></th>\n",
       "      <th>from</th>\n",
       "      <th>to</th>\n",
       "      <th>effect</th>\n",
       "    </tr>\n",
       "  </thead>\n",
       "  <tbody>\n",
       "    <tr>\n",
       "      <th>0</th>\n",
       "      <td>Sex</td>\n",
       "      <td>Age</td>\n",
       "      <td>5.592995</td>\n",
       "    </tr>\n",
       "    <tr>\n",
       "      <th>1</th>\n",
       "      <td>LoanDuration</td>\n",
       "      <td>Credit</td>\n",
       "      <td>142.214200</td>\n",
       "    </tr>\n",
       "  </tbody>\n",
       "</table>\n",
       "</div>"
      ],
      "text/plain": [
       "           from      to      effect\n",
       "0           Sex     Age    5.592995\n",
       "1  LoanDuration  Credit  142.214200"
      ]
     },
     "execution_count": 107,
     "metadata": {},
     "output_type": "execute_result"
    }
   ],
   "source": [
    "matrix_adj = model_lingam.adjacency_matrix_\n",
    "from_list = []\n",
    "to_list = []\n",
    "effect_list = []\n",
    "\n",
    "# Iteração sobre a matriz para extrair os valores e suas posições\n",
    "for i in range(len(matrix_adj)):\n",
    "    for j in range(len(matrix_adj[i])):\n",
    "        if matrix_adj[i][j] != 0:\n",
    "            from_list.append(j)\n",
    "            to_list.append(i)\n",
    "            effect_list.append(matrix_adj[i][j])\n",
    "\n",
    "# Criando o DataFrame\n",
    "df_causal_effects = pd.DataFrame({'from': from_list, 'to': to_list, 'effect': effect_list})\n",
    "labels = [f'{i}' for i in dfx_full.columns]\n",
    "df_causal_effects['from'] = df_causal_effects['from'].apply(lambda x : labels[x])\n",
    "df_causal_effects['to'] = df_causal_effects['to'].apply(lambda x : labels[x])\n",
    "df_causal_effects"
   ]
  },
  {
   "cell_type": "code",
   "execution_count": 108,
   "id": "ef878fb9",
   "metadata": {},
   "outputs": [
    {
     "data": {
      "image/svg+xml": [
       "<?xml version=\"1.0\" encoding=\"UTF-8\" standalone=\"no\"?>\n",
       "<!DOCTYPE svg PUBLIC \"-//W3C//DTD SVG 1.1//EN\"\n",
       " \"http://www.w3.org/Graphics/SVG/1.1/DTD/svg11.dtd\">\n",
       "<!-- Generated by graphviz version 2.30.1 (20180828.1746)\n",
       " -->\n",
       "<!-- Title: %3 Pages: 1 -->\n",
       "<svg width=\"145pt\" height=\"132pt\"\n",
       " viewBox=\"0.00 0.00 145.00 132.00\" xmlns=\"http://www.w3.org/2000/svg\" xmlns:xlink=\"http://www.w3.org/1999/xlink\">\n",
       "<g id=\"graph0\" class=\"graph\" transform=\"scale(1 1) rotate(0) translate(4 128)\">\n",
       "<title>%3</title>\n",
       "<polygon fill=\"white\" stroke=\"white\" points=\"-4,5 -4,-128 142,-128 142,5 -4,5\"/>\n",
       "<!-- x0 -->\n",
       "<g id=\"node1\" class=\"node\"><title>x0</title>\n",
       "<ellipse fill=\"none\" stroke=\"black\" cx=\"27\" cy=\"-106\" rx=\"27\" ry=\"18\"/>\n",
       "<text text-anchor=\"middle\" x=\"27\" y=\"-102.3\" font-family=\"Times,serif\" font-size=\"14.00\">x0</text>\n",
       "</g>\n",
       "<!-- x1 -->\n",
       "<g id=\"node2\" class=\"node\"><title>x1</title>\n",
       "<ellipse fill=\"none\" stroke=\"black\" cx=\"27\" cy=\"-18\" rx=\"27\" ry=\"18\"/>\n",
       "<text text-anchor=\"middle\" x=\"27\" y=\"-14.3\" font-family=\"Times,serif\" font-size=\"14.00\">x1</text>\n",
       "</g>\n",
       "<!-- x0&#45;&gt;x1 -->\n",
       "<g id=\"edge1\" class=\"edge\"><title>x0&#45;&gt;x1</title>\n",
       "<path fill=\"none\" stroke=\"black\" d=\"M27,-87.5966C27,-75.7459 27,-59.8169 27,-46.2917\"/>\n",
       "<polygon fill=\"black\" stroke=\"black\" points=\"30.5001,-46.084 27,-36.084 23.5001,-46.084 30.5001,-46.084\"/>\n",
       "<text text-anchor=\"middle\" x=\"39.5\" y=\"-58.3\" font-family=\"Times,serif\" font-size=\"14.00\">5.59</text>\n",
       "</g>\n",
       "<!-- x2 -->\n",
       "<g id=\"node3\" class=\"node\"><title>x2</title>\n",
       "<ellipse fill=\"none\" stroke=\"black\" cx=\"99\" cy=\"-18\" rx=\"27\" ry=\"18\"/>\n",
       "<text text-anchor=\"middle\" x=\"99\" y=\"-14.3\" font-family=\"Times,serif\" font-size=\"14.00\">x2</text>\n",
       "</g>\n",
       "<!-- x3 -->\n",
       "<g id=\"node4\" class=\"node\"><title>x3</title>\n",
       "<ellipse fill=\"none\" stroke=\"black\" cx=\"99\" cy=\"-106\" rx=\"27\" ry=\"18\"/>\n",
       "<text text-anchor=\"middle\" x=\"99\" y=\"-102.3\" font-family=\"Times,serif\" font-size=\"14.00\">x3</text>\n",
       "</g>\n",
       "<!-- x3&#45;&gt;x2 -->\n",
       "<g id=\"edge2\" class=\"edge\"><title>x3&#45;&gt;x2</title>\n",
       "<path fill=\"none\" stroke=\"black\" d=\"M99,-87.5966C99,-75.7459 99,-59.8169 99,-46.2917\"/>\n",
       "<polygon fill=\"black\" stroke=\"black\" points=\"102.5,-46.084 99,-36.084 95.5001,-46.084 102.5,-46.084\"/>\n",
       "<text text-anchor=\"middle\" x=\"118\" y=\"-58.3\" font-family=\"Times,serif\" font-size=\"14.00\">142.21</text>\n",
       "</g>\n",
       "</g>\n",
       "</svg>\n"
      ],
      "text/plain": [
       "<graphviz.graphs.Digraph at 0x7f321e9fa380>"
      ]
     },
     "execution_count": 108,
     "metadata": {},
     "output_type": "execute_result"
    }
   ],
   "source": [
    "make_dot(model_lingam.adjacency_matrix_)"
   ]
  },
  {
   "cell_type": "code",
   "execution_count": 109,
   "id": "27d72dda",
   "metadata": {},
   "outputs": [
    {
     "data": {
      "text/html": [
       "<div>\n",
       "<style scoped>\n",
       "    .dataframe tbody tr th:only-of-type {\n",
       "        vertical-align: middle;\n",
       "    }\n",
       "\n",
       "    .dataframe tbody tr th {\n",
       "        vertical-align: top;\n",
       "    }\n",
       "\n",
       "    .dataframe thead th {\n",
       "        text-align: right;\n",
       "    }\n",
       "</style>\n",
       "<table border=\"1\" class=\"dataframe\">\n",
       "  <thead>\n",
       "    <tr style=\"text-align: right;\">\n",
       "      <th></th>\n",
       "      <th>from</th>\n",
       "      <th>to</th>\n",
       "      <th>effect</th>\n",
       "    </tr>\n",
       "  </thead>\n",
       "  <tbody>\n",
       "    <tr>\n",
       "      <th>0</th>\n",
       "      <td>Age</td>\n",
       "      <td>Sex</td>\n",
       "      <td>3.280976e-04</td>\n",
       "    </tr>\n",
       "    <tr>\n",
       "      <th>1</th>\n",
       "      <td>Credit</td>\n",
       "      <td>Sex</td>\n",
       "      <td>1.105868e-01</td>\n",
       "    </tr>\n",
       "    <tr>\n",
       "      <th>2</th>\n",
       "      <td>LoanDuration</td>\n",
       "      <td>Sex</td>\n",
       "      <td>3.242078e-01</td>\n",
       "    </tr>\n",
       "    <tr>\n",
       "      <th>3</th>\n",
       "      <td>Credit</td>\n",
       "      <td>Age</td>\n",
       "      <td>1.291857e-01</td>\n",
       "    </tr>\n",
       "    <tr>\n",
       "      <th>4</th>\n",
       "      <td>LoanDuration</td>\n",
       "      <td>Age</td>\n",
       "      <td>9.443619e-01</td>\n",
       "    </tr>\n",
       "    <tr>\n",
       "      <th>5</th>\n",
       "      <td>LoanDuration</td>\n",
       "      <td>Credit</td>\n",
       "      <td>1.834313e-41</td>\n",
       "    </tr>\n",
       "  </tbody>\n",
       "</table>\n",
       "</div>"
      ],
      "text/plain": [
       "           from      to        effect\n",
       "0           Age     Sex  3.280976e-04\n",
       "1        Credit     Sex  1.105868e-01\n",
       "2  LoanDuration     Sex  3.242078e-01\n",
       "3        Credit     Age  1.291857e-01\n",
       "4  LoanDuration     Age  9.443619e-01\n",
       "5  LoanDuration  Credit  1.834313e-41"
      ]
     },
     "execution_count": 109,
     "metadata": {},
     "output_type": "execute_result"
    }
   ],
   "source": [
    "matrix_error = model_lingam.get_error_independence_p_values(dfx_full)\n",
    "from_list = []\n",
    "to_list = []\n",
    "effect_list = []\n",
    "\n",
    "# Iteração sobre a matriz para extrair os valores e suas posições\n",
    "for i in range(len(matrix_error)):\n",
    "    for j in range(i + 1, len(matrix_error[i])):\n",
    "        if matrix_error[i][j] != 0:\n",
    "            from_list.append(j)\n",
    "            to_list.append(i)\n",
    "            effect_list.append(matrix_error[i][j])\n",
    "\n",
    "# Criando o DataFrame\n",
    "df_error = pd.DataFrame({'from': from_list, 'to': to_list, 'effect': effect_list})\n",
    "labels = [f'{i}' for i in dfx_full.columns]\n",
    "df_error['from'] = df_error['from'].apply(lambda x : labels[x])\n",
    "df_error['to'] = df_error['to'].apply(lambda x : labels[x])\n",
    "df_error"
   ]
  },
  {
   "cell_type": "code",
   "execution_count": 110,
   "id": "c1b06655",
   "metadata": {},
   "outputs": [
    {
     "data": {
      "text/plain": [
       "array([[0.00000000e+00, 3.28097607e-04, 1.10586805e-01, 3.24207821e-01],\n",
       "       [3.28097607e-04, 0.00000000e+00, 1.29185668e-01, 9.44361892e-01],\n",
       "       [1.10586805e-01, 1.29185668e-01, 0.00000000e+00, 1.83431285e-41],\n",
       "       [3.24207821e-01, 9.44361892e-01, 1.83431285e-41, 0.00000000e+00]])"
      ]
     },
     "execution_count": 110,
     "metadata": {},
     "output_type": "execute_result"
    }
   ],
   "source": [
    "matrix_error"
   ]
  },
  {
   "cell_type": "code",
   "execution_count": 111,
   "id": "4d931be5",
   "metadata": {},
   "outputs": [],
   "source": [
    "def apply_causality(df):\n",
    "    df_apply_causal = pd.DataFrame(columns = df.columns)\n",
    "    original = df.iloc[0]\n",
    "    df_apply_causal.loc[0] = original\n",
    "    for index, df_row in df.iloc[1:].iterrows():\n",
    "        causal_ind = df_row.copy()\n",
    "        for column in causal_order:\n",
    "            value_diff = causal_ind[column] - original[column]\n",
    "            if value_diff != 0:\n",
    "                tmp_effects = df_causal_effects[df_causal_effects['from'] == column]\n",
    "                for index, row in tmp_effects.iterrows():\n",
    "#                     prob = rnd.random()\n",
    "#                     if row['probability'] <= prob:\n",
    "                    tmp_error = df_error[df_error['from'].isin([column, row['to']]) | df_error['to'].isin([column, row['to']])]\n",
    "                    error_value = tmp_error['effect'].iloc[0]\n",
    "#                     print(f'error value = {error_value}')\n",
    "                    causal_ind[row['to']] = causal_ind[row['to']] + (value_diff * row['effect']) + tmp_error['effect'].iloc[0]\n",
    "        df_apply_causal.loc[len(df_apply_causal)] = causal_ind\n",
    "    return df_apply_causal\n",
    "    \n",
    "def euclidean_distance(series1, series2):\n",
    "    # Verificando se as séries têm o mesmo comprimento\n",
    "    if len(series1) != len(series2):\n",
    "        raise ValueError(\"As séries devem ter o mesmo comprimento.\")\n",
    "    \n",
    "    # Calculando a diferença quadrática entre os elementos das séries\n",
    "    squared_diff = (series1 - series2) ** 2\n",
    "    \n",
    "    # Calculando a soma das diferenças quadráticas\n",
    "    sum_squared_diff = np.sum(squared_diff)\n",
    "    \n",
    "    # Calculando a raiz quadrada da soma\n",
    "    euclidean_dist = np.sqrt(sum_squared_diff)\n",
    "    \n",
    "    return euclidean_dist\n",
    "\n",
    "def get_contrafac_df_causal(solution_list_causal):\n",
    "    lista_solution_causal = [[t.column for t in sublist] for sublist in solution_list_causal]\n",
    "\n",
    "    # Inicializa uma lista para armazenar os resultados\n",
    "    resultados = []\n",
    "\n",
    "    # Loop sobre os valores na lista\n",
    "    for lista_valores in lista_solution_causal:\n",
    "        if len(lista_valores) > 1:\n",
    "            for v1 in lista_valores:\n",
    "                for v2 in lista_valores:\n",
    "                    if v1 != v2:\n",
    "                        # Cria uma condição para cada par de valores diferentes na lista\n",
    "                        condicao = (df_causal_effects['to'].isin([v1, v2])) & (df_causal_effects['from'].isin([v1, v2]))\n",
    "                        # Realiza a busca no DataFrame usando a condição e armazena os resultados\n",
    "                        resultados.append(df_causal_effects[condicao])\n",
    "\n",
    "    # Concatena os resultados em um único DataFrame\n",
    "    if resultados:\n",
    "        resultado_final = pd.concat(resultados)\n",
    "        resultado_final = resultado_final.drop_duplicates()\n",
    "    else:\n",
    "        resultado_final = pd.DataFrame(columns = df_causal_effects.columns)\n",
    "        \n",
    "    return resultado_final\n",
    "\n",
    "def analyse_contrafac(contrafac, df, original_ind):\n",
    "    columns = [x.column for x in contrafac]\n",
    "    condicao = (df['to'].isin(columns)) & (df['from'].isin(columns))\n",
    "    ind = original_ind[columns]\n",
    "    return [contrafac, df[condicao], ind]\n",
    "\n",
    "def verificar_condicoes(row):\n",
    "    if (row['from'] == 'mais' and row['to'] == 'mais' and row['effect'] > 0):\n",
    "        return True\n",
    "    elif row['from'] == 'menos' and row['to'] == 'menos' and row['effect'] > 0:\n",
    "        return True\n",
    "    elif row['from'] == 'mais' and row['to'] == 'menos' and row['effect'] < 0:\n",
    "        return True\n",
    "    elif row['from'] == 'menos' and row['to'] == 'mais' and row['effect'] < 0:\n",
    "        return True\n",
    "    else:\n",
    "        return False"
   ]
  },
  {
   "cell_type": "code",
   "execution_count": 112,
   "id": "466d463a",
   "metadata": {},
   "outputs": [],
   "source": [
    "def get_causal_explain(X):\n",
    "    original_ind = x_test.iloc[X].copy() #Original instance\n",
    "    #self.ind_cur_class = ind_cur_class #Index in the shap corresponds to the original instance class\n",
    "    explainerCSSE.current_class = p[X] #Original instance class\n",
    "    explainerCSSE.original_ind = original_ind\n",
    "\n",
    "    ind_cur_class = explainerCSSE.getBadClass()\n",
    "\n",
    "    #Gets the valid values range of each feature\n",
    "    features_range = []\n",
    "    features_range = explainerCSSE.getFeaturesRange()\n",
    "\n",
    "    #The DataFrame df will have the current population\n",
    "    df = pd.DataFrame(columns=explainerCSSE.input_dataset.columns)\n",
    "\n",
    "    #Generates the initial population with popinitial mutants        \n",
    "    explainerCSSE.getPopInicial(df, features_range)\n",
    "    df_causal = df.copy()\n",
    "    dict_dfs = {}\n",
    "\n",
    "    # for g in tqdm(range(explainerCSSE.num_gen), desc= \"Processing...\"):\n",
    "    for g in tqdm(range(10), desc= \"Processing...\"):\n",
    "\n",
    "        #To use on the parents of each generation\n",
    "        parents = pd.DataFrame(columns=explainerCSSE.input_dataset.columns)\n",
    "\n",
    "        #Copy parents to the next generation\n",
    "        parents = df_causal.copy()\n",
    "        dict_dfs[g] = {}\n",
    "\n",
    "        parents_causal = apply_causality(parents)\n",
    "        dict_dfs[g]['causal_parents'] = parents_causal\n",
    "        #df will contain the new population\n",
    "        df_causal = pd.DataFrame(columns=explainerCSSE.input_dataset.columns)\n",
    "        evaluation_causal = []\n",
    "\n",
    "        #Assessing generation counterfactuals\n",
    "        explainerCSSE.fitness(dict_dfs[g]['causal_parents'], evaluation_causal, ind_cur_class)\n",
    "\n",
    "        #The original individual will always be in the 0 position of the df - So that it is normalized too (it will be used later in the distance function)\n",
    "        df_causal.loc[0] = original_ind.copy()\n",
    "\n",
    "        #Copies to the next generation the per_elit best individuals\n",
    "        explainerCSSE.elitism(evaluation_causal, df_causal, parents_causal)\n",
    "        number_cross_repetitions = 0\n",
    "        while len(df_causal) < explainerCSSE.pop_size + 1: #+1, as the 1st position is used to store the reference individual\n",
    "            number_cross_repetitions_causal = explainerCSSE.crossover(df_causal, parents_causal, evaluation_causal, number_cross_repetitions)\n",
    "\n",
    "            mutation_op = rnd.random()\n",
    "            if mutation_op <= explainerCSSE.mutation_proba:\n",
    "                explainerCSSE.mutation(df_causal, len(df_causal) - 1, features_range)\n",
    "\n",
    "\n",
    "    evaluation = []\n",
    "    evaluation_causal = []\n",
    "\n",
    "    #Evaluating the latest generation\n",
    "    explainerCSSE.fitness(df_causal, evaluation_causal, ind_cur_class)\n",
    "\n",
    "    #Order the last generation by distance to the original instance     \n",
    "    evaluation_causal.sort(key=lambda individual: individual.aval_norm) \n",
    "\n",
    "    #Getting the counterfactual CAUSAL set\n",
    "    contrafactual_set_causal, solution_list_causal = explainerCSSE.getContrafactual(df_causal, evaluation_causal) \n",
    "\n",
    "    dict_dfs['contrafactual_set_causal'] = contrafactual_set_causal\n",
    "    dict_dfs['solution_list_causal'] = solution_list_causal\n",
    "    df_contrafac_causal = get_contrafac_df_causal(solution_list_causal)\n",
    "    return [solution_list_causal, df_contrafac_causal, original_ind]"
   ]
  },
  {
   "cell_type": "code",
   "execution_count": 113,
   "id": "1b278966",
   "metadata": {},
   "outputs": [],
   "source": [
    "def run(original_row):\n",
    "    response_list = get_causal_explain(original_row)\n",
    "    list_analyse = []\n",
    "    for contrafac_causal in response_list[0]:\n",
    "        list_analyse.append(analyse_contrafac(contrafac_causal, response_list[1], response_list[2]))\n",
    "    return list_analyse"
   ]
  },
  {
   "cell_type": "code",
   "execution_count": 114,
   "id": "0e579d3d",
   "metadata": {},
   "outputs": [
    {
     "name": "stdout",
     "output_type": "stream",
     "text": [
      "CPU times: user 3 µs, sys: 0 ns, total: 3 µs\n",
      "Wall time: 6.44 µs\n",
      "\n",
      "run 0\n"
     ]
    },
    {
     "name": "stderr",
     "output_type": "stream",
     "text": [
      "Processing...: 100%|██████████| 10/10 [00:15<00:00,  1.59s/it]"
     ]
    },
    {
     "name": "stdout",
     "output_type": "stream",
     "text": [
      "causal = \n",
      "[('Credit', 1517.2968693271691)]\n",
      "\n",
      "original = \n",
      "Credit    1274.0\n",
      "Name: 747, dtype: float64\n",
      "\n"
     ]
    },
    {
     "name": "stderr",
     "output_type": "stream",
     "text": [
      "\n"
     ]
    },
    {
     "data": {
      "text/html": [
       "<div>\n",
       "<style scoped>\n",
       "    .dataframe tbody tr th:only-of-type {\n",
       "        vertical-align: middle;\n",
       "    }\n",
       "\n",
       "    .dataframe tbody tr th {\n",
       "        vertical-align: top;\n",
       "    }\n",
       "\n",
       "    .dataframe thead th {\n",
       "        text-align: right;\n",
       "    }\n",
       "</style>\n",
       "<table border=\"1\" class=\"dataframe\">\n",
       "  <thead>\n",
       "    <tr style=\"text-align: right;\">\n",
       "      <th></th>\n",
       "      <th>from</th>\n",
       "      <th>to</th>\n",
       "      <th>effect</th>\n",
       "      <th>causal</th>\n",
       "    </tr>\n",
       "  </thead>\n",
       "  <tbody>\n",
       "  </tbody>\n",
       "</table>\n",
       "</div>"
      ],
      "text/plain": [
       "Empty DataFrame\n",
       "Columns: [from, to, effect, causal]\n",
       "Index: []"
      ]
     },
     "metadata": {},
     "output_type": "display_data"
    },
    {
     "name": "stdout",
     "output_type": "stream",
     "text": [
      "df_temp = \n",
      "None\n",
      "\n",
      "---------------------------------------------------\n",
      "\n",
      "causal = \n",
      "[('Age', 39.01380620164016)]\n",
      "\n",
      "original = \n",
      "Age    37.0\n",
      "Name: 747, dtype: float64\n",
      "\n"
     ]
    },
    {
     "data": {
      "text/html": [
       "<div>\n",
       "<style scoped>\n",
       "    .dataframe tbody tr th:only-of-type {\n",
       "        vertical-align: middle;\n",
       "    }\n",
       "\n",
       "    .dataframe tbody tr th {\n",
       "        vertical-align: top;\n",
       "    }\n",
       "\n",
       "    .dataframe thead th {\n",
       "        text-align: right;\n",
       "    }\n",
       "</style>\n",
       "<table border=\"1\" class=\"dataframe\">\n",
       "  <thead>\n",
       "    <tr style=\"text-align: right;\">\n",
       "      <th></th>\n",
       "      <th>from</th>\n",
       "      <th>to</th>\n",
       "      <th>effect</th>\n",
       "      <th>causal</th>\n",
       "    </tr>\n",
       "  </thead>\n",
       "  <tbody>\n",
       "  </tbody>\n",
       "</table>\n",
       "</div>"
      ],
      "text/plain": [
       "Empty DataFrame\n",
       "Columns: [from, to, effect, causal]\n",
       "Index: []"
      ]
     },
     "metadata": {},
     "output_type": "display_data"
    },
    {
     "name": "stdout",
     "output_type": "stream",
     "text": [
      "df_temp = \n",
      "None\n",
      "\n",
      "---------------------------------------------------\n",
      "\n",
      "causal = \n",
      "[('Sex', 0.53), ('Age', 36.71)]\n",
      "\n",
      "original = \n",
      "Sex     0.0\n",
      "Age    37.0\n",
      "Name: 747, dtype: float64\n",
      "\n"
     ]
    },
    {
     "data": {
      "text/html": [
       "<div>\n",
       "<style scoped>\n",
       "    .dataframe tbody tr th:only-of-type {\n",
       "        vertical-align: middle;\n",
       "    }\n",
       "\n",
       "    .dataframe tbody tr th {\n",
       "        vertical-align: top;\n",
       "    }\n",
       "\n",
       "    .dataframe thead th {\n",
       "        text-align: right;\n",
       "    }\n",
       "</style>\n",
       "<table border=\"1\" class=\"dataframe\">\n",
       "  <thead>\n",
       "    <tr style=\"text-align: right;\">\n",
       "      <th></th>\n",
       "      <th>from</th>\n",
       "      <th>to</th>\n",
       "      <th>effect</th>\n",
       "      <th>causal</th>\n",
       "    </tr>\n",
       "  </thead>\n",
       "  <tbody>\n",
       "    <tr>\n",
       "      <th>0</th>\n",
       "      <td>mais</td>\n",
       "      <td>menos</td>\n",
       "      <td>5.592995</td>\n",
       "      <td>False</td>\n",
       "    </tr>\n",
       "  </tbody>\n",
       "</table>\n",
       "</div>"
      ],
      "text/plain": [
       "   from     to    effect  causal\n",
       "0  mais  menos  5.592995   False"
      ]
     },
     "metadata": {},
     "output_type": "display_data"
    },
    {
     "name": "stdout",
     "output_type": "stream",
     "text": [
      "df_temp = \n",
      "None\n",
      "\n",
      "nenhuma relaçao causal satisfeita\n",
      "---------------------------------------------------\n",
      "\n",
      "\n",
      "run 1\n"
     ]
    },
    {
     "name": "stderr",
     "output_type": "stream",
     "text": [
      "Processing...: 100%|██████████| 10/10 [00:16<00:00,  1.69s/it]"
     ]
    },
    {
     "name": "stdout",
     "output_type": "stream",
     "text": [
      "causal = \n",
      "[('Credit', 1472.0678599418534)]\n",
      "\n",
      "original = \n",
      "Credit    1136.0\n",
      "Name: 349, dtype: float64\n",
      "\n"
     ]
    },
    {
     "name": "stderr",
     "output_type": "stream",
     "text": [
      "\n"
     ]
    },
    {
     "data": {
      "text/html": [
       "<div>\n",
       "<style scoped>\n",
       "    .dataframe tbody tr th:only-of-type {\n",
       "        vertical-align: middle;\n",
       "    }\n",
       "\n",
       "    .dataframe tbody tr th {\n",
       "        vertical-align: top;\n",
       "    }\n",
       "\n",
       "    .dataframe thead th {\n",
       "        text-align: right;\n",
       "    }\n",
       "</style>\n",
       "<table border=\"1\" class=\"dataframe\">\n",
       "  <thead>\n",
       "    <tr style=\"text-align: right;\">\n",
       "      <th></th>\n",
       "      <th>from</th>\n",
       "      <th>to</th>\n",
       "      <th>effect</th>\n",
       "      <th>causal</th>\n",
       "    </tr>\n",
       "  </thead>\n",
       "  <tbody>\n",
       "  </tbody>\n",
       "</table>\n",
       "</div>"
      ],
      "text/plain": [
       "Empty DataFrame\n",
       "Columns: [from, to, effect, causal]\n",
       "Index: []"
      ]
     },
     "metadata": {},
     "output_type": "display_data"
    },
    {
     "name": "stdout",
     "output_type": "stream",
     "text": [
      "df_temp = \n",
      "None\n",
      "\n",
      "---------------------------------------------------\n",
      "\n",
      "causal = \n",
      "[('Age', 26.798842995522268)]\n",
      "\n",
      "original = \n",
      "Age    32.0\n",
      "Name: 349, dtype: float64\n",
      "\n"
     ]
    },
    {
     "data": {
      "text/html": [
       "<div>\n",
       "<style scoped>\n",
       "    .dataframe tbody tr th:only-of-type {\n",
       "        vertical-align: middle;\n",
       "    }\n",
       "\n",
       "    .dataframe tbody tr th {\n",
       "        vertical-align: top;\n",
       "    }\n",
       "\n",
       "    .dataframe thead th {\n",
       "        text-align: right;\n",
       "    }\n",
       "</style>\n",
       "<table border=\"1\" class=\"dataframe\">\n",
       "  <thead>\n",
       "    <tr style=\"text-align: right;\">\n",
       "      <th></th>\n",
       "      <th>from</th>\n",
       "      <th>to</th>\n",
       "      <th>effect</th>\n",
       "      <th>causal</th>\n",
       "    </tr>\n",
       "  </thead>\n",
       "  <tbody>\n",
       "  </tbody>\n",
       "</table>\n",
       "</div>"
      ],
      "text/plain": [
       "Empty DataFrame\n",
       "Columns: [from, to, effect, causal]\n",
       "Index: []"
      ]
     },
     "metadata": {},
     "output_type": "display_data"
    },
    {
     "name": "stdout",
     "output_type": "stream",
     "text": [
      "df_temp = \n",
      "None\n",
      "\n",
      "---------------------------------------------------\n",
      "\n",
      "\n",
      "run 2\n"
     ]
    },
    {
     "name": "stderr",
     "output_type": "stream",
     "text": [
      "Processing...: 100%|██████████| 10/10 [00:12<00:00,  1.28s/it]"
     ]
    },
    {
     "name": "stdout",
     "output_type": "stream",
     "text": [
      "causal = \n",
      "[('Credit', 2139.3765060732317)]\n",
      "\n",
      "original = \n",
      "Credit    1264.0\n",
      "Name: 979, dtype: float64\n",
      "\n"
     ]
    },
    {
     "name": "stderr",
     "output_type": "stream",
     "text": [
      "\n"
     ]
    },
    {
     "data": {
      "text/html": [
       "<div>\n",
       "<style scoped>\n",
       "    .dataframe tbody tr th:only-of-type {\n",
       "        vertical-align: middle;\n",
       "    }\n",
       "\n",
       "    .dataframe tbody tr th {\n",
       "        vertical-align: top;\n",
       "    }\n",
       "\n",
       "    .dataframe thead th {\n",
       "        text-align: right;\n",
       "    }\n",
       "</style>\n",
       "<table border=\"1\" class=\"dataframe\">\n",
       "  <thead>\n",
       "    <tr style=\"text-align: right;\">\n",
       "      <th></th>\n",
       "      <th>from</th>\n",
       "      <th>to</th>\n",
       "      <th>effect</th>\n",
       "      <th>causal</th>\n",
       "    </tr>\n",
       "  </thead>\n",
       "  <tbody>\n",
       "  </tbody>\n",
       "</table>\n",
       "</div>"
      ],
      "text/plain": [
       "Empty DataFrame\n",
       "Columns: [from, to, effect, causal]\n",
       "Index: []"
      ]
     },
     "metadata": {},
     "output_type": "display_data"
    },
    {
     "name": "stdout",
     "output_type": "stream",
     "text": [
      "df_temp = \n",
      "None\n",
      "\n",
      "---------------------------------------------------\n",
      "\n",
      "causal = \n",
      "[('Credit', 1798.1730121464634), ('LoanDuration', 12.6)]\n",
      "\n",
      "original = \n",
      "Credit          1264.0\n",
      "LoanDuration      15.0\n",
      "Name: 979, dtype: float64\n",
      "\n"
     ]
    },
    {
     "data": {
      "text/html": [
       "<div>\n",
       "<style scoped>\n",
       "    .dataframe tbody tr th:only-of-type {\n",
       "        vertical-align: middle;\n",
       "    }\n",
       "\n",
       "    .dataframe tbody tr th {\n",
       "        vertical-align: top;\n",
       "    }\n",
       "\n",
       "    .dataframe thead th {\n",
       "        text-align: right;\n",
       "    }\n",
       "</style>\n",
       "<table border=\"1\" class=\"dataframe\">\n",
       "  <thead>\n",
       "    <tr style=\"text-align: right;\">\n",
       "      <th></th>\n",
       "      <th>from</th>\n",
       "      <th>to</th>\n",
       "      <th>effect</th>\n",
       "      <th>causal</th>\n",
       "    </tr>\n",
       "  </thead>\n",
       "  <tbody>\n",
       "    <tr>\n",
       "      <th>1</th>\n",
       "      <td>menos</td>\n",
       "      <td>mais</td>\n",
       "      <td>142.2142</td>\n",
       "      <td>False</td>\n",
       "    </tr>\n",
       "  </tbody>\n",
       "</table>\n",
       "</div>"
      ],
      "text/plain": [
       "    from    to    effect  causal\n",
       "1  menos  mais  142.2142   False"
      ]
     },
     "metadata": {},
     "output_type": "display_data"
    },
    {
     "name": "stdout",
     "output_type": "stream",
     "text": [
      "df_temp = \n",
      "None\n",
      "\n",
      "nenhuma relaçao causal satisfeita\n",
      "---------------------------------------------------\n",
      "\n",
      "causal = \n",
      "[('Sex', 0.46), ('Age', 3.8607765909053753)]\n",
      "\n",
      "original = \n",
      "Sex     1.0\n",
      "Age    25.0\n",
      "Name: 979, dtype: float64\n",
      "\n"
     ]
    },
    {
     "data": {
      "text/html": [
       "<div>\n",
       "<style scoped>\n",
       "    .dataframe tbody tr th:only-of-type {\n",
       "        vertical-align: middle;\n",
       "    }\n",
       "\n",
       "    .dataframe tbody tr th {\n",
       "        vertical-align: top;\n",
       "    }\n",
       "\n",
       "    .dataframe thead th {\n",
       "        text-align: right;\n",
       "    }\n",
       "</style>\n",
       "<table border=\"1\" class=\"dataframe\">\n",
       "  <thead>\n",
       "    <tr style=\"text-align: right;\">\n",
       "      <th></th>\n",
       "      <th>from</th>\n",
       "      <th>to</th>\n",
       "      <th>effect</th>\n",
       "      <th>causal</th>\n",
       "    </tr>\n",
       "  </thead>\n",
       "  <tbody>\n",
       "    <tr>\n",
       "      <th>0</th>\n",
       "      <td>menos</td>\n",
       "      <td>menos</td>\n",
       "      <td>5.592995</td>\n",
       "      <td>True</td>\n",
       "    </tr>\n",
       "  </tbody>\n",
       "</table>\n",
       "</div>"
      ],
      "text/plain": [
       "    from     to    effect  causal\n",
       "0  menos  menos  5.592995    True"
      ]
     },
     "metadata": {},
     "output_type": "display_data"
    },
    {
     "name": "stdout",
     "output_type": "stream",
     "text": [
      "df_temp = \n",
      "None\n",
      "\n",
      "todas = 1 relaçoes causais satisfeitas\n",
      "---------------------------------------------------\n",
      "\n",
      "\n",
      "run 3\n"
     ]
    },
    {
     "name": "stderr",
     "output_type": "stream",
     "text": [
      "Processing...: 100%|██████████| 10/10 [00:14<00:00,  1.45s/it]"
     ]
    },
    {
     "name": "stdout",
     "output_type": "stream",
     "text": [
      "causal = \n",
      "[('Credit', 1076.31)]\n",
      "\n",
      "original = \n",
      "Credit    697.0\n",
      "Name: 925, dtype: float64\n",
      "\n"
     ]
    },
    {
     "name": "stderr",
     "output_type": "stream",
     "text": [
      "\n"
     ]
    },
    {
     "data": {
      "text/html": [
       "<div>\n",
       "<style scoped>\n",
       "    .dataframe tbody tr th:only-of-type {\n",
       "        vertical-align: middle;\n",
       "    }\n",
       "\n",
       "    .dataframe tbody tr th {\n",
       "        vertical-align: top;\n",
       "    }\n",
       "\n",
       "    .dataframe thead th {\n",
       "        text-align: right;\n",
       "    }\n",
       "</style>\n",
       "<table border=\"1\" class=\"dataframe\">\n",
       "  <thead>\n",
       "    <tr style=\"text-align: right;\">\n",
       "      <th></th>\n",
       "      <th>from</th>\n",
       "      <th>to</th>\n",
       "      <th>effect</th>\n",
       "      <th>causal</th>\n",
       "    </tr>\n",
       "  </thead>\n",
       "  <tbody>\n",
       "  </tbody>\n",
       "</table>\n",
       "</div>"
      ],
      "text/plain": [
       "Empty DataFrame\n",
       "Columns: [from, to, effect, causal]\n",
       "Index: []"
      ]
     },
     "metadata": {},
     "output_type": "display_data"
    },
    {
     "name": "stdout",
     "output_type": "stream",
     "text": [
      "df_temp = \n",
      "None\n",
      "\n",
      "---------------------------------------------------\n",
      "\n",
      "causal = \n",
      "[('Age', 21.16)]\n",
      "\n",
      "original = \n",
      "Age    46.0\n",
      "Name: 925, dtype: float64\n",
      "\n"
     ]
    },
    {
     "data": {
      "text/html": [
       "<div>\n",
       "<style scoped>\n",
       "    .dataframe tbody tr th:only-of-type {\n",
       "        vertical-align: middle;\n",
       "    }\n",
       "\n",
       "    .dataframe tbody tr th {\n",
       "        vertical-align: top;\n",
       "    }\n",
       "\n",
       "    .dataframe thead th {\n",
       "        text-align: right;\n",
       "    }\n",
       "</style>\n",
       "<table border=\"1\" class=\"dataframe\">\n",
       "  <thead>\n",
       "    <tr style=\"text-align: right;\">\n",
       "      <th></th>\n",
       "      <th>from</th>\n",
       "      <th>to</th>\n",
       "      <th>effect</th>\n",
       "      <th>causal</th>\n",
       "    </tr>\n",
       "  </thead>\n",
       "  <tbody>\n",
       "  </tbody>\n",
       "</table>\n",
       "</div>"
      ],
      "text/plain": [
       "Empty DataFrame\n",
       "Columns: [from, to, effect, causal]\n",
       "Index: []"
      ]
     },
     "metadata": {},
     "output_type": "display_data"
    },
    {
     "name": "stdout",
     "output_type": "stream",
     "text": [
      "df_temp = \n",
      "None\n",
      "\n",
      "---------------------------------------------------\n",
      "\n",
      "causal = \n",
      "[('Age', 29.278586235096373), ('Credit', 767.57)]\n",
      "\n",
      "original = \n",
      "Age        46.0\n",
      "Credit    697.0\n",
      "Name: 925, dtype: float64\n",
      "\n"
     ]
    },
    {
     "data": {
      "text/html": [
       "<div>\n",
       "<style scoped>\n",
       "    .dataframe tbody tr th:only-of-type {\n",
       "        vertical-align: middle;\n",
       "    }\n",
       "\n",
       "    .dataframe tbody tr th {\n",
       "        vertical-align: top;\n",
       "    }\n",
       "\n",
       "    .dataframe thead th {\n",
       "        text-align: right;\n",
       "    }\n",
       "</style>\n",
       "<table border=\"1\" class=\"dataframe\">\n",
       "  <thead>\n",
       "    <tr style=\"text-align: right;\">\n",
       "      <th></th>\n",
       "      <th>from</th>\n",
       "      <th>to</th>\n",
       "      <th>effect</th>\n",
       "      <th>causal</th>\n",
       "    </tr>\n",
       "  </thead>\n",
       "  <tbody>\n",
       "  </tbody>\n",
       "</table>\n",
       "</div>"
      ],
      "text/plain": [
       "Empty DataFrame\n",
       "Columns: [from, to, effect, causal]\n",
       "Index: []"
      ]
     },
     "metadata": {},
     "output_type": "display_data"
    },
    {
     "name": "stdout",
     "output_type": "stream",
     "text": [
      "df_temp = \n",
      "None\n",
      "\n",
      "---------------------------------------------------\n",
      "\n",
      "\n",
      "run 4\n"
     ]
    },
    {
     "name": "stderr",
     "output_type": "stream",
     "text": [
      "Processing...: 100%|██████████| 10/10 [00:14<00:00,  1.47s/it]"
     ]
    },
    {
     "name": "stdout",
     "output_type": "stream",
     "text": [
      "causal = \n",
      "[('Credit', 5026.17)]\n",
      "\n",
      "original = \n",
      "Credit    7253.0\n",
      "Name: 411, dtype: float64\n",
      "\n"
     ]
    },
    {
     "name": "stderr",
     "output_type": "stream",
     "text": [
      "\n"
     ]
    },
    {
     "data": {
      "text/html": [
       "<div>\n",
       "<style scoped>\n",
       "    .dataframe tbody tr th:only-of-type {\n",
       "        vertical-align: middle;\n",
       "    }\n",
       "\n",
       "    .dataframe tbody tr th {\n",
       "        vertical-align: top;\n",
       "    }\n",
       "\n",
       "    .dataframe thead th {\n",
       "        text-align: right;\n",
       "    }\n",
       "</style>\n",
       "<table border=\"1\" class=\"dataframe\">\n",
       "  <thead>\n",
       "    <tr style=\"text-align: right;\">\n",
       "      <th></th>\n",
       "      <th>from</th>\n",
       "      <th>to</th>\n",
       "      <th>effect</th>\n",
       "      <th>causal</th>\n",
       "    </tr>\n",
       "  </thead>\n",
       "  <tbody>\n",
       "  </tbody>\n",
       "</table>\n",
       "</div>"
      ],
      "text/plain": [
       "Empty DataFrame\n",
       "Columns: [from, to, effect, causal]\n",
       "Index: []"
      ]
     },
     "metadata": {},
     "output_type": "display_data"
    },
    {
     "name": "stdout",
     "output_type": "stream",
     "text": [
      "df_temp = \n",
      "None\n",
      "\n",
      "---------------------------------------------------\n",
      "\n",
      "causal = \n",
      "[('Age', 47.32)]\n",
      "\n",
      "original = \n",
      "Age    35.0\n",
      "Name: 411, dtype: float64\n",
      "\n"
     ]
    },
    {
     "data": {
      "text/html": [
       "<div>\n",
       "<style scoped>\n",
       "    .dataframe tbody tr th:only-of-type {\n",
       "        vertical-align: middle;\n",
       "    }\n",
       "\n",
       "    .dataframe tbody tr th {\n",
       "        vertical-align: top;\n",
       "    }\n",
       "\n",
       "    .dataframe thead th {\n",
       "        text-align: right;\n",
       "    }\n",
       "</style>\n",
       "<table border=\"1\" class=\"dataframe\">\n",
       "  <thead>\n",
       "    <tr style=\"text-align: right;\">\n",
       "      <th></th>\n",
       "      <th>from</th>\n",
       "      <th>to</th>\n",
       "      <th>effect</th>\n",
       "      <th>causal</th>\n",
       "    </tr>\n",
       "  </thead>\n",
       "  <tbody>\n",
       "  </tbody>\n",
       "</table>\n",
       "</div>"
      ],
      "text/plain": [
       "Empty DataFrame\n",
       "Columns: [from, to, effect, causal]\n",
       "Index: []"
      ]
     },
     "metadata": {},
     "output_type": "display_data"
    },
    {
     "name": "stdout",
     "output_type": "stream",
     "text": [
      "df_temp = \n",
      "None\n",
      "\n",
      "---------------------------------------------------\n",
      "\n",
      "causal = \n",
      "[('Age', 40.36), ('Credit', 8339.627077136378)]\n",
      "\n",
      "original = \n",
      "Age         35.0\n",
      "Credit    7253.0\n",
      "Name: 411, dtype: float64\n",
      "\n"
     ]
    },
    {
     "data": {
      "text/html": [
       "<div>\n",
       "<style scoped>\n",
       "    .dataframe tbody tr th:only-of-type {\n",
       "        vertical-align: middle;\n",
       "    }\n",
       "\n",
       "    .dataframe tbody tr th {\n",
       "        vertical-align: top;\n",
       "    }\n",
       "\n",
       "    .dataframe thead th {\n",
       "        text-align: right;\n",
       "    }\n",
       "</style>\n",
       "<table border=\"1\" class=\"dataframe\">\n",
       "  <thead>\n",
       "    <tr style=\"text-align: right;\">\n",
       "      <th></th>\n",
       "      <th>from</th>\n",
       "      <th>to</th>\n",
       "      <th>effect</th>\n",
       "      <th>causal</th>\n",
       "    </tr>\n",
       "  </thead>\n",
       "  <tbody>\n",
       "  </tbody>\n",
       "</table>\n",
       "</div>"
      ],
      "text/plain": [
       "Empty DataFrame\n",
       "Columns: [from, to, effect, causal]\n",
       "Index: []"
      ]
     },
     "metadata": {},
     "output_type": "display_data"
    },
    {
     "name": "stdout",
     "output_type": "stream",
     "text": [
      "df_temp = \n",
      "None\n",
      "\n",
      "---------------------------------------------------\n",
      "\n",
      "\n",
      "run 5\n"
     ]
    },
    {
     "name": "stderr",
     "output_type": "stream",
     "text": [
      "Processing...: 100%|██████████| 10/10 [00:13<00:00,  1.37s/it]"
     ]
    },
    {
     "name": "stdout",
     "output_type": "stream",
     "text": [
      "causal = \n",
      "[('Credit', 2727.8261925933452)]\n",
      "\n",
      "original = \n",
      "Credit    2442.0\n",
      "Name: 890, dtype: float64\n",
      "\n"
     ]
    },
    {
     "name": "stderr",
     "output_type": "stream",
     "text": [
      "\n"
     ]
    },
    {
     "data": {
      "text/html": [
       "<div>\n",
       "<style scoped>\n",
       "    .dataframe tbody tr th:only-of-type {\n",
       "        vertical-align: middle;\n",
       "    }\n",
       "\n",
       "    .dataframe tbody tr th {\n",
       "        vertical-align: top;\n",
       "    }\n",
       "\n",
       "    .dataframe thead th {\n",
       "        text-align: right;\n",
       "    }\n",
       "</style>\n",
       "<table border=\"1\" class=\"dataframe\">\n",
       "  <thead>\n",
       "    <tr style=\"text-align: right;\">\n",
       "      <th></th>\n",
       "      <th>from</th>\n",
       "      <th>to</th>\n",
       "      <th>effect</th>\n",
       "      <th>causal</th>\n",
       "    </tr>\n",
       "  </thead>\n",
       "  <tbody>\n",
       "  </tbody>\n",
       "</table>\n",
       "</div>"
      ],
      "text/plain": [
       "Empty DataFrame\n",
       "Columns: [from, to, effect, causal]\n",
       "Index: []"
      ]
     },
     "metadata": {},
     "output_type": "display_data"
    },
    {
     "name": "stdout",
     "output_type": "stream",
     "text": [
      "df_temp = \n",
      "None\n",
      "\n",
      "---------------------------------------------------\n",
      "\n",
      "causal = \n",
      "[('Age', 48.1)]\n",
      "\n",
      "original = \n",
      "Age    43.0\n",
      "Name: 890, dtype: float64\n",
      "\n"
     ]
    },
    {
     "data": {
      "text/html": [
       "<div>\n",
       "<style scoped>\n",
       "    .dataframe tbody tr th:only-of-type {\n",
       "        vertical-align: middle;\n",
       "    }\n",
       "\n",
       "    .dataframe tbody tr th {\n",
       "        vertical-align: top;\n",
       "    }\n",
       "\n",
       "    .dataframe thead th {\n",
       "        text-align: right;\n",
       "    }\n",
       "</style>\n",
       "<table border=\"1\" class=\"dataframe\">\n",
       "  <thead>\n",
       "    <tr style=\"text-align: right;\">\n",
       "      <th></th>\n",
       "      <th>from</th>\n",
       "      <th>to</th>\n",
       "      <th>effect</th>\n",
       "      <th>causal</th>\n",
       "    </tr>\n",
       "  </thead>\n",
       "  <tbody>\n",
       "  </tbody>\n",
       "</table>\n",
       "</div>"
      ],
      "text/plain": [
       "Empty DataFrame\n",
       "Columns: [from, to, effect, causal]\n",
       "Index: []"
      ]
     },
     "metadata": {},
     "output_type": "display_data"
    },
    {
     "name": "stdout",
     "output_type": "stream",
     "text": [
      "df_temp = \n",
      "None\n",
      "\n",
      "---------------------------------------------------\n",
      "\n",
      "causal = \n",
      "[('Credit', 2617.120289966287), ('LoanDuration', 26.61)]\n",
      "\n",
      "original = \n",
      "Credit          2442.0\n",
      "LoanDuration      27.0\n",
      "Name: 890, dtype: float64\n",
      "\n"
     ]
    },
    {
     "data": {
      "text/html": [
       "<div>\n",
       "<style scoped>\n",
       "    .dataframe tbody tr th:only-of-type {\n",
       "        vertical-align: middle;\n",
       "    }\n",
       "\n",
       "    .dataframe tbody tr th {\n",
       "        vertical-align: top;\n",
       "    }\n",
       "\n",
       "    .dataframe thead th {\n",
       "        text-align: right;\n",
       "    }\n",
       "</style>\n",
       "<table border=\"1\" class=\"dataframe\">\n",
       "  <thead>\n",
       "    <tr style=\"text-align: right;\">\n",
       "      <th></th>\n",
       "      <th>from</th>\n",
       "      <th>to</th>\n",
       "      <th>effect</th>\n",
       "      <th>causal</th>\n",
       "    </tr>\n",
       "  </thead>\n",
       "  <tbody>\n",
       "    <tr>\n",
       "      <th>1</th>\n",
       "      <td>menos</td>\n",
       "      <td>mais</td>\n",
       "      <td>142.2142</td>\n",
       "      <td>False</td>\n",
       "    </tr>\n",
       "  </tbody>\n",
       "</table>\n",
       "</div>"
      ],
      "text/plain": [
       "    from    to    effect  causal\n",
       "1  menos  mais  142.2142   False"
      ]
     },
     "metadata": {},
     "output_type": "display_data"
    },
    {
     "name": "stdout",
     "output_type": "stream",
     "text": [
      "df_temp = \n",
      "None\n",
      "\n",
      "nenhuma relaçao causal satisfeita\n",
      "---------------------------------------------------\n",
      "\n",
      "causal = \n",
      "[('Age', 45.94), ('Credit', 2174.858477037338)]\n",
      "\n",
      "original = \n",
      "Age         43.0\n",
      "Credit    2442.0\n",
      "Name: 890, dtype: float64\n",
      "\n"
     ]
    },
    {
     "data": {
      "text/html": [
       "<div>\n",
       "<style scoped>\n",
       "    .dataframe tbody tr th:only-of-type {\n",
       "        vertical-align: middle;\n",
       "    }\n",
       "\n",
       "    .dataframe tbody tr th {\n",
       "        vertical-align: top;\n",
       "    }\n",
       "\n",
       "    .dataframe thead th {\n",
       "        text-align: right;\n",
       "    }\n",
       "</style>\n",
       "<table border=\"1\" class=\"dataframe\">\n",
       "  <thead>\n",
       "    <tr style=\"text-align: right;\">\n",
       "      <th></th>\n",
       "      <th>from</th>\n",
       "      <th>to</th>\n",
       "      <th>effect</th>\n",
       "      <th>causal</th>\n",
       "    </tr>\n",
       "  </thead>\n",
       "  <tbody>\n",
       "  </tbody>\n",
       "</table>\n",
       "</div>"
      ],
      "text/plain": [
       "Empty DataFrame\n",
       "Columns: [from, to, effect, causal]\n",
       "Index: []"
      ]
     },
     "metadata": {},
     "output_type": "display_data"
    },
    {
     "name": "stdout",
     "output_type": "stream",
     "text": [
      "df_temp = \n",
      "None\n",
      "\n",
      "---------------------------------------------------\n",
      "\n",
      "causal = \n",
      "[('Sex', 0.51), ('Age', 46.18928203468742)]\n",
      "\n",
      "original = \n",
      "Sex     1.0\n",
      "Age    43.0\n",
      "Name: 890, dtype: float64\n",
      "\n"
     ]
    },
    {
     "data": {
      "text/html": [
       "<div>\n",
       "<style scoped>\n",
       "    .dataframe tbody tr th:only-of-type {\n",
       "        vertical-align: middle;\n",
       "    }\n",
       "\n",
       "    .dataframe tbody tr th {\n",
       "        vertical-align: top;\n",
       "    }\n",
       "\n",
       "    .dataframe thead th {\n",
       "        text-align: right;\n",
       "    }\n",
       "</style>\n",
       "<table border=\"1\" class=\"dataframe\">\n",
       "  <thead>\n",
       "    <tr style=\"text-align: right;\">\n",
       "      <th></th>\n",
       "      <th>from</th>\n",
       "      <th>to</th>\n",
       "      <th>effect</th>\n",
       "      <th>causal</th>\n",
       "    </tr>\n",
       "  </thead>\n",
       "  <tbody>\n",
       "    <tr>\n",
       "      <th>0</th>\n",
       "      <td>menos</td>\n",
       "      <td>mais</td>\n",
       "      <td>5.592995</td>\n",
       "      <td>False</td>\n",
       "    </tr>\n",
       "  </tbody>\n",
       "</table>\n",
       "</div>"
      ],
      "text/plain": [
       "    from    to    effect  causal\n",
       "0  menos  mais  5.592995   False"
      ]
     },
     "metadata": {},
     "output_type": "display_data"
    },
    {
     "name": "stdout",
     "output_type": "stream",
     "text": [
      "df_temp = \n",
      "None\n",
      "\n",
      "nenhuma relaçao causal satisfeita\n",
      "---------------------------------------------------\n",
      "\n",
      "\n",
      "run 6\n"
     ]
    },
    {
     "name": "stderr",
     "output_type": "stream",
     "text": [
      "Processing...: 100%|██████████| 10/10 [00:14<00:00,  1.41s/it]"
     ]
    },
    {
     "name": "stdout",
     "output_type": "stream",
     "text": [
      "causal = \n",
      "[('Credit', 3688.5832668864155)]\n",
      "\n",
      "original = \n",
      "Credit    4583.0\n",
      "Name: 646, dtype: float64\n",
      "\n"
     ]
    },
    {
     "name": "stderr",
     "output_type": "stream",
     "text": [
      "\n"
     ]
    },
    {
     "data": {
      "text/html": [
       "<div>\n",
       "<style scoped>\n",
       "    .dataframe tbody tr th:only-of-type {\n",
       "        vertical-align: middle;\n",
       "    }\n",
       "\n",
       "    .dataframe tbody tr th {\n",
       "        vertical-align: top;\n",
       "    }\n",
       "\n",
       "    .dataframe thead th {\n",
       "        text-align: right;\n",
       "    }\n",
       "</style>\n",
       "<table border=\"1\" class=\"dataframe\">\n",
       "  <thead>\n",
       "    <tr style=\"text-align: right;\">\n",
       "      <th></th>\n",
       "      <th>from</th>\n",
       "      <th>to</th>\n",
       "      <th>effect</th>\n",
       "      <th>causal</th>\n",
       "    </tr>\n",
       "  </thead>\n",
       "  <tbody>\n",
       "  </tbody>\n",
       "</table>\n",
       "</div>"
      ],
      "text/plain": [
       "Empty DataFrame\n",
       "Columns: [from, to, effect, causal]\n",
       "Index: []"
      ]
     },
     "metadata": {},
     "output_type": "display_data"
    },
    {
     "name": "stdout",
     "output_type": "stream",
     "text": [
      "df_temp = \n",
      "None\n",
      "\n",
      "---------------------------------------------------\n",
      "\n",
      "causal = \n",
      "[('Age', 26.63170934873405)]\n",
      "\n",
      "original = \n",
      "Age    32.0\n",
      "Name: 646, dtype: float64\n",
      "\n"
     ]
    },
    {
     "data": {
      "text/html": [
       "<div>\n",
       "<style scoped>\n",
       "    .dataframe tbody tr th:only-of-type {\n",
       "        vertical-align: middle;\n",
       "    }\n",
       "\n",
       "    .dataframe tbody tr th {\n",
       "        vertical-align: top;\n",
       "    }\n",
       "\n",
       "    .dataframe thead th {\n",
       "        text-align: right;\n",
       "    }\n",
       "</style>\n",
       "<table border=\"1\" class=\"dataframe\">\n",
       "  <thead>\n",
       "    <tr style=\"text-align: right;\">\n",
       "      <th></th>\n",
       "      <th>from</th>\n",
       "      <th>to</th>\n",
       "      <th>effect</th>\n",
       "      <th>causal</th>\n",
       "    </tr>\n",
       "  </thead>\n",
       "  <tbody>\n",
       "  </tbody>\n",
       "</table>\n",
       "</div>"
      ],
      "text/plain": [
       "Empty DataFrame\n",
       "Columns: [from, to, effect, causal]\n",
       "Index: []"
      ]
     },
     "metadata": {},
     "output_type": "display_data"
    },
    {
     "name": "stdout",
     "output_type": "stream",
     "text": [
      "df_temp = \n",
      "None\n",
      "\n",
      "---------------------------------------------------\n",
      "\n",
      "causal = \n",
      "[('Age', 34.65087571479709), ('Credit', 5242.984476221095)]\n",
      "\n",
      "original = \n",
      "Age         32.0\n",
      "Credit    4583.0\n",
      "Name: 646, dtype: float64\n",
      "\n"
     ]
    },
    {
     "data": {
      "text/html": [
       "<div>\n",
       "<style scoped>\n",
       "    .dataframe tbody tr th:only-of-type {\n",
       "        vertical-align: middle;\n",
       "    }\n",
       "\n",
       "    .dataframe tbody tr th {\n",
       "        vertical-align: top;\n",
       "    }\n",
       "\n",
       "    .dataframe thead th {\n",
       "        text-align: right;\n",
       "    }\n",
       "</style>\n",
       "<table border=\"1\" class=\"dataframe\">\n",
       "  <thead>\n",
       "    <tr style=\"text-align: right;\">\n",
       "      <th></th>\n",
       "      <th>from</th>\n",
       "      <th>to</th>\n",
       "      <th>effect</th>\n",
       "      <th>causal</th>\n",
       "    </tr>\n",
       "  </thead>\n",
       "  <tbody>\n",
       "  </tbody>\n",
       "</table>\n",
       "</div>"
      ],
      "text/plain": [
       "Empty DataFrame\n",
       "Columns: [from, to, effect, causal]\n",
       "Index: []"
      ]
     },
     "metadata": {},
     "output_type": "display_data"
    },
    {
     "name": "stdout",
     "output_type": "stream",
     "text": [
      "df_temp = \n",
      "None\n",
      "\n",
      "---------------------------------------------------\n",
      "\n",
      "causal = \n",
      "[('Sex', 0.48), ('Age', 29.015912508679214)]\n",
      "\n",
      "original = \n",
      "Sex     1.0\n",
      "Age    32.0\n",
      "Name: 646, dtype: float64\n",
      "\n"
     ]
    },
    {
     "data": {
      "text/html": [
       "<div>\n",
       "<style scoped>\n",
       "    .dataframe tbody tr th:only-of-type {\n",
       "        vertical-align: middle;\n",
       "    }\n",
       "\n",
       "    .dataframe tbody tr th {\n",
       "        vertical-align: top;\n",
       "    }\n",
       "\n",
       "    .dataframe thead th {\n",
       "        text-align: right;\n",
       "    }\n",
       "</style>\n",
       "<table border=\"1\" class=\"dataframe\">\n",
       "  <thead>\n",
       "    <tr style=\"text-align: right;\">\n",
       "      <th></th>\n",
       "      <th>from</th>\n",
       "      <th>to</th>\n",
       "      <th>effect</th>\n",
       "      <th>causal</th>\n",
       "    </tr>\n",
       "  </thead>\n",
       "  <tbody>\n",
       "    <tr>\n",
       "      <th>0</th>\n",
       "      <td>menos</td>\n",
       "      <td>menos</td>\n",
       "      <td>5.592995</td>\n",
       "      <td>True</td>\n",
       "    </tr>\n",
       "  </tbody>\n",
       "</table>\n",
       "</div>"
      ],
      "text/plain": [
       "    from     to    effect  causal\n",
       "0  menos  menos  5.592995    True"
      ]
     },
     "metadata": {},
     "output_type": "display_data"
    },
    {
     "name": "stdout",
     "output_type": "stream",
     "text": [
      "df_temp = \n",
      "None\n",
      "\n",
      "todas = 1 relaçoes causais satisfeitas\n",
      "---------------------------------------------------\n",
      "\n",
      "\n",
      "run 7\n"
     ]
    },
    {
     "name": "stderr",
     "output_type": "stream",
     "text": [
      "Processing...: 100%|██████████| 10/10 [00:14<00:00,  1.46s/it]"
     ]
    },
    {
     "name": "stdout",
     "output_type": "stream",
     "text": [
      "causal = \n",
      "[('Credit', 4775.71)]\n",
      "\n",
      "original = \n",
      "Credit    719.0\n",
      "Name: 443, dtype: float64\n",
      "\n"
     ]
    },
    {
     "name": "stderr",
     "output_type": "stream",
     "text": [
      "\n"
     ]
    },
    {
     "data": {
      "text/html": [
       "<div>\n",
       "<style scoped>\n",
       "    .dataframe tbody tr th:only-of-type {\n",
       "        vertical-align: middle;\n",
       "    }\n",
       "\n",
       "    .dataframe tbody tr th {\n",
       "        vertical-align: top;\n",
       "    }\n",
       "\n",
       "    .dataframe thead th {\n",
       "        text-align: right;\n",
       "    }\n",
       "</style>\n",
       "<table border=\"1\" class=\"dataframe\">\n",
       "  <thead>\n",
       "    <tr style=\"text-align: right;\">\n",
       "      <th></th>\n",
       "      <th>from</th>\n",
       "      <th>to</th>\n",
       "      <th>effect</th>\n",
       "      <th>causal</th>\n",
       "    </tr>\n",
       "  </thead>\n",
       "  <tbody>\n",
       "  </tbody>\n",
       "</table>\n",
       "</div>"
      ],
      "text/plain": [
       "Empty DataFrame\n",
       "Columns: [from, to, effect, causal]\n",
       "Index: []"
      ]
     },
     "metadata": {},
     "output_type": "display_data"
    },
    {
     "name": "stdout",
     "output_type": "stream",
     "text": [
      "df_temp = \n",
      "None\n",
      "\n",
      "---------------------------------------------------\n",
      "\n",
      "causal = \n",
      "[('Age', 34.15)]\n",
      "\n",
      "original = \n",
      "Age    41.0\n",
      "Name: 443, dtype: float64\n",
      "\n"
     ]
    },
    {
     "data": {
      "text/html": [
       "<div>\n",
       "<style scoped>\n",
       "    .dataframe tbody tr th:only-of-type {\n",
       "        vertical-align: middle;\n",
       "    }\n",
       "\n",
       "    .dataframe tbody tr th {\n",
       "        vertical-align: top;\n",
       "    }\n",
       "\n",
       "    .dataframe thead th {\n",
       "        text-align: right;\n",
       "    }\n",
       "</style>\n",
       "<table border=\"1\" class=\"dataframe\">\n",
       "  <thead>\n",
       "    <tr style=\"text-align: right;\">\n",
       "      <th></th>\n",
       "      <th>from</th>\n",
       "      <th>to</th>\n",
       "      <th>effect</th>\n",
       "      <th>causal</th>\n",
       "    </tr>\n",
       "  </thead>\n",
       "  <tbody>\n",
       "  </tbody>\n",
       "</table>\n",
       "</div>"
      ],
      "text/plain": [
       "Empty DataFrame\n",
       "Columns: [from, to, effect, causal]\n",
       "Index: []"
      ]
     },
     "metadata": {},
     "output_type": "display_data"
    },
    {
     "name": "stdout",
     "output_type": "stream",
     "text": [
      "df_temp = \n",
      "None\n",
      "\n",
      "---------------------------------------------------\n",
      "\n",
      "\n",
      "run 8\n"
     ]
    },
    {
     "name": "stderr",
     "output_type": "stream",
     "text": [
      "Processing...: 100%|██████████| 10/10 [00:15<00:00,  1.60s/it]"
     ]
    },
    {
     "name": "stdout",
     "output_type": "stream",
     "text": [
      "causal = \n",
      "[('Age', 35.37601872317066)]\n",
      "\n",
      "original = \n",
      "Age    34.0\n",
      "Name: 76, dtype: float64\n",
      "\n"
     ]
    },
    {
     "name": "stderr",
     "output_type": "stream",
     "text": [
      "\n"
     ]
    },
    {
     "data": {
      "text/html": [
       "<div>\n",
       "<style scoped>\n",
       "    .dataframe tbody tr th:only-of-type {\n",
       "        vertical-align: middle;\n",
       "    }\n",
       "\n",
       "    .dataframe tbody tr th {\n",
       "        vertical-align: top;\n",
       "    }\n",
       "\n",
       "    .dataframe thead th {\n",
       "        text-align: right;\n",
       "    }\n",
       "</style>\n",
       "<table border=\"1\" class=\"dataframe\">\n",
       "  <thead>\n",
       "    <tr style=\"text-align: right;\">\n",
       "      <th></th>\n",
       "      <th>from</th>\n",
       "      <th>to</th>\n",
       "      <th>effect</th>\n",
       "      <th>causal</th>\n",
       "    </tr>\n",
       "  </thead>\n",
       "  <tbody>\n",
       "  </tbody>\n",
       "</table>\n",
       "</div>"
      ],
      "text/plain": [
       "Empty DataFrame\n",
       "Columns: [from, to, effect, causal]\n",
       "Index: []"
      ]
     },
     "metadata": {},
     "output_type": "display_data"
    },
    {
     "name": "stdout",
     "output_type": "stream",
     "text": [
      "df_temp = \n",
      "None\n",
      "\n",
      "---------------------------------------------------\n",
      "\n",
      "causal = \n",
      "[('Credit', 2945.29)]\n",
      "\n",
      "original = \n",
      "Credit    3965.0\n",
      "Name: 76, dtype: float64\n",
      "\n"
     ]
    },
    {
     "data": {
      "text/html": [
       "<div>\n",
       "<style scoped>\n",
       "    .dataframe tbody tr th:only-of-type {\n",
       "        vertical-align: middle;\n",
       "    }\n",
       "\n",
       "    .dataframe tbody tr th {\n",
       "        vertical-align: top;\n",
       "    }\n",
       "\n",
       "    .dataframe thead th {\n",
       "        text-align: right;\n",
       "    }\n",
       "</style>\n",
       "<table border=\"1\" class=\"dataframe\">\n",
       "  <thead>\n",
       "    <tr style=\"text-align: right;\">\n",
       "      <th></th>\n",
       "      <th>from</th>\n",
       "      <th>to</th>\n",
       "      <th>effect</th>\n",
       "      <th>causal</th>\n",
       "    </tr>\n",
       "  </thead>\n",
       "  <tbody>\n",
       "  </tbody>\n",
       "</table>\n",
       "</div>"
      ],
      "text/plain": [
       "Empty DataFrame\n",
       "Columns: [from, to, effect, causal]\n",
       "Index: []"
      ]
     },
     "metadata": {},
     "output_type": "display_data"
    },
    {
     "name": "stdout",
     "output_type": "stream",
     "text": [
      "df_temp = \n",
      "None\n",
      "\n",
      "---------------------------------------------------\n",
      "\n",
      "causal = \n",
      "[('LoanDuration', 54.45)]\n",
      "\n",
      "original = \n",
      "LoanDuration    42.0\n",
      "Name: 76, dtype: float64\n",
      "\n"
     ]
    },
    {
     "data": {
      "text/html": [
       "<div>\n",
       "<style scoped>\n",
       "    .dataframe tbody tr th:only-of-type {\n",
       "        vertical-align: middle;\n",
       "    }\n",
       "\n",
       "    .dataframe tbody tr th {\n",
       "        vertical-align: top;\n",
       "    }\n",
       "\n",
       "    .dataframe thead th {\n",
       "        text-align: right;\n",
       "    }\n",
       "</style>\n",
       "<table border=\"1\" class=\"dataframe\">\n",
       "  <thead>\n",
       "    <tr style=\"text-align: right;\">\n",
       "      <th></th>\n",
       "      <th>from</th>\n",
       "      <th>to</th>\n",
       "      <th>effect</th>\n",
       "      <th>causal</th>\n",
       "    </tr>\n",
       "  </thead>\n",
       "  <tbody>\n",
       "  </tbody>\n",
       "</table>\n",
       "</div>"
      ],
      "text/plain": [
       "Empty DataFrame\n",
       "Columns: [from, to, effect, causal]\n",
       "Index: []"
      ]
     },
     "metadata": {},
     "output_type": "display_data"
    },
    {
     "name": "stdout",
     "output_type": "stream",
     "text": [
      "df_temp = \n",
      "None\n",
      "\n",
      "---------------------------------------------------\n",
      "\n",
      "causal = \n",
      "[('Credit', 4605.1850749838395), ('LoanDuration', 44.25)]\n",
      "\n",
      "original = \n",
      "Credit          3965.0\n",
      "LoanDuration      42.0\n",
      "Name: 76, dtype: float64\n",
      "\n"
     ]
    },
    {
     "data": {
      "text/html": [
       "<div>\n",
       "<style scoped>\n",
       "    .dataframe tbody tr th:only-of-type {\n",
       "        vertical-align: middle;\n",
       "    }\n",
       "\n",
       "    .dataframe tbody tr th {\n",
       "        vertical-align: top;\n",
       "    }\n",
       "\n",
       "    .dataframe thead th {\n",
       "        text-align: right;\n",
       "    }\n",
       "</style>\n",
       "<table border=\"1\" class=\"dataframe\">\n",
       "  <thead>\n",
       "    <tr style=\"text-align: right;\">\n",
       "      <th></th>\n",
       "      <th>from</th>\n",
       "      <th>to</th>\n",
       "      <th>effect</th>\n",
       "      <th>causal</th>\n",
       "    </tr>\n",
       "  </thead>\n",
       "  <tbody>\n",
       "    <tr>\n",
       "      <th>1</th>\n",
       "      <td>mais</td>\n",
       "      <td>mais</td>\n",
       "      <td>142.2142</td>\n",
       "      <td>True</td>\n",
       "    </tr>\n",
       "  </tbody>\n",
       "</table>\n",
       "</div>"
      ],
      "text/plain": [
       "   from    to    effect  causal\n",
       "1  mais  mais  142.2142    True"
      ]
     },
     "metadata": {},
     "output_type": "display_data"
    },
    {
     "name": "stdout",
     "output_type": "stream",
     "text": [
      "df_temp = \n",
      "None\n",
      "\n",
      "todas = 1 relaçoes causais satisfeitas\n",
      "---------------------------------------------------\n",
      "\n",
      "\n",
      "run 9\n"
     ]
    },
    {
     "name": "stderr",
     "output_type": "stream",
     "text": [
      "Processing...: 100%|██████████| 10/10 [00:15<00:00,  1.53s/it]"
     ]
    },
    {
     "name": "stdout",
     "output_type": "stream",
     "text": [
      "causal = \n",
      "[('Credit', 2471.87)]\n",
      "\n",
      "original = \n",
      "Credit    2613.0\n",
      "Name: 225, dtype: float64\n",
      "\n"
     ]
    },
    {
     "name": "stderr",
     "output_type": "stream",
     "text": [
      "\n"
     ]
    },
    {
     "data": {
      "text/html": [
       "<div>\n",
       "<style scoped>\n",
       "    .dataframe tbody tr th:only-of-type {\n",
       "        vertical-align: middle;\n",
       "    }\n",
       "\n",
       "    .dataframe tbody tr th {\n",
       "        vertical-align: top;\n",
       "    }\n",
       "\n",
       "    .dataframe thead th {\n",
       "        text-align: right;\n",
       "    }\n",
       "</style>\n",
       "<table border=\"1\" class=\"dataframe\">\n",
       "  <thead>\n",
       "    <tr style=\"text-align: right;\">\n",
       "      <th></th>\n",
       "      <th>from</th>\n",
       "      <th>to</th>\n",
       "      <th>effect</th>\n",
       "      <th>causal</th>\n",
       "    </tr>\n",
       "  </thead>\n",
       "  <tbody>\n",
       "  </tbody>\n",
       "</table>\n",
       "</div>"
      ],
      "text/plain": [
       "Empty DataFrame\n",
       "Columns: [from, to, effect, causal]\n",
       "Index: []"
      ]
     },
     "metadata": {},
     "output_type": "display_data"
    },
    {
     "name": "stdout",
     "output_type": "stream",
     "text": [
      "df_temp = \n",
      "None\n",
      "\n",
      "---------------------------------------------------\n",
      "\n",
      "causal = \n",
      "[('Age', 25.87)]\n",
      "\n",
      "original = \n",
      "Age    27.0\n",
      "Name: 225, dtype: float64\n",
      "\n"
     ]
    },
    {
     "data": {
      "text/html": [
       "<div>\n",
       "<style scoped>\n",
       "    .dataframe tbody tr th:only-of-type {\n",
       "        vertical-align: middle;\n",
       "    }\n",
       "\n",
       "    .dataframe tbody tr th {\n",
       "        vertical-align: top;\n",
       "    }\n",
       "\n",
       "    .dataframe thead th {\n",
       "        text-align: right;\n",
       "    }\n",
       "</style>\n",
       "<table border=\"1\" class=\"dataframe\">\n",
       "  <thead>\n",
       "    <tr style=\"text-align: right;\">\n",
       "      <th></th>\n",
       "      <th>from</th>\n",
       "      <th>to</th>\n",
       "      <th>effect</th>\n",
       "      <th>causal</th>\n",
       "    </tr>\n",
       "  </thead>\n",
       "  <tbody>\n",
       "  </tbody>\n",
       "</table>\n",
       "</div>"
      ],
      "text/plain": [
       "Empty DataFrame\n",
       "Columns: [from, to, effect, causal]\n",
       "Index: []"
      ]
     },
     "metadata": {},
     "output_type": "display_data"
    },
    {
     "name": "stdout",
     "output_type": "stream",
     "text": [
      "df_temp = \n",
      "None\n",
      "\n",
      "---------------------------------------------------\n",
      "\n",
      "\n",
      "quantas instancias contrafactuais encontradas = 100\n",
      "quantidade de mudanças totais = 42\n",
      "quantas instancias tiveram pelo menos uma relação causal satisfeita = 3/100\n",
      "quantas relações causais foram encontradas = 7\n",
      "quantas relações causais foram satisfeitas = 3.0/7\n",
      "quantas instâncias não tiveram nenhuma relação causal satisfeita = 4/100\n",
      "quantas instâncias tiveram TODAS as relaçoes causais satisfeitas = 3/3\n",
      "quantas instancias causais teveram a maioria das relacoes causais satisfeitas = 3/100\n",
      "quantas instancias tiveram um unico atributo modificado = 24/100\n"
     ]
    }
   ],
   "source": [
    "%time\n",
    "global_quant_changes = 0\n",
    "global_quant_causal_changes = 0\n",
    "global_quant_causal_rules = 0\n",
    "global_quant_zeros_causal = 0\n",
    "global_quant_full_causal = 0\n",
    "global_quant_causal_contrafac = 0\n",
    "global_quant_maioria_causal_satisfeita = 0\n",
    "global_quant_contrafac_unico = 0\n",
    "\n",
    "quant_original_instance = 10\n",
    "for x in range(quant_original_instance):\n",
    "    print(f\"\\nrun {x}\")\n",
    "    runs = run(x)\n",
    "    for content in runs:\n",
    "        controle = {}\n",
    "        causal = content[0]\n",
    "        df = content[1]\n",
    "        ori = content[2]\n",
    "        \n",
    "        num_changes = len(causal)\n",
    "        global_quant_changes += num_changes\n",
    "        \n",
    "        num_causal_rules = len(df)\n",
    "        global_quant_causal_rules += num_causal_rules\n",
    "        \n",
    "        for attr in causal:\n",
    "            key = attr.column\n",
    "            if attr.value > ori[key]:\n",
    "                controle[key] = 'mais'\n",
    "            else:\n",
    "                controle[key] = 'menos'\n",
    "\n",
    "        df_temp = df.copy()\n",
    "        df_temp['from'] = df['from'].map(controle)\n",
    "        df_temp['to'] = df['to'].map(controle)\n",
    "        df_temp['causal'] = df_temp.apply(verificar_condicoes, axis = 1)\n",
    "        \n",
    "        causal_finds = df_temp['causal'].sum()\n",
    "        global_quant_causal_changes += causal_finds\n",
    "        \n",
    "        print(f'causal = \\n{causal}\\n')\n",
    "        print(f'original = \\n{ori}\\n')\n",
    "        print(f'df_temp = \\n{display(df_temp)}\\n')\n",
    "        \n",
    "        if len(df_temp) > 0:\n",
    "            if causal_finds > 0:\n",
    "                global_quant_causal_contrafac += 1\n",
    "            else:\n",
    "                print(f'nenhuma relaçao causal satisfeita')\n",
    "                global_quant_zeros_causal += 1\n",
    "#                 display(df_temp)\n",
    "#                 print(f\"original = {ori}\")\n",
    "#                 print(f\"causal = {causal}\")\n",
    "\n",
    "            if causal_finds == num_causal_rules:\n",
    "                global_quant_full_causal += 1\n",
    "                if causal_finds > 2:\n",
    "                    print(f'todas > 2 relaçoes causais satisfeitas')\n",
    "#                     display(df_temp)\n",
    "#                     print(f\"original = {ori}\")\n",
    "#                     print(f\"causal = {causal}\")\n",
    "                elif causal_finds == 1:\n",
    "                    print(f'todas = 1 relaçoes causais satisfeitas')\n",
    "            \n",
    "            if causal_finds >= (len(df_temp)/2):\n",
    "                global_quant_maioria_causal_satisfeita += 1\n",
    "        else:\n",
    "#             if len(causal) > 0:\n",
    "            global_quant_contrafac_unico += 1\n",
    "    \n",
    "        print('---------------------------------------------------\\n')\n",
    "        \n",
    "\n",
    "                \n",
    "quant_contrafac = quant_original_instance*K\n",
    "\n",
    "print()\n",
    "print(f\"quantas instancias contrafactuais encontradas = {quant_contrafac}\")\n",
    "print(f\"quantidade de mudanças totais = {global_quant_changes}\")\n",
    "\n",
    "print(f\"quantas instancias tiveram pelo menos uma relação causal satisfeita = {global_quant_causal_contrafac}/{quant_contrafac}\")\n",
    "\n",
    "print(f\"quantas relações causais foram encontradas = {global_quant_causal_rules}\")\n",
    "\n",
    "print(f\"quantas relações causais foram satisfeitas = {global_quant_causal_changes}/{global_quant_causal_rules}\")\n",
    "\n",
    "print(f\"quantas instâncias não tiveram nenhuma relação causal satisfeita = {global_quant_zeros_causal}/{quant_contrafac}\")\n",
    "print(f\"quantas instâncias tiveram TODAS as relaçoes causais satisfeitas = {global_quant_full_causal}/{global_quant_causal_contrafac}\")\n",
    "\n",
    "print(f'quantas instancias causais teveram a maioria das relacoes causais satisfeitas = {global_quant_maioria_causal_satisfeita}/{quant_contrafac}')\n",
    "print(f'quantas instancias tiveram um unico atributo modificado = {global_quant_contrafac_unico}/{quant_contrafac}')"
   ]
  },
  {
   "cell_type": "code",
   "execution_count": 15,
   "id": "c2852294",
   "metadata": {},
   "outputs": [
    {
     "data": {
      "text/html": [
       "<div>\n",
       "<style scoped>\n",
       "    .dataframe tbody tr th:only-of-type {\n",
       "        vertical-align: middle;\n",
       "    }\n",
       "\n",
       "    .dataframe tbody tr th {\n",
       "        vertical-align: top;\n",
       "    }\n",
       "\n",
       "    .dataframe thead th {\n",
       "        text-align: right;\n",
       "    }\n",
       "</style>\n",
       "<table border=\"1\" class=\"dataframe\">\n",
       "  <thead>\n",
       "    <tr style=\"text-align: right;\">\n",
       "      <th></th>\n",
       "      <th>from</th>\n",
       "      <th>to</th>\n",
       "      <th>effect</th>\n",
       "      <th>probability</th>\n",
       "      <th>causal</th>\n",
       "    </tr>\n",
       "  </thead>\n",
       "  <tbody>\n",
       "    <tr>\n",
       "      <th>6</th>\n",
       "      <td>mais</td>\n",
       "      <td>mais</td>\n",
       "      <td>26.367079</td>\n",
       "      <td>0.026</td>\n",
       "      <td>True</td>\n",
       "    </tr>\n",
       "    <tr>\n",
       "      <th>5</th>\n",
       "      <td>mais</td>\n",
       "      <td>mais</td>\n",
       "      <td>-0.122798</td>\n",
       "      <td>0.032</td>\n",
       "      <td>False</td>\n",
       "    </tr>\n",
       "    <tr>\n",
       "      <th>2</th>\n",
       "      <td>mais</td>\n",
       "      <td>mais</td>\n",
       "      <td>-0.043397</td>\n",
       "      <td>0.110</td>\n",
       "      <td>False</td>\n",
       "    </tr>\n",
       "    <tr>\n",
       "      <th>1</th>\n",
       "      <td>mais</td>\n",
       "      <td>mais</td>\n",
       "      <td>137.080334</td>\n",
       "      <td>0.634</td>\n",
       "      <td>True</td>\n",
       "    </tr>\n",
       "  </tbody>\n",
       "</table>\n",
       "</div>"
      ],
      "text/plain": [
       "   from    to      effect  probability  causal\n",
       "6  mais  mais   26.367079        0.026    True\n",
       "5  mais  mais   -0.122798        0.032   False\n",
       "2  mais  mais   -0.043397        0.110   False\n",
       "1  mais  mais  137.080334        0.634    True"
      ]
     },
     "execution_count": 15,
     "metadata": {},
     "output_type": "execute_result"
    }
   ],
   "source": [
    "df_temp"
   ]
  },
  {
   "cell_type": "code",
   "execution_count": 20,
   "id": "5fd83d55",
   "metadata": {},
   "outputs": [
    {
     "data": {
      "text/html": [
       "<div>\n",
       "<style scoped>\n",
       "    .dataframe tbody tr th:only-of-type {\n",
       "        vertical-align: middle;\n",
       "    }\n",
       "\n",
       "    .dataframe tbody tr th {\n",
       "        vertical-align: top;\n",
       "    }\n",
       "\n",
       "    .dataframe thead th {\n",
       "        text-align: right;\n",
       "    }\n",
       "</style>\n",
       "<table border=\"1\" class=\"dataframe\">\n",
       "  <thead>\n",
       "    <tr style=\"text-align: right;\">\n",
       "      <th></th>\n",
       "      <th>to</th>\n",
       "      <th>effect</th>\n",
       "      <th>probability</th>\n",
       "      <th>causal</th>\n",
       "    </tr>\n",
       "  </thead>\n",
       "  <tbody>\n",
       "  </tbody>\n",
       "</table>\n",
       "</div>"
      ],
      "text/plain": [
       "Empty DataFrame\n",
       "Columns: [to, effect, probability, causal]\n",
       "Index: []"
      ]
     },
     "execution_count": 20,
     "metadata": {},
     "output_type": "execute_result"
    }
   ],
   "source": [
    "x = pd.DataFrame(columns = ['to','effect','probability','causal'])\n",
    "x"
   ]
  },
  {
   "cell_type": "code",
   "execution_count": 21,
   "id": "c702c592",
   "metadata": {},
   "outputs": [
    {
     "data": {
      "text/html": [
       "<div>\n",
       "<style scoped>\n",
       "    .dataframe tbody tr th:only-of-type {\n",
       "        vertical-align: middle;\n",
       "    }\n",
       "\n",
       "    .dataframe tbody tr th {\n",
       "        vertical-align: top;\n",
       "    }\n",
       "\n",
       "    .dataframe thead th {\n",
       "        text-align: right;\n",
       "    }\n",
       "</style>\n",
       "<table border=\"1\" class=\"dataframe\">\n",
       "  <thead>\n",
       "    <tr style=\"text-align: right;\">\n",
       "      <th></th>\n",
       "      <th>to</th>\n",
       "      <th>effect</th>\n",
       "      <th>probability</th>\n",
       "      <th>causal</th>\n",
       "    </tr>\n",
       "  </thead>\n",
       "  <tbody>\n",
       "  </tbody>\n",
       "</table>\n",
       "</div>"
      ],
      "text/plain": [
       "Empty DataFrame\n",
       "Columns: [to, effect, probability, causal]\n",
       "Index: []"
      ]
     },
     "metadata": {},
     "output_type": "display_data"
    }
   ],
   "source": [
    "display(x)"
   ]
  },
  {
   "cell_type": "code",
   "execution_count": 24,
   "id": "b85ae4e1",
   "metadata": {},
   "outputs": [],
   "source": [
    "if x is None:\n",
    "    print('t')"
   ]
  },
  {
   "cell_type": "code",
   "execution_count": null,
   "id": "db3627e4",
   "metadata": {},
   "outputs": [],
   "source": []
  }
 ],
 "metadata": {
  "kernelspec": {
   "display_name": "conda_python3",
   "language": "python",
   "name": "conda_python3"
  },
  "language_info": {
   "codemirror_mode": {
    "name": "ipython",
    "version": 3
   },
   "file_extension": ".py",
   "mimetype": "text/x-python",
   "name": "python",
   "nbconvert_exporter": "python",
   "pygments_lexer": "ipython3",
   "version": "3.10.14"
  }
 },
 "nbformat": 4,
 "nbformat_minor": 5
}
