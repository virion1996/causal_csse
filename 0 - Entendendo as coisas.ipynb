{
 "cells": [
  {
   "cell_type": "code",
   "execution_count": 5,
   "id": "3c5bf9b7",
   "metadata": {
    "collapsed": true
   },
   "outputs": [
    {
     "name": "stdout",
     "output_type": "stream",
     "text": [
      "Requirement already satisfied: lingam in /home/ec2-user/anaconda3/envs/python3/lib/python3.10/site-packages (1.8.3)\n",
      "Requirement already satisfied: numpy in /home/ec2-user/anaconda3/envs/python3/lib/python3.10/site-packages (from lingam) (1.26.4)\n",
      "Requirement already satisfied: scipy in /home/ec2-user/anaconda3/envs/python3/lib/python3.10/site-packages (from lingam) (1.11.3)\n",
      "Requirement already satisfied: scikit-learn in /home/ec2-user/anaconda3/envs/python3/lib/python3.10/site-packages (from lingam) (1.3.2)\n",
      "Requirement already satisfied: graphviz in /home/ec2-user/anaconda3/envs/python3/lib/python3.10/site-packages (from lingam) (0.20.1)\n",
      "Requirement already satisfied: statsmodels in /home/ec2-user/anaconda3/envs/python3/lib/python3.10/site-packages (from lingam) (0.14.0)\n",
      "Requirement already satisfied: networkx in /home/ec2-user/anaconda3/envs/python3/lib/python3.10/site-packages (from lingam) (3.2)\n",
      "Requirement already satisfied: pandas in /home/ec2-user/anaconda3/envs/python3/lib/python3.10/site-packages (from lingam) (2.1.1)\n",
      "Requirement already satisfied: pygam in /home/ec2-user/anaconda3/envs/python3/lib/python3.10/site-packages (from lingam) (0.9.1)\n",
      "Requirement already satisfied: matplotlib in /home/ec2-user/anaconda3/envs/python3/lib/python3.10/site-packages (from lingam) (3.8.0)\n",
      "Requirement already satisfied: psy in /home/ec2-user/anaconda3/envs/python3/lib/python3.10/site-packages (from lingam) (0.0.1)\n",
      "Requirement already satisfied: semopy in /home/ec2-user/anaconda3/envs/python3/lib/python3.10/site-packages (from lingam) (2.3.11)\n",
      "Requirement already satisfied: contourpy>=1.0.1 in /home/ec2-user/anaconda3/envs/python3/lib/python3.10/site-packages (from matplotlib->lingam) (1.1.1)\n",
      "Requirement already satisfied: cycler>=0.10 in /home/ec2-user/anaconda3/envs/python3/lib/python3.10/site-packages (from matplotlib->lingam) (0.12.1)\n",
      "Requirement already satisfied: fonttools>=4.22.0 in /home/ec2-user/anaconda3/envs/python3/lib/python3.10/site-packages (from matplotlib->lingam) (4.43.1)\n",
      "Requirement already satisfied: kiwisolver>=1.0.1 in /home/ec2-user/anaconda3/envs/python3/lib/python3.10/site-packages (from matplotlib->lingam) (1.4.5)\n",
      "Requirement already satisfied: packaging>=20.0 in /home/ec2-user/anaconda3/envs/python3/lib/python3.10/site-packages (from matplotlib->lingam) (21.3)\n",
      "Requirement already satisfied: pillow>=6.2.0 in /home/ec2-user/anaconda3/envs/python3/lib/python3.10/site-packages (from matplotlib->lingam) (10.0.1)\n",
      "Requirement already satisfied: pyparsing>=2.3.1 in /home/ec2-user/anaconda3/envs/python3/lib/python3.10/site-packages (from matplotlib->lingam) (3.1.1)\n",
      "Requirement already satisfied: python-dateutil>=2.7 in /home/ec2-user/anaconda3/envs/python3/lib/python3.10/site-packages (from matplotlib->lingam) (2.8.2)\n",
      "Requirement already satisfied: pytz>=2020.1 in /home/ec2-user/anaconda3/envs/python3/lib/python3.10/site-packages (from pandas->lingam) (2023.3.post1)\n",
      "Requirement already satisfied: tzdata>=2022.1 in /home/ec2-user/anaconda3/envs/python3/lib/python3.10/site-packages (from pandas->lingam) (2023.3)\n",
      "Requirement already satisfied: progressbar2 in /home/ec2-user/anaconda3/envs/python3/lib/python3.10/site-packages (from psy->lingam) (4.4.1)\n",
      "Requirement already satisfied: joblib>=1.1.1 in /home/ec2-user/anaconda3/envs/python3/lib/python3.10/site-packages (from scikit-learn->lingam) (1.3.2)\n",
      "Requirement already satisfied: threadpoolctl>=2.0.0 in /home/ec2-user/anaconda3/envs/python3/lib/python3.10/site-packages (from scikit-learn->lingam) (3.2.0)\n",
      "Requirement already satisfied: sympy in /home/ec2-user/anaconda3/envs/python3/lib/python3.10/site-packages (from semopy->lingam) (1.12)\n",
      "Requirement already satisfied: numdifftools in /home/ec2-user/anaconda3/envs/python3/lib/python3.10/site-packages (from semopy->lingam) (0.9.41)\n",
      "Requirement already satisfied: patsy>=0.5.2 in /home/ec2-user/anaconda3/envs/python3/lib/python3.10/site-packages (from statsmodels->lingam) (0.5.3)\n",
      "Requirement already satisfied: six in /home/ec2-user/anaconda3/envs/python3/lib/python3.10/site-packages (from patsy>=0.5.2->statsmodels->lingam) (1.16.0)\n",
      "Requirement already satisfied: python-utils>=3.8.1 in /home/ec2-user/anaconda3/envs/python3/lib/python3.10/site-packages (from progressbar2->psy->lingam) (3.8.2)\n",
      "Requirement already satisfied: mpmath>=0.19 in /home/ec2-user/anaconda3/envs/python3/lib/python3.10/site-packages (from sympy->semopy->lingam) (1.3.0)\n",
      "Requirement already satisfied: typing-extensions>3.10.0.2 in /home/ec2-user/anaconda3/envs/python3/lib/python3.10/site-packages (from python-utils>=3.8.1->progressbar2->psy->lingam) (4.8.0)\n"
     ]
    }
   ],
   "source": [
    "!pip install lingam"
   ]
  },
  {
   "cell_type": "markdown",
   "id": "eedd84e3",
   "metadata": {},
   "source": [
    "# CSSE Funcionando"
   ]
  },
  {
   "cell_type": "code",
   "execution_count": 2,
   "id": "1cfa1388",
   "metadata": {},
   "outputs": [],
   "source": [
    "#German\n",
    "from sklearn.ensemble import RandomForestClassifier\n",
    "from sklearn.metrics import classification_report\n",
    "from sklearn import metrics\n",
    "from sklearn.model_selection import train_test_split\n",
    "\n",
    "from csse import CSSE\n",
    "from prepare_dataset import *\n",
    "import pandas as pd\n",
    "import warnings\n",
    "\n",
    "warnings.filterwarnings('ignore')"
   ]
  },
  {
   "cell_type": "code",
   "execution_count": 7,
   "id": "fb3e74b5",
   "metadata": {
    "collapsed": true
   },
   "outputs": [
    {
     "name": "stdout",
     "output_type": "stream",
     "text": [
      "              precision    recall  f1-score   support\n",
      "\n",
      "           0       0.85      0.89      0.87        82\n",
      "           1       0.36      0.28      0.31        18\n",
      "\n",
      "    accuracy                           0.78       100\n",
      "   macro avg       0.60      0.58      0.59       100\n",
      "weighted avg       0.76      0.78      0.77       100\n",
      "\n",
      "Original instance - Class 0\n",
      "\n",
      "account_check_status             3\n",
      "duration_in_month               18\n",
      "credit_history                   2\n",
      "purpose                          4\n",
      "credit_amount                 2100\n",
      "savings                          1\n",
      "present_emp_since                3\n",
      "installment_as_income_perc       4\n",
      "personal_status_sex              3\n",
      "other_debtors                    2\n",
      "present_res_since                2\n",
      "property                         1\n",
      "age                             37\n",
      "other_installment_plans          3\n",
      "housing                          2\n",
      "credits_this_2                   1\n",
      "job                              3\n",
      "people_under_maintenance         1\n",
      "telephone                        0\n",
      "foreign_worker                   1\n",
      "Name: 37, dtype: int64\n",
      "\n",
      "Getting counterfactuals...\n",
      "\n"
     ]
    },
    {
     "name": "stderr",
     "output_type": "stream",
     "text": [
      "Processing...:  33%|███▎      | 1/3 [00:00<00:01,  1.20it/s]"
     ]
    },
    {
     "name": "stdout",
     "output_type": "stream",
     "text": [
      "\n"
     ]
    },
    {
     "name": "stderr",
     "output_type": "stream",
     "text": [
      "\r",
      "Processing...:  67%|██████▋   | 2/3 [00:01<00:00,  1.25it/s]"
     ]
    },
    {
     "name": "stdout",
     "output_type": "stream",
     "text": [
      "\n"
     ]
    },
    {
     "name": "stderr",
     "output_type": "stream",
     "text": [
      "Processing...: 100%|██████████| 3/3 [00:02<00:00,  1.29it/s]"
     ]
    },
    {
     "name": "stdout",
     "output_type": "stream",
     "text": [
      "\n",
      "Result obtained\n",
      "\n",
      "\n",
      "         Counterfactual 1         \n",
      "account_check_status              1\n",
      "\n",
      "\n",
      "         Counterfactual 2         \n",
      "duration_in_month                48\n",
      "age                              21\n"
     ]
    },
    {
     "name": "stderr",
     "output_type": "stream",
     "text": [
      "\n"
     ]
    }
   ],
   "source": [
    "\n",
    "# Read Dataset German\n",
    "df_main = prepare_german_dataset(\"german_credit.csv\", \"data/\")\n",
    "\n",
    "#Get the input features\n",
    "columns = df_main.columns\n",
    "class_name = 'default' # default = 0 = \"Good class\" / default = 1 = \"Bad class\" \n",
    "columns_tmp = list(columns)\n",
    "columns_tmp.remove(class_name)\n",
    "\n",
    "x_train, x_test, y_train, y_test = train_test_split(df_main[columns_tmp], df_main[class_name], test_size=0.1)\n",
    "\n",
    "model = RandomForestClassifier(n_estimators = 120, n_jobs=-1, random_state=0)  \n",
    "model.fit(x_train, y_train)\n",
    "\n",
    "p = model.predict(x_test)\n",
    "\n",
    "print(classification_report(y_test, p))\n",
    "\n",
    "#-------Begin Parameter Adjustment--------\n",
    "\n",
    "X = 0 #Indicates the instance's position to be explained in the dataset\n",
    "\n",
    "#User preferences\n",
    "#static_list = [] #List of features that cannot be changed. For example: static_list = ['age']\n",
    "K = 5 #Number of counterfactual explanations to be obtained\n",
    "\n",
    "#Genetic Algorithm parameters\n",
    "#num_gen = 30 #number of generations\n",
    "#pop_size = 150 #population size\n",
    "#per_elit = 0.1 #percentage of elitism\n",
    "#cros_proba = 0.8 #crossover probability\n",
    "#mutation_proba = 0.1 #mutation probability\n",
    "\n",
    "#Weights of objective function metrics\n",
    "#L1 = 1 #lambda 1 - Weight assigned the distance to the original instance\n",
    "#L2 = 1 #lambda 2 - Weight assigned the amount of changes needed in the original instance\n",
    "\n",
    "#copy the original instance\n",
    "original_instance = x_test.iloc[X].copy() \n",
    "\n",
    "#-------End Parameter Adjustment--------\n",
    "\n",
    "print('Original instance - Class ' + str(p[X]) + '\\n')\n",
    "print(original_instance)\n",
    "print('\\nGetting counterfactuals...\\n')\n",
    "\n",
    "#Run CSSE - Method executed with default parameters except for the value of K.\n",
    "explainerCSSE = CSSE(df_main[columns_tmp], model, K = K, num_gen = 3)\n",
    "\n",
    "contrafactual_set, solution = explainerCSSE.explain(original_instance, p[X]) #Method returns the list of counterfactuals and the explanations generated from them\n",
    "\n",
    "#The method returns a list of counterfactual solutions, where each solution, in turn, is a change list (each change has the \"column\" and \"value\" to be changed). To implement another output format, see the \"printResults\" function\n",
    "explainerCSSE.printResults(solution)"
   ]
  },
  {
   "cell_type": "markdown",
   "id": "518eaa35",
   "metadata": {},
   "source": [
    "# Testando Lingam"
   ]
  },
  {
   "cell_type": "code",
   "execution_count": 8,
   "id": "1b19613a",
   "metadata": {},
   "outputs": [],
   "source": [
    "import numpy as np\n",
    "import pandas as pd\n",
    "import graphviz\n",
    "import lingam\n",
    "from lingam.utils import print_causal_directions, print_dagc, make_dot"
   ]
  },
  {
   "cell_type": "code",
   "execution_count": 9,
   "id": "a6ce3414",
   "metadata": {},
   "outputs": [],
   "source": [
    "model_lingam = lingam.DirectLiNGAM()"
   ]
  },
  {
   "cell_type": "code",
   "execution_count": 10,
   "id": "e036b2d2",
   "metadata": {},
   "outputs": [],
   "source": [
    "result = model_lingam.bootstrap(df_main[columns_tmp], n_sampling=100)"
   ]
  },
  {
   "cell_type": "code",
   "execution_count": 11,
   "id": "5d98f851",
   "metadata": {},
   "outputs": [
    {
     "data": {
      "text/html": [
       "<div>\n",
       "<style scoped>\n",
       "    .dataframe tbody tr th:only-of-type {\n",
       "        vertical-align: middle;\n",
       "    }\n",
       "\n",
       "    .dataframe tbody tr th {\n",
       "        vertical-align: top;\n",
       "    }\n",
       "\n",
       "    .dataframe thead th {\n",
       "        text-align: right;\n",
       "    }\n",
       "</style>\n",
       "<table border=\"1\" class=\"dataframe\">\n",
       "  <thead>\n",
       "    <tr style=\"text-align: right;\">\n",
       "      <th></th>\n",
       "      <th>from</th>\n",
       "      <th>to</th>\n",
       "      <th>effect</th>\n",
       "      <th>probability</th>\n",
       "    </tr>\n",
       "  </thead>\n",
       "  <tbody>\n",
       "    <tr>\n",
       "      <th>0</th>\n",
       "      <td>other_debtors</td>\n",
       "      <td>other_installment_plans</td>\n",
       "      <td>1.320330</td>\n",
       "      <td>1.0</td>\n",
       "    </tr>\n",
       "    <tr>\n",
       "      <th>1</th>\n",
       "      <td>foreign_worker</td>\n",
       "      <td>duration_in_month</td>\n",
       "      <td>-7.274988</td>\n",
       "      <td>1.0</td>\n",
       "    </tr>\n",
       "    <tr>\n",
       "      <th>2</th>\n",
       "      <td>foreign_worker</td>\n",
       "      <td>age</td>\n",
       "      <td>-0.367341</td>\n",
       "      <td>1.0</td>\n",
       "    </tr>\n",
       "    <tr>\n",
       "      <th>3</th>\n",
       "      <td>other_debtors</td>\n",
       "      <td>telephone</td>\n",
       "      <td>0.857678</td>\n",
       "      <td>1.0</td>\n",
       "    </tr>\n",
       "    <tr>\n",
       "      <th>4</th>\n",
       "      <td>telephone</td>\n",
       "      <td>job</td>\n",
       "      <td>0.254906</td>\n",
       "      <td>1.0</td>\n",
       "    </tr>\n",
       "  </tbody>\n",
       "</table>\n",
       "</div>"
      ],
      "text/plain": [
       "             from                       to    effect  probability\n",
       "0   other_debtors  other_installment_plans  1.320330          1.0\n",
       "1  foreign_worker        duration_in_month -7.274988          1.0\n",
       "2  foreign_worker                      age -0.367341          1.0\n",
       "3   other_debtors                telephone  0.857678          1.0\n",
       "4       telephone                      job  0.254906          1.0"
      ]
     },
     "execution_count": 11,
     "metadata": {},
     "output_type": "execute_result"
    }
   ],
   "source": [
    "causal_effects = result.get_total_causal_effects(min_causal_effect=0.01)\n",
    "\n",
    "# Assign to pandas.DataFrame for pretty display\n",
    "df_causal_effects = pd.DataFrame(causal_effects)\n",
    "labels = [f'{i}' for i in df_main[columns_tmp].columns]\n",
    "df_causal_effects['from'] = df_causal_effects['from'].apply(lambda x : labels[x])\n",
    "df_causal_effects['to'] = df_causal_effects['to'].apply(lambda x : labels[x])\n",
    "df_causal_effects.head()"
   ]
  },
  {
   "cell_type": "code",
   "execution_count": 31,
   "id": "7c5731be",
   "metadata": {},
   "outputs": [
    {
     "data": {
      "text/html": [
       "<div>\n",
       "<style scoped>\n",
       "    .dataframe tbody tr th:only-of-type {\n",
       "        vertical-align: middle;\n",
       "    }\n",
       "\n",
       "    .dataframe tbody tr th {\n",
       "        vertical-align: top;\n",
       "    }\n",
       "\n",
       "    .dataframe thead th {\n",
       "        text-align: right;\n",
       "    }\n",
       "</style>\n",
       "<table border=\"1\" class=\"dataframe\">\n",
       "  <thead>\n",
       "    <tr style=\"text-align: right;\">\n",
       "      <th></th>\n",
       "      <th>from</th>\n",
       "      <th>to</th>\n",
       "      <th>effect</th>\n",
       "      <th>probability</th>\n",
       "    </tr>\n",
       "  </thead>\n",
       "  <tbody>\n",
       "    <tr>\n",
       "      <th>0</th>\n",
       "      <td>other_debtors</td>\n",
       "      <td>other_installment_plans</td>\n",
       "      <td>1.320330</td>\n",
       "      <td>1.0</td>\n",
       "    </tr>\n",
       "    <tr>\n",
       "      <th>1</th>\n",
       "      <td>foreign_worker</td>\n",
       "      <td>duration_in_month</td>\n",
       "      <td>-7.274988</td>\n",
       "      <td>1.0</td>\n",
       "    </tr>\n",
       "    <tr>\n",
       "      <th>2</th>\n",
       "      <td>foreign_worker</td>\n",
       "      <td>age</td>\n",
       "      <td>-0.367341</td>\n",
       "      <td>1.0</td>\n",
       "    </tr>\n",
       "    <tr>\n",
       "      <th>3</th>\n",
       "      <td>other_debtors</td>\n",
       "      <td>telephone</td>\n",
       "      <td>0.857678</td>\n",
       "      <td>1.0</td>\n",
       "    </tr>\n",
       "    <tr>\n",
       "      <th>4</th>\n",
       "      <td>telephone</td>\n",
       "      <td>job</td>\n",
       "      <td>0.254906</td>\n",
       "      <td>1.0</td>\n",
       "    </tr>\n",
       "    <tr>\n",
       "      <th>5</th>\n",
       "      <td>people_under_maintenance</td>\n",
       "      <td>age</td>\n",
       "      <td>2.226039</td>\n",
       "      <td>1.0</td>\n",
       "    </tr>\n",
       "  </tbody>\n",
       "</table>\n",
       "</div>"
      ],
      "text/plain": [
       "                       from                       to    effect  probability\n",
       "0             other_debtors  other_installment_plans  1.320330          1.0\n",
       "1            foreign_worker        duration_in_month -7.274988          1.0\n",
       "2            foreign_worker                      age -0.367341          1.0\n",
       "3             other_debtors                telephone  0.857678          1.0\n",
       "4                 telephone                      job  0.254906          1.0\n",
       "5  people_under_maintenance                      age  2.226039          1.0"
      ]
     },
     "execution_count": 31,
     "metadata": {},
     "output_type": "execute_result"
    }
   ],
   "source": [
    "df_causal_effects[df_causal_effects['probability'] == 1]"
   ]
  },
  {
   "cell_type": "code",
   "execution_count": 12,
   "id": "e1fb6dcc",
   "metadata": {
    "collapsed": true
   },
   "outputs": [
    {
     "data": {
      "text/plain": [
       "['foreign_worker',\n",
       " 'other_debtors',\n",
       " 'people_under_maintenance',\n",
       " 'savings',\n",
       " 'other_installment_plans',\n",
       " 'credits_this_2',\n",
       " 'telephone',\n",
       " 'credit_amount',\n",
       " 'property',\n",
       " 'housing',\n",
       " 'personal_status_sex',\n",
       " 'credit_history',\n",
       " 'job',\n",
       " 'account_check_status',\n",
       " 'age',\n",
       " 'present_res_since',\n",
       " 'installment_as_income_perc',\n",
       " 'duration_in_month',\n",
       " 'present_emp_since',\n",
       " 'purpose']"
      ]
     },
     "execution_count": 12,
     "metadata": {},
     "output_type": "execute_result"
    }
   ],
   "source": [
    "causal_order = [labels[x] for x in model_lingam.causal_order_]\n",
    "causal_order"
   ]
  },
  {
   "cell_type": "code",
   "execution_count": 28,
   "id": "8a6c9a0b",
   "metadata": {
    "scrolled": true
   },
   "outputs": [
    {
     "data": {
      "text/plain": [
       "account_check_status             3\n",
       "duration_in_month               18\n",
       "credit_history                   2\n",
       "purpose                          4\n",
       "credit_amount                 2100\n",
       "savings                          1\n",
       "present_emp_since                3\n",
       "installment_as_income_perc       4\n",
       "personal_status_sex              3\n",
       "other_debtors                    2\n",
       "present_res_since                2\n",
       "property                         1\n",
       "age                             37\n",
       "other_installment_plans          3\n",
       "housing                          2\n",
       "credits_this_2                   1\n",
       "job                              3\n",
       "people_under_maintenance         1\n",
       "telephone                        0\n",
       "foreign_worker                   1\n",
       "Name: 37, dtype: int64"
      ]
     },
     "execution_count": 28,
     "metadata": {},
     "output_type": "execute_result"
    }
   ],
   "source": [
    "original_ind"
   ]
  },
  {
   "cell_type": "code",
   "execution_count": null,
   "id": "ac059cb2",
   "metadata": {},
   "outputs": [],
   "source": [
    "[('duration_in_month', 41),\n",
    "  ('personal_status_sex', 2),\n",
    "  ('age', 21),\n",
    "  ('other_installment_plans', 4)]"
   ]
  },
  {
   "cell_type": "code",
   "execution_count": 27,
   "id": "002fdb5d",
   "metadata": {},
   "outputs": [
    {
     "data": {
      "text/html": [
       "<div>\n",
       "<style scoped>\n",
       "    .dataframe tbody tr th:only-of-type {\n",
       "        vertical-align: middle;\n",
       "    }\n",
       "\n",
       "    .dataframe tbody tr th {\n",
       "        vertical-align: top;\n",
       "    }\n",
       "\n",
       "    .dataframe thead th {\n",
       "        text-align: right;\n",
       "    }\n",
       "</style>\n",
       "<table border=\"1\" class=\"dataframe\">\n",
       "  <thead>\n",
       "    <tr style=\"text-align: right;\">\n",
       "      <th></th>\n",
       "      <th>path</th>\n",
       "      <th>effect</th>\n",
       "      <th>probability</th>\n",
       "    </tr>\n",
       "  </thead>\n",
       "  <tbody>\n",
       "    <tr>\n",
       "      <th>0</th>\n",
       "      <td>[2, 6, 12]</td>\n",
       "      <td>0.167953</td>\n",
       "      <td>0.56</td>\n",
       "    </tr>\n",
       "    <tr>\n",
       "      <th>1</th>\n",
       "      <td>[2, 12]</td>\n",
       "      <td>0.988314</td>\n",
       "      <td>0.34</td>\n",
       "    </tr>\n",
       "    <tr>\n",
       "      <th>2</th>\n",
       "      <td>[2, 0, 6, 12]</td>\n",
       "      <td>0.023346</td>\n",
       "      <td>0.22</td>\n",
       "    </tr>\n",
       "    <tr>\n",
       "      <th>3</th>\n",
       "      <td>[2, 6, 10, 12]</td>\n",
       "      <td>0.055522</td>\n",
       "      <td>0.13</td>\n",
       "    </tr>\n",
       "    <tr>\n",
       "      <th>4</th>\n",
       "      <td>[2, 11, 16, 6, 12]</td>\n",
       "      <td>-0.003195</td>\n",
       "      <td>0.12</td>\n",
       "    </tr>\n",
       "    <tr>\n",
       "      <th>...</th>\n",
       "      <td>...</td>\n",
       "      <td>...</td>\n",
       "      <td>...</td>\n",
       "    </tr>\n",
       "    <tr>\n",
       "      <th>121</th>\n",
       "      <td>[2, 11, 0, 6, 12]</td>\n",
       "      <td>0.001283</td>\n",
       "      <td>0.01</td>\n",
       "    </tr>\n",
       "    <tr>\n",
       "      <th>122</th>\n",
       "      <td>[2, 7, 6, 10, 12]</td>\n",
       "      <td>0.003876</td>\n",
       "      <td>0.01</td>\n",
       "    </tr>\n",
       "    <tr>\n",
       "      <th>123</th>\n",
       "      <td>[2, 0, 11, 12]</td>\n",
       "      <td>0.014329</td>\n",
       "      <td>0.01</td>\n",
       "    </tr>\n",
       "    <tr>\n",
       "      <th>124</th>\n",
       "      <td>[2, 8, 6, 12]</td>\n",
       "      <td>0.009772</td>\n",
       "      <td>0.01</td>\n",
       "    </tr>\n",
       "    <tr>\n",
       "      <th>125</th>\n",
       "      <td>[2, 0, 10, 6, 12]</td>\n",
       "      <td>-0.003231</td>\n",
       "      <td>0.01</td>\n",
       "    </tr>\n",
       "  </tbody>\n",
       "</table>\n",
       "<p>126 rows × 3 columns</p>\n",
       "</div>"
      ],
      "text/plain": [
       "                   path    effect  probability\n",
       "0            [2, 6, 12]  0.167953         0.56\n",
       "1               [2, 12]  0.988314         0.34\n",
       "2         [2, 0, 6, 12]  0.023346         0.22\n",
       "3        [2, 6, 10, 12]  0.055522         0.13\n",
       "4    [2, 11, 16, 6, 12] -0.003195         0.12\n",
       "..                  ...       ...          ...\n",
       "121   [2, 11, 0, 6, 12]  0.001283         0.01\n",
       "122   [2, 7, 6, 10, 12]  0.003876         0.01\n",
       "123      [2, 0, 11, 12]  0.014329         0.01\n",
       "124       [2, 8, 6, 12]  0.009772         0.01\n",
       "125   [2, 0, 10, 6, 12] -0.003231         0.01\n",
       "\n",
       "[126 rows x 3 columns]"
      ]
     },
     "execution_count": 27,
     "metadata": {},
     "output_type": "execute_result"
    }
   ],
   "source": [
    "pd.DataFrame(result.get_paths(2, 12))"
   ]
  },
  {
   "cell_type": "code",
   "execution_count": 25,
   "id": "5f4c167b",
   "metadata": {},
   "outputs": [
    {
     "data": {
      "text/plain": [
       "['account_check_status',\n",
       " 'duration_in_month',\n",
       " 'credit_history',\n",
       " 'purpose',\n",
       " 'credit_amount',\n",
       " 'savings',\n",
       " 'present_emp_since',\n",
       " 'installment_as_income_perc',\n",
       " 'personal_status_sex',\n",
       " 'other_debtors',\n",
       " 'present_res_since',\n",
       " 'property',\n",
       " 'age',\n",
       " 'other_installment_plans',\n",
       " 'housing',\n",
       " 'credits_this_2',\n",
       " 'job',\n",
       " 'people_under_maintenance',\n",
       " 'telephone',\n",
       " 'foreign_worker']"
      ]
     },
     "execution_count": 25,
     "metadata": {},
     "output_type": "execute_result"
    }
   ],
   "source": [
    "columns_tmp"
   ]
  },
  {
   "cell_type": "markdown",
   "id": "8197fdcc",
   "metadata": {},
   "source": [
    "# Apply Causality"
   ]
  },
  {
   "cell_type": "code",
   "execution_count": 71,
   "id": "7d151838",
   "metadata": {},
   "outputs": [],
   "source": [
    "def apply_causality(df):\n",
    "    print(f'df len = {df.shape}')\n",
    "    df_apply_causal = pd.DataFrame(columns = df.columns)\n",
    "    original = df.iloc[0]\n",
    "    df_apply_causal.loc[0] = original\n",
    "    for index, df_row in df.iloc[1:].iterrows():\n",
    "        causal_ind = df_row.copy()\n",
    "        for column in causal_order:\n",
    "            value_diff = causal_ind[column] - original[column]\n",
    "#             print(f\"value_diff = {value_diff}\")\n",
    "            if value_diff != 0:\n",
    "                tmp_effects = df_causal_effects[df_causal_effects['from'] == column]\n",
    "                for index, row in tmp_effects.iterrows():\n",
    "                    prob = rnd.random()\n",
    "                    if row['probability'] >= prob:\n",
    "                        causal_ind[row['to']] = causal_ind[row['to']] + (value_diff * row['effect'])\n",
    "        df_apply_causal.loc[len(df_apply_causal)] = causal_ind\n",
    "    \n",
    "    print(f'df_apply_causal len = {df_apply_causal.shape}')\n",
    "    return df_apply_causal\n",
    "    \n"
   ]
  },
  {
   "cell_type": "code",
   "execution_count": 66,
   "id": "d1bb14d6",
   "metadata": {},
   "outputs": [
    {
     "ename": "NameError",
     "evalue": "name 'df_apply_causal' is not defined",
     "output_type": "error",
     "traceback": [
      "\u001b[0;31m---------------------------------------------------------------------------\u001b[0m",
      "\u001b[0;31mNameError\u001b[0m                                 Traceback (most recent call last)",
      "Cell \u001b[0;32mIn[66], line 1\u001b[0m\n\u001b[0;32m----> 1\u001b[0m \u001b[43mdf_apply_causal\u001b[49m[column]\n",
      "\u001b[0;31mNameError\u001b[0m: name 'df_apply_causal' is not defined"
     ]
    }
   ],
   "source": [
    "df_apply_causal[column]"
   ]
  },
  {
   "cell_type": "markdown",
   "id": "86827d7e",
   "metadata": {},
   "source": [
    "# CSSE Explain"
   ]
  },
  {
   "cell_type": "code",
   "execution_count": 62,
   "id": "69bbcaba",
   "metadata": {},
   "outputs": [],
   "source": [
    "from tqdm import tqdm\n",
    "import random as rnd\n"
   ]
  },
  {
   "cell_type": "code",
   "execution_count": 72,
   "id": "c7e31ec9",
   "metadata": {},
   "outputs": [
    {
     "name": "stderr",
     "output_type": "stream",
     "text": [
      "\r",
      "Processing...:   0%|          | 0/30 [00:00<?, ?it/s]"
     ]
    },
    {
     "name": "stdout",
     "output_type": "stream",
     "text": [
      "df len = (74, 20)\n",
      "df_apply_causal len = (74, 20)\n"
     ]
    },
    {
     "name": "stderr",
     "output_type": "stream",
     "text": [
      "\r",
      "Processing...:   3%|▎         | 1/30 [00:01<00:41,  1.42s/it]"
     ]
    },
    {
     "name": "stdout",
     "output_type": "stream",
     "text": [
      "df len = (67, 20)\n",
      "df_apply_causal len = (67, 20)\n"
     ]
    },
    {
     "name": "stderr",
     "output_type": "stream",
     "text": [
      "\r",
      "Processing...:   7%|▋         | 2/30 [00:03<00:44,  1.57s/it]"
     ]
    },
    {
     "name": "stdout",
     "output_type": "stream",
     "text": [
      "df len = (84, 20)\n",
      "df_apply_causal len = (84, 20)\n"
     ]
    },
    {
     "name": "stderr",
     "output_type": "stream",
     "text": [
      "\r",
      "Processing...:  10%|█         | 3/30 [00:04<00:45,  1.70s/it]"
     ]
    },
    {
     "name": "stdout",
     "output_type": "stream",
     "text": [
      "df len = (69, 20)\n",
      "df_apply_causal len = (69, 20)\n"
     ]
    },
    {
     "name": "stderr",
     "output_type": "stream",
     "text": [
      "\r",
      "Processing...:  13%|█▎        | 4/30 [00:06<00:47,  1.82s/it]"
     ]
    },
    {
     "name": "stdout",
     "output_type": "stream",
     "text": [
      "df len = (81, 20)\n",
      "df_apply_causal len = (81, 20)\n"
     ]
    },
    {
     "name": "stderr",
     "output_type": "stream",
     "text": [
      "\r",
      "Processing...:  17%|█▋        | 5/30 [00:08<00:46,  1.87s/it]"
     ]
    },
    {
     "name": "stdout",
     "output_type": "stream",
     "text": [
      "df len = (78, 20)\n",
      "df_apply_causal len = (78, 20)\n"
     ]
    },
    {
     "name": "stderr",
     "output_type": "stream",
     "text": [
      "\r",
      "Processing...:  20%|██        | 6/30 [00:10<00:44,  1.86s/it]"
     ]
    },
    {
     "name": "stdout",
     "output_type": "stream",
     "text": [
      "df len = (68, 20)\n",
      "df_apply_causal len = (68, 20)\n"
     ]
    },
    {
     "name": "stderr",
     "output_type": "stream",
     "text": [
      "\r",
      "Processing...:  23%|██▎       | 7/30 [00:12<00:42,  1.84s/it]"
     ]
    },
    {
     "name": "stdout",
     "output_type": "stream",
     "text": [
      "df len = (79, 20)\n",
      "df_apply_causal len = (79, 20)\n"
     ]
    },
    {
     "name": "stderr",
     "output_type": "stream",
     "text": [
      "\r",
      "Processing...:  27%|██▋       | 8/30 [00:14<00:40,  1.86s/it]"
     ]
    },
    {
     "name": "stdout",
     "output_type": "stream",
     "text": [
      "df len = (84, 20)\n",
      "df_apply_causal len = (84, 20)\n"
     ]
    },
    {
     "name": "stderr",
     "output_type": "stream",
     "text": [
      "\r",
      "Processing...:  30%|███       | 9/30 [00:16<00:39,  1.88s/it]"
     ]
    },
    {
     "name": "stdout",
     "output_type": "stream",
     "text": [
      "df len = (72, 20)\n",
      "df_apply_causal len = (72, 20)\n"
     ]
    },
    {
     "name": "stderr",
     "output_type": "stream",
     "text": [
      "\r",
      "Processing...:  33%|███▎      | 10/30 [00:18<00:38,  1.93s/it]"
     ]
    },
    {
     "name": "stdout",
     "output_type": "stream",
     "text": [
      "df len = (77, 20)\n",
      "df_apply_causal len = (77, 20)\n"
     ]
    },
    {
     "name": "stderr",
     "output_type": "stream",
     "text": [
      "\r",
      "Processing...:  37%|███▋      | 11/30 [00:20<00:37,  1.97s/it]"
     ]
    },
    {
     "name": "stdout",
     "output_type": "stream",
     "text": [
      "df len = (77, 20)\n",
      "df_apply_causal len = (77, 20)\n"
     ]
    },
    {
     "name": "stderr",
     "output_type": "stream",
     "text": [
      "\r",
      "Processing...:  40%|████      | 12/30 [00:22<00:36,  2.04s/it]"
     ]
    },
    {
     "name": "stdout",
     "output_type": "stream",
     "text": [
      "df len = (71, 20)\n",
      "df_apply_causal len = (71, 20)\n"
     ]
    },
    {
     "name": "stderr",
     "output_type": "stream",
     "text": [
      "\r",
      "Processing...:  43%|████▎     | 13/30 [00:24<00:35,  2.08s/it]"
     ]
    },
    {
     "name": "stdout",
     "output_type": "stream",
     "text": [
      "df len = (85, 20)\n",
      "df_apply_causal len = (85, 20)\n"
     ]
    },
    {
     "name": "stderr",
     "output_type": "stream",
     "text": [
      "\r",
      "Processing...:  47%|████▋     | 14/30 [00:27<00:33,  2.11s/it]"
     ]
    },
    {
     "name": "stdout",
     "output_type": "stream",
     "text": [
      "df len = (85, 20)\n",
      "df_apply_causal len = (85, 20)\n"
     ]
    },
    {
     "name": "stderr",
     "output_type": "stream",
     "text": [
      "\r",
      "Processing...:  50%|█████     | 15/30 [00:29<00:31,  2.12s/it]"
     ]
    },
    {
     "name": "stdout",
     "output_type": "stream",
     "text": [
      "df len = (84, 20)\n",
      "df_apply_causal len = (84, 20)\n"
     ]
    },
    {
     "name": "stderr",
     "output_type": "stream",
     "text": [
      "\r",
      "Processing...:  53%|█████▎    | 16/30 [00:31<00:29,  2.13s/it]"
     ]
    },
    {
     "name": "stdout",
     "output_type": "stream",
     "text": [
      "df len = (87, 20)\n",
      "df_apply_causal len = (87, 20)\n"
     ]
    },
    {
     "name": "stderr",
     "output_type": "stream",
     "text": [
      "\r",
      "Processing...:  57%|█████▋    | 17/30 [00:33<00:28,  2.19s/it]"
     ]
    },
    {
     "name": "stdout",
     "output_type": "stream",
     "text": [
      "df len = (78, 20)\n",
      "df_apply_causal len = (78, 20)\n"
     ]
    },
    {
     "name": "stderr",
     "output_type": "stream",
     "text": [
      "\r",
      "Processing...:  60%|██████    | 18/30 [00:35<00:26,  2.17s/it]"
     ]
    },
    {
     "name": "stdout",
     "output_type": "stream",
     "text": [
      "df len = (73, 20)\n",
      "df_apply_causal len = (73, 20)\n"
     ]
    },
    {
     "name": "stderr",
     "output_type": "stream",
     "text": [
      "\r",
      "Processing...:  63%|██████▎   | 19/30 [00:37<00:22,  2.09s/it]"
     ]
    },
    {
     "name": "stdout",
     "output_type": "stream",
     "text": [
      "df len = (78, 20)\n",
      "df_apply_causal len = (78, 20)\n"
     ]
    },
    {
     "name": "stderr",
     "output_type": "stream",
     "text": [
      "\r",
      "Processing...:  67%|██████▋   | 20/30 [00:39<00:20,  2.02s/it]"
     ]
    },
    {
     "name": "stdout",
     "output_type": "stream",
     "text": [
      "df len = (83, 20)\n",
      "df_apply_causal len = (83, 20)\n"
     ]
    },
    {
     "name": "stderr",
     "output_type": "stream",
     "text": [
      "\r",
      "Processing...:  70%|███████   | 21/30 [00:41<00:18,  2.04s/it]"
     ]
    },
    {
     "name": "stdout",
     "output_type": "stream",
     "text": [
      "df len = (80, 20)\n",
      "df_apply_causal len = (80, 20)\n"
     ]
    },
    {
     "name": "stderr",
     "output_type": "stream",
     "text": [
      "\r",
      "Processing...:  73%|███████▎  | 22/30 [00:43<00:16,  2.06s/it]"
     ]
    },
    {
     "name": "stdout",
     "output_type": "stream",
     "text": [
      "df len = (74, 20)\n",
      "df_apply_causal len = (74, 20)\n"
     ]
    },
    {
     "name": "stderr",
     "output_type": "stream",
     "text": [
      "\r",
      "Processing...:  77%|███████▋  | 23/30 [00:45<00:14,  2.00s/it]"
     ]
    },
    {
     "name": "stdout",
     "output_type": "stream",
     "text": [
      "df len = (76, 20)\n",
      "df_apply_causal len = (76, 20)\n"
     ]
    },
    {
     "name": "stderr",
     "output_type": "stream",
     "text": [
      "\r",
      "Processing...:  80%|████████  | 24/30 [00:47<00:11,  1.98s/it]"
     ]
    },
    {
     "name": "stdout",
     "output_type": "stream",
     "text": [
      "df len = (75, 20)\n",
      "df_apply_causal len = (75, 20)\n"
     ]
    },
    {
     "name": "stderr",
     "output_type": "stream",
     "text": [
      "\r",
      "Processing...:  83%|████████▎ | 25/30 [00:49<00:09,  1.96s/it]"
     ]
    },
    {
     "name": "stdout",
     "output_type": "stream",
     "text": [
      "df len = (72, 20)\n",
      "df_apply_causal len = (72, 20)\n"
     ]
    },
    {
     "name": "stderr",
     "output_type": "stream",
     "text": [
      "\r",
      "Processing...:  87%|████████▋ | 26/30 [00:51<00:08,  2.01s/it]"
     ]
    },
    {
     "name": "stdout",
     "output_type": "stream",
     "text": [
      "df len = (71, 20)\n",
      "df_apply_causal len = (71, 20)\n"
     ]
    },
    {
     "name": "stderr",
     "output_type": "stream",
     "text": [
      "\r",
      "Processing...:  90%|█████████ | 27/30 [00:53<00:05,  1.98s/it]"
     ]
    },
    {
     "name": "stdout",
     "output_type": "stream",
     "text": [
      "df len = (70, 20)\n",
      "df_apply_causal len = (70, 20)\n"
     ]
    },
    {
     "name": "stderr",
     "output_type": "stream",
     "text": [
      "\r",
      "Processing...:  93%|█████████▎| 28/30 [00:55<00:03,  1.92s/it]"
     ]
    },
    {
     "name": "stdout",
     "output_type": "stream",
     "text": [
      "df len = (73, 20)\n",
      "df_apply_causal len = (73, 20)\n"
     ]
    },
    {
     "name": "stderr",
     "output_type": "stream",
     "text": [
      "\r",
      "Processing...:  97%|█████████▋| 29/30 [00:57<00:01,  1.94s/it]"
     ]
    },
    {
     "name": "stdout",
     "output_type": "stream",
     "text": [
      "df len = (79, 20)\n",
      "df_apply_causal len = (79, 20)\n"
     ]
    },
    {
     "name": "stderr",
     "output_type": "stream",
     "text": [
      "Processing...: 100%|██████████| 30/30 [00:59<00:00,  1.98s/it]\n"
     ]
    }
   ],
   "source": [
    "original_ind = x_test.iloc[X].copy() #Original instance\n",
    "#self.ind_cur_class = ind_cur_class #Index in the shap corresponds to the original instance class\n",
    "current_class = p[X] #Original instance class\n",
    "\n",
    "ind_cur_class = explainerCSSE.getBadClass()\n",
    "\n",
    "#Gets the valid values range of each feature\n",
    "features_range = []\n",
    "features_range = explainerCSSE.getFeaturesRange()\n",
    "\n",
    "#The DataFrame df will have the current population\n",
    "df = pd.DataFrame(columns=explainerCSSE.input_dataset.columns)\n",
    "\n",
    "#Generates the initial population with popinitial mutants        \n",
    "explainerCSSE.getPopInicial(df, features_range)\n",
    "df_causal = df.copy()\n",
    "dict_dfs = {}\n",
    "\n",
    "# for g in tqdm(range(explainerCSSE.num_gen), desc= \"Processing...\"):\n",
    "for g in tqdm(range(30), desc= \"Processing...\"):\n",
    "    \n",
    "    #To use on the parents of each generation\n",
    "    parents = pd.DataFrame(columns=explainerCSSE.input_dataset.columns)\n",
    "    \n",
    "    #Copy parents to the next generation\n",
    "    parents = df.copy()\n",
    "    parents_causal = df_causal.copy()\n",
    "#     print(f\"parents = {len(parents)}\")\n",
    "    dict_dfs[g] = {}\n",
    "    \n",
    "    dict_dfs[g]['original_parents'] = parents\n",
    "    dict_dfs[g]['causal_parents'] = apply_causality(parents_causal)\n",
    "#     raise KeyboardInterrupt(\"Execução interrompida pelo usuário\")\n",
    "    #df will contain the new population\n",
    "    df = pd.DataFrame(columns=explainerCSSE.input_dataset.columns)\n",
    "    df_causal = pd.DataFrame(columns=explainerCSSE.input_dataset.columns)\n",
    "    evaluation = []\n",
    "    evaluation_causal = []\n",
    "\n",
    "    #Assessing generation counterfactuals\n",
    "    explainerCSSE.fitness(parents, evaluation, ind_cur_class)\n",
    "    explainerCSSE.fitness(dict_dfs[g]['causal_parents'], evaluation_causal, ind_cur_class)\n",
    "    \n",
    "#     print(len(df))\n",
    "#     dict_dfs[g]['original'] = df.copy()\n",
    "#     df_causal_applied = apply_causality(df)\n",
    "#     dict_dfs[g]['causal'] = df_causal_applied\n",
    "#     print(f\"df depois do fitness = {len(df)}\")\n",
    "#     raise KeyboardInterrupt(\"Execução interrompida pelo usuário\")\n",
    "    \n",
    "    \n",
    "    #The original individual will always be in the 0 position of the df - So that it is normalized too (it will be used later in the distance function)\n",
    "    df.loc[0] = original_ind.copy()\n",
    "    df_causal.loc[0] = original_ind.copy()\n",
    "    \n",
    "    #Copies to the next generation the per_elit best individuals\n",
    "    explainerCSSE.elitism(evaluation, df, parents)\n",
    "    explainerCSSE.elitism(evaluation_causal, df_causal, parents_causal)\n",
    "#     raise KeyboardInterrupt(\"Execução interrompida pelo usuário\")\n",
    "#     print(f\"df depois do elitism = {len(df)}\")\n",
    "    number_cross_repetitions = 0\n",
    "    while len(df) < explainerCSSE.pop_size + 1: #+1, as the 1st position is used to store the reference individual\n",
    "        number_cross_repetitions = explainerCSSE.crossover(df, parents, evaluation, number_cross_repetitions)\n",
    "        number_cross_repetitions_causal = explainerCSSE.crossover(df_causal, parents_causal, evaluation_causal, number_cross_repetitions)\n",
    "\n",
    "        mutation_op = rnd.random()\n",
    "        if mutation_op <= explainerCSSE.mutation_proba:\n",
    "            explainerCSSE.mutation(df, len(df) - 1, features_range)\n",
    "            explainerCSSE.mutation(df_causal, len(df_causal) - 1, features_range)\n",
    "#     raise KeyboardInterrupt(\"Execução interrompida pelo usuário\")\n",
    "\n",
    "# raise KeyboardInterrupt(\"Execução interrompida pelo usuário\")\n",
    "\n",
    "evaluation = []\n",
    "evaluation_causal = []\n",
    "\n",
    "#Evaluating the latest generation\n",
    "explainerCSSE.fitness(df, evaluation, ind_cur_class)\n",
    "explainerCSSE.fitness(df_causal, evaluation_causal, ind_cur_class)\n",
    "\n",
    "#Order the last generation by distance to the original instance     \n",
    "evaluation.sort(key=lambda individual: individual.aval_norm)\n",
    "evaluation_causal.sort(key=lambda individual: individual.aval_norm) \n",
    "\n",
    "#Getting the counterfactual set\n",
    "contrafactual_set = pd.DataFrame(columns=explainerCSSE.input_dataset.columns)\n",
    "contrafactual_set, solution_list = explainerCSSE.getContrafactual(df, evaluation)\n",
    "\n",
    "#Getting the counterfactual CAUSAL set\n",
    "contrafactual_set_causal = pd.DataFrame(columns=explainerCSSE.input_dataset.columns)\n",
    "contrafactual_set_causal, solution_list_causal = explainerCSSE.getContrafactual(df_causal, evaluation_causal) \n",
    "\n",
    "dict_dfs['contrafactual_set_causal'] = contrafactual_set_causal\n",
    "dict_dfs['solution_list_causal'] = solution_list_causal\n",
    "\n",
    "# return contrafactual_set, solution_list"
   ]
  },
  {
   "cell_type": "code",
   "execution_count": 73,
   "id": "606ac989",
   "metadata": {},
   "outputs": [
    {
     "data": {
      "text/plain": [
       "[[('account_check_status', 2), ('duration_in_month', 49)],\n",
       " [('account_check_status', 2), ('property', 2)],\n",
       " [('account_check_status', 2), ('housing', 1)],\n",
       " [('account_check_status', 2), ('credit_history', 0)],\n",
       " [('account_check_status', 2), ('present_emp_since', 1)]]"
      ]
     },
     "execution_count": 73,
     "metadata": {},
     "output_type": "execute_result"
    }
   ],
   "source": [
    "solution_list"
   ]
  },
  {
   "cell_type": "code",
   "execution_count": 74,
   "id": "efa179a1",
   "metadata": {},
   "outputs": [
    {
     "data": {
      "text/plain": [
       "[[('account_check_status', 1)],\n",
       " [('account_check_status', 2), ('duration_in_month', 40)],\n",
       " [('account_check_status', 2), ('credit_history', 0)],\n",
       " [('duration_in_month', 50),\n",
       "  ('credit_amount', 13914),\n",
       "  ('present_emp_since', 1)]]"
      ]
     },
     "execution_count": 74,
     "metadata": {},
     "output_type": "execute_result"
    }
   ],
   "source": [
    "solution_list_causal"
   ]
  },
  {
   "cell_type": "code",
   "execution_count": 75,
   "id": "6d25ab41",
   "metadata": {
    "collapsed": true
   },
   "outputs": [
    {
     "data": {
      "text/html": [
       "<div>\n",
       "<style scoped>\n",
       "    .dataframe tbody tr th:only-of-type {\n",
       "        vertical-align: middle;\n",
       "    }\n",
       "\n",
       "    .dataframe tbody tr th {\n",
       "        vertical-align: top;\n",
       "    }\n",
       "\n",
       "    .dataframe thead th {\n",
       "        text-align: right;\n",
       "    }\n",
       "</style>\n",
       "<table border=\"1\" class=\"dataframe\">\n",
       "  <thead>\n",
       "    <tr style=\"text-align: right;\">\n",
       "      <th></th>\n",
       "      <th>from</th>\n",
       "      <th>to</th>\n",
       "      <th>effect</th>\n",
       "      <th>probability</th>\n",
       "    </tr>\n",
       "  </thead>\n",
       "  <tbody>\n",
       "    <tr>\n",
       "      <th>109</th>\n",
       "      <td>account_check_status</td>\n",
       "      <td>age</td>\n",
       "      <td>0.116446</td>\n",
       "      <td>0.54</td>\n",
       "    </tr>\n",
       "    <tr>\n",
       "      <th>114</th>\n",
       "      <td>account_check_status</td>\n",
       "      <td>duration_in_month</td>\n",
       "      <td>-0.288460</td>\n",
       "      <td>0.51</td>\n",
       "    </tr>\n",
       "    <tr>\n",
       "      <th>120</th>\n",
       "      <td>account_check_status</td>\n",
       "      <td>present_emp_since</td>\n",
       "      <td>0.080277</td>\n",
       "      <td>0.46</td>\n",
       "    </tr>\n",
       "    <tr>\n",
       "      <th>151</th>\n",
       "      <td>account_check_status</td>\n",
       "      <td>present_res_since</td>\n",
       "      <td>-0.080362</td>\n",
       "      <td>0.31</td>\n",
       "    </tr>\n",
       "    <tr>\n",
       "      <th>155</th>\n",
       "      <td>account_check_status</td>\n",
       "      <td>purpose</td>\n",
       "      <td>0.158491</td>\n",
       "      <td>0.30</td>\n",
       "    </tr>\n",
       "    <tr>\n",
       "      <th>165</th>\n",
       "      <td>account_check_status</td>\n",
       "      <td>credit_history</td>\n",
       "      <td>0.140635</td>\n",
       "      <td>0.24</td>\n",
       "    </tr>\n",
       "    <tr>\n",
       "      <th>171</th>\n",
       "      <td>account_check_status</td>\n",
       "      <td>credit_amount</td>\n",
       "      <td>-94.168334</td>\n",
       "      <td>0.21</td>\n",
       "    </tr>\n",
       "    <tr>\n",
       "      <th>185</th>\n",
       "      <td>account_check_status</td>\n",
       "      <td>installment_as_income_perc</td>\n",
       "      <td>0.001350</td>\n",
       "      <td>0.17</td>\n",
       "    </tr>\n",
       "    <tr>\n",
       "      <th>193</th>\n",
       "      <td>account_check_status</td>\n",
       "      <td>property</td>\n",
       "      <td>-0.067760</td>\n",
       "      <td>0.11</td>\n",
       "    </tr>\n",
       "    <tr>\n",
       "      <th>198</th>\n",
       "      <td>account_check_status</td>\n",
       "      <td>job</td>\n",
       "      <td>0.007994</td>\n",
       "      <td>0.10</td>\n",
       "    </tr>\n",
       "    <tr>\n",
       "      <th>247</th>\n",
       "      <td>account_check_status</td>\n",
       "      <td>housing</td>\n",
       "      <td>-0.005512</td>\n",
       "      <td>0.01</td>\n",
       "    </tr>\n",
       "    <tr>\n",
       "      <th>252</th>\n",
       "      <td>account_check_status</td>\n",
       "      <td>savings</td>\n",
       "      <td>0.271823</td>\n",
       "      <td>0.01</td>\n",
       "    </tr>\n",
       "    <tr>\n",
       "      <th>256</th>\n",
       "      <td>account_check_status</td>\n",
       "      <td>personal_status_sex</td>\n",
       "      <td>0.025054</td>\n",
       "      <td>0.01</td>\n",
       "    </tr>\n",
       "  </tbody>\n",
       "</table>\n",
       "</div>"
      ],
      "text/plain": [
       "                     from                          to     effect  probability\n",
       "109  account_check_status                         age   0.116446         0.54\n",
       "114  account_check_status           duration_in_month  -0.288460         0.51\n",
       "120  account_check_status           present_emp_since   0.080277         0.46\n",
       "151  account_check_status           present_res_since  -0.080362         0.31\n",
       "155  account_check_status                     purpose   0.158491         0.30\n",
       "165  account_check_status              credit_history   0.140635         0.24\n",
       "171  account_check_status               credit_amount -94.168334         0.21\n",
       "185  account_check_status  installment_as_income_perc   0.001350         0.17\n",
       "193  account_check_status                    property  -0.067760         0.11\n",
       "198  account_check_status                         job   0.007994         0.10\n",
       "247  account_check_status                     housing  -0.005512         0.01\n",
       "252  account_check_status                     savings   0.271823         0.01\n",
       "256  account_check_status         personal_status_sex   0.025054         0.01"
      ]
     },
     "execution_count": 75,
     "metadata": {},
     "output_type": "execute_result"
    }
   ],
   "source": [
    "df_causal_effects[df_causal_effects['from'] == \"account_check_status\"]"
   ]
  },
  {
   "cell_type": "code",
   "execution_count": 89,
   "id": "2b92570e",
   "metadata": {},
   "outputs": [
    {
     "data": {
      "text/plain": [
       "[['account_check_status'],\n",
       " ['account_check_status', 'duration_in_month'],\n",
       " ['account_check_status', 'credit_history'],\n",
       " ['duration_in_month', 'credit_amount', 'present_emp_since']]"
      ]
     },
     "execution_count": 89,
     "metadata": {},
     "output_type": "execute_result"
    }
   ],
   "source": [
    "lista_de_listas = [[t.column for t in sublist] for sublist in solution_list_causal]\n",
    "lista_de_listas"
   ]
  },
  {
   "cell_type": "code",
   "execution_count": 93,
   "id": "18f7dc55",
   "metadata": {},
   "outputs": [],
   "source": [
    "import pandas as pd\n",
    "\n",
    "lista_solution_causal = [[t.column for t in sublist] for sublist in solution_list_causal]\n",
    "\n",
    "# Inicializa uma lista para armazenar os resultados\n",
    "resultados = []\n",
    "\n",
    "# Loop sobre os valores na lista\n",
    "for lista_valores in lista_solution_causal:\n",
    "    if len(lista_valores) > 1:\n",
    "        for v1 in lista_valores:\n",
    "            for v2 in lista_valores:\n",
    "                if v1 != v2:\n",
    "                    # Cria uma condição para cada par de valores diferentes na lista\n",
    "                    condicao = (df_causal_effects['to'].isin([v1, v2])) & (df_causal_effects['from'].isin([v1, v2]))\n",
    "                    # Realiza a busca no DataFrame usando a condição e armazena os resultados\n",
    "                    resultados.append(df_causal_effects[condicao])\n",
    "\n",
    "# Concatena os resultados em um único DataFrame\n",
    "resultado_final = pd.concat(resultados)\n",
    "\n",
    "resultado_final = resultado_final.drop_duplicates()\n"
   ]
  },
  {
   "cell_type": "code",
   "execution_count": 96,
   "id": "296be0a7",
   "metadata": {},
   "outputs": [
    {
     "data": {
      "text/plain": [
       "['foreign_worker',\n",
       " 'other_debtors',\n",
       " 'people_under_maintenance',\n",
       " 'savings',\n",
       " 'other_installment_plans',\n",
       " 'credits_this_2',\n",
       " 'telephone',\n",
       " 'credit_amount',\n",
       " 'property',\n",
       " 'housing',\n",
       " 'personal_status_sex',\n",
       " 'credit_history',\n",
       " 'job',\n",
       " 'account_check_status',\n",
       " 'age',\n",
       " 'present_res_since',\n",
       " 'installment_as_income_perc',\n",
       " 'duration_in_month',\n",
       " 'present_emp_since',\n",
       " 'purpose']"
      ]
     },
     "execution_count": 96,
     "metadata": {},
     "output_type": "execute_result"
    }
   ],
   "source": [
    "causal_order"
   ]
  },
  {
   "cell_type": "code",
   "execution_count": 91,
   "id": "29db6d2e",
   "metadata": {},
   "outputs": [
    {
     "data": {
      "text/plain": [
       "[[('account_check_status', 1)],\n",
       " [('account_check_status', 2), ('duration_in_month', 40)],\n",
       " [('account_check_status', 2), ('credit_history', 0)],\n",
       " [('duration_in_month', 50),\n",
       "  ('credit_amount', 13914),\n",
       "  ('present_emp_since', 1)]]"
      ]
     },
     "execution_count": 91,
     "metadata": {},
     "output_type": "execute_result"
    }
   ],
   "source": [
    "solution_list_causal"
   ]
  },
  {
   "cell_type": "code",
   "execution_count": 100,
   "id": "c604ad7a",
   "metadata": {},
   "outputs": [
    {
     "data": {
      "text/html": [
       "<div>\n",
       "<style scoped>\n",
       "    .dataframe tbody tr th:only-of-type {\n",
       "        vertical-align: middle;\n",
       "    }\n",
       "\n",
       "    .dataframe tbody tr th {\n",
       "        vertical-align: top;\n",
       "    }\n",
       "\n",
       "    .dataframe thead th {\n",
       "        text-align: right;\n",
       "    }\n",
       "</style>\n",
       "<table border=\"1\" class=\"dataframe\">\n",
       "  <thead>\n",
       "    <tr style=\"text-align: right;\">\n",
       "      <th></th>\n",
       "      <th>from</th>\n",
       "      <th>to</th>\n",
       "      <th>effect</th>\n",
       "      <th>probability</th>\n",
       "    </tr>\n",
       "  </thead>\n",
       "  <tbody>\n",
       "    <tr>\n",
       "      <th>95</th>\n",
       "      <td>present_emp_since</td>\n",
       "      <td>duration_in_month</td>\n",
       "      <td>0.202277</td>\n",
       "      <td>0.62</td>\n",
       "    </tr>\n",
       "    <tr>\n",
       "      <th>153</th>\n",
       "      <td>present_emp_since</td>\n",
       "      <td>credit_amount</td>\n",
       "      <td>-61.721313</td>\n",
       "      <td>0.30</td>\n",
       "    </tr>\n",
       "  </tbody>\n",
       "</table>\n",
       "</div>"
      ],
      "text/plain": [
       "                  from                 to     effect  probability\n",
       "95   present_emp_since  duration_in_month   0.202277         0.62\n",
       "153  present_emp_since      credit_amount -61.721313         0.30"
      ]
     },
     "execution_count": 100,
     "metadata": {},
     "output_type": "execute_result"
    }
   ],
   "source": [
    "resultado_final[resultado_final['from'] == \"present_emp_since\"]"
   ]
  },
  {
   "cell_type": "code",
   "execution_count": 45,
   "id": "d3cd1dce",
   "metadata": {},
   "outputs": [
    {
     "data": {
      "text/plain": [
       "account_check_status             3\n",
       "duration_in_month               18\n",
       "credit_history                   2\n",
       "purpose                          4\n",
       "credit_amount                 2100\n",
       "savings                          1\n",
       "present_emp_since                3\n",
       "installment_as_income_perc       4\n",
       "personal_status_sex              3\n",
       "other_debtors                    2\n",
       "present_res_since                2\n",
       "property                         1\n",
       "age                             37\n",
       "other_installment_plans          3\n",
       "housing                          2\n",
       "credits_this_2                   1\n",
       "job                              3\n",
       "people_under_maintenance         1\n",
       "telephone                        0\n",
       "foreign_worker                   1\n",
       "Name: 37, dtype: int64"
      ]
     },
     "execution_count": 45,
     "metadata": {},
     "output_type": "execute_result"
    }
   ],
   "source": [
    "original_ind"
   ]
  },
  {
   "cell_type": "code",
   "execution_count": 19,
   "id": "e9de0b78",
   "metadata": {
    "collapsed": true
   },
   "outputs": [
    {
     "name": "stdout",
     "output_type": "stream",
     "text": [
      "Result obtained\n",
      "\n",
      "\n",
      "         Counterfactual 1         \n",
      "account_check_status              2\n",
      "purpose                           3\n",
      "\n",
      "\n",
      "         Counterfactual 2         \n",
      "purpose                           0\n",
      "age                              21\n",
      "\n",
      "\n",
      "         Counterfactual 3         \n",
      "account_check_status              2\n",
      "age                              22\n",
      "\n",
      "\n",
      "         Counterfactual 4         \n",
      "account_check_status              1\n",
      "\n",
      "\n",
      "         Counterfactual 5         \n",
      "present_emp_since                 1\n",
      "age                              21\n"
     ]
    }
   ],
   "source": [
    "explainerCSSE.printResults(solution_list)"
   ]
  },
  {
   "cell_type": "code",
   "execution_count": 20,
   "id": "018a3d80",
   "metadata": {
    "collapsed": true
   },
   "outputs": [
    {
     "name": "stdout",
     "output_type": "stream",
     "text": [
      "Result obtained\n",
      "\n",
      "\n",
      "         Counterfactual 1         \n",
      "duration_in_month                23\n",
      "present_emp_since                 1\n",
      "age                              21\n",
      "\n",
      "\n",
      "         Counterfactual 2         \n",
      "credit_amount                 15928\n",
      "age                              42\n",
      "job                               4\n",
      "\n",
      "\n",
      "         Counterfactual 3         \n",
      "present_emp_since                 1\n",
      "age                              21\n",
      "other_installment_plans           4\n",
      "job                               2\n",
      "\n",
      "\n",
      "         Counterfactual 4         \n",
      "duration_in_month                41\n",
      "personal_status_sex               2\n",
      "age                              21\n",
      "other_installment_plans           4\n",
      "\n",
      "\n",
      "         Counterfactual 5         \n",
      "credit_amount                 15928\n",
      "personal_status_sex               2\n",
      "age                              21\n"
     ]
    }
   ],
   "source": [
    "explainerCSSE.printResults(solution_list_causal)"
   ]
  },
  {
   "cell_type": "markdown",
   "id": "854310f2",
   "metadata": {},
   "source": [
    "# Check causality distance"
   ]
  },
  {
   "cell_type": "code",
   "execution_count": 125,
   "id": "ce45ed57",
   "metadata": {},
   "outputs": [],
   "source": [
    "def euclidean_distance(series1, series2):\n",
    "    # Verificando se as séries têm o mesmo comprimento\n",
    "    if len(series1) != len(series2):\n",
    "        raise ValueError(\"As séries devem ter o mesmo comprimento.\")\n",
    "    \n",
    "    # Calculando a diferença quadrática entre os elementos das séries\n",
    "    squared_diff = (series1 - series2) ** 2\n",
    "    \n",
    "    # Calculando a soma das diferenças quadráticas\n",
    "    sum_squared_diff = np.sum(squared_diff)\n",
    "    \n",
    "    # Calculando a raiz quadrada da soma\n",
    "    euclidean_dist = np.sqrt(sum_squared_diff)\n",
    "    \n",
    "    return euclidean_dist"
   ]
  },
  {
   "cell_type": "code",
   "execution_count": 4,
   "id": "028431de",
   "metadata": {},
   "outputs": [],
   "source": []
  },
  {
   "cell_type": "markdown",
   "id": "3053788b",
   "metadata": {},
   "source": [
    "# Check awnsers"
   ]
  },
  {
   "cell_type": "code",
   "execution_count": null,
   "id": "54b170b5",
   "metadata": {},
   "outputs": [],
   "source": [
    "for contrafac in solution_list_causal:\n",
    "    for attr in contrafac:\n",
    "        "
   ]
  },
  {
   "cell_type": "code",
   "execution_count": null,
   "id": "2690d27b",
   "metadata": {},
   "outputs": [],
   "source": []
  },
  {
   "cell_type": "code",
   "execution_count": null,
   "id": "1332550b",
   "metadata": {},
   "outputs": [],
   "source": []
  },
  {
   "cell_type": "code",
   "execution_count": null,
   "id": "39a3336e",
   "metadata": {},
   "outputs": [],
   "source": []
  },
  {
   "cell_type": "markdown",
   "id": "78ad393c",
   "metadata": {},
   "source": [
    "# Bases de testes"
   ]
  },
  {
   "cell_type": "code",
   "execution_count": 20,
   "id": "572b802e",
   "metadata": {},
   "outputs": [
    {
     "data": {
      "text/html": [
       "<div>\n",
       "<style scoped>\n",
       "    .dataframe tbody tr th:only-of-type {\n",
       "        vertical-align: middle;\n",
       "    }\n",
       "\n",
       "    .dataframe tbody tr th {\n",
       "        vertical-align: top;\n",
       "    }\n",
       "\n",
       "    .dataframe thead th {\n",
       "        text-align: right;\n",
       "    }\n",
       "</style>\n",
       "<table border=\"1\" class=\"dataframe\">\n",
       "  <thead>\n",
       "    <tr style=\"text-align: right;\">\n",
       "      <th></th>\n",
       "      <th>bruises</th>\n",
       "      <th>gill-attachment</th>\n",
       "      <th>gill-spacing</th>\n",
       "      <th>gill-size</th>\n",
       "      <th>stalk-shape</th>\n",
       "      <th>veil-type</th>\n",
       "      <th>cap-shape=b</th>\n",
       "      <th>cap-shape=c</th>\n",
       "      <th>cap-shape=f</th>\n",
       "      <th>cap-shape=k</th>\n",
       "      <th>...</th>\n",
       "      <th>population=v</th>\n",
       "      <th>population=y</th>\n",
       "      <th>habitat=d</th>\n",
       "      <th>habitat=g</th>\n",
       "      <th>habitat=l</th>\n",
       "      <th>habitat=m</th>\n",
       "      <th>habitat=p</th>\n",
       "      <th>habitat=u</th>\n",
       "      <th>habitat=w</th>\n",
       "      <th>class</th>\n",
       "    </tr>\n",
       "  </thead>\n",
       "  <tbody>\n",
       "    <tr>\n",
       "      <th>0</th>\n",
       "      <td>1</td>\n",
       "      <td>1</td>\n",
       "      <td>0</td>\n",
       "      <td>1</td>\n",
       "      <td>0</td>\n",
       "      <td>0</td>\n",
       "      <td>0</td>\n",
       "      <td>0</td>\n",
       "      <td>0</td>\n",
       "      <td>0</td>\n",
       "      <td>...</td>\n",
       "      <td>0</td>\n",
       "      <td>0</td>\n",
       "      <td>0</td>\n",
       "      <td>0</td>\n",
       "      <td>0</td>\n",
       "      <td>0</td>\n",
       "      <td>0</td>\n",
       "      <td>1</td>\n",
       "      <td>0</td>\n",
       "      <td>p</td>\n",
       "    </tr>\n",
       "    <tr>\n",
       "      <th>1</th>\n",
       "      <td>1</td>\n",
       "      <td>1</td>\n",
       "      <td>0</td>\n",
       "      <td>0</td>\n",
       "      <td>0</td>\n",
       "      <td>0</td>\n",
       "      <td>0</td>\n",
       "      <td>0</td>\n",
       "      <td>0</td>\n",
       "      <td>0</td>\n",
       "      <td>...</td>\n",
       "      <td>0</td>\n",
       "      <td>0</td>\n",
       "      <td>0</td>\n",
       "      <td>1</td>\n",
       "      <td>0</td>\n",
       "      <td>0</td>\n",
       "      <td>0</td>\n",
       "      <td>0</td>\n",
       "      <td>0</td>\n",
       "      <td>e</td>\n",
       "    </tr>\n",
       "    <tr>\n",
       "      <th>2</th>\n",
       "      <td>1</td>\n",
       "      <td>1</td>\n",
       "      <td>0</td>\n",
       "      <td>0</td>\n",
       "      <td>0</td>\n",
       "      <td>0</td>\n",
       "      <td>1</td>\n",
       "      <td>0</td>\n",
       "      <td>0</td>\n",
       "      <td>0</td>\n",
       "      <td>...</td>\n",
       "      <td>0</td>\n",
       "      <td>0</td>\n",
       "      <td>0</td>\n",
       "      <td>0</td>\n",
       "      <td>0</td>\n",
       "      <td>1</td>\n",
       "      <td>0</td>\n",
       "      <td>0</td>\n",
       "      <td>0</td>\n",
       "      <td>e</td>\n",
       "    </tr>\n",
       "    <tr>\n",
       "      <th>3</th>\n",
       "      <td>1</td>\n",
       "      <td>1</td>\n",
       "      <td>0</td>\n",
       "      <td>1</td>\n",
       "      <td>0</td>\n",
       "      <td>0</td>\n",
       "      <td>0</td>\n",
       "      <td>0</td>\n",
       "      <td>0</td>\n",
       "      <td>0</td>\n",
       "      <td>...</td>\n",
       "      <td>0</td>\n",
       "      <td>0</td>\n",
       "      <td>0</td>\n",
       "      <td>0</td>\n",
       "      <td>0</td>\n",
       "      <td>0</td>\n",
       "      <td>0</td>\n",
       "      <td>1</td>\n",
       "      <td>0</td>\n",
       "      <td>p</td>\n",
       "    </tr>\n",
       "    <tr>\n",
       "      <th>4</th>\n",
       "      <td>0</td>\n",
       "      <td>1</td>\n",
       "      <td>1</td>\n",
       "      <td>0</td>\n",
       "      <td>1</td>\n",
       "      <td>0</td>\n",
       "      <td>0</td>\n",
       "      <td>0</td>\n",
       "      <td>0</td>\n",
       "      <td>0</td>\n",
       "      <td>...</td>\n",
       "      <td>0</td>\n",
       "      <td>0</td>\n",
       "      <td>0</td>\n",
       "      <td>1</td>\n",
       "      <td>0</td>\n",
       "      <td>0</td>\n",
       "      <td>0</td>\n",
       "      <td>0</td>\n",
       "      <td>0</td>\n",
       "      <td>e</td>\n",
       "    </tr>\n",
       "    <tr>\n",
       "      <th>...</th>\n",
       "      <td>...</td>\n",
       "      <td>...</td>\n",
       "      <td>...</td>\n",
       "      <td>...</td>\n",
       "      <td>...</td>\n",
       "      <td>...</td>\n",
       "      <td>...</td>\n",
       "      <td>...</td>\n",
       "      <td>...</td>\n",
       "      <td>...</td>\n",
       "      <td>...</td>\n",
       "      <td>...</td>\n",
       "      <td>...</td>\n",
       "      <td>...</td>\n",
       "      <td>...</td>\n",
       "      <td>...</td>\n",
       "      <td>...</td>\n",
       "      <td>...</td>\n",
       "      <td>...</td>\n",
       "      <td>...</td>\n",
       "      <td>...</td>\n",
       "    </tr>\n",
       "    <tr>\n",
       "      <th>8119</th>\n",
       "      <td>0</td>\n",
       "      <td>0</td>\n",
       "      <td>0</td>\n",
       "      <td>0</td>\n",
       "      <td>0</td>\n",
       "      <td>0</td>\n",
       "      <td>0</td>\n",
       "      <td>0</td>\n",
       "      <td>0</td>\n",
       "      <td>1</td>\n",
       "      <td>...</td>\n",
       "      <td>0</td>\n",
       "      <td>0</td>\n",
       "      <td>0</td>\n",
       "      <td>0</td>\n",
       "      <td>1</td>\n",
       "      <td>0</td>\n",
       "      <td>0</td>\n",
       "      <td>0</td>\n",
       "      <td>0</td>\n",
       "      <td>e</td>\n",
       "    </tr>\n",
       "    <tr>\n",
       "      <th>8120</th>\n",
       "      <td>0</td>\n",
       "      <td>0</td>\n",
       "      <td>0</td>\n",
       "      <td>0</td>\n",
       "      <td>0</td>\n",
       "      <td>0</td>\n",
       "      <td>0</td>\n",
       "      <td>0</td>\n",
       "      <td>0</td>\n",
       "      <td>0</td>\n",
       "      <td>...</td>\n",
       "      <td>1</td>\n",
       "      <td>0</td>\n",
       "      <td>0</td>\n",
       "      <td>0</td>\n",
       "      <td>1</td>\n",
       "      <td>0</td>\n",
       "      <td>0</td>\n",
       "      <td>0</td>\n",
       "      <td>0</td>\n",
       "      <td>e</td>\n",
       "    </tr>\n",
       "    <tr>\n",
       "      <th>8121</th>\n",
       "      <td>0</td>\n",
       "      <td>0</td>\n",
       "      <td>0</td>\n",
       "      <td>0</td>\n",
       "      <td>0</td>\n",
       "      <td>0</td>\n",
       "      <td>0</td>\n",
       "      <td>0</td>\n",
       "      <td>1</td>\n",
       "      <td>0</td>\n",
       "      <td>...</td>\n",
       "      <td>0</td>\n",
       "      <td>0</td>\n",
       "      <td>0</td>\n",
       "      <td>0</td>\n",
       "      <td>1</td>\n",
       "      <td>0</td>\n",
       "      <td>0</td>\n",
       "      <td>0</td>\n",
       "      <td>0</td>\n",
       "      <td>e</td>\n",
       "    </tr>\n",
       "    <tr>\n",
       "      <th>8122</th>\n",
       "      <td>0</td>\n",
       "      <td>1</td>\n",
       "      <td>0</td>\n",
       "      <td>1</td>\n",
       "      <td>1</td>\n",
       "      <td>0</td>\n",
       "      <td>0</td>\n",
       "      <td>0</td>\n",
       "      <td>0</td>\n",
       "      <td>1</td>\n",
       "      <td>...</td>\n",
       "      <td>1</td>\n",
       "      <td>0</td>\n",
       "      <td>0</td>\n",
       "      <td>0</td>\n",
       "      <td>1</td>\n",
       "      <td>0</td>\n",
       "      <td>0</td>\n",
       "      <td>0</td>\n",
       "      <td>0</td>\n",
       "      <td>p</td>\n",
       "    </tr>\n",
       "    <tr>\n",
       "      <th>8123</th>\n",
       "      <td>0</td>\n",
       "      <td>0</td>\n",
       "      <td>0</td>\n",
       "      <td>0</td>\n",
       "      <td>0</td>\n",
       "      <td>0</td>\n",
       "      <td>0</td>\n",
       "      <td>0</td>\n",
       "      <td>0</td>\n",
       "      <td>0</td>\n",
       "      <td>...</td>\n",
       "      <td>0</td>\n",
       "      <td>0</td>\n",
       "      <td>0</td>\n",
       "      <td>0</td>\n",
       "      <td>1</td>\n",
       "      <td>0</td>\n",
       "      <td>0</td>\n",
       "      <td>0</td>\n",
       "      <td>0</td>\n",
       "      <td>e</td>\n",
       "    </tr>\n",
       "  </tbody>\n",
       "</table>\n",
       "<p>8124 rows × 113 columns</p>\n",
       "</div>"
      ],
      "text/plain": [
       "      bruises  gill-attachment  gill-spacing  gill-size  stalk-shape  \\\n",
       "0           1                1             0          1            0   \n",
       "1           1                1             0          0            0   \n",
       "2           1                1             0          0            0   \n",
       "3           1                1             0          1            0   \n",
       "4           0                1             1          0            1   \n",
       "...       ...              ...           ...        ...          ...   \n",
       "8119        0                0             0          0            0   \n",
       "8120        0                0             0          0            0   \n",
       "8121        0                0             0          0            0   \n",
       "8122        0                1             0          1            1   \n",
       "8123        0                0             0          0            0   \n",
       "\n",
       "      veil-type  cap-shape=b  cap-shape=c  cap-shape=f  cap-shape=k  ...  \\\n",
       "0             0            0            0            0            0  ...   \n",
       "1             0            0            0            0            0  ...   \n",
       "2             0            1            0            0            0  ...   \n",
       "3             0            0            0            0            0  ...   \n",
       "4             0            0            0            0            0  ...   \n",
       "...         ...          ...          ...          ...          ...  ...   \n",
       "8119          0            0            0            0            1  ...   \n",
       "8120          0            0            0            0            0  ...   \n",
       "8121          0            0            0            1            0  ...   \n",
       "8122          0            0            0            0            1  ...   \n",
       "8123          0            0            0            0            0  ...   \n",
       "\n",
       "      population=v  population=y  habitat=d  habitat=g  habitat=l  habitat=m  \\\n",
       "0                0             0          0          0          0          0   \n",
       "1                0             0          0          1          0          0   \n",
       "2                0             0          0          0          0          1   \n",
       "3                0             0          0          0          0          0   \n",
       "4                0             0          0          1          0          0   \n",
       "...            ...           ...        ...        ...        ...        ...   \n",
       "8119             0             0          0          0          1          0   \n",
       "8120             1             0          0          0          1          0   \n",
       "8121             0             0          0          0          1          0   \n",
       "8122             1             0          0          0          1          0   \n",
       "8123             0             0          0          0          1          0   \n",
       "\n",
       "      habitat=p  habitat=u  habitat=w  class  \n",
       "0             0          1          0      p  \n",
       "1             0          0          0      e  \n",
       "2             0          0          0      e  \n",
       "3             0          1          0      p  \n",
       "4             0          0          0      e  \n",
       "...         ...        ...        ...    ...  \n",
       "8119          0          0          0      e  \n",
       "8120          0          0          0      e  \n",
       "8121          0          0          0      e  \n",
       "8122          0          0          0      p  \n",
       "8123          0          0          0      e  \n",
       "\n",
       "[8124 rows x 113 columns]"
      ]
     },
     "execution_count": 20,
     "metadata": {},
     "output_type": "execute_result"
    }
   ],
   "source": [
    "df_main = pd.read_csv(\"data/mushrooms_processada_cg.csv\")\n",
    "df_main"
   ]
  },
  {
   "cell_type": "code",
   "execution_count": 22,
   "id": "18d3ec6d",
   "metadata": {},
   "outputs": [],
   "source": [
    "df_main = pd.read_csv(\"data/heloc_dataset_v1_nm.csv\")\n",
    "columns = df_main.columns\n",
    "class_name = 'RiskPerformance' # default = 0 = \"Good class\" / default = 1 = \"Bad class\" \n",
    "columns_tmp = list(columns)\n",
    "columns_tmp.remove(class_name)\n",
    "\n",
    "x_train, x_test, y_train, y_test = train_test_split(df_main[columns_tmp], df_main[class_name], test_size=0.1)\n",
    "\n",
    "dfx_full = pd.concat([x_train, x_test])\n",
    "dfy_full = pd.concat([y_train, y_test])"
   ]
  },
  {
   "cell_type": "code",
   "execution_count": 23,
   "id": "8232094c",
   "metadata": {},
   "outputs": [
    {
     "data": {
      "text/html": [
       "<div>\n",
       "<style scoped>\n",
       "    .dataframe tbody tr th:only-of-type {\n",
       "        vertical-align: middle;\n",
       "    }\n",
       "\n",
       "    .dataframe tbody tr th {\n",
       "        vertical-align: top;\n",
       "    }\n",
       "\n",
       "    .dataframe thead th {\n",
       "        text-align: right;\n",
       "    }\n",
       "</style>\n",
       "<table border=\"1\" class=\"dataframe\">\n",
       "  <thead>\n",
       "    <tr style=\"text-align: right;\">\n",
       "      <th></th>\n",
       "      <th>RiskPerformance</th>\n",
       "      <th>ExternalRiskEstimate</th>\n",
       "      <th>MSinceOldestTradeOpen</th>\n",
       "      <th>MSinceMostRecentTradeOpen</th>\n",
       "      <th>AverageMInFile</th>\n",
       "      <th>NumSatisfactoryTrades</th>\n",
       "      <th>NumTrades60Ever2DerogPubRec</th>\n",
       "      <th>NumTrades90Ever2DerogPubRec</th>\n",
       "      <th>PercentTradesNeverDelq</th>\n",
       "      <th>MSinceMostRecentDelq</th>\n",
       "      <th>...</th>\n",
       "      <th>PercentInstallTrades</th>\n",
       "      <th>MSinceMostRecentInqexcl7days</th>\n",
       "      <th>NumInqLast6M</th>\n",
       "      <th>NumInqLast6Mexcl7days</th>\n",
       "      <th>NetFractionRevolvingBurden</th>\n",
       "      <th>NetFractionInstallBurden</th>\n",
       "      <th>NumRevolvingTradesWBalance</th>\n",
       "      <th>NumInstallTradesWBalance</th>\n",
       "      <th>NumBank2NatlTradesWHighUtilization</th>\n",
       "      <th>PercentTradesWBalance</th>\n",
       "    </tr>\n",
       "  </thead>\n",
       "  <tbody>\n",
       "    <tr>\n",
       "      <th>0</th>\n",
       "      <td>Bad</td>\n",
       "      <td>55</td>\n",
       "      <td>144</td>\n",
       "      <td>4</td>\n",
       "      <td>84</td>\n",
       "      <td>20</td>\n",
       "      <td>3</td>\n",
       "      <td>0</td>\n",
       "      <td>83</td>\n",
       "      <td>2</td>\n",
       "      <td>...</td>\n",
       "      <td>43</td>\n",
       "      <td>0</td>\n",
       "      <td>0</td>\n",
       "      <td>0</td>\n",
       "      <td>33</td>\n",
       "      <td>-8</td>\n",
       "      <td>8</td>\n",
       "      <td>1</td>\n",
       "      <td>1</td>\n",
       "      <td>69</td>\n",
       "    </tr>\n",
       "    <tr>\n",
       "      <th>1</th>\n",
       "      <td>Bad</td>\n",
       "      <td>61</td>\n",
       "      <td>58</td>\n",
       "      <td>15</td>\n",
       "      <td>41</td>\n",
       "      <td>2</td>\n",
       "      <td>4</td>\n",
       "      <td>4</td>\n",
       "      <td>100</td>\n",
       "      <td>-7</td>\n",
       "      <td>...</td>\n",
       "      <td>67</td>\n",
       "      <td>0</td>\n",
       "      <td>0</td>\n",
       "      <td>0</td>\n",
       "      <td>0</td>\n",
       "      <td>-8</td>\n",
       "      <td>0</td>\n",
       "      <td>-8</td>\n",
       "      <td>-8</td>\n",
       "      <td>0</td>\n",
       "    </tr>\n",
       "    <tr>\n",
       "      <th>2</th>\n",
       "      <td>Bad</td>\n",
       "      <td>67</td>\n",
       "      <td>66</td>\n",
       "      <td>5</td>\n",
       "      <td>24</td>\n",
       "      <td>9</td>\n",
       "      <td>0</td>\n",
       "      <td>0</td>\n",
       "      <td>100</td>\n",
       "      <td>-7</td>\n",
       "      <td>...</td>\n",
       "      <td>44</td>\n",
       "      <td>0</td>\n",
       "      <td>4</td>\n",
       "      <td>4</td>\n",
       "      <td>53</td>\n",
       "      <td>66</td>\n",
       "      <td>4</td>\n",
       "      <td>2</td>\n",
       "      <td>1</td>\n",
       "      <td>86</td>\n",
       "    </tr>\n",
       "    <tr>\n",
       "      <th>3</th>\n",
       "      <td>Bad</td>\n",
       "      <td>66</td>\n",
       "      <td>169</td>\n",
       "      <td>1</td>\n",
       "      <td>73</td>\n",
       "      <td>28</td>\n",
       "      <td>1</td>\n",
       "      <td>1</td>\n",
       "      <td>93</td>\n",
       "      <td>76</td>\n",
       "      <td>...</td>\n",
       "      <td>57</td>\n",
       "      <td>0</td>\n",
       "      <td>5</td>\n",
       "      <td>4</td>\n",
       "      <td>72</td>\n",
       "      <td>83</td>\n",
       "      <td>6</td>\n",
       "      <td>4</td>\n",
       "      <td>3</td>\n",
       "      <td>91</td>\n",
       "    </tr>\n",
       "    <tr>\n",
       "      <th>4</th>\n",
       "      <td>Bad</td>\n",
       "      <td>81</td>\n",
       "      <td>333</td>\n",
       "      <td>27</td>\n",
       "      <td>132</td>\n",
       "      <td>12</td>\n",
       "      <td>0</td>\n",
       "      <td>0</td>\n",
       "      <td>100</td>\n",
       "      <td>-7</td>\n",
       "      <td>...</td>\n",
       "      <td>25</td>\n",
       "      <td>0</td>\n",
       "      <td>1</td>\n",
       "      <td>1</td>\n",
       "      <td>51</td>\n",
       "      <td>89</td>\n",
       "      <td>3</td>\n",
       "      <td>1</td>\n",
       "      <td>0</td>\n",
       "      <td>80</td>\n",
       "    </tr>\n",
       "    <tr>\n",
       "      <th>...</th>\n",
       "      <td>...</td>\n",
       "      <td>...</td>\n",
       "      <td>...</td>\n",
       "      <td>...</td>\n",
       "      <td>...</td>\n",
       "      <td>...</td>\n",
       "      <td>...</td>\n",
       "      <td>...</td>\n",
       "      <td>...</td>\n",
       "      <td>...</td>\n",
       "      <td>...</td>\n",
       "      <td>...</td>\n",
       "      <td>...</td>\n",
       "      <td>...</td>\n",
       "      <td>...</td>\n",
       "      <td>...</td>\n",
       "      <td>...</td>\n",
       "      <td>...</td>\n",
       "      <td>...</td>\n",
       "      <td>...</td>\n",
       "      <td>...</td>\n",
       "    </tr>\n",
       "    <tr>\n",
       "      <th>10454</th>\n",
       "      <td>Good</td>\n",
       "      <td>73</td>\n",
       "      <td>131</td>\n",
       "      <td>5</td>\n",
       "      <td>57</td>\n",
       "      <td>21</td>\n",
       "      <td>0</td>\n",
       "      <td>0</td>\n",
       "      <td>95</td>\n",
       "      <td>80</td>\n",
       "      <td>...</td>\n",
       "      <td>19</td>\n",
       "      <td>7</td>\n",
       "      <td>0</td>\n",
       "      <td>0</td>\n",
       "      <td>26</td>\n",
       "      <td>-8</td>\n",
       "      <td>5</td>\n",
       "      <td>2</td>\n",
       "      <td>0</td>\n",
       "      <td>100</td>\n",
       "    </tr>\n",
       "    <tr>\n",
       "      <th>10455</th>\n",
       "      <td>Bad</td>\n",
       "      <td>65</td>\n",
       "      <td>147</td>\n",
       "      <td>39</td>\n",
       "      <td>68</td>\n",
       "      <td>11</td>\n",
       "      <td>0</td>\n",
       "      <td>0</td>\n",
       "      <td>92</td>\n",
       "      <td>28</td>\n",
       "      <td>...</td>\n",
       "      <td>42</td>\n",
       "      <td>1</td>\n",
       "      <td>1</td>\n",
       "      <td>1</td>\n",
       "      <td>86</td>\n",
       "      <td>53</td>\n",
       "      <td>2</td>\n",
       "      <td>2</td>\n",
       "      <td>1</td>\n",
       "      <td>80</td>\n",
       "    </tr>\n",
       "    <tr>\n",
       "      <th>10456</th>\n",
       "      <td>Bad</td>\n",
       "      <td>74</td>\n",
       "      <td>129</td>\n",
       "      <td>6</td>\n",
       "      <td>64</td>\n",
       "      <td>18</td>\n",
       "      <td>1</td>\n",
       "      <td>1</td>\n",
       "      <td>100</td>\n",
       "      <td>-7</td>\n",
       "      <td>...</td>\n",
       "      <td>33</td>\n",
       "      <td>3</td>\n",
       "      <td>4</td>\n",
       "      <td>4</td>\n",
       "      <td>6</td>\n",
       "      <td>-8</td>\n",
       "      <td>5</td>\n",
       "      <td>-8</td>\n",
       "      <td>0</td>\n",
       "      <td>56</td>\n",
       "    </tr>\n",
       "    <tr>\n",
       "      <th>10457</th>\n",
       "      <td>Bad</td>\n",
       "      <td>72</td>\n",
       "      <td>234</td>\n",
       "      <td>12</td>\n",
       "      <td>113</td>\n",
       "      <td>42</td>\n",
       "      <td>2</td>\n",
       "      <td>2</td>\n",
       "      <td>96</td>\n",
       "      <td>35</td>\n",
       "      <td>...</td>\n",
       "      <td>20</td>\n",
       "      <td>6</td>\n",
       "      <td>0</td>\n",
       "      <td>0</td>\n",
       "      <td>19</td>\n",
       "      <td>-8</td>\n",
       "      <td>4</td>\n",
       "      <td>1</td>\n",
       "      <td>0</td>\n",
       "      <td>38</td>\n",
       "    </tr>\n",
       "    <tr>\n",
       "      <th>10458</th>\n",
       "      <td>Bad</td>\n",
       "      <td>66</td>\n",
       "      <td>28</td>\n",
       "      <td>1</td>\n",
       "      <td>17</td>\n",
       "      <td>4</td>\n",
       "      <td>0</td>\n",
       "      <td>0</td>\n",
       "      <td>100</td>\n",
       "      <td>-7</td>\n",
       "      <td>...</td>\n",
       "      <td>60</td>\n",
       "      <td>3</td>\n",
       "      <td>3</td>\n",
       "      <td>2</td>\n",
       "      <td>67</td>\n",
       "      <td>-8</td>\n",
       "      <td>2</td>\n",
       "      <td>1</td>\n",
       "      <td>0</td>\n",
       "      <td>100</td>\n",
       "    </tr>\n",
       "  </tbody>\n",
       "</table>\n",
       "<p>10459 rows × 24 columns</p>\n",
       "</div>"
      ],
      "text/plain": [
       "      RiskPerformance  ExternalRiskEstimate  MSinceOldestTradeOpen  \\\n",
       "0                 Bad                    55                    144   \n",
       "1                 Bad                    61                     58   \n",
       "2                 Bad                    67                     66   \n",
       "3                 Bad                    66                    169   \n",
       "4                 Bad                    81                    333   \n",
       "...               ...                   ...                    ...   \n",
       "10454            Good                    73                    131   \n",
       "10455             Bad                    65                    147   \n",
       "10456             Bad                    74                    129   \n",
       "10457             Bad                    72                    234   \n",
       "10458             Bad                    66                     28   \n",
       "\n",
       "       MSinceMostRecentTradeOpen  AverageMInFile  NumSatisfactoryTrades  \\\n",
       "0                              4              84                     20   \n",
       "1                             15              41                      2   \n",
       "2                              5              24                      9   \n",
       "3                              1              73                     28   \n",
       "4                             27             132                     12   \n",
       "...                          ...             ...                    ...   \n",
       "10454                          5              57                     21   \n",
       "10455                         39              68                     11   \n",
       "10456                          6              64                     18   \n",
       "10457                         12             113                     42   \n",
       "10458                          1              17                      4   \n",
       "\n",
       "       NumTrades60Ever2DerogPubRec  NumTrades90Ever2DerogPubRec  \\\n",
       "0                                3                            0   \n",
       "1                                4                            4   \n",
       "2                                0                            0   \n",
       "3                                1                            1   \n",
       "4                                0                            0   \n",
       "...                            ...                          ...   \n",
       "10454                            0                            0   \n",
       "10455                            0                            0   \n",
       "10456                            1                            1   \n",
       "10457                            2                            2   \n",
       "10458                            0                            0   \n",
       "\n",
       "       PercentTradesNeverDelq  MSinceMostRecentDelq  ...  \\\n",
       "0                          83                     2  ...   \n",
       "1                         100                    -7  ...   \n",
       "2                         100                    -7  ...   \n",
       "3                          93                    76  ...   \n",
       "4                         100                    -7  ...   \n",
       "...                       ...                   ...  ...   \n",
       "10454                      95                    80  ...   \n",
       "10455                      92                    28  ...   \n",
       "10456                     100                    -7  ...   \n",
       "10457                      96                    35  ...   \n",
       "10458                     100                    -7  ...   \n",
       "\n",
       "       PercentInstallTrades  MSinceMostRecentInqexcl7days  NumInqLast6M  \\\n",
       "0                        43                             0             0   \n",
       "1                        67                             0             0   \n",
       "2                        44                             0             4   \n",
       "3                        57                             0             5   \n",
       "4                        25                             0             1   \n",
       "...                     ...                           ...           ...   \n",
       "10454                    19                             7             0   \n",
       "10455                    42                             1             1   \n",
       "10456                    33                             3             4   \n",
       "10457                    20                             6             0   \n",
       "10458                    60                             3             3   \n",
       "\n",
       "       NumInqLast6Mexcl7days  NetFractionRevolvingBurden  \\\n",
       "0                          0                          33   \n",
       "1                          0                           0   \n",
       "2                          4                          53   \n",
       "3                          4                          72   \n",
       "4                          1                          51   \n",
       "...                      ...                         ...   \n",
       "10454                      0                          26   \n",
       "10455                      1                          86   \n",
       "10456                      4                           6   \n",
       "10457                      0                          19   \n",
       "10458                      2                          67   \n",
       "\n",
       "       NetFractionInstallBurden  NumRevolvingTradesWBalance  \\\n",
       "0                            -8                           8   \n",
       "1                            -8                           0   \n",
       "2                            66                           4   \n",
       "3                            83                           6   \n",
       "4                            89                           3   \n",
       "...                         ...                         ...   \n",
       "10454                        -8                           5   \n",
       "10455                        53                           2   \n",
       "10456                        -8                           5   \n",
       "10457                        -8                           4   \n",
       "10458                        -8                           2   \n",
       "\n",
       "       NumInstallTradesWBalance  NumBank2NatlTradesWHighUtilization  \\\n",
       "0                             1                                   1   \n",
       "1                            -8                                  -8   \n",
       "2                             2                                   1   \n",
       "3                             4                                   3   \n",
       "4                             1                                   0   \n",
       "...                         ...                                 ...   \n",
       "10454                         2                                   0   \n",
       "10455                         2                                   1   \n",
       "10456                        -8                                   0   \n",
       "10457                         1                                   0   \n",
       "10458                         1                                   0   \n",
       "\n",
       "       PercentTradesWBalance  \n",
       "0                         69  \n",
       "1                          0  \n",
       "2                         86  \n",
       "3                         91  \n",
       "4                         80  \n",
       "...                      ...  \n",
       "10454                    100  \n",
       "10455                     80  \n",
       "10456                     56  \n",
       "10457                     38  \n",
       "10458                    100  \n",
       "\n",
       "[10459 rows x 24 columns]"
      ]
     },
     "execution_count": 23,
     "metadata": {},
     "output_type": "execute_result"
    }
   ],
   "source": [
    "df_main"
   ]
  },
  {
   "cell_type": "code",
   "execution_count": null,
   "id": "764553a2",
   "metadata": {},
   "outputs": [],
   "source": []
  }
 ],
 "metadata": {
  "kernelspec": {
   "display_name": "conda_python3",
   "language": "python",
   "name": "conda_python3"
  },
  "language_info": {
   "codemirror_mode": {
    "name": "ipython",
    "version": 3
   },
   "file_extension": ".py",
   "mimetype": "text/x-python",
   "name": "python",
   "nbconvert_exporter": "python",
   "pygments_lexer": "ipython3",
   "version": "3.10.14"
  }
 },
 "nbformat": 4,
 "nbformat_minor": 5
}
